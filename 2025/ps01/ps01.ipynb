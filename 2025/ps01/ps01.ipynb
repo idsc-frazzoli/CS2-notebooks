{
 "cells": [
  {
   "cell_type": "markdown",
   "metadata": {},
   "source": [
    "# Notebook Lecture 1: Introduction, Digital Control Systems\n",
    "© 2025 ETH Zurich, Niclas Scheuer; Institute for Dynamic Systems and Control; Prof. Emilio Frazzoli\n",
    "\n",
    "This interactive notebook covers the basics of discrete-time control and aliasing.\n",
    "\n",
    "Authors:\n",
    "- Niclas Scheuer; nscheuer@ethz.ch\n",
    "\n",
    "## Import the packages"
   ]
  },
  {
   "cell_type": "code",
   "execution_count": 1,
   "metadata": {},
   "outputs": [],
   "source": [
    "import numpy as np\n",
    "import matplotlib.pyplot as plt\n",
    "import ipywidgets as widgets\n",
    "from scipy.optimize import curve_fit\n",
    "from IPython.display import display"
   ]
  },
  {
   "cell_type": "markdown",
   "metadata": {},
   "source": [
    "# Example 1: Zero-Order Hold\n",
    "\n",
    "The zero-order hold is perhaps the simplest method to turn a _discrete-time_ (DT) signal into a _continuous-time_ (CT) signal. It does this by taking the value of the input at time $$t_0 = kT$$ and holding this output for the whole sampling period $$t \\in [kT, (k+1)T)$$\n",
    "\n"
   ]
  },
  {
   "cell_type": "code",
   "execution_count": null,
   "metadata": {},
   "outputs": [
    {
     "data": {
      "application/vnd.jupyter.widget-view+json": {
       "model_id": "7e346df15d814190bbbd514cf6f55c34",
       "version_major": 2,
       "version_minor": 0
      },
      "text/plain": [
       "IntSlider(value=5, description='Fs (Hz)', max=30, min=1)"
      ]
     },
     "metadata": {},
     "output_type": "display_data"
    },
    {
     "data": {
      "application/vnd.jupyter.widget-view+json": {
       "model_id": "ba1d64249bbc4027940e436f7fa98960",
       "version_major": 2,
       "version_minor": 0
      },
      "text/plain": [
       "Output()"
      ]
     },
     "metadata": {},
     "output_type": "display_data"
    }
   ],
   "source": [
    "def zero_order_hold_plot(fs):\n",
    "    T = 2  # Total time in seconds\n",
    "    t_cont = np.linspace(0, T, 1000)  # Continuous time axis\n",
    "    signal_cont = np.sin(2 * np.pi * 1 * t_cont)  # Continuous sine wave\n",
    "    \n",
    "    t_samples = np.arange(0, T, 1/fs)  # Discrete sample times\n",
    "    signal_samples = np.sin(2 * np.pi * 1 * t_samples)  # Sampled signal\n",
    "    \n",
    "    # Create ZOH signal by repeating each sample value until the next sample\n",
    "    t_zoh = np.repeat(t_samples, 2)\n",
    "    signal_zoh = np.repeat(signal_samples, 2)\n",
    "    \n",
    "    # Adjust last element to match the original timeline\n",
    "    t_zoh = np.append(t_zoh, T)\n",
    "    signal_zoh = np.append(signal_zoh, signal_zoh[-1])\n",
    "    \n",
    "    plt.figure(figsize=(8, 4))\n",
    "    plt.plot(t_cont, signal_cont, 'b', label='Original Signal')  # Continuous signal\n",
    "    plt.step(t_zoh, signal_zoh, 'r', where='post', label='Zero-Order Hold')  # ZOH signal\n",
    "    plt.scatter(t_samples, signal_samples, color='black', zorder=3, label='Samples')  # Sample points\n",
    "    \n",
    "    plt.xlabel('Time (s)')\n",
    "    plt.ylabel('Amplitude')\n",
    "    plt.title(f'Zero-Order Hold (Sampling Frequency = {fs} Hz)')\n",
    "    plt.legend()\n",
    "    plt.grid(True)\n",
    "    plt.show()\n",
    "\n",
    "# Create slider for sampling frequency\n",
    "fs_slider = widgets.IntSlider(min=1, max=30, step=1, value=5, description='Fs (Hz)')\n",
    "interactive_plot = widgets.interactive_output(zero_order_hold_plot, {'fs': fs_slider})\n",
    "display(fs_slider, interactive_plot)\n"
   ]
  },
  {
   "cell_type": "markdown",
   "metadata": {},
   "source": [
    "# Example 2: Nyquist-Shannon Sampling Theorem\n",
    "\n",
    "If we don't sample a signal often enough, we lose important details, making it hard to reconstruct the original signal.\n",
    "\n",
    "## Sinuisoidal Signals and Sampling\n",
    "Since any signal can be broken down into sine waves using the Fourier transform, we use a basic sinusoidal signal to explain the Nyquist-Shannon Sampling Theorem.\n",
    "\n",
    "## Nyquist-Shannon Sampling Theorem\n",
    "A sampled signal can be perfectly reconstructed only if the sampling rate is at least twice the highest frequency present in the signal.\n",
    "\n",
    "$$\n",
    "f_s \\geq 2f_{max}\n",
    "$$\n",
    "\n",
    "where:\n",
    "- $f_s$ is the **sampling frequency**\n",
    "- $f_{max}$ is the **highest frequency component** in the signal\n",
    "\n",
    "\n",
    "\n"
   ]
  },
  {
   "cell_type": "code",
   "execution_count": 3,
   "metadata": {},
   "outputs": [
    {
     "data": {
      "application/vnd.jupyter.widget-view+json": {
       "model_id": "778308ac7d6c4aeca3edaac10b3d2004",
       "version_major": 2,
       "version_minor": 0
      },
      "text/plain": [
       "FloatSlider(value=3.0, description='f_max (Hz)', max=10.0, min=1.0, step=0.5)"
      ]
     },
     "metadata": {},
     "output_type": "display_data"
    },
    {
     "data": {
      "application/vnd.jupyter.widget-view+json": {
       "model_id": "77a23e1b133b49a48e9e9b99c1debc43",
       "version_major": 2,
       "version_minor": 0
      },
      "text/plain": [
       "FloatSlider(value=6.0, description='f_s (Hz)', max=20.0, min=2.0, step=0.5)"
      ]
     },
     "metadata": {},
     "output_type": "display_data"
    },
    {
     "data": {
      "application/vnd.jupyter.widget-view+json": {
       "model_id": "9d7be58070ca4f05b7e1a335a19a1ddc",
       "version_major": 2,
       "version_minor": 0
      },
      "text/plain": [
       "Output()"
      ]
     },
     "metadata": {},
     "output_type": "display_data"
    }
   ],
   "source": [
    "# Function to generate a sinusoidal signal\n",
    "def sinusoid(t, f):\n",
    "    return np.sin(2 * np.pi * f * t)\n",
    "\n",
    "# Function to fit a sinusoid to sampled points using the lowest frequency possible\n",
    "def fit_sinusoid(t_samples, y_samples, f_s):\n",
    "    def model(t, A, f_fit, phase):\n",
    "        return A * np.sin(2 * np.pi * f_fit * t + phase)\n",
    "    \n",
    "    # Nyquist folding to find the aliased frequency\n",
    "    f_alias = np.abs((f_samples := np.fft.fftfreq(len(t_samples), d=(t_samples[1] - t_samples[0])))[np.argmax(np.abs(np.fft.fft(y_samples)))])\n",
    "    f_guess = f_alias if f_alias < f_s / 2 else f_s - f_alias\n",
    "    \n",
    "    params, _ = curve_fit(model, t_samples, y_samples, p0=[1, f_guess, 0])\n",
    "    return lambda t: model(t, *params)\n",
    "\n",
    "# Interactive function to update the plot\n",
    "def nyquist_plot(f_max, f_s):\n",
    "    T = 1  # Total duration (1 second)\n",
    "    t_cont = np.linspace(0, T, 1000)  # High-resolution time for continuous signal\n",
    "    y_cont = sinusoid(t_cont, f_max)  # Continuous signal\n",
    "\n",
    "    # Sampling points\n",
    "    t_samples = np.arange(0, T, 1/f_s)  # Sampled times\n",
    "    y_samples = sinusoid(t_samples, f_max)  # Sampled values\n",
    "\n",
    "    # Fit a sinusoid to sampled points\n",
    "    fitted_sinusoid = fit_sinusoid(t_samples, y_samples, f_s)\n",
    "\n",
    "    # Generate reconstructed signal\n",
    "    y_reconstructed = fitted_sinusoid(t_cont)\n",
    "\n",
    "    # Plot the results\n",
    "    plt.figure(figsize=(8, 4))\n",
    "    plt.plot(t_cont, y_cont, 'b', label='Original Signal')  # Continuous signal\n",
    "    plt.scatter(t_samples, y_samples, color='red', zorder=3, label='Sampled Points')  # Sampled points\n",
    "    plt.plot(t_cont, y_reconstructed, 'g--', label='Reconstructed Signal')  # Fitted sinusoid\n",
    "    \n",
    "    # Nyquist Criterion Check\n",
    "    nyquist_condition = f_s >= 2 * f_max\n",
    "    condition_text = \"✓ Nyquist Theorem Fulfilled\" if nyquist_condition else \"✗ Undersampling (Aliasing Can Occur!)\"\n",
    "    plt.title(f'Nyquist-Shannon Sampling Theorem\\n{condition_text}', fontsize=12, color='green' if nyquist_condition else 'red')\n",
    "\n",
    "    plt.xlabel('Time (s)')\n",
    "    plt.ylabel('Amplitude')\n",
    "    plt.legend()\n",
    "    plt.grid(True)\n",
    "    plt.show()\n",
    "\n",
    "# Create interactive sliders\n",
    "f_max_slider = widgets.FloatSlider(min=1, max=10, step=0.5, value=3, description='f_max (Hz)')\n",
    "f_s_slider = widgets.FloatSlider(min=2, max=20, step=0.5, value=6, description='f_s (Hz)')\n",
    "\n",
    "# Display interactive plot\n",
    "interactive_plot = widgets.interactive_output(nyquist_plot, {'f_max': f_max_slider, 'f_s': f_s_slider})\n",
    "display(f_max_slider, f_s_slider, interactive_plot)\n"
   ]
  },
  {
   "cell_type": "code",
   "execution_count": 4,
   "metadata": {},
   "outputs": [
    {
     "data": {
      "application/vnd.jupyter.widget-view+json": {
       "model_id": "74727481faa740d19f49583c2c604d65",
       "version_major": 2,
       "version_minor": 0
      },
      "text/plain": [
       "IntSlider(value=2, description='Harmonics', max=5, min=1)"
      ]
     },
     "metadata": {},
     "output_type": "display_data"
    },
    {
     "data": {
      "application/vnd.jupyter.widget-view+json": {
       "model_id": "771a0c3d60484fa193818e44adac4f1b",
       "version_major": 2,
       "version_minor": 0
      },
      "text/plain": [
       "FloatSlider(value=20.0, description='f_s (Hz)', max=50.0, min=5.0, step=1.0)"
      ]
     },
     "metadata": {},
     "output_type": "display_data"
    },
    {
     "data": {
      "application/vnd.jupyter.widget-view+json": {
       "model_id": "d15d851d28454837917f2de6d46f776d",
       "version_major": 2,
       "version_minor": 0
      },
      "text/plain": [
       "Output()"
      ]
     },
     "metadata": {},
     "output_type": "display_data"
    }
   ],
   "source": [
    "import numpy as np\n",
    "import matplotlib.pyplot as plt\n",
    "from scipy.optimize import curve_fit\n",
    "from scipy.fftpack import fft, fftfreq\n",
    "import ipywidgets as widgets\n",
    "from IPython.display import display\n",
    "\n",
    "# Global storage for the original signal\n",
    "global_t_cont = np.linspace(0, 1, 1000)  # High-resolution time\n",
    "global_freq_options = np.array([1, 2, 5, 10, 20])  # Available frequency components\n",
    "global_num_components = 2  # Default number of harmonics\n",
    "global_f_s = 20  # Default sampling frequency\n",
    "\n",
    "def generate_signal(num_components):\n",
    "    global global_freqs, global_amps, global_phases, global_y_cont\n",
    "    global_freqs = global_freq_options[:num_components]\n",
    "    global_amps = np.ones(len(global_freqs))\n",
    "    global_phases = np.random.uniform(0, 2*np.pi, len(global_freqs))\n",
    "    global_y_cont = sum(A * np.sin(2 * np.pi * f * global_t_cont + p) for A, f, p in zip(global_amps, global_freqs, global_phases))\n",
    "\n",
    "generate_signal(global_num_components)\n",
    "\n",
    "# Function to fit multiple sinusoids to sampled points\n",
    "def fit_sinusoids(t_samples, y_samples, freqs):\n",
    "    def model(t, *params):\n",
    "        A = params[:len(freqs)]\n",
    "        P = params[len(freqs):]\n",
    "        return sum(A[i] * np.sin(2 * np.pi * freqs[i] * t + P[i]) for i in range(len(freqs)))\n",
    "    \n",
    "    p0 = [1] * len(freqs) + [0] * len(freqs)  # Initial guess: Amplitudes = 1, Phases = 0\n",
    "    params, _ = curve_fit(model, t_samples, y_samples, p0=p0)\n",
    "    return lambda t: model(t, *params)\n",
    "\n",
    "# Function to plot Nyquist sampling with complex signals\n",
    "def nyquist_plot():\n",
    "    T = 1  # Total duration (1 second)\n",
    "    num_samples = int(T * global_f_s)  # Adjust number of samples dynamically\n",
    "    t_samples = np.linspace(0, T, num_samples, endpoint=False)\n",
    "    y_samples = sum(A * np.sin(2 * np.pi * f * t_samples + p) for A, f, p in zip(global_amps, global_freqs, global_phases))\n",
    "\n",
    "    # Reconstructed signal\n",
    "    fitted_sinusoids = fit_sinusoids(t_samples, y_samples, global_freqs)\n",
    "    y_reconstructed = fitted_sinusoids(global_t_cont)\n",
    "\n",
    "    # Nyquist Criterion Check\n",
    "    max_freq = max(global_freqs)\n",
    "    nyquist_condition = global_f_s >= 2 * max_freq\n",
    "    condition_text = \"\\n\\n✓ Nyquist Theorem Fulfilled\" if nyquist_condition else \"\\n\\n✗ Undersampling (Aliasing Occurs!)\"\n",
    "\n",
    "    # Plot time domain\n",
    "    plt.figure(figsize=(10, 6))\n",
    "    plt.subplot(2, 1, 1)\n",
    "    plt.title(f'Nyquist-Shannon Sampling Theorem {condition_text}', fontsize=12, color='green' if nyquist_condition else 'red')\n",
    "    plt.plot(global_t_cont, global_y_cont, 'b', label='Original Signal')\n",
    "    plt.scatter(t_samples, y_samples, color='red', zorder=3, label='Sampled Points')\n",
    "    plt.plot(global_t_cont, y_reconstructed, 'g--', label='Reconstructed Signal')\n",
    "    plt.xlabel('Time (s)')\n",
    "    plt.ylabel('Amplitude')\n",
    "    plt.legend()\n",
    "    plt.grid(True)\n",
    "\n",
    "    # Fourier Transform Analysis\n",
    "    N = 4096  # Increase FFT size for better resolution\n",
    "    freqs_cont = fftfreq(N, d=(global_t_cont[1] - global_t_cont[0]))\n",
    "    spectrum_cont = np.abs(fft(global_y_cont, n=N))\n",
    "    spectrum_cont /= np.max(spectrum_cont)  # Normalize original spectrum\n",
    "    \n",
    "    N_samples = 4096  # Ensure FFT resolution matches\n",
    "    freqs_samples = fftfreq(N_samples, d=(t_samples[1] - t_samples[0]))\n",
    "    spectrum_samples = np.abs(fft(y_samples, n=N_samples))\n",
    "    spectrum_samples /= np.max(spectrum_samples)  # Normalize sampled spectrum\n",
    "    \n",
    "    plt.subplot(2, 1, 2)\n",
    "    plt.plot(freqs_cont[:N//2], spectrum_cont[:N//2], 'b', label='Original Spectrum')\n",
    "    plt.plot(freqs_samples[:N_samples//2], spectrum_samples[:N_samples//2], 'r--', label='Sampled Spectrum')\n",
    "    plt.xlim(0, 40)  # Limit frequency axis to 40 Hz\n",
    "    plt.xlabel('Frequency (Hz)')\n",
    "    plt.ylabel('Normalized Magnitude')\n",
    "    plt.legend()\n",
    "    plt.grid(True)\n",
    "\n",
    "    # Annotate expected peaks\n",
    "    for f in global_freqs:\n",
    "        plt.axvline(f, color='gray', linestyle='dashed', alpha=0.6)\n",
    "    \n",
    "    plt.tight_layout()\n",
    "    plt.show()\n",
    "\n",
    "# Interactive controls\n",
    "num_components_slider = widgets.IntSlider(min=1, max=len(global_freq_options), step=1, value=global_num_components, description='Harmonics')\n",
    "f_s_slider = widgets.FloatSlider(min=5, max=50, step=1, value=global_f_s, description='f_s (Hz)')\n",
    "\n",
    "def update_plot(num_components, f_s):\n",
    "    global global_f_s\n",
    "    if num_components != len(global_freqs):\n",
    "        generate_signal(num_components)\n",
    "    global_f_s = f_s\n",
    "    nyquist_plot()\n",
    "\n",
    "interactive_plot = widgets.interactive_output(update_plot, {'num_components': num_components_slider, 'f_s': f_s_slider})\n",
    "display(num_components_slider, f_s_slider, interactive_plot)\n"
   ]
  },
  {
   "cell_type": "markdown",
   "metadata": {},
   "source": [
    "# Exercise 3: Inverted Pendulum Control\n",
    "\n"
   ]
  },
  {
   "cell_type": "code",
   "execution_count": null,
   "metadata": {},
   "outputs": [
    {
     "data": {
      "application/vnd.jupyter.widget-view+json": {
       "model_id": "d5075d71581b45119f8dc6c059436965",
       "version_major": 2,
       "version_minor": 0
      },
      "text/plain": [
       "VBox(children=(HBox(children=(VBox(children=(Checkbox(value=True, description='Enable Noise'), FloatSlider(val…"
      ]
     },
     "metadata": {},
     "output_type": "display_data"
    },
    {
     "data": {
      "application/vnd.jupyter.widget-view+json": {
       "model_id": "5878f7e801f849f2868360423c06a573",
       "version_major": 2,
       "version_minor": 0
      },
      "text/plain": [
       "Output()"
      ]
     },
     "metadata": {},
     "output_type": "display_data"
    }
   ],
   "source": [
    "import ipywidgets as widgets\n",
    "from IPython.display import display\n",
    "from ipywidgets import VBox, HBox, Output\n",
    "import matplotlib.pyplot as plt\n",
    "import networkx as nx\n",
    "\n",
    "# Create an output widget for the diagram\n",
    "diagram_output = Output()\n",
    "\n",
    "# Widgets for interactive controls\n",
    "noise_check = widgets.Checkbox(value=True, description='Enable Noise')\n",
    "noise_intensity = widgets.FloatSlider(min=0, max=1, step=0.01, value=0.5, description='Intensity')\n",
    "noise_frequency = widgets.FloatSlider(min=0, max=1000, step=1, value=50, description='Frequency (Hz)')\n",
    "\n",
    "filter_check = widgets.Checkbox(value=True, description='Enable Anti-Aliasing Filter')\n",
    "filter_cutoff = widgets.FloatSlider(min=10, max=1000, step=1, value=200, description='Cutoff Frequency (Hz)')\n",
    "\n",
    "sampling_frequency = widgets.FloatSlider(min=100, max=5000, step=10, value=1000, description='Sampling Frequency (Hz)')\n",
    "\n",
    "def draw_diagram():\n",
    "    with diagram_output:\n",
    "        diagram_output.clear_output(wait=True)\n",
    "        G = nx.DiGraph()\n",
    "        pos = {}\n",
    "        labels = {}\n",
    "        \n",
    "        # Main system blocks\n",
    "        G.add_node('P')\n",
    "        pos['P'] = (6, 2)\n",
    "        labels['P'] = 'CT Plant Model'\n",
    "\n",
    "        G.add_node('ZOH')\n",
    "        pos['ZOH'] = (4, 2)\n",
    "        labels['ZOH'] = 'Zero-Order Hold'\n",
    "\n",
    "        G.add_node('C')\n",
    "        pos['C'] = (2, 2)\n",
    "        labels['C'] = 'DT PID Controller'\n",
    "\n",
    "        G.add_node('S')\n",
    "        pos['S'] = (0, 2)\n",
    "        labels['S'] = f'Sampler\\n(Sampling Freq: {int(sampling_frequency.value)}Hz)'\n",
    "\n",
    "        if filter_check.value:\n",
    "            G.add_node('F')\n",
    "            pos['F'] = (-2, 2)\n",
    "            labels['F'] = f'Anti-Aliasing Filter\\n(Cutoff: {int(filter_cutoff.value)}Hz)'\n",
    "\n",
    "        if noise_check.value:\n",
    "            G.add_node('N')\n",
    "            pos['N'] = (-4, 4)  # Attach noise to the top-left corner node\n",
    "            labels['N'] = f'Noise\\n(Intensity: {noise_intensity.value:.2f}, Freq: {int(noise_frequency.value)}Hz)'\n",
    "\n",
    "        # Routing nodes for 90-degree feedback path\n",
    "        routing_nodes = ['R1', 'R2', 'R3', 'R4']\n",
    "        routing_positions = {\n",
    "            'R1': (8, 2),  # Right of P\n",
    "            'R2': (8, 0),  # Below R1\n",
    "            'R3': (-4, 0), # Left past all nodes\n",
    "            'R4': (-4, 2)  # Up to AAF\n",
    "        }\n",
    "\n",
    "        for r in routing_nodes:\n",
    "            G.add_node(r)\n",
    "            pos[r] = routing_positions[r]\n",
    "\n",
    "        # Forward Path\n",
    "        G.add_edge('S', 'C')\n",
    "        G.add_edge('C', 'ZOH')\n",
    "        G.add_edge('ZOH', 'P')\n",
    "\n",
    "        # Feedback Path\n",
    "        feedback_edges = [\n",
    "            ('P', 'R1'),\n",
    "            ('R1', 'R2'),\n",
    "            ('R2', 'R3'),\n",
    "            ('R3', 'R4'),\n",
    "            ('R4', 'F' if filter_check.value else 'S')\n",
    "        ]\n",
    "\n",
    "        if noise_check.value:\n",
    "            G.add_edge('N', 'R4')  # Noise injects at the top-left corner\n",
    "\n",
    "        if filter_check.value:\n",
    "            G.add_edge('F', 'S')\n",
    "\n",
    "        fig, ax = plt.subplots(figsize=(12, 6))\n",
    "\n",
    "        visible_nodes = [node for node in G.nodes if node not in routing_nodes]\n",
    "        nx.draw(G, pos, with_labels=True, labels={k: v for k, v in labels.items() if k in visible_nodes}, \n",
    "                node_size=3000, node_color='lightblue', edge_color='black', font_size=6, \n",
    "                node_shape='s', font_weight='bold', edgecolors='black')\n",
    "\n",
    "        # Draw routing nodes properly as white squares\n",
    "        for r in routing_nodes:\n",
    "            nx.draw_networkx_nodes(G, pos, nodelist=[r], node_color='white', edgecolors='black', node_size=3000, node_shape='s')\n",
    "\n",
    "        for (start, end) in feedback_edges:\n",
    "            x0, y0 = pos[start]\n",
    "            x1, y1 = pos[end]\n",
    "            ax.annotate(\"\",\n",
    "                        xy=(x1, y1), xycoords='data',\n",
    "                        xytext=(x0, y0), textcoords='data',\n",
    "                        arrowprops=dict(arrowstyle=\"->\", color=\"black\", linewidth=2, \n",
    "                                        connectionstyle=\"angle3,angleA=0,angleB=90\"))\n",
    "\n",
    "        plt.show()\n",
    "\n",
    "def update_diagram(*args):\n",
    "    draw_diagram()\n",
    "\n",
    "# Attach event listeners\n",
    "for widget in [noise_check, noise_intensity, noise_frequency, filter_check, filter_cutoff, sampling_frequency]:\n",
    "    widget.observe(update_diagram, names='value')\n",
    "\n",
    "# Layout widgets\n",
    "noise_controls = VBox([noise_check, noise_intensity, noise_frequency])\n",
    "filter_controls = VBox([filter_check, filter_cutoff])\n",
    "sampler_controls = VBox([sampling_frequency])\n",
    "controls_layout = VBox([\n",
    "    HBox([noise_controls, widgets.Label('Noise')]),\n",
    "    HBox([filter_controls, widgets.Label('Filter')]),\n",
    "    HBox([sampler_controls, widgets.Label('Sampler')])\n",
    "])\n",
    "\n",
    "display(controls_layout, diagram_output)\n",
    "\n",
    "draw_diagram()\n"
   ]
  },
  {
   "cell_type": "code",
   "execution_count": 68,
   "metadata": {},
   "outputs": [
    {
     "data": {
      "application/vnd.jupyter.widget-view+json": {
       "model_id": "54eb9e3302da4b52a8b3819e5dc3cb59",
       "version_major": 2,
       "version_minor": 0
      },
      "text/plain": [
       "GridspecLayout(children=(CytoscapeWidget(cytoscape_layout={'name': 'preset'}, cytoscape_style=[{'selector': 'n…"
      ]
     },
     "metadata": {},
     "output_type": "display_data"
    },
    {
     "data": {
      "image/png": "[encoded data removed]",
      "text/plain": [
       "<Figure size 500x300 with 1 Axes>"
      ]
     },
     "metadata": {},
     "output_type": "display_data"
    },
    {
     "data": {
      "image/png": "[encoded data removed]",
      "text/plain": [
       "<Figure size 500x300 with 1 Axes>"
      ]
     },
     "metadata": {},
     "output_type": "display_data"
    }
   ],
   "source": [
    "import ipywidgets as widgets\n",
    "from IPython.display import display\n",
    "import matplotlib.pyplot as plt\n",
    "import numpy as np\n",
    "from ipycytoscape import CytoscapeWidget\n",
    "import time\n",
    "\n",
    "# Create network graph\n",
    "cyto_graph = CytoscapeWidget()\n",
    "\n",
    "nodes = [\n",
    "    {\"data\": {\"id\": \"P\", \"label\": \"CT Plant Model\"}, \"position\": {\"x\": 500, \"y\": 100}},\n",
    "    {\"data\": {\"id\": \"ZOH\", \"label\": \"Zero-Order Hold\"}, \"position\": {\"x\": 350, \"y\": 100}},\n",
    "    {\"data\": {\"id\": \"C\", \"label\": \"DT PID Controller\"}, \"position\": {\"x\": 200, \"y\": 100}},\n",
    "    {\"data\": {\"id\": \"S\", \"label\": \"Sampler\"}, \"position\": {\"x\": 50, \"y\": 100}},\n",
    "    {\"data\": {\"id\": \"F\", \"label\": \"Anti-Aliasing Filter\"}, \"position\": {\"x\": -100, \"y\": 100}},\n",
    "    {\"data\": {\"id\": \"N\", \"label\": \"Noise Source\"}, \"position\": {\"x\": -100, \"y\": 200}},\n",
    "\n",
    "    # Routing nodes for feedback loop\n",
    "    {\"data\": {\"id\": \"R1\", \"label\": \"\"}, \"position\": {\"x\": 650, \"y\": 100}},\n",
    "    {\"data\": {\"id\": \"R2\", \"label\": \"\"}, \"position\": {\"x\": 650, \"y\": 0}},\n",
    "    {\"data\": {\"id\": \"R3\", \"label\": \"\"}, \"position\": {\"x\": -250, \"y\": 0}},\n",
    "    {\"data\": {\"id\": \"R4\", \"label\": \"\"}, \"position\": {\"x\": -250, \"y\": 100}},\n",
    "]\n",
    "\n",
    "edges = [\n",
    "    {\"data\": {\"source\": \"S\", \"target\": \"C\"}},\n",
    "    {\"data\": {\"source\": \"C\", \"target\": \"ZOH\"}},\n",
    "    {\"data\": {\"source\": \"ZOH\", \"target\": \"P\"}},\n",
    "\n",
    "    # Feedback path with right-angle bends\n",
    "    {\"data\": {\"source\": \"P\", \"target\": \"R1\"}},\n",
    "    {\"data\": {\"source\": \"R1\", \"target\": \"R2\"}},\n",
    "    {\"data\": {\"source\": \"R2\", \"target\": \"R3\"}},\n",
    "    {\"data\": {\"source\": \"R3\", \"target\": \"R4\"}},\n",
    "    {\"data\": {\"source\": \"R4\", \"target\": \"F\"}},\n",
    "\n",
    "    {\"data\": {\"source\": \"F\", \"target\": \"S\"}},\n",
    "    {\"data\": {\"source\": \"N\", \"target\": \"F\"}},\n",
    "]\n",
    "\n",
    "cyto_graph.graph.add_graph_from_json({\"nodes\": nodes, \"edges\": edges})\n",
    "cyto_graph.set_layout(name=\"preset\")\n",
    "\n",
    "# Styling\n",
    "cyto_graph.set_style([\n",
    "    {'selector': 'node', 'style': {\n",
    "        'label': 'data(label)',\n",
    "        'width': '100px',\n",
    "        'height': '40px',\n",
    "        'background-color': '#add8e6',\n",
    "        'shape': 'rectangle',\n",
    "        'text-valign': 'center',\n",
    "        'font-size': '10px'\n",
    "    }},\n",
    "    {'selector': '[id = \"N\"]', 'style': {'background-color': '#ff6666'}},\n",
    "    {'selector': '[id ^= \"R\"]', 'style': {'background-color': 'white', 'border-color': 'black', 'border-width': '1px'}}\n",
    "])\n",
    "\n",
    "# Real-time plot (displayed in layout)\n",
    "fig, ax = plt.subplots(figsize=(5, 3))\n",
    "x_data, y_data = [], []\n",
    "line, = ax.plot([], [], '-o')\n",
    "ax.set_xlim(0, 10)\n",
    "ax.set_ylim(-1, 1)\n",
    "ax.set_title(\"Real-Time Response\")\n",
    "\n",
    "plot_output = widgets.Output()\n",
    "with plot_output:\n",
    "    display(fig)  # Display inside the widget output only (not directly)\n",
    "\n",
    "# **Empty Plot (only in the canvas)**\n",
    "fig_empty, ax_empty = plt.subplots(figsize=(5, 3))\n",
    "ax_empty.set_title(\"Empty Plot (Under Block Diagram)\")\n",
    "\n",
    "empty_plot_output = widgets.Output()\n",
    "with empty_plot_output:\n",
    "    display(fig_empty)  # Ensure it only appears inside the layout\n",
    "\n",
    "def update_plot(change):\n",
    "    global x_data, y_data\n",
    "    x_data.append(time.time() % 10)\n",
    "    y_data.append(np.sin(x_data[-1] * 2 * np.pi * noise_frequency.value / 100))\n",
    "    if len(x_data) > 10:\n",
    "        x_data.pop(0)\n",
    "        y_data.pop(0)\n",
    "    line.set_xdata(x_data)\n",
    "    line.set_ydata(y_data)\n",
    "    ax.relim()\n",
    "    ax.autoscale_view()\n",
    "    fig.canvas.draw_idle()\n",
    "\n",
    "# UI Elements near respective nodes\n",
    "noise_check = widgets.Checkbox(value=True, description='Enable Noise')\n",
    "noise_intensity = widgets.FloatSlider(min=0, max=1, step=0.01, value=0.5, description='Intensity')\n",
    "noise_frequency = widgets.FloatSlider(min=0, max=10, step=1, value=2, description='Frequency (Hz)')\n",
    "\n",
    "filter_check = widgets.Checkbox(value=True, description='Enable Filter')\n",
    "filter_cutoff = widgets.FloatSlider(min=1, max=10, step=1, value=5, description='Cutoff (Hz)')\n",
    "\n",
    "sampling_frequency = widgets.FloatSlider(min=1, max=10, step=5, value=1000, description='Sampling (Hz)')\n",
    "\n",
    "# Attach event listeners\n",
    "for widget in [noise_check, noise_intensity, noise_frequency, filter_check, filter_cutoff, sampling_frequency]:\n",
    "    widget.observe(update_plot, names='value')\n",
    "\n",
    "# Improved Layout with Only One Empty Plot\n",
    "layout_grid = widgets.GridspecLayout(3, 2, width='100%')\n",
    "layout_grid[0, 0] = cyto_graph\n",
    "layout_grid[0, 1] = widgets.VBox([widgets.Label(\"Noise\"), noise_check, noise_intensity, noise_frequency])\n",
    "layout_grid[1, 1] = widgets.VBox([widgets.Label(\"Filter\"), filter_check, filter_cutoff])\n",
    "layout_grid[2, 1] = widgets.VBox([widgets.Label(\"Sampler\"), sampling_frequency])\n",
    "layout_grid[1, 0] = plot_output  # Keep real-time plot inside the layout\n",
    "layout_grid[2, 0] = empty_plot_output  # Empty plot under block diagram, only inside the layout\n",
    "\n",
    "display(layout_grid)\n"
   ]
  },
  {
   "cell_type": "code",
   "execution_count": null,
   "metadata": {},
   "outputs": [
    {
     "data": {
      "application/vnd.jupyter.widget-view+json": {
       "model_id": "f4a6403b6df2408385300f588d081095",
       "version_major": 2,
       "version_minor": 0
      },
      "text/plain": [
       "FloatSlider(value=1.0, description='Time Constant (τ):', max=10.0, min=0.1)"
      ]
     },
     "metadata": {},
     "output_type": "display_data"
    },
    {
     "data": {
      "application/vnd.jupyter.widget-view+json": {
       "model_id": "32f788226f70433099ec1624ade4dce7",
       "version_major": 2,
       "version_minor": 0
      },
      "text/plain": [
       "FloatSlider(value=1.0, description='Gain (K):', max=10.0, min=0.1)"
      ]
     },
     "metadata": {},
     "output_type": "display_data"
    },
    {
     "data": {
      "image/png": "[encoded data removed]",
      "text/plain": [
       "<Figure size 640x480 with 1 Axes>"
      ]
     },
     "metadata": {},
     "output_type": "display_data"
    },
    {
     "data": {
      "image/png": "[encoded data removed]",
      "text/plain": [
       "<Figure size 640x480 with 1 Axes>"
      ]
     },
     "metadata": {},
     "output_type": "display_data"
    },
    {
     "data": {
      "text/plain": [
       "<Figure size 640x480 with 0 Axes>"
      ]
     },
     "metadata": {},
     "output_type": "display_data"
    }
   ],
   "source": [
    "import numpy as np\n",
    "import matplotlib.pyplot as plt\n",
    "from matplotlib.animation import FuncAnimation\n",
    "import ipywidgets as widgets\n",
    "from IPython.display import display\n",
    "\n",
    "# Define the system parameters (for example, a simple first-order system)\n",
    "def first_order_system(t, tau=1.0, K=1.0):\n",
    "    return K * (1 - np.exp(-t / tau))\n",
    "\n",
    "# Set up the figure and axis\n",
    "fig, ax = plt.subplots()\n",
    "xdata, ydata = [], []\n",
    "line, = ax.plot([], [], lw=2)\n",
    "ax.set_xlim(0, 10)\n",
    "ax.set_ylim(0, 1.2)\n",
    "ax.set_xlabel('Time [s]')\n",
    "ax.set_ylabel('Output')\n",
    "\n",
    "# Initialize the plot's data\n",
    "def init():\n",
    "    line.set_data([], [])\n",
    "    return line,\n",
    "\n",
    "# Update function for the animation (representing system response)\n",
    "def update(frame, tau, K):\n",
    "    t = np.linspace(0, frame, frame+1)\n",
    "    y = first_order_system(t, tau, K)\n",
    "    line.set_data(t, y)\n",
    "    return line,\n",
    "\n",
    "# Create the animation with FuncAnimation\n",
    "def animate(tau, K):\n",
    "    ani = FuncAnimation(fig, update, frames=np.arange(1, 100), fargs=(tau, K), init_func=init, blit=True, interval=100)\n",
    "    return ani\n",
    "\n",
    "# Control parameters with sliders (interactive)\n",
    "tau_slider = widgets.FloatSlider(value=1.0, min=0.1, max=10.0, step=0.1, description='Time Constant (τ):')\n",
    "K_slider = widgets.FloatSlider(value=1.0, min=0.1, max=10.0, step=0.1, description='Gain (K):')\n",
    "\n",
    "def update_params(change):\n",
    "    # We stop any previous animation and start a new one with updated parameters\n",
    "    ani.event_source.stop()  # Stop the existing animation if it's running\n",
    "    plt.clf()  # Clear the current figure\n",
    "    animate(tau_slider.value, K_slider.value)  # Start a new animation with updated parameters\n",
    "    display(fig)\n",
    "\n",
    "# Initialize the animation\n",
    "ani = animate(tau_slider.value, K_slider.value)\n",
    "\n",
    "# Link sliders to update function\n",
    "tau_slider.observe(update_params, names='value')\n",
    "K_slider.observe(update_params, names='value')\n",
    "\n",
    "# Display the interactive controls and plot\n",
    "display(tau_slider, K_slider, fig)\n"
   ]
  }
 ],
 "metadata": {
  "kernelspec": {
   "display_name": ".venv",
   "language": "python",
   "name": "python3"
  },
  "language_info": {
   "codemirror_mode": {
    "name": "ipython",
    "version": 3
   },
   "file_extension": ".py",
   "mimetype": "text/x-python",
   "name": "python",
   "nbconvert_exporter": "python",
   "pygments_lexer": "ipython3",
   "version": "3.10.11"
  }
 },
 "nbformat": 4,
 "nbformat_minor": 2
}
