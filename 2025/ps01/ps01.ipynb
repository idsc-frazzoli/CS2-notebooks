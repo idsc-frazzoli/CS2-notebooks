{
 "cells": [
  {
   "cell_type": "markdown",
   "metadata": {},
   "source": [
    "# Notebook Lecture 1: Introduction, Digital Control Systems\n",
    "© 2025 ETH Zurich, Niclas Scheuer; Institute for Dynamic Systems and Control; Prof. Emilio Frazzoli\n",
    "\n",
    "This interactive notebook covers the basics of discrete-time control and aliasing.\n",
    "\n",
    "Authors:\n",
    "- Niclas Scheuer; nscheuer@ethz.ch\n",
    "\n",
    "## Import the packages"
   ]
  },
  {
   "cell_type": "code",
   "execution_count": 6,
   "metadata": {},
   "outputs": [],
   "source": [
    "import numpy as np\n",
    "import matplotlib.pyplot as plt\n",
    "import ipywidgets as widgets\n",
    "from scipy.optimize import curve_fit\n",
    "from IPython.display import display"
   ]
  },
  {
   "cell_type": "markdown",
   "metadata": {},
   "source": [
    "# Example 1: Zero-Order Hold\n",
    "\n",
    "The zero-order hold is perhaps the simplest method to turn a _discrete-time_ (DT) signal into a _continuous-time_ (CT) signal. It does this by taking the value of the input at time $$t_k = kT$$ and holding this output for the whole sampling period $$t \\in [kT, (k+1)T)$$\n",
    "\n"
   ]
  },
  {
   "cell_type": "code",
   "execution_count": 7,
   "metadata": {},
   "outputs": [
    {
     "data": {
      "application/vnd.jupyter.widget-view+json": {
       "model_id": "55d04194b3ae4ec5b0284ee7e9991041",
       "version_major": 2,
       "version_minor": 0
      },
      "text/plain": [
       "IntSlider(value=5, description='Fs (Hz)', max=30, min=1)"
      ]
     },
     "metadata": {},
     "output_type": "display_data"
    },
    {
     "data": {
      "application/vnd.jupyter.widget-view+json": {
       "model_id": "6237d23f87ea4001810a5c6e70d71be3",
       "version_major": 2,
       "version_minor": 0
      },
      "text/plain": [
       "Output()"
      ]
     },
     "metadata": {},
     "output_type": "display_data"
    }
   ],
   "source": [
    "def zero_order_hold_plot(fs):\n",
    "    T = 2  # Total time in seconds\n",
    "    t_cont = np.linspace(0, T, 1000)  # Continuous time axis\n",
    "    signal_cont = np.sin(2 * np.pi * 1 * t_cont)  # Continuous sine wave\n",
    "    \n",
    "    t_samples = np.arange(0, T, 1/fs)  # Discrete sample times\n",
    "    signal_samples = np.sin(2 * np.pi * 1 * t_samples)  # Sampled signal\n",
    "    \n",
    "    # Create ZOH signal by repeating each sample value until the next sample\n",
    "    t_zoh = np.repeat(t_samples, 2)\n",
    "    signal_zoh = np.repeat(signal_samples, 2)\n",
    "    \n",
    "    # Adjust last element to match the original timeline\n",
    "    t_zoh = np.append(t_zoh, T)\n",
    "    signal_zoh = np.append(signal_zoh, signal_zoh[-1])\n",
    "    \n",
    "    plt.figure(figsize=(8, 4))\n",
    "    plt.plot(t_cont, signal_cont, 'b', label='Original Signal')  # Continuous signal\n",
    "    plt.step(t_zoh, signal_zoh, 'r', where='post', label='Zero-Order Hold')  # ZOH signal\n",
    "    plt.scatter(t_samples, signal_samples, color='black', zorder=3, label='Samples')  # Sample points\n",
    "    \n",
    "    plt.xlabel('Time (s)')\n",
    "    plt.ylabel('Amplitude')\n",
    "    plt.title(f'Zero-Order Hold (Sampling Frequency = {fs} Hz)')\n",
    "    plt.legend()\n",
    "    plt.grid(True)\n",
    "    plt.show()\n",
    "\n",
    "# Create slider for sampling frequency\n",
    "fs_slider = widgets.IntSlider(min=1, max=30, step=1, value=5, description='Fs (Hz)')\n",
    "interactive_plot = widgets.interactive_output(zero_order_hold_plot, {'fs': fs_slider})\n",
    "display(fs_slider, interactive_plot)\n"
   ]
  },
  {
   "cell_type": "markdown",
   "metadata": {},
   "source": [
    "# Example 2: Nyquist-Shannon Sampling Theorem\n",
    "\n",
    "If we don't sample a signal often enough, we lose important details, making it hard to reconstruct the original signal.\n",
    "\n",
    "## Sinuisoidal Signals and Sampling\n",
    "Since any signal can be broken down into sine waves using the Fourier transform, we use a basic sinusoidal signal to explain the Nyquist-Shannon Sampling Theorem.\n",
    "\n",
    "## Nyquist-Shannon Sampling Theorem\n",
    "A sampled signal can be perfectly reconstructed only if the sampling rate is at least twice the highest frequency present in the signal.\n",
    "\n",
    "$$\n",
    "f_s \\geq 2f_{max}\n",
    "$$\n",
    "\n",
    "where:\n",
    "- $f_s$ is the **sampling frequency**\n",
    "- $f_{max}$ is the **highest frequency component** in the signal\n",
    "\n",
    "\n",
    "\n"
   ]
  },
  {
   "cell_type": "code",
   "execution_count": 8,
   "metadata": {},
   "outputs": [
    {
     "data": {
      "application/vnd.jupyter.widget-view+json": {
       "model_id": "829152e9ab5c4f719d29bf032b4a0151",
       "version_major": 2,
       "version_minor": 0
      },
      "text/plain": [
       "FloatSlider(value=3.0, description='f_max (Hz)', max=10.0, min=1.0, step=0.5)"
      ]
     },
     "metadata": {},
     "output_type": "display_data"
    },
    {
     "data": {
      "application/vnd.jupyter.widget-view+json": {
       "model_id": "c5cdf4933d704e039e811701c03edd74",
       "version_major": 2,
       "version_minor": 0
      },
      "text/plain": [
       "FloatSlider(value=6.0, description='f_s (Hz)', max=20.0, min=2.0, step=0.5)"
      ]
     },
     "metadata": {},
     "output_type": "display_data"
    },
    {
     "data": {
      "application/vnd.jupyter.widget-view+json": {
       "model_id": "bd21f42cacb74ecda1ab08f41497c8df",
       "version_major": 2,
       "version_minor": 0
      },
      "text/plain": [
       "Output()"
      ]
     },
     "metadata": {},
     "output_type": "display_data"
    }
   ],
   "source": [
    "# Function to generate a sinusoidal signal\n",
    "def sinusoid(t, f):\n",
    "    return np.sin(2 * np.pi * f * t)\n",
    "\n",
    "# Function to fit a sinusoid to sampled points using the lowest frequency possible\n",
    "def fit_sinusoid(t_samples, y_samples, f_s):\n",
    "    def model(t, A, f_fit, phase):\n",
    "        return A * np.sin(2 * np.pi * f_fit * t + phase)\n",
    "    \n",
    "    # Nyquist folding to find the aliased frequency\n",
    "    f_alias = np.abs((f_samples := np.fft.fftfreq(len(t_samples), d=(t_samples[1] - t_samples[0])))[np.argmax(np.abs(np.fft.fft(y_samples)))])\n",
    "    f_guess = f_alias if f_alias < f_s / 2 else f_s - f_alias\n",
    "    \n",
    "    params, _ = curve_fit(model, t_samples, y_samples, p0=[1, f_guess, 0])\n",
    "    return lambda t: model(t, *params)\n",
    "\n",
    "# Interactive function to update the plot\n",
    "def nyquist_plot(f_max, f_s):\n",
    "    T = 1  # Total duration (1 second)\n",
    "    t_cont = np.linspace(0, T, 1000)  # High-resolution time for continuous signal\n",
    "    y_cont = sinusoid(t_cont, f_max)  # Continuous signal\n",
    "\n",
    "    # Sampling points\n",
    "    t_samples = np.arange(0, T, 1/f_s)  # Sampled times\n",
    "    y_samples = sinusoid(t_samples, f_max)  # Sampled values\n",
    "\n",
    "    # Fit a sinusoid to sampled points\n",
    "    fitted_sinusoid = fit_sinusoid(t_samples, y_samples, f_s)\n",
    "\n",
    "    # Generate reconstructed signal\n",
    "    y_reconstructed = fitted_sinusoid(t_cont)\n",
    "\n",
    "    # Plot the results\n",
    "    plt.figure(figsize=(8, 4))\n",
    "    plt.plot(t_cont, y_cont, 'b', label='Original Signal')  # Continuous signal\n",
    "    plt.scatter(t_samples, y_samples, color='red', zorder=3, label='Sampled Points')  # Sampled points\n",
    "    plt.plot(t_cont, y_reconstructed, 'g--', label='Reconstructed Signal')  # Fitted sinusoid\n",
    "    \n",
    "    # Nyquist Criterion Check\n",
    "    nyquist_condition = f_s >= 2 * f_max\n",
    "    condition_text = \"✓ Nyquist Theorem Fulfilled\" if nyquist_condition else \"✗ Undersampling (Aliasing Can Occur!)\"\n",
    "    plt.title(f'Nyquist-Shannon Sampling Theorem\\n{condition_text}', fontsize=12, color='green' if nyquist_condition else 'red')\n",
    "\n",
    "    plt.xlabel('Time (s)')\n",
    "    plt.ylabel('Amplitude')\n",
    "    plt.legend()\n",
    "    plt.grid(True)\n",
    "    plt.show()\n",
    "\n",
    "# Create interactive sliders\n",
    "f_max_slider = widgets.FloatSlider(min=1, max=10, step=0.5, value=3, description='f_max (Hz)')\n",
    "f_s_slider = widgets.FloatSlider(min=2, max=20, step=0.5, value=6, description='f_s (Hz)')\n",
    "\n",
    "# Display interactive plot\n",
    "interactive_plot = widgets.interactive_output(nyquist_plot, {'f_max': f_max_slider, 'f_s': f_s_slider})\n",
    "display(f_max_slider, f_s_slider, interactive_plot)\n"
   ]
  },
  {
   "cell_type": "code",
   "execution_count": 9,
   "metadata": {},
   "outputs": [
    {
     "data": {
      "application/vnd.jupyter.widget-view+json": {
       "model_id": "46d6f5e188ed4a5cbc65135dbe3266ac",
       "version_major": 2,
       "version_minor": 0
      },
      "text/plain": [
       "IntSlider(value=2, description='Harmonics', max=5, min=1)"
      ]
     },
     "metadata": {},
     "output_type": "display_data"
    },
    {
     "data": {
      "application/vnd.jupyter.widget-view+json": {
       "model_id": "eeea25071d694741a75743d61d1b5607",
       "version_major": 2,
       "version_minor": 0
      },
      "text/plain": [
       "FloatSlider(value=20.0, description='f_s (Hz)', max=50.0, min=5.0, step=1.0)"
      ]
     },
     "metadata": {},
     "output_type": "display_data"
    },
    {
     "data": {
      "application/vnd.jupyter.widget-view+json": {
       "model_id": "4623e104135d4fb3828173749a231875",
       "version_major": 2,
       "version_minor": 0
      },
      "text/plain": [
       "Output()"
      ]
     },
     "metadata": {},
     "output_type": "display_data"
    }
   ],
   "source": [
    "import numpy as np\n",
    "import matplotlib.pyplot as plt\n",
    "from scipy.optimize import curve_fit\n",
    "from scipy.fftpack import fft, fftfreq\n",
    "import ipywidgets as widgets\n",
    "from IPython.display import display\n",
    "\n",
    "# Global storage for the original signal\n",
    "global_t_cont = np.linspace(0, 1, 1000)  # High-resolution time\n",
    "global_freq_options = np.array([1, 2, 5, 10, 20])  # Available frequency components\n",
    "global_num_components = 2  # Default number of harmonics\n",
    "global_f_s = 20  # Default sampling frequency\n",
    "\n",
    "def generate_signal(num_components):\n",
    "    global global_freqs, global_amps, global_phases, global_y_cont\n",
    "    global_freqs = global_freq_options[:num_components]\n",
    "    global_amps = np.ones(len(global_freqs))\n",
    "    global_phases = np.random.uniform(0, 2*np.pi, len(global_freqs))\n",
    "    global_y_cont = sum(A * np.sin(2 * np.pi * f * global_t_cont + p) for A, f, p in zip(global_amps, global_freqs, global_phases))\n",
    "\n",
    "generate_signal(global_num_components)\n",
    "\n",
    "# Function to fit multiple sinusoids to sampled points\n",
    "def fit_sinusoids(t_samples, y_samples, freqs):\n",
    "    def model(t, *params):\n",
    "        A = params[:len(freqs)]\n",
    "        P = params[len(freqs):]\n",
    "        return sum(A[i] * np.sin(2 * np.pi * freqs[i] * t + P[i]) for i in range(len(freqs)))\n",
    "    \n",
    "    p0 = [1] * len(freqs) + [0] * len(freqs)  # Initial guess: Amplitudes = 1, Phases = 0\n",
    "    params, _ = curve_fit(model, t_samples, y_samples, p0=p0)\n",
    "    return lambda t: model(t, *params)\n",
    "\n",
    "# Function to plot Nyquist sampling with complex signals\n",
    "def nyquist_plot():\n",
    "    T = 1  # Total duration (1 second)\n",
    "    num_samples = int(T * global_f_s)  # Adjust number of samples dynamically\n",
    "    t_samples = np.linspace(0, T, num_samples, endpoint=False)\n",
    "    y_samples = sum(A * np.sin(2 * np.pi * f * t_samples + p) for A, f, p in zip(global_amps, global_freqs, global_phases))\n",
    "\n",
    "    # Reconstructed signal\n",
    "    fitted_sinusoids = fit_sinusoids(t_samples, y_samples, global_freqs)\n",
    "    y_reconstructed = fitted_sinusoids(global_t_cont)\n",
    "\n",
    "    # Nyquist Criterion Check\n",
    "    max_freq = max(global_freqs)\n",
    "    nyquist_condition = global_f_s >= 2 * max_freq\n",
    "    condition_text = \"\\n\\n✓ Nyquist Theorem Fulfilled\" if nyquist_condition else \"\\n\\n✗ Undersampling (Aliasing Occurs!)\"\n",
    "\n",
    "    # Plot time domain\n",
    "    plt.figure(figsize=(10, 6))\n",
    "    plt.subplot(2, 1, 1)\n",
    "    plt.title(f'Nyquist-Shannon Sampling Theorem {condition_text}', fontsize=12, color='green' if nyquist_condition else 'red')\n",
    "    plt.plot(global_t_cont, global_y_cont, 'b', label='Original Signal')\n",
    "    plt.scatter(t_samples, y_samples, color='red', zorder=3, label='Sampled Points')\n",
    "    plt.plot(global_t_cont, y_reconstructed, 'g--', label='Reconstructed Signal')\n",
    "    plt.xlabel('Time (s)')\n",
    "    plt.ylabel('Amplitude')\n",
    "    plt.legend()\n",
    "    plt.grid(True)\n",
    "\n",
    "    # Fourier Transform Analysis\n",
    "    N = 4096  # Increase FFT size for better resolution\n",
    "    freqs_cont = fftfreq(N, d=(global_t_cont[1] - global_t_cont[0]))\n",
    "    spectrum_cont = np.abs(fft(global_y_cont, n=N))\n",
    "    spectrum_cont /= np.max(spectrum_cont)  # Normalize original spectrum\n",
    "    \n",
    "    N_samples = 4096  # Ensure FFT resolution matches\n",
    "    freqs_samples = fftfreq(N_samples, d=(t_samples[1] - t_samples[0]))\n",
    "    spectrum_samples = np.abs(fft(y_samples, n=N_samples))\n",
    "    spectrum_samples /= np.max(spectrum_samples)  # Normalize sampled spectrum\n",
    "    \n",
    "    plt.subplot(2, 1, 2)\n",
    "    plt.plot(freqs_cont[:N//2], spectrum_cont[:N//2], 'b', label='Original Spectrum')\n",
    "    plt.plot(freqs_samples[:N_samples//2], spectrum_samples[:N_samples//2], 'r--', label='Sampled Spectrum')\n",
    "    plt.xlim(0, 40)  # Limit frequency axis to 40 Hz\n",
    "    plt.xlabel('Frequency (Hz)')\n",
    "    plt.ylabel('Normalized Magnitude')\n",
    "    plt.legend()\n",
    "    plt.grid(True)\n",
    "\n",
    "    # Annotate expected peaks\n",
    "    for f in global_freqs:\n",
    "        plt.axvline(f, color='gray', linestyle='dashed', alpha=0.6)\n",
    "    \n",
    "    plt.tight_layout()\n",
    "    plt.show()\n",
    "\n",
    "# Interactive controls\n",
    "num_components_slider = widgets.IntSlider(min=1, max=len(global_freq_options), step=1, value=global_num_components, description='Harmonics')\n",
    "f_s_slider = widgets.FloatSlider(min=5, max=50, step=1, value=global_f_s, description='f_s (Hz)')\n",
    "\n",
    "def update_plot(num_components, f_s):\n",
    "    global global_f_s\n",
    "    if num_components != len(global_freqs):\n",
    "        generate_signal(num_components)\n",
    "    global_f_s = f_s\n",
    "    nyquist_plot()\n",
    "\n",
    "interactive_plot = widgets.interactive_output(update_plot, {'num_components': num_components_slider, 'f_s': f_s_slider})\n",
    "display(num_components_slider, f_s_slider, interactive_plot)\n"
   ]
  },
  {
   "cell_type": "code",
   "execution_count": 38,
   "metadata": {},
   "outputs": [
    {
     "data": {
      "application/vnd.jupyter.widget-view+json": {
       "model_id": "2f08da8fe7a14fde922a896398c5955f",
       "version_major": 2,
       "version_minor": 0
      },
      "text/plain": [
       "FloatSlider(value=14.0, description='f_s (Hz)', max=50.0, min=1.0, step=1.0)"
      ]
     },
     "metadata": {},
     "output_type": "display_data"
    },
    {
     "data": {
      "application/vnd.jupyter.widget-view+json": {
       "model_id": "5f0e9ac4a0d24f5085d9a0c19faf39b1",
       "version_major": 2,
       "version_minor": 0
      },
      "text/plain": [
       "Output()"
      ]
     },
     "metadata": {},
     "output_type": "display_data"
    },
    {
     "data": {
      "image/png": "[encoded data removed]",
      "text/plain": [
       "<Figure size 640x480 with 1 Axes>"
      ]
     },
     "metadata": {},
     "output_type": "display_data"
    }
   ],
   "source": [
    "import numpy as np\n",
    "import matplotlib.pyplot as plt\n",
    "import matplotlib.animation as animation\n",
    "from matplotlib.widgets import Slider\n",
    "from IPython.display import display, HTML\n",
    "\n",
    "\n",
    "# Global parameters\n",
    "num_spokes = 12  # Number of spokes on the wheel\n",
    "wheel_radius = 1  # Radius of the wheel\n",
    "rotation_speed = 90/ 1000  # Degrees per ms\n",
    "global_f_s = 14  # Default sampling frequency (FPS)\n",
    "\n",
    "# Create figure and axis\n",
    "fig, ax = plt.subplots()\n",
    "\n",
    "def draw_wheel(angle):\n",
    "    \"\"\"Function to draw the rotating wheel at a given angle.\"\"\"\n",
    "    ax.clear()\n",
    "    ax.set_xlim(-wheel_radius - 0.2, wheel_radius + 0.2)\n",
    "    ax.set_ylim(-wheel_radius - 0.2, wheel_radius + 0.2)\n",
    "    ax.set_aspect('equal')\n",
    "    ax.axis('off')\n",
    "\n",
    "    # Draw the wheel circle\n",
    "    circle = plt.Circle((0, 0), wheel_radius, color='black', fill=False, linewidth=2)\n",
    "    ax.add_patch(circle)\n",
    "\n",
    "    # Draw spokes\n",
    "    for i in range(num_spokes):\n",
    "        theta = np.radians(i * (360 / num_spokes) + angle)\n",
    "        x = wheel_radius * np.cos(theta)\n",
    "        y = wheel_radius * np.sin(theta)\n",
    "        ax.plot([0, x], [0, y], 'k', linewidth=2)\n",
    "\n",
    "\n",
    "# Animation function\n",
    "def animate(frame):\n",
    "    \"\"\"Function to animate the wheel based on the current FPS.\"\"\"\n",
    "    # global global_f_s\n",
    "    # fps = global_f_s  # Get current slider value\n",
    "    # angle = -(frame * rotation_speed * (24 / fps)) % 360  # Adjust for aliasing effect\n",
    "    angle =  - frame * rotation_speed *  int(1000/global_f_s)\n",
    "    draw_wheel(angle)\n",
    "\n",
    "def update_plot( f_s):\n",
    "    global global_f_s\n",
    "    global_f_s = f_s\n",
    "    ani = animation.FuncAnimation(fig=fig, func=animate, frames=int(10*global_f_s), interval=int(1000/global_f_s))\n",
    "    display( HTML(ani.to_jshtml()))\n",
    "\n",
    "# Interactive slider for FPS (Sampling Frequency)\n",
    "f_s_slider = widgets.FloatSlider(min=1, max=50, step=1, value=global_f_s, description='f_s (Hz)')\n",
    "\n",
    "interactive_plot = widgets.interactive_output(update_plot, {'f_s': f_s_slider})\n",
    "display(f_s_slider, interactive_plot)\n"
   ]
  }
 ],
 "metadata": {
  "kernelspec": {
   "display_name": ".venv",
   "language": "python",
   "name": "python3"
  },
  "language_info": {
   "codemirror_mode": {
    "name": "ipython",
    "version": 3
   },
   "file_extension": ".py",
   "mimetype": "text/x-python",
   "name": "python",
   "nbconvert_exporter": "python",
   "pygments_lexer": "ipython3",
   "version": "3.10.11"
  }
 },
 "nbformat": 4,
 "nbformat_minor": 2
}
