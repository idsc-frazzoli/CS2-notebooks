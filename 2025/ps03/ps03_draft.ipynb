{
 "cells": [
  {
   "cell_type": "markdown",
   "id": "37e3fa35-3764-44d9-b14e-1b04c2dafe00",
   "metadata": {},
   "source": [
    "# Notebook lecture 3: State Feedback for CS2\n",
    "&copy; 2025 ETH Zurich, Joël Gmür, Joël Lauper, Niclas Scheuer, Dejan Milojevic; Institute for Dynamic Systems and Control; Prof. Emilio Frazzoli\n",
    "\n",
    "Authors:\n",
    "- Joël Gmür; jgmuer@ethz.ch\n",
    "- Joël Lauper; jlauper@ethz.ch\n",
    "\n",
    "To start, run the following cell to install the necessary modules and import the libraries."
   ]
  },
  {
   "cell_type": "code",
   "execution_count": null,
   "id": "b8a9fca5-f09c-4edd-a6f1-e03675bfc14f",
   "metadata": {},
   "outputs": [],
   "source": [
    "# Import the required python libraries\n",
    "\n",
    "import numpy as np\n",
    "import matplotlib.pyplot as plt\n",
    "import scipy.linalg as linalg\n",
    "import scipy.signal as signal\n",
    "import ipywidgets as widgets\n",
    "from ipywidgets import interactive\n"
   ]
  },
  {
   "cell_type": "markdown",
   "id": "1e6d96aa",
   "metadata": {},
   "source": [
    "## Problem Setup\n",
    "\n",
    "In this Notebook we will use a simple mass-spring-damper system. The state space description of the linear system reads (if we care about position as an output and $\\frac{k}{m} = \\frac{c}{m} = 1$ and $u=\\frac{F(t)}{m}$):\n",
    "\n",
    "$$\n",
    "\\begin{bmatrix}\\dot{x}_1 \\\\ \\dot{x}_2 \\end{bmatrix} =\\begin{bmatrix}\\dot{x} \\\\ \\ddot{x} \\end{bmatrix} = \\begin{bmatrix}0 & 1 \\\\ -1 & -1 \\end{bmatrix} \\begin{bmatrix} x \\\\ \\dot{x} \\end{bmatrix} + \\begin{bmatrix}0 \\\\ 1 \\end{bmatrix} u,\n",
    "$$\n",
    "\n",
    "$$y = \\begin{bmatrix} 1 & 0 \\end{bmatrix} \\begin{bmatrix} x \\\\ \\dot{x} \\end{bmatrix}. $$"
   ]
  },
  {
   "cell_type": "code",
   "execution_count": null,
   "id": "4695646b-ee9b-44f8-a929-dac3fdfae71d",
   "metadata": {},
   "outputs": [],
   "source": [
    "# Define the state-space system (mass-spring-damper)\n",
    "A = np.array([[0, 1],\n",
    "              [-1, -1]])  # System dynamics \n",
    "B = np.array([[0], [1]])  # Input matrix\n",
    "C = np.array([[1, 0]])    # Output matrix (we care about position)\n",
    "D = np.array([[0]])   "
   ]
  },
  {
   "cell_type": "markdown",
   "id": "18d6dfb0-0287-4841-81c7-88a12e6b2447",
   "metadata": {},
   "source": [
    "## Exercise 1: Pole placement\n",
    "\n",
    "Using state-feedback, it is now possible to place the poles wherever see fit. Using Ackermann's formula we can directly find a state-feedback controller that places the closed-loop poles at the desired position. For a 2x2 $A$ matrix, Ackermann's formula reads as:\n",
    "\n",
    "$$ K = [0  \\ 1] \\cdot \\mathcal{R}^{-1} \\cdot \\phi_d(A), $$\n",
    "\n",
    "where $\\mathcal{R}$ is the reachability matrix and $\\phi_d$ is the desired characteristic polynomial. In the following code snippet we will define the poles p1 and p2."
   ]
  },
  {
   "cell_type": "code",
   "execution_count": null,
   "id": "2c5a8b4a",
   "metadata": {},
   "outputs": [],
   "source": [
    "I = np.identity(2)\n",
    "\n",
    "# Function to update the plot based on pole positions\n",
    "def update_step_response(p1, p2):\n",
    "    # Compute reachability matrix\n",
    "    R = np.hstack([B, A @ B])\n",
    "    \n",
    "    # Compute characteristic polynomial\n",
    "    phi_d = (A - I * p1) @ (A - I * p2)\n",
    "    \n",
    "    # Evaluate state-feedback matrix\n",
    "    K = np.array([[0, 1]]) @ np.linalg.inv(R) @ phi_d\n",
    "\n",
    "    # Find the closed-loop matrix\n",
    "    A_cl = A - B @ K    \n",
    "\n",
    "    if(np.linalg.matrix_rank(A_cl) != 2):\n",
    "        print(\"error: singular closed loop matrix!\")\n",
    "\n",
    "    # Compute reference scaling factor\n",
    "    Kr = np.linalg.inv(-C @ np.linalg.inv(A_cl) @ B)\n",
    "    \n",
    "    # Create state-space system\n",
    "    system = signal.StateSpace(A_cl, B @ Kr, C, D)\n",
    "    \n",
    "    # Simulating step response\n",
    "    t = np.linspace(0, 10, 1000)  # Time vector from 0 to 10 sec\n",
    "    r = np.ones_like(t)  # Step input\n",
    "    x0 = np.array([0, 0])  # Initial state\n",
    "\n",
    "    t_out, y, x = signal.lsim(system, U=r, T=t, X0=x0)\n",
    "    \n",
    "    # Compute input\n",
    "    u = -K @ x.T + Kr * r\n",
    "    \n",
    "    # Plotting\n",
    "    fig, axs = plt.subplots(1, 2, figsize=(12, 4))\n",
    "   \n",
    "    axs[0].plot(t, y, label=\"Step Response\", color=\"b\")\n",
    "    axs[0].set_xlabel(\"Time (s)\")\n",
    "    axs[0].set_ylabel(\"Response\")\n",
    "    axs[0].set_title(\"Closed-Loop Step Response\")\n",
    "    axs[0].grid()\n",
    "    axs[0].legend()\n",
    "    \n",
    "    axs[1].plot(t, u.T, label=\"Control Input\", color=\"r\")\n",
    "    axs[1].set_xlabel(\"Time (s)\")\n",
    "    axs[1].set_ylabel(\"Input u\")\n",
    "    axs[1].set_title(\"Control Input to System\")\n",
    "    axs[1].grid()\n",
    "    axs[1].legend()\n",
    "    axs[1].set_ylim([-10, 100])\n",
    "    \n",
    "    plt.show()\n",
    "\n",
    "interactive_plot = interactive(update_step_response, \n",
    "                               p1=widgets.FloatSlider(min=-10, max=1, step=1, value=-70, description=\"p1\"),\n",
    "                               p2=widgets.FloatSlider(min=-10, max=1, step=1, value=-10, description=\"p2\"))\n",
    "\n",
    "interactive_plot"
   ]
  },
  {
   "cell_type": "markdown",
   "id": "078f6d62",
   "metadata": {},
   "source": [
    "Note that we can make the response faster by choosing poles that are further left in the complex plane. But this also means that we need a more extreme control input! We could experiment with setting the poles and find a good trade-off, but a better way is using a mathematical method that automatically sets the optimal poles accorind to criteria we set. This concept will be explored in Exercise 2."
   ]
  },
  {
   "cell_type": "markdown",
   "id": "f981d0d4-3e6e-4379-8085-1407e209d6f6",
   "metadata": {},
   "source": [
    "## Exercise 2: LQR\n",
    "\n",
    "When doing state feedback control, there is some sort of tradeoff between control performance and expended input energy. One way to design a controller that takes this into account when choosing control action is to quantify the tradeoff in a cost function. The resulting control problem is solved by the $\\textbf{Linear Quadratic Regulator (LQR)}.$ We define a cost function in order to solve this problem:\n",
    "$$J = \\int_0^{\\infty}u^TRu + x^TQx\\;dt .$$  \n",
    "Here $u$ is the input of the system, $x$ is the state of the system and $R, Q$ are the weight matrices. Our goal is to find a controller that minimizes the cost function $J$. Such a controller is called optimal. We choose the entries of the weighting matrices according to what we want to \"punish\" more, bad performance or high energy expenditure.  \n"
   ]
  },
  {
   "cell_type": "markdown",
   "id": "a34a67e0-6cf1-4fdb-9eef-594a74818f0d",
   "metadata": {},
   "source": [
    "### 2.2. LQR controller gain\n",
    "Now we write a function to compute the LQR controller gain by solving the continuous-time algebraic Riccati equation: \n",
    "\n",
    "The continuous-time algebraic Riccati Equation is given by:\n",
    "\n",
    "$$\n",
    "A^T P + P A - P B R^{-1} B^T P + Q = 0\n",
    "$$\n",
    "\n",
    "The LQR controller gain is computed using: \n",
    "\n",
    "$$\n",
    "K = R^{-1} * B^T * P\n",
    "$$"
   ]
  },
  {
   "cell_type": "code",
   "execution_count": null,
   "id": "1fe389ec-67ff-40e3-afb3-df9f983fe4e6",
   "metadata": {},
   "outputs": [],
   "source": [
    "# Function to compute the LQR controller gain\n",
    "def compute_lqr(A, B, Q, R):\n",
    "    # Solve the continuous-time algebraic Riccati equation (CARE)\n",
    "    P = linalg.solve_continuous_are(A, B, Q, R)\n",
    "    # Compute the LQR controller gain (K = inv(R) * B' * P)\n",
    "    K = np.linalg.inv(R) @ B.T @ P\n",
    "    return K"
   ]
  },
  {
   "cell_type": "markdown",
   "id": "de6748ea-c073-4e87-bf72-050e0217075a",
   "metadata": {},
   "source": [
    "### 2.3. System step response for different values of Q and R\n",
    "In a third step, we simulate the step response of our system using different values of $Q$ and $R$.\n",
    "\n",
    "Remember: $Q$ punishes the state error while $R$ punishes a high input."
   ]
  },
  {
   "cell_type": "code",
   "execution_count": null,
   "id": "68df1a8a-9c48-42d7-ad6c-c1c4edbbb58d",
   "metadata": {},
   "outputs": [],
   "source": [
    "# Function to simulate the closed-loop system\n",
    "def simulate_system(A, B, C, K, time_end=10, initial_state=[1, 0]):\n",
    "    # Closed-loop system dynamics (A_cl = A - B*K)\n",
    "    A_cl = A - B @ K\n",
    "    \n",
    "    # Time vector\n",
    "    t = np.linspace(0, time_end, 500)\n",
    "    \n",
    "    # Simulate the system's response to the initial state\n",
    "    x = np.zeros((len(t), len(initial_state)))\n",
    "    x[0] = initial_state\n",
    "    \n",
    "    for i in range(1, len(t)):\n",
    "        # State update: x_dot = A_cl * x\n",
    "        x_dot = A_cl @ x[i-1]\n",
    "        x[i] = x[i-1] + x_dot * (t[i] - t[i-1])  # Simple Euler integration\n",
    "    \n",
    "    # Plot the system's state over time\n",
    "    plt.plot(t, x[:, 0], label='Position (x1)')\n",
    "    plt.plot(t, x[:, 1], label='Velocity (x2)')\n",
    "    plt.xlabel('Time [s]')\n",
    "    plt.ylabel('State')\n",
    "    plt.title('Closed-Loop System Response with LQR Control')\n",
    "    plt.legend()\n",
    "    plt.grid(True)\n",
    "\n",
    "# Define different values for Q and R weights to compare\n",
    "Q_values = [1, 10, 100]  # Different state error weights (Q)\n",
    "R_values = [0.1, 1, 10]  # Different input weights (R)\n",
    "\n",
    "# Set up the plot\n",
    "plt.figure(figsize=(12, 8))\n",
    "\n",
    "# Loop over combinations of Q and R\n",
    "for Q_val in Q_values:\n",
    "    for R_val in R_values:\n",
    "        # Define Q and R\n",
    "        Q = np.diag([Q_val, Q_val])  # State error weight\n",
    "        R = np.array([[R_val]])      # Input weight\n",
    "        \n",
    "        # Compute the LQR gain K\n",
    "        K = compute_lqr(A, B, Q, R)\n",
    "        \n",
    "        # Simulate and plot the closed-loop system\n",
    "        plt.subplot(len(Q_values), len(R_values), len(R_values)*(Q_values.index(Q_val)) + R_values.index(R_val) + 1)\n",
    "        simulate_system(A, B, C, K, time_end=10)\n",
    "        plt.title(f\"Q={Q_val}, R={R_val}\")\n",
    "\n",
    "# Adjust layout and display the plots\n",
    "plt.tight_layout()\n",
    "plt.show()"
   ]
  },
  {
   "cell_type": "code",
   "execution_count": null,
   "id": "085e12ac-fe75-434e-bd97-238a1dc9d4ef",
   "metadata": {},
   "outputs": [],
   "source": []
  }
 ],
 "metadata": {
  "kernelspec": {
   "display_name": "Python 3",
   "language": "python",
   "name": "python3"
  },
  "language_info": {
   "codemirror_mode": {
    "name": "ipython",
    "version": 3
   },
   "file_extension": ".py",
   "mimetype": "text/x-python",
   "name": "python",
   "nbconvert_exporter": "python",
   "pygments_lexer": "ipython3",
   "version": "3.12.6"
  }
 },
 "nbformat": 4,
 "nbformat_minor": 5
}
