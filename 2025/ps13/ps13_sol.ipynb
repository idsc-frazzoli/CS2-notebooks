{
 "cells": [
  {
   "cell_type": "markdown",
   "metadata": {
    "id": "6gD1j50OWtEv"
   },
   "source": [
    "# Notebook lecture 13: MPC reloaded\n",
    "&copy; 2025 ETH Zurich, Joël Gmür, Joël Lauper, Niclas Scheuer, Dejan Milojevic; Institute for Dynamic Systems and Control; Prof. Emilio Frazzoli\n",
    "\n",
    "Authors:\n",
    "- Joël Gmür; jgmuer@ethz.ch\n",
    "- Joël Lauper; jlauper@ethz.ch\n",
    "- more (please add your name)\n",
    "\n",
    "## Description\n",
    "This week's Jupyter notebook will include the continuous and discrete LQR and the MPC tracking problem including costs and constraints.\n",
    "\n",
    "To start, run the following cell to install the necessary modules and import the libraries."
   ]
  },
  {
   "cell_type": "code",
   "execution_count": null,
   "metadata": {
    "colab": {
     "base_uri": "https://localhost:8080/"
    },
    "executionInfo": {
     "elapsed": 13638,
     "status": "ok",
     "timestamp": 1744031146967,
     "user": {
      "displayName": "Ivan Robuschi",
      "userId": "13362924775245943513"
     },
     "user_tz": -120
    },
    "id": "8UUkNjHpWtE6",
    "outputId": "c5f2e39e-4120-41f7-a2c1-299173b575ee"
   },
   "outputs": [],
   "source": [
    "!pip install numpy scipy matplotlib ipywidgets control"
   ]
  },
  {
   "cell_type": "code",
   "execution_count": null,
   "metadata": {
    "id": "DwrNhgdTWtFE"
   },
   "outputs": [],
   "source": [
    "import numpy as np\n",
    "import matplotlib.pyplot as plt\n",
    "import matplotlib.patches as patches\n",
    "import ipywidgets as widgets\n",
    "import control as ctrl\n",
    "from IPython.display import display, clear_output\n",
    "\n",
    "np.set_printoptions(suppress=True, precision=3)"
   ]
  },
  {
   "cell_type": "markdown",
   "metadata": {
    "id": "qzAU8uoRWtFH"
   },
   "source": [
    "# Exercise 1: LQR\n",
    "### Code the linearized matrices\n",
    "Consider the continuous-time linearized model of the a unmanned Areal Vehicle (UAV) derived in the exercise set:\n",
    "\n",
    "$$\n",
    "\\dot x = A\\,x + B\\,u,\n",
    "$$\n",
    "\n",
    "$$\n",
    "A = \n",
    "        \\begin{bmatrix}\n",
    "            0 & 0 & 0 & -V\\sin(\\xi_{ref}) & 0 \\\\\n",
    "            0 & 0 & 0 & V \\cos(\\xi_{ref}) & 0 \\\\\n",
    "            0 & 0 & 0 & 0 & 1 \\\\\n",
    "            0 & 0 & \\frac{g}{V} & 0 & 0 \\\\\n",
    "            0 & 0 & -a_0 & 0 & -a_1\n",
    "        \\end{bmatrix}, \\quad B = \n",
    "        \\begin{bmatrix}\n",
    "            0 \\\\ 0 \\\\ 0 \\\\ 0 \\\\ b_0\n",
    "        \\end{bmatrix}.\n",
    "$$\n",
    "\n",
    "Assume that $$"
   ]
  },
  {
   "cell_type": "code",
   "execution_count": null,
   "metadata": {
    "id": "uLfjFmB9WtFJ"
   },
   "outputs": [],
   "source": [
    "#Code in the linearized matrices\n",
    "V = 0 #CHANGE\n",
    "xi = 0 #CHANGE\n",
    "g = 9.81 #gravity\n",
    "a_0 = 0 #CHANGE\n",
    "a_1 = 0 #CHANGE\n",
    "b_0 = 0 #CHANGE\n",
    "\n",
    "\n",
    "A = np.array([[0,0,0,-V*np.sin(xi),0],\n",
    "              [0,0,0,V*np.cos(xi),0],\n",
    "              [0,0,0,0,1],\n",
    "              [0,0,g/V,0,0],\n",
    "              [0,0,-a_0,0,-a_1]])\n",
    "\n",
    "B = np.array([[0],\n",
    "              [0],\n",
    "              [0],\n",
    "              [0],\n",
    "              [b_0]])"
   ]
  },
  {
   "cell_type": "markdown",
   "metadata": {},
   "source": [
    "### Code in the Q, R matrices and the CLQR solution\n",
    "Use Ackermann's Formula"
   ]
  },
  {
   "cell_type": "code",
   "execution_count": null,
   "metadata": {},
   "outputs": [],
   "source": [
    "Q = np.diag([10, 1, 10, 1, 100, 10]) #EXAMPLE\n",
    "R = np.eye(2) #EXAMPLE\n",
    "\n",
    "from scipy.linalg import solve_continuous_are\n",
    "\n",
    "def lqr(A, B, Q, R):\n",
    "    P = solve_continuous_are(A, B, Q, R)\n",
    "    K = np.linalg.inv(R) @ B.T @ P\n",
    "    return K\n",
    "\n",
    "K_ct = lqr(A, B, Q, R)"
   ]
  },
  {
   "cell_type": "markdown",
   "metadata": {},
   "source": [
    "### Code in the DLQR solution\n",
    "Choose a dicretization method and code it as a function"
   ]
  },
  {
   "cell_type": "code",
   "execution_count": null,
   "metadata": {},
   "outputs": [],
   "source": [
    "def discretize_euler_forward(A, B, C, T):\n",
    "    A_d = np.eye(A.shape[0]) + T * A\n",
    "    B_d = T * B\n",
    "    C_d = C\n",
    "    return A_d, B_d, C_d\n",
    "\n",
    "def discretize_euler_backward(A, B, C, T):\n",
    "    A_d = np.linalg.inv(np.eye(A.shape[0]) - T * A)\n",
    "    B_d = T * A_d @ B\n",
    "    C_d = C\n",
    "    return A_d, B_d, C_d\n",
    "\n",
    "def discretize_trapezoidal(A, B, C, h):\n",
    "    I = np.eye(A.shape[0])\n",
    "    A_d = np.linalg.inv(I - 0.5 * h * A) @ (I + 0.5 * h * A)\n",
    "    B_d = np.linalg.inv(I - 0.5 * h * A) @ (h * B)\n",
    "    C_d = C.copy() if C is not None else None\n",
    "    return A_d, B_d, C_d\n",
    "\n",
    "def discretize_exact(A, B, C, h):\n",
    "    n = A.shape[0]\n",
    "    m = B.shape[1]\n",
    "    M = np.zeros((n + m, n + m))\n",
    "    M[:n, :n] = A\n",
    "    M[:n, n:] = B\n",
    "    expM = expm(h * M)\n",
    "    Ad = expM[:n, :n]\n",
    "    Bd = expM[:n, n:]\n",
    "    Cd = C.copy() if C is not None else None\n",
    "    return Ad, Bd, Cd"
   ]
  },
  {
   "cell_type": "markdown",
   "metadata": {},
   "source": [
    "Define the DLQR controller"
   ]
  },
  {
   "cell_type": "code",
   "execution_count": null,
   "metadata": {},
   "outputs": [],
   "source": [
    "from scipy.linalg import solve_discrete_are\n",
    "\n",
    "def dlqr(A_d, B_d, Q, R):\n",
    "    P = solve_discrete_are(A_d, B_d, Q, R)\n",
    "    K = np.linalg.inv(B_d.T @ P @ B_d + R) @ (B_d.T @ P @ A_d)\n",
    "    return K"
   ]
  },
  {
   "cell_type": "markdown",
   "metadata": {},
   "source": [
    "### Code the MPC tracking problem, cost and constraints"
   ]
  }
 ],
 "metadata": {
  "colab": {
   "provenance": []
  },
  "kernelspec": {
   "display_name": "base",
   "language": "python",
   "name": "python3"
  },
  "language_info": {
   "codemirror_mode": {
    "name": "ipython",
    "version": 3
   },
   "file_extension": ".py",
   "mimetype": "text/x-python",
   "name": "python",
   "nbconvert_exporter": "python",
   "pygments_lexer": "ipython3",
   "version": "3.12.7"
  },
  "widgets": {
   "application/vnd.jupyter.widget-state+json": {
    "026ad5e751bb4512b5dde69bdce08ed6": {
     "model_module": "@jupyter-widgets/base",
     "model_module_version": "1.2.0",
     "model_name": "LayoutModel",
     "state": {
      "_model_module": "@jupyter-widgets/base",
      "_model_module_version": "1.2.0",
      "_model_name": "LayoutModel",
      "_view_count": null,
      "_view_module": "@jupyter-widgets/base",
      "_view_module_version": "1.2.0",
      "_view_name": "LayoutView",
      "align_content": null,
      "align_items": null,
      "align_self": null,
      "border": null,
      "bottom": null,
      "display": null,
      "flex": null,
      "flex_flow": null,
      "grid_area": null,
      "grid_auto_columns": null,
      "grid_auto_flow": null,
      "grid_auto_rows": null,
      "grid_column": null,
      "grid_gap": null,
      "grid_row": null,
      "grid_template_areas": null,
      "grid_template_columns": null,
      "grid_template_rows": null,
      "height": null,
      "justify_content": null,
      "justify_items": null,
      "left": null,
      "margin": null,
      "max_height": null,
      "max_width": null,
      "min_height": null,
      "min_width": null,
      "object_fit": null,
      "object_position": null,
      "order": null,
      "overflow": null,
      "overflow_x": null,
      "overflow_y": null,
      "padding": null,
      "right": null,
      "top": null,
      "visibility": null,
      "width": null
     }
    },
    "4288846a85564afcab433ad7678ea286": {
     "model_module": "@jupyter-widgets/controls",
     "model_module_version": "1.5.0",
     "model_name": "FloatSliderModel",
     "state": {
      "_dom_classes": [],
      "_model_module": "@jupyter-widgets/controls",
      "_model_module_version": "1.5.0",
      "_model_name": "FloatSliderModel",
      "_view_count": null,
      "_view_module": "@jupyter-widgets/controls",
      "_view_module_version": "1.5.0",
      "_view_name": "FloatSliderView",
      "continuous_update": true,
      "description": "Ki",
      "description_tooltip": null,
      "disabled": false,
      "layout": "IPY_MODEL_026ad5e751bb4512b5dde69bdce08ed6",
      "max": 5,
      "min": 0,
      "orientation": "horizontal",
      "readout": true,
      "readout_format": ".2f",
      "step": 0.1,
      "style": "IPY_MODEL_e31fa31cb93c43388dd501515a6e6956",
      "value": 0
     }
    },
    "469093170c644d0aaeda6fc074818072": {
     "model_module": "@jupyter-widgets/base",
     "model_module_version": "1.2.0",
     "model_name": "LayoutModel",
     "state": {
      "_model_module": "@jupyter-widgets/base",
      "_model_module_version": "1.2.0",
      "_model_name": "LayoutModel",
      "_view_count": null,
      "_view_module": "@jupyter-widgets/base",
      "_view_module_version": "1.2.0",
      "_view_name": "LayoutView",
      "align_content": null,
      "align_items": null,
      "align_self": null,
      "border": null,
      "bottom": null,
      "display": null,
      "flex": null,
      "flex_flow": null,
      "grid_area": null,
      "grid_auto_columns": null,
      "grid_auto_flow": null,
      "grid_auto_rows": null,
      "grid_column": null,
      "grid_gap": null,
      "grid_row": null,
      "grid_template_areas": null,
      "grid_template_columns": null,
      "grid_template_rows": null,
      "height": null,
      "justify_content": null,
      "justify_items": null,
      "left": null,
      "margin": null,
      "max_height": null,
      "max_width": null,
      "min_height": null,
      "min_width": null,
      "object_fit": null,
      "object_position": null,
      "order": null,
      "overflow": null,
      "overflow_x": null,
      "overflow_y": null,
      "padding": null,
      "right": null,
      "top": null,
      "visibility": null,
      "width": null
     }
    },
    "4e56fcae999e4052b686f52767780106": {
     "model_module": "@jupyter-widgets/base",
     "model_module_version": "1.2.0",
     "model_name": "LayoutModel",
     "state": {
      "_model_module": "@jupyter-widgets/base",
      "_model_module_version": "1.2.0",
      "_model_name": "LayoutModel",
      "_view_count": null,
      "_view_module": "@jupyter-widgets/base",
      "_view_module_version": "1.2.0",
      "_view_name": "LayoutView",
      "align_content": null,
      "align_items": null,
      "align_self": null,
      "border": null,
      "bottom": null,
      "display": null,
      "flex": null,
      "flex_flow": null,
      "grid_area": null,
      "grid_auto_columns": null,
      "grid_auto_flow": null,
      "grid_auto_rows": null,
      "grid_column": null,
      "grid_gap": null,
      "grid_row": null,
      "grid_template_areas": null,
      "grid_template_columns": null,
      "grid_template_rows": null,
      "height": null,
      "justify_content": null,
      "justify_items": null,
      "left": null,
      "margin": null,
      "max_height": null,
      "max_width": null,
      "min_height": null,
      "min_width": null,
      "object_fit": null,
      "object_position": null,
      "order": null,
      "overflow": null,
      "overflow_x": null,
      "overflow_y": null,
      "padding": null,
      "right": null,
      "top": null,
      "visibility": null,
      "width": null
     }
    },
    "65b28d2b0f9a47a1bee72e582ff25e3e": {
     "model_module": "@jupyter-widgets/output",
     "model_module_version": "1.0.0",
     "model_name": "OutputModel",
     "state": {
      "_dom_classes": [],
      "_model_module": "@jupyter-widgets/output",
      "_model_module_version": "1.0.0",
      "_model_name": "OutputModel",
      "_view_count": null,
      "_view_module": "@jupyter-widgets/output",
      "_view_module_version": "1.0.0",
      "_view_name": "OutputView",
      "layout": "IPY_MODEL_4e56fcae999e4052b686f52767780106",
      "msg_id": "",
      "outputs": [
       {
        "data": {
         "image/png": "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\n",
         "text/plain": "<Figure size 1000x1200 with 3 Axes>"
        },
        "metadata": {},
        "output_type": "display_data"
       }
      ]
     }
    },
    "9f89de0027f64c37810147003e598dc3": {
     "model_module": "@jupyter-widgets/controls",
     "model_module_version": "1.5.0",
     "model_name": "SliderStyleModel",
     "state": {
      "_model_module": "@jupyter-widgets/controls",
      "_model_module_version": "1.5.0",
      "_model_name": "SliderStyleModel",
      "_view_count": null,
      "_view_module": "@jupyter-widgets/base",
      "_view_module_version": "1.2.0",
      "_view_name": "StyleView",
      "description_width": "",
      "handle_color": null
     }
    },
    "dd4fac87a0cf4cb7ae298f4fbb0846b5": {
     "model_module": "@jupyter-widgets/base",
     "model_module_version": "1.2.0",
     "model_name": "LayoutModel",
     "state": {
      "_model_module": "@jupyter-widgets/base",
      "_model_module_version": "1.2.0",
      "_model_name": "LayoutModel",
      "_view_count": null,
      "_view_module": "@jupyter-widgets/base",
      "_view_module_version": "1.2.0",
      "_view_name": "LayoutView",
      "align_content": null,
      "align_items": null,
      "align_self": null,
      "border": null,
      "bottom": null,
      "display": null,
      "flex": null,
      "flex_flow": null,
      "grid_area": null,
      "grid_auto_columns": null,
      "grid_auto_flow": null,
      "grid_auto_rows": null,
      "grid_column": null,
      "grid_gap": null,
      "grid_row": null,
      "grid_template_areas": null,
      "grid_template_columns": null,
      "grid_template_rows": null,
      "height": null,
      "justify_content": null,
      "justify_items": null,
      "left": null,
      "margin": null,
      "max_height": null,
      "max_width": null,
      "min_height": null,
      "min_width": null,
      "object_fit": null,
      "object_position": null,
      "order": null,
      "overflow": null,
      "overflow_x": null,
      "overflow_y": null,
      "padding": null,
      "right": null,
      "top": null,
      "visibility": null,
      "width": null
     }
    },
    "e04ccf01bbd04612b875072ae1520db7": {
     "model_module": "@jupyter-widgets/controls",
     "model_module_version": "1.5.0",
     "model_name": "VBoxModel",
     "state": {
      "_dom_classes": [
       "widget-interact"
      ],
      "_model_module": "@jupyter-widgets/controls",
      "_model_module_version": "1.5.0",
      "_model_name": "VBoxModel",
      "_view_count": null,
      "_view_module": "@jupyter-widgets/controls",
      "_view_module_version": "1.5.0",
      "_view_name": "VBoxView",
      "box_style": "",
      "children": [
       "IPY_MODEL_efb68e431712491c9e701e623ab6d16e",
       "IPY_MODEL_4288846a85564afcab433ad7678ea286",
       "IPY_MODEL_fc327b7947134c56b744dce4337e4ae9",
       "IPY_MODEL_65b28d2b0f9a47a1bee72e582ff25e3e"
      ],
      "layout": "IPY_MODEL_ec7dd56c65b54ccc84a4b11b4257ccd0"
     }
    },
    "e31fa31cb93c43388dd501515a6e6956": {
     "model_module": "@jupyter-widgets/controls",
     "model_module_version": "1.5.0",
     "model_name": "SliderStyleModel",
     "state": {
      "_model_module": "@jupyter-widgets/controls",
      "_model_module_version": "1.5.0",
      "_model_name": "SliderStyleModel",
      "_view_count": null,
      "_view_module": "@jupyter-widgets/base",
      "_view_module_version": "1.2.0",
      "_view_name": "StyleView",
      "description_width": "",
      "handle_color": null
     }
    },
    "eb719d436ed443868b90ae9738dee82a": {
     "model_module": "@jupyter-widgets/controls",
     "model_module_version": "1.5.0",
     "model_name": "SliderStyleModel",
     "state": {
      "_model_module": "@jupyter-widgets/controls",
      "_model_module_version": "1.5.0",
      "_model_name": "SliderStyleModel",
      "_view_count": null,
      "_view_module": "@jupyter-widgets/base",
      "_view_module_version": "1.2.0",
      "_view_name": "StyleView",
      "description_width": "",
      "handle_color": null
     }
    },
    "ec7dd56c65b54ccc84a4b11b4257ccd0": {
     "model_module": "@jupyter-widgets/base",
     "model_module_version": "1.2.0",
     "model_name": "LayoutModel",
     "state": {
      "_model_module": "@jupyter-widgets/base",
      "_model_module_version": "1.2.0",
      "_model_name": "LayoutModel",
      "_view_count": null,
      "_view_module": "@jupyter-widgets/base",
      "_view_module_version": "1.2.0",
      "_view_name": "LayoutView",
      "align_content": null,
      "align_items": null,
      "align_self": null,
      "border": null,
      "bottom": null,
      "display": null,
      "flex": null,
      "flex_flow": null,
      "grid_area": null,
      "grid_auto_columns": null,
      "grid_auto_flow": null,
      "grid_auto_rows": null,
      "grid_column": null,
      "grid_gap": null,
      "grid_row": null,
      "grid_template_areas": null,
      "grid_template_columns": null,
      "grid_template_rows": null,
      "height": null,
      "justify_content": null,
      "justify_items": null,
      "left": null,
      "margin": null,
      "max_height": null,
      "max_width": null,
      "min_height": null,
      "min_width": null,
      "object_fit": null,
      "object_position": null,
      "order": null,
      "overflow": null,
      "overflow_x": null,
      "overflow_y": null,
      "padding": null,
      "right": null,
      "top": null,
      "visibility": null,
      "width": null
     }
    },
    "efb68e431712491c9e701e623ab6d16e": {
     "model_module": "@jupyter-widgets/controls",
     "model_module_version": "1.5.0",
     "model_name": "FloatSliderModel",
     "state": {
      "_dom_classes": [],
      "_model_module": "@jupyter-widgets/controls",
      "_model_module_version": "1.5.0",
      "_model_name": "FloatSliderModel",
      "_view_count": null,
      "_view_module": "@jupyter-widgets/controls",
      "_view_module_version": "1.5.0",
      "_view_name": "FloatSliderView",
      "continuous_update": true,
      "description": "Kp",
      "description_tooltip": null,
      "disabled": false,
      "layout": "IPY_MODEL_dd4fac87a0cf4cb7ae298f4fbb0846b5",
      "max": 5,
      "min": 0.1,
      "orientation": "horizontal",
      "readout": true,
      "readout_format": ".2f",
      "step": 0.1,
      "style": "IPY_MODEL_eb719d436ed443868b90ae9738dee82a",
      "value": 1
     }
    },
    "fc327b7947134c56b744dce4337e4ae9": {
     "model_module": "@jupyter-widgets/controls",
     "model_module_version": "1.5.0",
     "model_name": "FloatSliderModel",
     "state": {
      "_dom_classes": [],
      "_model_module": "@jupyter-widgets/controls",
      "_model_module_version": "1.5.0",
      "_model_name": "FloatSliderModel",
      "_view_count": null,
      "_view_module": "@jupyter-widgets/controls",
      "_view_module_version": "1.5.0",
      "_view_name": "FloatSliderView",
      "continuous_update": true,
      "description": "W",
      "description_tooltip": null,
      "disabled": false,
      "layout": "IPY_MODEL_469093170c644d0aaeda6fc074818072",
      "max": 3,
      "min": 0,
      "orientation": "horizontal",
      "readout": true,
      "readout_format": ".2f",
      "step": 0.1,
      "style": "IPY_MODEL_9f89de0027f64c37810147003e598dc3",
      "value": 0
     }
    }
   }
  }
 },
 "nbformat": 4,
 "nbformat_minor": 0
}
