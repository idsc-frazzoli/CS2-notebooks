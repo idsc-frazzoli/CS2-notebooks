{
  "cells": [
    {
      "cell_type": "markdown",
      "metadata": {
        "id": "05BpUpqvPh22"
      },
      "source": [
        "# CSII 2025 Exercise 04: State Feedback with Luenberger Observer\n",
        "\n",
        "© 2025 ETH Zurich, Aya Abrini, Livia Fischer, Niclas Scheuer, Dejan Milojevic; Institute for Dynamic Systems and Control; Prof. Emilio Frazzoli\n",
        "\n",
        "Authors:\n",
        "- Aya Abrini\n",
        "- Livia Fischer"
      ]
    },
    {
      "cell_type": "markdown",
      "metadata": {
        "id": "FFdxVjKQQ4gS"
      },
      "source": [
        "To start, run the following cell to install the necessary modules and import the libraries.\n"
      ]
    },
    {
      "cell_type": "code",
      "execution_count": 4,
      "metadata": {
        "colab": {
          "base_uri": "https://localhost:8080/"
        },
        "collapsed": true,
        "id": "6xRc7rELhCka",
        "outputId": "e3875fad-587b-47c6-a6bb-e5375ddd8c32"
      },
      "outputs": [
        {
          "name": "stdout",
          "output_type": "stream",
          "text": [
            "Requirement already satisfied: numpy in c:\\users\\joel\\appdata\\local\\packages\\pythonsoftwarefoundation.python.3.11_qbz5n2kfra8p0\\localcache\\local-packages\\python311\\site-packages (1.26.4)\n",
            "Requirement already satisfied: matplotlib in c:\\users\\joel\\appdata\\local\\packages\\pythonsoftwarefoundation.python.3.11_qbz5n2kfra8p0\\localcache\\local-packages\\python311\\site-packages (3.8.4)\n",
            "Requirement already satisfied: scipy in c:\\users\\joel\\appdata\\local\\packages\\pythonsoftwarefoundation.python.3.11_qbz5n2kfra8p0\\localcache\\local-packages\\python311\\site-packages (1.13.0)\n",
            "Requirement already satisfied: ipywidgets in c:\\users\\joel\\appdata\\local\\packages\\pythonsoftwarefoundation.python.3.11_qbz5n2kfra8p0\\localcache\\local-packages\\python311\\site-packages (8.1.5)\n",
            "Requirement already satisfied: control in c:\\users\\joel\\appdata\\local\\packages\\pythonsoftwarefoundation.python.3.11_qbz5n2kfra8p0\\localcache\\local-packages\\python311\\site-packages (0.10.0)\n",
            "Requirement already satisfied: contourpy>=1.0.1 in c:\\users\\joel\\appdata\\local\\packages\\pythonsoftwarefoundation.python.3.11_qbz5n2kfra8p0\\localcache\\local-packages\\python311\\site-packages (from matplotlib) (1.2.1)\n",
            "Requirement already satisfied: cycler>=0.10 in c:\\users\\joel\\appdata\\local\\packages\\pythonsoftwarefoundation.python.3.11_qbz5n2kfra8p0\\localcache\\local-packages\\python311\\site-packages (from matplotlib) (0.12.1)\n",
            "Requirement already satisfied: fonttools>=4.22.0 in c:\\users\\joel\\appdata\\local\\packages\\pythonsoftwarefoundation.python.3.11_qbz5n2kfra8p0\\localcache\\local-packages\\python311\\site-packages (from matplotlib) (4.51.0)\n",
            "Requirement already satisfied: kiwisolver>=1.3.1 in c:\\users\\joel\\appdata\\local\\packages\\pythonsoftwarefoundation.python.3.11_qbz5n2kfra8p0\\localcache\\local-packages\\python311\\site-packages (from matplotlib) (1.4.5)\n",
            "Requirement already satisfied: packaging>=20.0 in c:\\users\\joel\\appdata\\local\\packages\\pythonsoftwarefoundation.python.3.11_qbz5n2kfra8p0\\localcache\\local-packages\\python311\\site-packages (from matplotlib) (24.0)\n",
            "Requirement already satisfied: pillow>=8 in c:\\users\\joel\\appdata\\local\\packages\\pythonsoftwarefoundation.python.3.11_qbz5n2kfra8p0\\localcache\\local-packages\\python311\\site-packages (from matplotlib) (10.3.0)\n",
            "Requirement already satisfied: pyparsing>=2.3.1 in c:\\users\\joel\\appdata\\local\\packages\\pythonsoftwarefoundation.python.3.11_qbz5n2kfra8p0\\localcache\\local-packages\\python311\\site-packages (from matplotlib) (3.1.2)\n",
            "Requirement already satisfied: python-dateutil>=2.7 in c:\\users\\joel\\appdata\\local\\packages\\pythonsoftwarefoundation.python.3.11_qbz5n2kfra8p0\\localcache\\local-packages\\python311\\site-packages (from matplotlib) (2.9.0.post0)\n",
            "Requirement already satisfied: comm>=0.1.3 in c:\\users\\joel\\appdata\\local\\packages\\pythonsoftwarefoundation.python.3.11_qbz5n2kfra8p0\\localcache\\local-packages\\python311\\site-packages (from ipywidgets) (0.2.1)\n",
            "Requirement already satisfied: ipython>=6.1.0 in c:\\users\\joel\\appdata\\local\\packages\\pythonsoftwarefoundation.python.3.11_qbz5n2kfra8p0\\localcache\\local-packages\\python311\\site-packages (from ipywidgets) (8.22.2)\n",
            "Requirement already satisfied: traitlets>=4.3.1 in c:\\users\\joel\\appdata\\local\\packages\\pythonsoftwarefoundation.python.3.11_qbz5n2kfra8p0\\localcache\\local-packages\\python311\\site-packages (from ipywidgets) (5.14.1)\n",
            "Requirement already satisfied: widgetsnbextension~=4.0.12 in c:\\users\\joel\\appdata\\local\\packages\\pythonsoftwarefoundation.python.3.11_qbz5n2kfra8p0\\localcache\\local-packages\\python311\\site-packages (from ipywidgets) (4.0.13)\n",
            "Requirement already satisfied: jupyterlab-widgets~=3.0.12 in c:\\users\\joel\\appdata\\local\\packages\\pythonsoftwarefoundation.python.3.11_qbz5n2kfra8p0\\localcache\\local-packages\\python311\\site-packages (from ipywidgets) (3.0.13)\n",
            "Requirement already satisfied: decorator in c:\\users\\joel\\appdata\\local\\packages\\pythonsoftwarefoundation.python.3.11_qbz5n2kfra8p0\\localcache\\local-packages\\python311\\site-packages (from ipython>=6.1.0->ipywidgets) (5.1.1)\n",
            "Requirement already satisfied: jedi>=0.16 in c:\\users\\joel\\appdata\\local\\packages\\pythonsoftwarefoundation.python.3.11_qbz5n2kfra8p0\\localcache\\local-packages\\python311\\site-packages (from ipython>=6.1.0->ipywidgets) (0.19.1)\n",
            "Requirement already satisfied: matplotlib-inline in c:\\users\\joel\\appdata\\local\\packages\\pythonsoftwarefoundation.python.3.11_qbz5n2kfra8p0\\localcache\\local-packages\\python311\\site-packages (from ipython>=6.1.0->ipywidgets) (0.1.6)\n",
            "Requirement already satisfied: prompt-toolkit<3.1.0,>=3.0.41 in c:\\users\\joel\\appdata\\local\\packages\\pythonsoftwarefoundation.python.3.11_qbz5n2kfra8p0\\localcache\\local-packages\\python311\\site-packages (from ipython>=6.1.0->ipywidgets) (3.0.43)\n",
            "Requirement already satisfied: pygments>=2.4.0 in c:\\users\\joel\\appdata\\local\\packages\\pythonsoftwarefoundation.python.3.11_qbz5n2kfra8p0\\localcache\\local-packages\\python311\\site-packages (from ipython>=6.1.0->ipywidgets) (2.17.2)\n",
            "Requirement already satisfied: stack-data in c:\\users\\joel\\appdata\\local\\packages\\pythonsoftwarefoundation.python.3.11_qbz5n2kfra8p0\\localcache\\local-packages\\python311\\site-packages (from ipython>=6.1.0->ipywidgets) (0.6.3)\n",
            "Requirement already satisfied: colorama in c:\\users\\joel\\appdata\\local\\packages\\pythonsoftwarefoundation.python.3.11_qbz5n2kfra8p0\\localcache\\local-packages\\python311\\site-packages (from ipython>=6.1.0->ipywidgets) (0.4.6)\n",
            "Requirement already satisfied: six>=1.5 in c:\\users\\joel\\appdata\\local\\packages\\pythonsoftwarefoundation.python.3.11_qbz5n2kfra8p0\\localcache\\local-packages\\python311\\site-packages (from python-dateutil>=2.7->matplotlib) (1.16.0)\n",
            "Requirement already satisfied: parso<0.9.0,>=0.8.3 in c:\\users\\joel\\appdata\\local\\packages\\pythonsoftwarefoundation.python.3.11_qbz5n2kfra8p0\\localcache\\local-packages\\python311\\site-packages (from jedi>=0.16->ipython>=6.1.0->ipywidgets) (0.8.3)\n",
            "Requirement already satisfied: wcwidth in c:\\users\\joel\\appdata\\local\\packages\\pythonsoftwarefoundation.python.3.11_qbz5n2kfra8p0\\localcache\\local-packages\\python311\\site-packages (from prompt-toolkit<3.1.0,>=3.0.41->ipython>=6.1.0->ipywidgets) (0.2.13)\n",
            "Requirement already satisfied: executing>=1.2.0 in c:\\users\\joel\\appdata\\local\\packages\\pythonsoftwarefoundation.python.3.11_qbz5n2kfra8p0\\localcache\\local-packages\\python311\\site-packages (from stack-data->ipython>=6.1.0->ipywidgets) (2.0.1)\n",
            "Requirement already satisfied: asttokens>=2.1.0 in c:\\users\\joel\\appdata\\local\\packages\\pythonsoftwarefoundation.python.3.11_qbz5n2kfra8p0\\localcache\\local-packages\\python311\\site-packages (from stack-data->ipython>=6.1.0->ipywidgets) (2.4.1)\n",
            "Requirement already satisfied: pure-eval in c:\\users\\joel\\appdata\\local\\packages\\pythonsoftwarefoundation.python.3.11_qbz5n2kfra8p0\\localcache\\local-packages\\python311\\site-packages (from stack-data->ipython>=6.1.0->ipywidgets) (0.2.2)\n"
          ]
        },
        {
          "name": "stderr",
          "output_type": "stream",
          "text": [
            "\n",
            "[notice] A new release of pip is available: 24.2 -> 25.0.1\n",
            "[notice] To update, run: C:\\Users\\joel\\AppData\\Local\\Microsoft\\WindowsApps\\PythonSoftwareFoundation.Python.3.11_qbz5n2kfra8p0\\python.exe -m pip install --upgrade pip\n"
          ]
        }
      ],
      "source": [
        "!pip install numpy matplotlib scipy ipywidgets control"
      ]
    },
    {
      "cell_type": "code",
      "execution_count": 5,
      "metadata": {
        "id": "_mRO1jd2iOwP"
      },
      "outputs": [],
      "source": [
        "# Import necessary libraries\n",
        "import numpy as np  # For numerical computations\n",
        "import matplotlib.pyplot as plt\n",
        "# Set up matplotlib for inline plotting\n",
        "%matplotlib inline\n",
        "# This ensures plots are displayed directly in the notebook\n",
        "from scipy.linalg import solve_continuous_are  # For solving the Riccati equation (used in Kalman filter design)\n",
        "from scipy.linalg import solve_discrete_are\n",
        "from scipy.signal import place_poles\n",
        "from scipy.integrate import solve_ivp  # For solving differential equations\n",
        "from ipywidgets import interact, FloatSlider, widgets  # For interactive sliders\n",
        "import control as ct"
      ]
    },
    {
      "cell_type": "markdown",
      "metadata": {
        "id": "0ICV-VZ5o-Jn"
      },
      "source": [
        "# Exercise 1: Luenberger observer\n",
        "\n",
        "\n",
        "\n"
      ]
    },
    {
      "cell_type": "markdown",
      "metadata": {
        "id": "qGX6LrD7azMd"
      },
      "source": [
        "### System Description: Linear Time-Invariant (LTI) System\n",
        "\n",
        "This code simulates a **linear time-invariant (LTI) system** and plots its states over time. The system is given in the state-space form: \n",
        "\n",
        "$$\\begin{bmatrix}\\dot{x}_1 \\\\ \\dot{x}_2 \\end{bmatrix} = \\begin{bmatrix}-1.1 & 0.4 \\\\ 0.25 & 0 \\end{bmatrix} \\begin{bmatrix} x_1 \\\\ x_2 \\end{bmatrix} + \\begin{bmatrix}1 \\\\ 0 \\end{bmatrix} u,$$\n",
        "\n",
        "\n",
        "\n",
        "$$\n",
        "y = \\begin{bmatrix} -1 & 0.8 \\end{bmatrix} \\begin{bmatrix} x_1 \\\\ x_2 \\end{bmatrix}.\n",
        "$$\n",
        "This first plot shows the evolution of the states. This means it solves the ODE exactly to get to a solution for $x_1(t)$ and $x_2(t)$."
      ]
    },
    {
      "cell_type": "code",
      "execution_count": 8,
      "metadata": {
        "colab": {
          "base_uri": "https://localhost:8080/",
          "height": 564
        },
        "id": "yuVxBxqza5jg",
        "outputId": "3efc13e3-c59d-4c6b-fabd-7cc8184afa39"
      },
      "outputs": [
        {
          "data": {
            "image/png": "[encoded data removed]",
            "text/plain": [
              "<Figure size 1000x600 with 1 Axes>"
            ]
          },
          "metadata": {},
          "output_type": "display_data"
        }
      ],
      "source": [
        "# Define system matrices\n",
        "A = np.array([[-1.1, 0.4], [0.25, 0]])\n",
        "B = np.array([[1], [0]])\n",
        "C = np.array([[-1, 0.8]])\n",
        "\n",
        "# Initial state\n",
        "x0 = np.array([[0.1], [1]])\n",
        "\n",
        "# Time parameters\n",
        "dt = 0.01\n",
        "t_end = 20\n",
        "t = np.arange(0, t_end, dt)\n",
        "\n",
        "# Input signal (step input)\n",
        "u = np.ones_like(t)\n",
        "u[t > 10] = -1  # Change input at t = 10\n",
        "\n",
        "# Simulate the system\n",
        "x = np.zeros((2, len(t)))\n",
        "x[:, 0] = x0.flatten()\n",
        "\n",
        "for i in range(1, len(t)):\n",
        "    x[:, i] = x[:, i-1] + dt * (A @ x[:, i-1] + (B * u[i-1]).flatten())\n",
        "\n",
        "# Plot the system states\n",
        "plt.figure(figsize=(10, 6))\n",
        "plt.plot(t, x[0, :], label='State $x_1$')\n",
        "plt.plot(t, x[1, :], label='State $x_2$')\n",
        "plt.xlabel('Time (s)')\n",
        "plt.ylabel('State')\n",
        "plt.title('System States')\n",
        "plt.legend()\n",
        "plt.grid()\n",
        "plt.show()"
      ]
    },
    {
      "cell_type": "markdown",
      "metadata": {
        "id": "Rz-JlnhtdufC"
      },
      "source": [
        "This code computes the **observer gain \\( L \\)** using pole placement. The observer is designed to estimate the system's state by placing the observer's poles at specific locations in the complex plane. The desired poles are chosen to ensure fast and stable convergence of the observer's estimate to the true state. To start we set the desired poles at $-1+j, -1 -j$."
      ]
    },
    {
      "cell_type": "code",
      "execution_count": 10,
      "metadata": {
        "colab": {
          "base_uri": "https://localhost:8080/"
        },
        "id": "EFR-lsWYb4qx",
        "outputId": "150faf46-cb3e-44e9-affa-935c8a17bb09"
      },
      "outputs": [
        {
          "name": "stdout",
          "output_type": "stream",
          "text": [
            "Observer gain L:\n",
            "[[1.95  ]\n",
            " [3.5625]]\n"
          ]
        }
      ],
      "source": [
        "# Desired observer poles\n",
        "desired_poles = np.array([-1 + 1j, -1 - 1j])\n",
        "\n",
        "# Find observer gain using pole placement\n",
        "L = place_poles(A.T, C.T, desired_poles).gain_matrix.T\n",
        "\n",
        "print(\"Observer gain L:\")\n",
        "print(L)"
      ]
    },
    {
      "cell_type": "markdown",
      "metadata": {
        "id": "npXeeOQVeGO0"
      },
      "source": [
        "### Observer Simulation\n",
        "\n",
        "This code simulates the **Luenberger observer**, which estimates the system's state using the system model and measurements. The observer starts with an initial estimate of $\\hat{x}_0 = 0$ and updates its estimate over time using the innovation term $y - \\hat{y} $, where:\n",
        "- $y$: Real measurement from the system.\n",
        "- $\\hat{y}$: Estimated measurement from the observer.\n",
        "\n",
        "The observer's estimate is compared to the true state, and both are plotted over time.\n",
        "From the plot you can see that the estimation converges over time to the true state. The inital error arises due to the true initial condition being unknown. over the time the system will converge if it is stable."
      ]
    },
    {
      "cell_type": "code",
      "execution_count": 11,
      "metadata": {
        "colab": {
          "base_uri": "https://localhost:8080/",
          "height": 564
        },
        "id": "B2w98EDNcoEQ",
        "outputId": "cdd696bd-f5f9-4963-a70e-d506acf1a39d"
      },
      "outputs": [
        {
          "data": {
            "image/png": "[encoded data removed]",
            "text/plain": [
              "<Figure size 1000x600 with 1 Axes>"
            ]
          },
          "metadata": {},
          "output_type": "display_data"
        }
      ],
      "source": [
        "# Initialize states \n",
        "x_hat0 = np.array([[0], [0]]) # Initial estimate assumed to be 0\n",
        "x_hat = np.zeros((2, len(t)))\n",
        "x_hat[:, 0] = x_hat0.flatten()\n",
        "\n",
        "# Simulate the observer\n",
        "for i in range(1, len(t)):\n",
        "    y = C @ x[:, i-1]  # Real measurement\n",
        "    y_hat = C @ x_hat[:, i-1]  # Estimated measurement\n",
        "    x_hat[:, i] = x_hat[:, i-1] + dt * (A @ x_hat[:, i-1] + (B * u[i-1]).flatten() + L @ (y - y_hat)) # Update the observer's state estimate\n",
        "\n",
        "# Plot the real and estimated states\n",
        "plt.figure(figsize=(10, 6))\n",
        "plt.plot(t, x[0, :], label='Real x1')\n",
        "plt.plot(t, x_hat[0, :], '--', label='Estimated x1')\n",
        "plt.plot(t, x[1, :], label='Real x2')\n",
        "plt.plot(t, x_hat[1, :], '--', label='Estimated x2')\n",
        "plt.xlabel('Time (s)')\n",
        "plt.ylabel('State')\n",
        "plt.title('Real vs Estimated States')\n",
        "plt.legend()\n",
        "plt.grid()\n",
        "plt.show()"
      ]
    },
    {
      "cell_type": "markdown",
      "metadata": {
        "id": "3lEef5tigihe"
      },
      "source": [
        "The following code snippet provides an interactive tool to explore the effect of observer pole placement on a Luenberger observer. By adjusting the real and imaginary parts of the desired poles using sliders, you can see how the observer's performance changes."
      ]
    },
    {
      "cell_type": "code",
      "execution_count": 15,
      "metadata": {
        "colab": {
          "base_uri": "https://localhost:8080/",
          "height": 628,
          "referenced_widgets": [
            "e2e566c792974ce5b2508a892ff5a1df",
            "1a98e326cdfa4e87ad680a7f2945a0b2",
            "ac63b74bdfcb4db993758792516e0618",
            "2bc27cccb8b943f5ac08ed3d43f7f6ec",
            "a5c31c613c0a406c92a66714bcd72de0",
            "6949eea0ea6e4b8ea642fd27d48110a7",
            "330c54bdecf84d8aa00333c8fe8c37a4",
            "27472d9a216a4544aea25d31916b0b3c",
            "e1b0e803afe04f8ab072b89f6810826f",
            "05c30032685449cea130419462832980"
          ]
        },
        "id": "zGOhgi6IdSs5",
        "outputId": "f5af3572-5d4e-4a49-88b7-245030f7e31c"
      },
      "outputs": [
        {
          "data": {
            "application/vnd.jupyter.widget-view+json": {
              "model_id": "537fd265cc9449c78ef17ba638af1503",
              "version_major": 2,
              "version_minor": 0
            },
            "text/plain": [
              "interactive(children=(FloatSlider(value=-1.0, description='Real Part:', max=3.0, min=-5.0, step=0.5), FloatSli…"
            ]
          },
          "metadata": {},
          "output_type": "display_data"
        }
      ],
      "source": [
        "# Interactive function to change observer poles\n",
        "def simulate_observer(real_part, imag_part):\n",
        "    # Desired observer poles\n",
        "    desired_poles = np.array([real_part + imag_part * 1j, real_part - imag_part * 1j])\n",
        "\n",
        "    # Compute the observer gain L\n",
        "    L = place_poles(A.T, C.T, desired_poles).gain_matrix.T\n",
        "\n",
        "    # Simulate the observer\n",
        "    x_hat = np.zeros((2, len(t)))\n",
        "    x_hat[:, 0] = x_hat0.flatten()\n",
        "\n",
        "    for i in range(1, len(t)):\n",
        "        y = C @ x[:, i-1]\n",
        "        y_hat = C @ x_hat[:, i-1]\n",
        "        x_hat[:, i] = x_hat[:, i-1] + dt * (A @ x_hat[:, i-1] + (B * u[i-1]).flatten() + L @ (y - y_hat)) # Update the observer's state estimate\n",
        "\n",
        "    # Plot the real and estimated states\n",
        "    plt.figure(figsize=(10, 6))\n",
        "    plt.plot(t, x[0, :], label='Real $x_1$')\n",
        "    plt.plot(t, x_hat[0, :], '--', label=f'Estimated $x_1$ (poles: {desired_poles})')\n",
        "    plt.plot(t, x[1, :], label='Real $x_2$')\n",
        "    plt.plot(t, x_hat[1, :], '--', label=f'Estimated $x_2$ (poles: {desired_poles})')\n",
        "    plt.xlabel('Time (s)')\n",
        "    plt.ylabel('State')\n",
        "    plt.title('Real vs Estimated States')\n",
        "    plt.legend()\n",
        "    plt.grid()\n",
        "    plt.show()\n",
        "\n",
        "# Interactive widget\n",
        "interact(simulate_observer,\n",
        "         real_part=FloatSlider(value=-1, min=-5, max=3, step=0.5, description='Real Part:'),\n",
        "         imag_part=FloatSlider(value=1, min=0.5, max=5, step=0.5, description='Imaginary Part:'));"
      ]
    },
    {
      "cell_type": "markdown",
      "metadata": {
        "id": "QqPB1pCBgkgo"
      },
      "source": [
        "Feel free to play with the values. Try and find poles for which the system converges and diverges.\n",
        "What is your conclusion for different selections?"
      ]
    },
    {
      "cell_type": "markdown",
      "metadata": {
        "id": "s7LDwlLfRfcQ"
      },
      "source": [
        "# Exercise 2: LQE"
      ]
    },
    {
      "cell_type": "markdown",
      "metadata": {
        "id": "yAyR5_trRl_w"
      },
      "source": [
        "In this exercise we assume a state-space system of the form written below. The code starts by initializing the system aswell as the initial contitions for both the true state $x(t)$ and the estimated state $\\hat{x}(t)$. In a real world system, the initial condition of the true state $x(t)$ would be unknown. You can choose the value for measurement noise $n(t)$ and process noise $w(t)$ with the slider. This value stands for the square root of the maximum allowed noise. The actual value will be computed for each time step as a random number in the interval $[0,\\sqrt{noise}]$.\n",
        "The equations of the system are given by:\n",
        "$$\n",
        "\\dot{x}  = A x + B u + w(t),\n",
        "$$\n",
        "$$\n",
        "y_m = C x + n(t).\n",
        "$$"
      ]
    },
    {
      "cell_type": "code",
      "execution_count": 16,
      "metadata": {
        "colab": {
          "base_uri": "https://localhost:8080/",
          "height": 830,
          "referenced_widgets": [
            "018c025e7ac541118d1706afbc4bfe8d",
            "f28fda99f0ab4462a0157bbb84300a98",
            "49da14ddbe2341ef886eb98c7434cfca",
            "573d58d8bc004f4fb09b1999fdb709c5",
            "eaae253de7f44ef79dc0e774dcab4a26",
            "6b0c36ad367d46469836af7e0e2118ba",
            "5e682ce3b2304aa9b5bcbd27fd368f56",
            "6bfbed0e3af349408ca13be118815dc0",
            "bcba4309681f459ba0cb8f927ca11e8b",
            "47a2ebd07c1344c39150136e42d4352e",
            "537a1ebb53744fb2a44eb97788ee5343",
            "74840750cbc24c3e88892edc261bc7c7",
            "ee1ad42991034045816d44491d639315",
            "360557eee1aa40aba73bc76a4028c82a",
            "d9637d0af3d946abb414044011cd85b4",
            "d6033660dbec46d586e729b7cbf2c94d"
          ]
        },
        "id": "SlqpO5aVRpnF",
        "outputId": "3064b5cf-f445-4ee5-ec5f-5b1c656d1d52"
      },
      "outputs": [
        {
          "data": {
            "application/vnd.jupyter.widget-view+json": {
              "model_id": "5ae22a529ccf47c2bc9ca5741438b403",
              "version_major": 2,
              "version_minor": 0
            },
            "text/plain": [
              "interactive(children=(FloatSlider(value=0.1, description='Actual Process Noise Q:', max=10.0, min=0.0001, step…"
            ]
          },
          "metadata": {},
          "output_type": "display_data"
        },
        {
          "data": {
            "text/plain": [
              "<function __main__.kalman_filter(Q_actual, R_actual, Q_filter, R_filter)>"
            ]
          },
          "execution_count": 16,
          "metadata": {},
          "output_type": "execute_result"
        }
      ],
      "source": [
        "# Import necessary libraries\n",
        "import numpy as np\n",
        "import matplotlib.pyplot as plt\n",
        "from ipywidgets import interact, FloatSlider\n",
        "\n",
        "# Define system parameters\n",
        "dt = 0.1 # Time step (not used explicitly in this simple example)\n",
        "A = 1.0        \n",
        "B = 0.0        \n",
        "C = 1.0        \n",
        "u = 0.0        \n",
        "\n",
        "# Simulation length\n",
        "T = 50\n",
        "\n",
        "# Function that evaluates states\n",
        "def kalman_filter(Q_actual, R_actual, Q_filter, R_filter):\n",
        "    \"\"\"\n",
        "    Simulate a 1D Kalman filter where:\n",
        "      - Q_actual and R_actual determine the true process and measurement noise,\n",
        "      - Q_filter and R_filter are the noise covariances used by the Kalman filter.\n",
        "    \n",
        "    Parameters:\n",
        "    - Q_actual: Variance of the actual process noise.\n",
        "    - R_actual: Variance of the actual measurement noise.\n",
        "    - Q_filter: Process noise covariance assumed by the filter.\n",
        "    - R_filter: Measurement noise covariance assumed by the filter.\n",
        "    \"\"\"\n",
        "    # For reproducibility\n",
        "    np.random.seed(42)\n",
        "    \n",
        "    # Initial true state and estimate\n",
        "    x_true = 0.0\n",
        "    x_est = 0.0\n",
        "    P_est = 1.0  # Initial estimation error covariance\n",
        "\n",
        "    # Generate noise sequences with the actual noise variances\n",
        "    process_noise = np.random.normal(0, np.sqrt(Q_actual), T)\n",
        "    measurement_noise = np.random.normal(0, np.sqrt(R_actual), T)\n",
        "    \n",
        "    # Arrays to store simulation results\n",
        "    x_true_vals = np.zeros(T)\n",
        "    x_measured_vals = np.zeros(T)\n",
        "    x_est_vals = np.zeros(T)\n",
        "    P_vals = np.zeros(T)\n",
        "    \n",
        "    # Set initial values\n",
        "    x_true_vals[0] = x_true\n",
        "    x_measured_vals[0] = x_true + measurement_noise[0]\n",
        "    x_est_vals[0] = x_est\n",
        "    P_vals[0] = P_est\n",
        "    \n",
        "    # Simulation loop\n",
        "    for t in range(1, T):\n",
        "        # ----- True System Evolution -----\n",
        "        # Evolve the true state with process noise\n",
        "        x_true = A * x_true + process_noise[t]\n",
        "        x_true_vals[t] = x_true\n",
        "        \n",
        "        # Generate the measurement (true state + measurement noise)\n",
        "        x_measured = C * x_true + measurement_noise[t]\n",
        "        x_measured_vals[t] = x_measured\n",
        "        \n",
        "        # ----- Kalman Filter Prediction -----\n",
        "        x_pred = A * x_est  # Predicted state estimate (no control input)\n",
        "        P_pred = A * P_est * A + Q_filter  # Predicted error covariance\n",
        "        \n",
        "        # ----- Kalman Filter Update -----\n",
        "        K = P_pred * C / (C * P_pred * C + R_filter)  # Kalman gain\n",
        "        x_est = x_pred + K * (x_measured - C * x_pred)  # Updated state estimate\n",
        "        P_est = (1 - K * C) * P_pred                    # Updated error covariance\n",
        "        \n",
        "        # Store filter estimates for plotting\n",
        "        x_est_vals[t] = x_est\n",
        "        P_vals[t] = P_est\n",
        "        \n",
        "    # Plot the results\n",
        "    plt.figure(figsize=(10, 6))\n",
        "    plt.plot(x_true_vals, label=\"True State\", marker='o')\n",
        "    plt.plot(x_measured_vals, label=\"Measured\", linestyle=\"--\", marker='x')\n",
        "    plt.plot(x_est_vals, label=\"Estimated State\", marker='s')\n",
        "    plt.xlabel(\"Time Step\")\n",
        "    plt.ylabel(\"State Value\")\n",
        "    plt.title(\"Kalman Filter with Mismatched Noise Parameters\")\n",
        "    plt.legend()\n",
        "    plt.grid(True)\n",
        "    plt.show()\n",
        "\n",
        "# Create interactive sliders for the actual noise and filter noise parameters\n",
        "interact(kalman_filter,\n",
        "         Q_actual=FloatSlider(value=0.1, min=0.0001, max=10, step=0.01, description='Actual Process Noise Q:'),\n",
        "         R_actual=FloatSlider(value=0.1, min=0.0001, max=10, step=0.01, description='Actual Measurement Noise R:'),\n",
        "         Q_filter=FloatSlider(value=0.1, min=0.0001, max=10, step=0.01, description='Filter Process Noise Q:'),\n",
        "         R_filter=FloatSlider(value=0.1, min=0.0001, max=10, step=0.01, description='Filter Measurement Noise R:'))\n"
      ]
    },
    {
      "cell_type": "markdown",
      "metadata": {
        "id": "TWVChHcFRu4n"
      },
      "source": [
        "Try and change the values of the noise and the weights.\n",
        "For high measurement noise and low process noise: do you expect better estimations for high R or Q?"
      ]
    },
    {
      "cell_type": "markdown",
      "metadata": {
        "id": "BBXbhAXyq43V"
      },
      "source": [
        "## Exercise 3: Kalman filter"
      ]
    },
    {
      "cell_type": "markdown",
      "metadata": {
        "id": "9a19CET_iIXh"
      },
      "source": [
        "### System Description: Drone Altitude Control  \n",
        "\n",
        "This system models a **drone trying to maintain a desired altitude**. The drone's dynamics are described by:  \n",
        "\n",
        "#### **States:**  \n",
        "- $x_1$: Altitude (position) of the drone.  \n",
        "- $x_2$: Vertical velocity of the drone.  \n",
        "\n",
        "#### **Forces:**  \n",
        "- **Thrust** $u$: Control input from the drone's propellers.  \n",
        "- **Air Resistance**: Modeled as $-k x_1$.  \n",
        "- **Damping**: Modeled as $-c x_2$.  \n",
        "\n",
        "#### **State-Space Equations:**  \n",
        "$$\n",
        "\\dot{x} = A x + B u,\n",
        "$$\n",
        "$$\n",
        "y = C x.\n",
        "$$  \n",
        "where:  \n",
        "- $A$: State matrix (system dynamics).  \n",
        "- $B$: Input matrix (effect of thrust).  \n",
        "- $C$: Output matrix (measures altitude).  \n",
        "\n",
        "The goal is to estimate the drone's altitude and velocity using a **Kalman filter** in the presence of process and measurement noise."
      ]
    },
    {
      "cell_type": "code",
      "execution_count": 17,
      "metadata": {
        "id": "3t3cfwmsYY0B"
      },
      "outputs": [],
      "source": [
        "# System parameters\n",
        "m = 1.0  # Mass of the drone (kg)\n",
        "k = 0.5  # Spring constant (air resistance)\n",
        "c = 0.2  # Damping coefficient\n",
        "\n",
        "# State-space matrices (continuous-time)\n",
        "A_cont = np.array([[0, 1], [-k/m, -c/m]])\n",
        "B_cont = np.array([[0], [1/m]])\n",
        "C = np.array([[1, 0]])  # Measure altitude only\n",
        "\n",
        "# Discretize the system (assuming a small time step dt)\n",
        "dt = 0.1  # Time step\n",
        "A = np.eye(2) + A_cont * dt  # Discrete-time state matrix\n",
        "B = B_cont * dt  # Discrete-time input matrix\n"
      ]
    },
    {
      "cell_type": "code",
      "execution_count": null,
      "metadata": {
        "colab": {
          "base_uri": "https://localhost:8080/"
        },
        "id": "TaXLbp3apnJF",
        "outputId": "0ef6e30e-ca03-436e-fc45-03b4f6b32421"
      },
      "outputs": [
        {
          "name": "stdout",
          "output_type": "stream",
          "text": [
            "Kalman Filter Gain L_kf: [[0.31489289]\n",
            " [0.17288439]]\n"
          ]
        }
      ],
      "source": [
        "def design_kalman_filter(A, C, Q, R):\n",
        "    \"\"\"Design Kalman filter gain L_kf.\"\"\"\n",
        "    P = solve_discrete_are(A.T, C.T, Q, R) # Solving the discrete-time algebraic Riccati equation (DARE) to find P\n",
        "    L_kf = P @ C.T @ np.linalg.inv(C @ P @ C.T + R)\n",
        "    return L_kf\n",
        "\n",
        "# Noise covariance matrices\n",
        "Q = np.eye(2) * 0.1  # Process noise covariance (model inaccuracies)\n",
        "R = np.eye(1) * 1.0  # Measurement noise covariance (sensor inaccuracies)\n",
        "\n",
        "# Kalman filter gain\n",
        "L_kf = design_kalman_filter(A, C, Q, R)\n",
        "print(\"Kalman Filter Gain L_kf:\", L_kf)"
      ]
    },
    {
      "cell_type": "markdown",
      "metadata": {
        "id": "hN2KlHJZjwmh"
      },
      "source": [
        "### Drone Altitude Estimation with Kalman Filter\n",
        "\n",
        "This code simulates a **drone's altitude control system** using a Kalman filter to estimate the altitude in the presence of process and measurement noise. The system is subject to:\n",
        "- **Process Noise**: Represents uncertainties in the system model (e.g., wind gusts).\n",
        "- **Measurement Noise**: Represents uncertainties in the sensor measurements (e.g., altitude sensor errors).\n",
        "\n",
        "The Kalman filter dynamically updates its estimate of the drone's altitude by balancing trust in the system model and the sensor measurements. The true altitude and the Kalman filter's estimate are plotted over time for comparison."
      ]
    },
    {
      "cell_type": "code",
      "execution_count": 20,
      "metadata": {
        "id": "Jshkwz8ekJ3m"
      },
      "outputs": [],
      "source": [
        "def simulate_system(noise=False, T=10, process_noise=0.1, measurement_noise=1.0):\n",
        "    \"\"\"Simulate the system with Kalman filter.\"\"\"\n",
        "    # Time parameters\n",
        "    num_steps = int(T / dt)\n",
        "    t = np.arange(0, T, dt)\n",
        "\n",
        "    # Input function (thrust profile)\n",
        "    def u(k):\n",
        "        return 1.0 if k * dt < 5 else 0.0  # Apply thrust for 5 seconds\n",
        "\n",
        "    # Initial conditions (as 2D column vectors)\n",
        "    x = np.array([[0.0], [0.0]])  # True initial state (altitude and velocity)\n",
        "    x_hat = np.array([[0.0], [0.0]])  # Observer initial estimate\n",
        "\n",
        "    # Adjust noise covariance matrices\n",
        "    Q = np.eye(2) * process_noise  # Process noise covariance (2x2)\n",
        "    R = np.eye(1) * measurement_noise  # Measurement noise covariance (1x1)\n",
        "\n",
        "    # Arrays to store results\n",
        "    x_history = np.zeros((2, num_steps))\n",
        "    x_hat_history = np.zeros((2, num_steps))\n",
        "\n",
        "    # Simulate the system\n",
        "    for k in range(num_steps):\n",
        "        # Process noise (if enabled)\n",
        "        w = np.random.multivariate_normal([0, 0], Q).reshape(-1, 1) if noise else np.zeros((2, 1))\n",
        "\n",
        "        # Sensor noise (if enabled)\n",
        "        n = np.random.normal(0, np.sqrt(R[0,0])) if noise else 0\n",
        "\n",
        "        # True system dynamics\n",
        "        x = A @ x + B * u(k) + w  # All terms are (2x1)\n",
        "        y = C @ x + n  # Noisy measurement (scalar)\n",
        "\n",
        "        # Kalman filter\n",
        "        innovation = y - C @ x_hat  # Innovation term (scalar)\n",
        "        x_hat = A @ x_hat + B * u(k) + L_kf * innovation  # L_kf * innovation is (2x1)\n",
        "\n",
        "        # Store results\n",
        "        x_history[:, k] = x.flatten()\n",
        "        x_hat_history[:, k] = x_hat.flatten()\n",
        "\n",
        "    # Plot results\n",
        "    plt.figure(figsize=(12, 6))\n",
        "    plt.plot(t, x_history[0, :], 'k', label='True Altitude')\n",
        "    plt.plot(t, x_hat_history[0, :], 'b--', label='Kalman Filter Estimate')\n",
        "    plt.xlabel('Time (s)')\n",
        "    plt.ylabel('Altitude (m)')\n",
        "    plt.title('Drone Altitude Estimation with Kalman Filter')\n",
        "    plt.legend()\n",
        "    plt.grid(True)\n",
        "    plt.show()"
      ]
    },
    {
      "cell_type": "code",
      "execution_count": 21,
      "metadata": {
        "colab": {
          "base_uri": "https://localhost:8080/",
          "height": 660,
          "referenced_widgets": [
            "f2af05e4502d4c10bdf246efc9848940",
            "544b6feda3da460599e36e3814156444",
            "10905daf793d460491e98d8b0ec09de3",
            "d0e4dd557cf844f3a4338137589888a3",
            "6a6185ac09114d169f88f9d1dbec6b7c",
            "90895739c154410e9ada80cde03115f3",
            "6edcb6eebbc7415dbc8b18e4e424ddb1",
            "cdb51adc3cb447a496851ee327041ee7",
            "e9b041fa695f44719ce0094ae9f2da61",
            "cc634fa49efa4cd88408e14a36fe2ddb",
            "7b161a6e51cb49908f267dd81eabf28d",
            "c864ba71b0dd4879990928d612ecbb7e",
            "8ca6f58c642d4d8280e92b5c9cb3b30b"
          ]
        },
        "id": "PD1huZMuj3Fo",
        "outputId": "e0442247-4c25-4a62-b76e-730a7a778635"
      },
      "outputs": [
        {
          "data": {
            "application/vnd.jupyter.widget-view+json": {
              "model_id": "7720cb65b27949739972809eb4d857ee",
              "version_major": 2,
              "version_minor": 0
            },
            "text/plain": [
              "interactive(children=(FloatSlider(value=0.1, description='Process Noise (Q):', max=1.0, min=0.01, step=0.01), …"
            ]
          },
          "metadata": {},
          "output_type": "display_data"
        }
      ],
      "source": [
        "# Interactive widget for noise and simulation time\n",
        "@interact(\n",
        "    process_noise=FloatSlider(value=0.1, min=0.01, max=1.0, step=0.01, description='Process Noise (Q):'),\n",
        "    measurement_noise=FloatSlider(value=1.0, min=0.1, max=10.0, step=0.1, description='Measurement Noise (R):'),\n",
        "    T=FloatSlider(value=10, min=5, max=20, step=1, description='Simulation Time:')\n",
        ")\n",
        "def interactive_simulation(process_noise, measurement_noise, T):\n",
        "    \"\"\"Interactive simulation with noise and time controls.\"\"\"\n",
        "    simulate_system(noise=True, T=T, process_noise=process_noise, measurement_noise=measurement_noise)"
      ]
    }
  ],
  "metadata": {
    "colab": {
      "provenance": []
    },
    "kernelspec": {
      "display_name": "myenv",
      "language": "python",
      "name": "python3"
    },
    "language_info": {
      "codemirror_mode": {
        "name": "ipython",
        "version": 3
      },
      "file_extension": ".py",
      "mimetype": "text/x-python",
      "name": "python",
      "nbconvert_exporter": "python",
      "pygments_lexer": "ipython3",
      "version": "3.9.20"
    },
    "widgets": {
      "application/vnd.jupyter.widget-state+json": {
        "018c025e7ac541118d1706afbc4bfe8d": {
          "model_module": "@jupyter-widgets/controls",
          "model_module_version": "1.5.0",
          "model_name": "VBoxModel",
          "state": {
            "_dom_classes": [
              "widget-interact"
            ],
            "_model_module": "@jupyter-widgets/controls",
            "_model_module_version": "1.5.0",
            "_model_name": "VBoxModel",
            "_view_count": null,
            "_view_module": "@jupyter-widgets/controls",
            "_view_module_version": "1.5.0",
            "_view_name": "VBoxView",
            "box_style": "",
            "children": [
              "IPY_MODEL_f28fda99f0ab4462a0157bbb84300a98",
              "IPY_MODEL_49da14ddbe2341ef886eb98c7434cfca",
              "IPY_MODEL_573d58d8bc004f4fb09b1999fdb709c5",
              "IPY_MODEL_eaae253de7f44ef79dc0e774dcab4a26",
              "IPY_MODEL_6b0c36ad367d46469836af7e0e2118ba"
            ],
            "layout": "IPY_MODEL_5e682ce3b2304aa9b5bcbd27fd368f56"
          }
        },
        "05c30032685449cea130419462832980": {
          "model_module": "@jupyter-widgets/base",
          "model_module_version": "1.2.0",
          "model_name": "LayoutModel",
          "state": {
            "_model_module": "@jupyter-widgets/base",
            "_model_module_version": "1.2.0",
            "_model_name": "LayoutModel",
            "_view_count": null,
            "_view_module": "@jupyter-widgets/base",
            "_view_module_version": "1.2.0",
            "_view_name": "LayoutView",
            "align_content": null,
            "align_items": null,
            "align_self": null,
            "border": null,
            "bottom": null,
            "display": null,
            "flex": null,
            "flex_flow": null,
            "grid_area": null,
            "grid_auto_columns": null,
            "grid_auto_flow": null,
            "grid_auto_rows": null,
            "grid_column": null,
            "grid_gap": null,
            "grid_row": null,
            "grid_template_areas": null,
            "grid_template_columns": null,
            "grid_template_rows": null,
            "height": null,
            "justify_content": null,
            "justify_items": null,
            "left": null,
            "margin": null,
            "max_height": null,
            "max_width": null,
            "min_height": null,
            "min_width": null,
            "object_fit": null,
            "object_position": null,
            "order": null,
            "overflow": null,
            "overflow_x": null,
            "overflow_y": null,
            "padding": null,
            "right": null,
            "top": null,
            "visibility": null,
            "width": null
          }
        },
        "10905daf793d460491e98d8b0ec09de3": {
          "model_module": "@jupyter-widgets/controls",
          "model_module_version": "1.5.0",
          "model_name": "FloatSliderModel",
          "state": {
            "_dom_classes": [],
            "_model_module": "@jupyter-widgets/controls",
            "_model_module_version": "1.5.0",
            "_model_name": "FloatSliderModel",
            "_view_count": null,
            "_view_module": "@jupyter-widgets/controls",
            "_view_module_version": "1.5.0",
            "_view_name": "FloatSliderView",
            "continuous_update": true,
            "description": "Measurement Noise (R):",
            "description_tooltip": null,
            "disabled": false,
            "layout": "IPY_MODEL_e9b041fa695f44719ce0094ae9f2da61",
            "max": 10,
            "min": 0.1,
            "orientation": "horizontal",
            "readout": true,
            "readout_format": ".2f",
            "step": 0.1,
            "style": "IPY_MODEL_cc634fa49efa4cd88408e14a36fe2ddb",
            "value": 1
          }
        },
        "1a98e326cdfa4e87ad680a7f2945a0b2": {
          "model_module": "@jupyter-widgets/controls",
          "model_module_version": "1.5.0",
          "model_name": "FloatSliderModel",
          "state": {
            "_dom_classes": [],
            "_model_module": "@jupyter-widgets/controls",
            "_model_module_version": "1.5.0",
            "_model_name": "FloatSliderModel",
            "_view_count": null,
            "_view_module": "@jupyter-widgets/controls",
            "_view_module_version": "1.5.0",
            "_view_name": "FloatSliderView",
            "continuous_update": true,
            "description": "Real Part:",
            "description_tooltip": null,
            "disabled": false,
            "layout": "IPY_MODEL_6949eea0ea6e4b8ea642fd27d48110a7",
            "max": 3,
            "min": -5,
            "orientation": "horizontal",
            "readout": true,
            "readout_format": ".2f",
            "step": 0.5,
            "style": "IPY_MODEL_330c54bdecf84d8aa00333c8fe8c37a4",
            "value": -1
          }
        },
        "27472d9a216a4544aea25d31916b0b3c": {
          "model_module": "@jupyter-widgets/base",
          "model_module_version": "1.2.0",
          "model_name": "LayoutModel",
          "state": {
            "_model_module": "@jupyter-widgets/base",
            "_model_module_version": "1.2.0",
            "_model_name": "LayoutModel",
            "_view_count": null,
            "_view_module": "@jupyter-widgets/base",
            "_view_module_version": "1.2.0",
            "_view_name": "LayoutView",
            "align_content": null,
            "align_items": null,
            "align_self": null,
            "border": null,
            "bottom": null,
            "display": null,
            "flex": null,
            "flex_flow": null,
            "grid_area": null,
            "grid_auto_columns": null,
            "grid_auto_flow": null,
            "grid_auto_rows": null,
            "grid_column": null,
            "grid_gap": null,
            "grid_row": null,
            "grid_template_areas": null,
            "grid_template_columns": null,
            "grid_template_rows": null,
            "height": null,
            "justify_content": null,
            "justify_items": null,
            "left": null,
            "margin": null,
            "max_height": null,
            "max_width": null,
            "min_height": null,
            "min_width": null,
            "object_fit": null,
            "object_position": null,
            "order": null,
            "overflow": null,
            "overflow_x": null,
            "overflow_y": null,
            "padding": null,
            "right": null,
            "top": null,
            "visibility": null,
            "width": null
          }
        },
        "2bc27cccb8b943f5ac08ed3d43f7f6ec": {
          "model_module": "@jupyter-widgets/output",
          "model_module_version": "1.0.0",
          "model_name": "OutputModel",
          "state": {
            "_dom_classes": [],
            "_model_module": "@jupyter-widgets/output",
            "_model_module_version": "1.0.0",
            "_model_name": "OutputModel",
            "_view_count": null,
            "_view_module": "@jupyter-widgets/output",
            "_view_module_version": "1.0.0",
            "_view_name": "OutputView",
            "layout": "IPY_MODEL_05c30032685449cea130419462832980",
            "msg_id": "",
            "outputs": [
              {
                "data": {
                  "image/png": "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\n",
                  "text/plain": "<Figure size 1000x600 with 1 Axes>"
                },
                "metadata": {},
                "output_type": "display_data"
              }
            ]
          }
        },
        "330c54bdecf84d8aa00333c8fe8c37a4": {
          "model_module": "@jupyter-widgets/controls",
          "model_module_version": "1.5.0",
          "model_name": "SliderStyleModel",
          "state": {
            "_model_module": "@jupyter-widgets/controls",
            "_model_module_version": "1.5.0",
            "_model_name": "SliderStyleModel",
            "_view_count": null,
            "_view_module": "@jupyter-widgets/base",
            "_view_module_version": "1.2.0",
            "_view_name": "StyleView",
            "description_width": "",
            "handle_color": null
          }
        },
        "360557eee1aa40aba73bc76a4028c82a": {
          "model_module": "@jupyter-widgets/base",
          "model_module_version": "1.2.0",
          "model_name": "LayoutModel",
          "state": {
            "_model_module": "@jupyter-widgets/base",
            "_model_module_version": "1.2.0",
            "_model_name": "LayoutModel",
            "_view_count": null,
            "_view_module": "@jupyter-widgets/base",
            "_view_module_version": "1.2.0",
            "_view_name": "LayoutView",
            "align_content": null,
            "align_items": null,
            "align_self": null,
            "border": null,
            "bottom": null,
            "display": null,
            "flex": null,
            "flex_flow": null,
            "grid_area": null,
            "grid_auto_columns": null,
            "grid_auto_flow": null,
            "grid_auto_rows": null,
            "grid_column": null,
            "grid_gap": null,
            "grid_row": null,
            "grid_template_areas": null,
            "grid_template_columns": null,
            "grid_template_rows": null,
            "height": null,
            "justify_content": null,
            "justify_items": null,
            "left": null,
            "margin": null,
            "max_height": null,
            "max_width": null,
            "min_height": null,
            "min_width": null,
            "object_fit": null,
            "object_position": null,
            "order": null,
            "overflow": null,
            "overflow_x": null,
            "overflow_y": null,
            "padding": null,
            "right": null,
            "top": null,
            "visibility": null,
            "width": null
          }
        },
        "47a2ebd07c1344c39150136e42d4352e": {
          "model_module": "@jupyter-widgets/base",
          "model_module_version": "1.2.0",
          "model_name": "LayoutModel",
          "state": {
            "_model_module": "@jupyter-widgets/base",
            "_model_module_version": "1.2.0",
            "_model_name": "LayoutModel",
            "_view_count": null,
            "_view_module": "@jupyter-widgets/base",
            "_view_module_version": "1.2.0",
            "_view_name": "LayoutView",
            "align_content": null,
            "align_items": null,
            "align_self": null,
            "border": null,
            "bottom": null,
            "display": null,
            "flex": null,
            "flex_flow": null,
            "grid_area": null,
            "grid_auto_columns": null,
            "grid_auto_flow": null,
            "grid_auto_rows": null,
            "grid_column": null,
            "grid_gap": null,
            "grid_row": null,
            "grid_template_areas": null,
            "grid_template_columns": null,
            "grid_template_rows": null,
            "height": null,
            "justify_content": null,
            "justify_items": null,
            "left": null,
            "margin": null,
            "max_height": null,
            "max_width": null,
            "min_height": null,
            "min_width": null,
            "object_fit": null,
            "object_position": null,
            "order": null,
            "overflow": null,
            "overflow_x": null,
            "overflow_y": null,
            "padding": null,
            "right": null,
            "top": null,
            "visibility": null,
            "width": null
          }
        },
        "49da14ddbe2341ef886eb98c7434cfca": {
          "model_module": "@jupyter-widgets/controls",
          "model_module_version": "1.5.0",
          "model_name": "FloatSliderModel",
          "state": {
            "_dom_classes": [],
            "_model_module": "@jupyter-widgets/controls",
            "_model_module_version": "1.5.0",
            "_model_name": "FloatSliderModel",
            "_view_count": null,
            "_view_module": "@jupyter-widgets/controls",
            "_view_module_version": "1.5.0",
            "_view_name": "FloatSliderView",
            "continuous_update": true,
            "description": "Measurement Noise R:",
            "description_tooltip": null,
            "disabled": false,
            "layout": "IPY_MODEL_47a2ebd07c1344c39150136e42d4352e",
            "max": 100,
            "min": 0.001,
            "orientation": "horizontal",
            "readout": true,
            "readout_format": ".2f",
            "step": 0.01,
            "style": "IPY_MODEL_537a1ebb53744fb2a44eb97788ee5343",
            "value": 0.1
          }
        },
        "537a1ebb53744fb2a44eb97788ee5343": {
          "model_module": "@jupyter-widgets/controls",
          "model_module_version": "1.5.0",
          "model_name": "SliderStyleModel",
          "state": {
            "_model_module": "@jupyter-widgets/controls",
            "_model_module_version": "1.5.0",
            "_model_name": "SliderStyleModel",
            "_view_count": null,
            "_view_module": "@jupyter-widgets/base",
            "_view_module_version": "1.2.0",
            "_view_name": "StyleView",
            "description_width": "",
            "handle_color": null
          }
        },
        "544b6feda3da460599e36e3814156444": {
          "model_module": "@jupyter-widgets/controls",
          "model_module_version": "1.5.0",
          "model_name": "FloatSliderModel",
          "state": {
            "_dom_classes": [],
            "_model_module": "@jupyter-widgets/controls",
            "_model_module_version": "1.5.0",
            "_model_name": "FloatSliderModel",
            "_view_count": null,
            "_view_module": "@jupyter-widgets/controls",
            "_view_module_version": "1.5.0",
            "_view_name": "FloatSliderView",
            "continuous_update": true,
            "description": "Process Noise (Q):",
            "description_tooltip": null,
            "disabled": false,
            "layout": "IPY_MODEL_6edcb6eebbc7415dbc8b18e4e424ddb1",
            "max": 1,
            "min": 0.01,
            "orientation": "horizontal",
            "readout": true,
            "readout_format": ".2f",
            "step": 0.01,
            "style": "IPY_MODEL_cdb51adc3cb447a496851ee327041ee7",
            "value": 0.1
          }
        },
        "573d58d8bc004f4fb09b1999fdb709c5": {
          "model_module": "@jupyter-widgets/controls",
          "model_module_version": "1.5.0",
          "model_name": "FloatSliderModel",
          "state": {
            "_dom_classes": [],
            "_model_module": "@jupyter-widgets/controls",
            "_model_module_version": "1.5.0",
            "_model_name": "FloatSliderModel",
            "_view_count": null,
            "_view_module": "@jupyter-widgets/controls",
            "_view_module_version": "1.5.0",
            "_view_name": "FloatSliderView",
            "continuous_update": true,
            "description": "Q",
            "description_tooltip": null,
            "disabled": false,
            "layout": "IPY_MODEL_74840750cbc24c3e88892edc261bc7c7",
            "max": 100,
            "min": 0.001,
            "orientation": "horizontal",
            "readout": true,
            "readout_format": ".2f",
            "step": 0.1,
            "style": "IPY_MODEL_ee1ad42991034045816d44491d639315",
            "value": 1
          }
        },
        "5e682ce3b2304aa9b5bcbd27fd368f56": {
          "model_module": "@jupyter-widgets/base",
          "model_module_version": "1.2.0",
          "model_name": "LayoutModel",
          "state": {
            "_model_module": "@jupyter-widgets/base",
            "_model_module_version": "1.2.0",
            "_model_name": "LayoutModel",
            "_view_count": null,
            "_view_module": "@jupyter-widgets/base",
            "_view_module_version": "1.2.0",
            "_view_name": "LayoutView",
            "align_content": null,
            "align_items": null,
            "align_self": null,
            "border": null,
            "bottom": null,
            "display": null,
            "flex": null,
            "flex_flow": null,
            "grid_area": null,
            "grid_auto_columns": null,
            "grid_auto_flow": null,
            "grid_auto_rows": null,
            "grid_column": null,
            "grid_gap": null,
            "grid_row": null,
            "grid_template_areas": null,
            "grid_template_columns": null,
            "grid_template_rows": null,
            "height": null,
            "justify_content": null,
            "justify_items": null,
            "left": null,
            "margin": null,
            "max_height": null,
            "max_width": null,
            "min_height": null,
            "min_width": null,
            "object_fit": null,
            "object_position": null,
            "order": null,
            "overflow": null,
            "overflow_x": null,
            "overflow_y": null,
            "padding": null,
            "right": null,
            "top": null,
            "visibility": null,
            "width": null
          }
        },
        "6949eea0ea6e4b8ea642fd27d48110a7": {
          "model_module": "@jupyter-widgets/base",
          "model_module_version": "1.2.0",
          "model_name": "LayoutModel",
          "state": {
            "_model_module": "@jupyter-widgets/base",
            "_model_module_version": "1.2.0",
            "_model_name": "LayoutModel",
            "_view_count": null,
            "_view_module": "@jupyter-widgets/base",
            "_view_module_version": "1.2.0",
            "_view_name": "LayoutView",
            "align_content": null,
            "align_items": null,
            "align_self": null,
            "border": null,
            "bottom": null,
            "display": null,
            "flex": null,
            "flex_flow": null,
            "grid_area": null,
            "grid_auto_columns": null,
            "grid_auto_flow": null,
            "grid_auto_rows": null,
            "grid_column": null,
            "grid_gap": null,
            "grid_row": null,
            "grid_template_areas": null,
            "grid_template_columns": null,
            "grid_template_rows": null,
            "height": null,
            "justify_content": null,
            "justify_items": null,
            "left": null,
            "margin": null,
            "max_height": null,
            "max_width": null,
            "min_height": null,
            "min_width": null,
            "object_fit": null,
            "object_position": null,
            "order": null,
            "overflow": null,
            "overflow_x": null,
            "overflow_y": null,
            "padding": null,
            "right": null,
            "top": null,
            "visibility": null,
            "width": null
          }
        },
        "6a6185ac09114d169f88f9d1dbec6b7c": {
          "model_module": "@jupyter-widgets/output",
          "model_module_version": "1.0.0",
          "model_name": "OutputModel",
          "state": {
            "_dom_classes": [],
            "_model_module": "@jupyter-widgets/output",
            "_model_module_version": "1.0.0",
            "_model_name": "OutputModel",
            "_view_count": null,
            "_view_module": "@jupyter-widgets/output",
            "_view_module_version": "1.0.0",
            "_view_name": "OutputView",
            "layout": "IPY_MODEL_8ca6f58c642d4d8280e92b5c9cb3b30b",
            "msg_id": "",
            "outputs": [
              {
                "data": {
                  "image/png": "iVBORw0KGgoAAAANSUhEUgAAA+cAAAIjCAYAAABh8GqqAAAAOnRFWHRTb2Z0d2FyZQBNYXRwbG90bGliIHZlcnNpb24zLjEwLjAsIGh0dHBzOi8vbWF0cGxvdGxpYi5vcmcvlHJYcgAAAAlwSFlzAAAPYQAAD2EBqD+naQAA3FtJREFUeJzs3XVYVGkbwOHf0A0WJorditjd7a66xtoduyZ2d3dt2N3drVjr2oqxdge2qIjUzPn+OB+jSEgMDMhzX9dcM3PmPe95znAGeOYtjaIoCkIIIYQQQgghhDAaE2MHIIQQQgghhBBCJHWSnAshhBBCCCGEEEYmybkQQgghhBBCCGFkkpwLIYQQQgghhBBGJsm5EEIIIYQQQghhZJKcCyGEEEIIIYQQRibJuRBCCCGEEEIIYWSSnAshhBBCCCGEEEYmybkQQgghhBBCCGFkkpwLIYSIEyNHjkSj0USp7NKlS9FoNDx48CBug/o/V1dX2rRpEy/HMpQHDx6g0WhYunSpsUMJpU2bNri6uho7jCiLznUZUvb169dxHFXUJcZrN6q+PbcjR46g0Wg4cuSI0WISQoj4JMm5EEIYUEiSGXKzsrIiXbp0VK9endmzZ/Px40djh2gQWq2WdOnSodFo2LNnT5T3Gz9+PFu3bo1S2b/++ivBJaIRqVChQqif+9e3XLlyRauu1atXM3PmzLgJNIaePXvGyJEjuXTpkrFDiRPRuS6jo02bNtjZ2YXZfvnyZVKmTImrq2u8fSFlbCFfLoV3K1GiRJTrSYifDyGEMBQzYwcghBA/otGjR5M5c2aCgoJ4/vw5R44cwcPDg+nTp7N9+3YKFChg7BBj5fDhw3h7e+Pq6sqqVauoWbNmlPYbP348DRs2pF69eqG2t2zZkiZNmmBpaanf9tdff5EyZcpE00qYIUMGJkyYEGa7o6NjtOpZvXo1V69excPDI9T2TJky8fnzZ8zNzWMTZow8e/aMUaNG4erqipubW6jXFixYgE6ni/eYYmro0KEMHDgw1LaIrsu4cPXqVSpXroytrS2enp6JqteBITRt2pRatWqF2pYqVSoAbt68iYlJ5O1GEX0+hBDiRyDJuRBCxIGaNWtSpEgR/fNBgwZx+PBh6tSpw88//8z169extraOcP9Pnz5ha2sbH6HGyMqVK3F3d6d169YMHjw41vGamppiampqwAjjn6OjIy1atIiz+kN6YiQ0xviyIDbMzMwwMzPOvz/Xrl2jUqVKWFtb4+npSebMmY0ShzG5u7tH+Dn5+su5+KTT6QgMDEyQny8hRNIi3dqFECKeVKpUiWHDhvHw4UNWrlyp3x7S9fXu3bvUqlULe3t7mjdvDqhJep8+fXBxccHS0pKcOXMydepUFEUJVbdGo6Fbt25s3bqVfPnyYWlpSd68edm7d2+YOJ4+fUq7du1InTq1vtzixYujfB6fP39my5YtNGnShMaNG/P582e2bdv23f00Gg2fPn1i2bJl+u6sIa3i3445d3V15dq1axw9elRftkKFCkDEY4bDG7euKApjx44lQ4YM2NjYULFiRa5duxZufD4+Pnh4eOjf62zZsjFp0iSDtgp//PgRDw8PXF1dsbS0xNnZmapVq3LhwgVA7R6/a9cuHj58qD/vkJbV8Mach1w7jx49ok6dOtjZ2ZE+fXr+/PNPAK5cuUKlSpWwtbUlU6ZMrF69OlQ8b9++pW/fvuTPnx87OzscHByoWbMmXl5e+jJHjhyhaNGiALRt21YfV0gc4Y05j4vr9muKopAyZUp69+6t36bT6XBycsLU1BQfHx/99kmTJmFmZoavry8Q9vqJ7LoM4ePjQ5s2bXBycsLR0ZG2bdvi5+cXaYzfun79OpUrV8bS0hJPT0+yZMkS6vWpU6dSqlQpUqRIgbW1NYULF2bjxo3frTfkuj9x4gQ9evQgVapUODk50blzZwIDA/Hx8aFVq1YkS5aMZMmS0b9//zA/h6geO6Y/r6j63nj6yD4fAAEBAYwYMYJs2bJhaWmJi4sL/fv3JyAgINzzWLVqFXnz5sXS0tJg5yCEELEhLedCCBGPWrZsyeDBg9m/fz8dO3bUbw8ODqZ69eqUKVOGqVOnYmNjg6Io/Pzzz3h6etK+fXvc3NzYt28f/fr14+nTp8yYMSNU3SdOnGDz5s106dIFe3t7Zs+eTYMGDXj06BEpUqQA4MWLF5QoUUL/z2mqVKnYs2cP7du358OHD1HqKrp9+3Z8fX1p0qQJadKkoUKFCqxatYpmzZpFut+KFSvo0KEDxYoVo1OnTgBkzZo13LIzZ86ke/fu2NnZMWTIEABSp0793di+NXz4cMaOHUutWrWoVasWFy5coFq1agQGBoYq5+fnR/ny5Xn69CmdO3cmY8aMnDx5kkGDBuHt7R2lMa5arTbcicOsra31vQp+++03Nm7cSLdu3ciTJw9v3rzhxIkTXL9+HXd3d4YMGcL79+958uSJ/ucb3pjlb49bs2ZNypUrx+TJk1m1ahXdunXD1taWIUOG0Lx5c3755Rfmzp1Lq1atKFmypL7F9t69e2zdupVGjRqROXNmXrx4wbx58yhfvjz//fcf6dKlI3fu3IwePZrhw4fTqVMnypYtC0CpUqXCjScurttvaTQaSpcuzbFjx/TbLl++zPv37zExMeGff/6hdu3aABw/fpxChQpF+D5G5bps3LgxmTNnZsKECVy4cIGFCxfi7OzMpEmTIv3ZhLh58yaVKlXCzMwMT0/PcK/7WbNm8fPPP9O8eXMCAwNZu3YtjRo1YufOnfpziUz37t1JkyYNo0aN4tSpU8yfPx8nJydOnjxJxowZGT9+PLt372bKlCnky5ePVq1axejYMfl5fc3Pzy/M58TR0TFKPTAi+3zodDp+/vlnTpw4QadOncidOzdXrlxhxowZ3Lp1K8ycAocPH2b9+vV069ZNP/5fCCGMThFCCGEwS5YsUQDl7NmzEZZxdHRUChUqpH/eunVrBVAGDhwYqtzWrVsVQBk7dmyo7Q0bNlQ0Go1y584d/TZAsbCwCLXNy8tLAZQ5c+bot7Vv315Jmzat8vr161B1NmnSRHF0dFT8/Py+e4516tRRSpcurX8+f/58xczMTHn58mWociNGjFC+/TNja2urtG7dOkydIe/b/fv39dvy5s2rlC9fPkzZ8OoNr46XL18qFhYWSu3atRWdTqcvN3jwYAUIFceYMWMUW1tb5datW6HqHDhwoGJqaqo8evQozPG+Vr58eQUI99a5c2d9OUdHR6Vr166R1lW7dm0lU6ZMYbbfv39fAZQlS5bot4VcO+PHj9dve/funWJtba1oNBpl7dq1+u03btxQAGXEiBH6bf7+/opWqw1zHEtLS2X06NH6bWfPng1z7K9j+DreuLhuwzNlyhTF1NRU+fDhg6IoijJ79mwlU6ZMSrFixZQBAwYoiqIoWq1WcXJyUnr16qXfLzrXZUjZdu3ahdpev359JUWKFJHGpyjqe2Nubq6kTZtWSZcuXZjr62vffvYCAwOVfPnyKZUqVQq1PVOmTKFiDbnuq1evHuo6L1mypKLRaJTffvtNvy04OFjJkCFDmM9VVI8dm59XyPUb3s3T0zPcc/P09Az1uqJE/PlYsWKFYmJiohw/fjzU9rlz5yqA8s8//4Q6DxMTE+XatWuRxiyEEPFNurULIUQ8s7OzC3fW9t9//z3U8927d2NqakqPHj1Cbe/Tpw+KooSZJb1KlSqhWuQKFCiAg4MD9+7dA9QWzU2bNvHTTz+hKAqvX7/W36pXr8779+/13asj8ubNG/bt20fTpk312xo0aIBGo2H9+vVRewPiycGDBwkMDKR79+6hujGH1ztgw4YNlC1blmTJkoV6X6pUqYJWqw3VQhsRV1dXDhw4EOb29fGcnJw4ffo0z549M8Qp6nXo0CHUMXLmzImtrS2NGzfWb8+ZMydOTk766wHUMb4hE3BptVrevHmDnZ0dOXPm/O61EBFDX7cRKVu2LFqtlpMnTwJqC3nZsmUpW7Ysx48fB9TJ13x8fPSt/TH122+/hTn2mzdv+PDhw3f3DelRkTx5clKmTBlhua/noHj37h3v37+nbNmyUf45tG/fPtR1Xrx4cRRFoX379vptpqamFClSJMx7G51jx/TnFaJTp05hPiMFCxaM0r6R2bBhA7lz5yZXrlyhPsOVKlUCwNPTM1T58uXLkydPnlgfVwghDEm6tQshRDzz9fXF2dk51DYzMzMyZMgQatvDhw9Jly4d9vb2obbnzp1b//rXMmbMGOZYyZIl4927dwC8evUKHx8f5s+fz/z588ON7eXLl5HGvm7dOoKCgihUqBB37tzRby9evDirVq2ia9euke4fn0Len+zZs4fanipVKpIlSxZq2+3bt7l8+bJ+1uhvfe99AbC1taVKlSqRlpk8eTKtW7fGxcWFwoULU6tWLVq1ahVm/HF0WFlZhYnb0dGRDBkyhBmb7+joqL8eQO0KPGvWLP766y/u37+PVqvVvxaVLsrhMfR1GxF3d3dsbGw4fvw41atX5/jx44waNYo0adIwZ84c/P399Ul6mTJlYnQuEcUYcv28e/cOBweHSPe1trZm4cKFNG/enNq1a3PgwIFwJ0/cuXMnY8eO5dKlS6HGSEd1TfZvYwxZJcDFxSXM9m/f2+gcO6Y/rxDZs2f/7uckJm7fvs3169ej/BlOipPxCSESPknOhRAiHj158oT379+TLVu2UNu/bsGMqYhmO1f+P/lTyMRmLVq0oHXr1uGW/d4Sb6tWrQKgdOnS4b5+7969WCWaURFRsvJ1YhldOp2OqlWr0r9//3Bfz5EjR4zr/lrjxo0pW7YsW7ZsYf/+/UyZMoVJkyaxefPmKC9H962Ifu7fux5AXUJs2LBhtGvXjjFjxpA8eXJMTEzw8PCIt+XRohJneMzNzSlevDjHjh3jzp07PH/+nLJly5I6dWqCgoI4ffo0x48fJ1euXBEmbHEdY4gmTZrw7t07unTpwi+//MKOHTuwsLDQv378+HF+/vlnypUrx19//UXatGkxNzdnyZIlYSbxi26M4W3/Ou7oHju270Vc0el05M+fn+nTp4f7+rdfUkS2WoYQQhiLJOdCCBGPVqxYAUD16tW/WzZTpkwcPHiQjx8/hmqFvHHjhv716EiVKhX29vZotdoYtVzdv3+fkydP0q1bN8qXLx/qNZ1OR8uWLVm9ejVDhw6NsI6otgJGVjak1dLHxwcnJyf99m9bZEPen9u3b4f6wuDVq1dhWvmyZs2Kr69vnLTofStt2rR06dKFLl268PLlS9zd3Rk3bpw+OY/OexRbGzdupGLFiixatCjUdh8fn1BdsKMTk6Gv28iULVuWSZMmcfDgQVKmTEmuXLnQaDTkzZuX48ePc/z4cerUqfPdeuLjPf/99995+/YtQ4cOpUWLFqxdu1b/hdymTZuwsrJi3759oZYTW7JkSZzHZcxjx0REP6usWbPi5eVF5cqV4/UzJIQQhiRjzoUQIp4cPnyYMWPGkDlzZv1SaZGpVasWWq2WP/74I9T2GTNmoNFoot3SampqSoMGDdi0aRNXr14N8/qrV68i3T+k1bx///40bNgw1K1x48aUL19eXyYitra2oZa5iknZkPGuX48DD1kK62tVqlTB3NycOXPmhGrVC2/m9caNG/Pvv/+yb9++MK/5+PgQHBwcpZgjo9Vqef/+fahtzs7OpEuXLlRXYltb2zDl4oqpqWmYFs8NGzbw9OnTUNtCumFH5Wdn6Os2MmXLliUgIICZM2dSpkwZfVJWtmxZVqxYwbNnz6I03jw612VsDBkyhF69erFhwwY6d+6s325qaopGownV++PBgwdhZhiPC8Y8dkxE9Plo3LgxT58+ZcGCBWFe+/z5M58+fYqP8IQQIlak5VwIIeLAnj17uHHjBsHBwbx48YLDhw9z4MABMmXKxPbt27GysvpuHT/99BMVK1ZkyJAhPHjwgIIFC7J//362bduGh4dHhMuQRWbixIl4enpSvHhxOnbsSJ48eXj79i0XLlzg4MGDvH37NsJ9V61ahZubW5juoSF+/vlnunfvzoULF3B3dw+3TOHChTl48CDTp08nXbp0ZM6cmeLFi0dY9u+//2bs2LFky5YNZ2dnKlWqRLVq1ciYMSPt27enX79+mJqasnjxYlKlSsWjR4/0+6dKlYq+ffsyYcIE6tSpQ61atbh48SJ79uwJMzFXv3792L59O3Xq1KFNmzYULlyYT58+ceXKFTZu3MiDBw8incwL4P3796HWr/9aixYt+PjxIxkyZKBhw4YULFgQOzs7Dh48yNmzZ5k2bVqo8163bh29e/emaNGi2NnZ8dNPP0V67JiqU6cOo0ePpm3btpQqVYorV66watWqMEMTsmbNipOTE3PnzsXe3h5bW1uKFy8e7rjduLhuI1KyZEnMzMy4efOmfhk0gHLlyvH3338DRCk5j851GVvTpk3j3bt3LFy4kOTJkzNp0iRq167N9OnTqVGjBs2aNePly5f8+eefZMuWjcuXL8dJHCGMeeyYiOjz0bJlS9avX89vv/2Gp6cnpUuXRqvVcuPGDdavX8++ffsoUqSIscMXQojIGWWOeCGE+EGFLGsUcrOwsFDSpEmjVK1aVZk1a5Z+2aevtW7dWrG1tQ23vo8fPyq9evVS0qVLp5ibmyvZs2dXpkyZEmrJJEVRlwYKb4mub5cmUhRFefHihdK1a1fFxcVFMTc3V9KkSaNUrlxZmT9/foTndf78eQVQhg0bFmGZBw8eKIB+2arwlqy6ceOGUq5cOcXa2jrUcmbhLaX2/PlzpXbt2oq9vb0ChFr+6fz580rx4sUVCwsLJWPGjMr06dPDrUOr1SqjRo1S0qZNq1hbWysVKlRQrl69Gu778vHjR2XQoEFKtmzZFAsLCyVlypRKqVKllKlTpyqBgYERnreiRL6UWsh7EBAQoPTr108pWLCgYm9vr9ja2ioFCxZU/vrrr1B1+fr6Ks2aNVOcnJwUQL9sVERLqYV37ZQvX17JmzdvmO2ZMmVSateurX/u7++v9OnTR//+lC5dWvn333+V8uXLh1lua9u2bUqePHkUMzOzUHF8u5RayHtp6Os2IkWLFlUA5fTp0/ptT548UQDFxcUlTPnoXJchZV+9ehWqfHjXWngi+vkEBwcr9erVUwBlwoQJiqIoyqJFi5Ts2bMrlpaWSq5cuZQlS5aEG2tES6l9u3xjRLGHF1NUjx2bn1fI9TtlypQIy0RlKbWIPh+Koi4BN2nSJCVv3ryKpaWlkixZMqVw4cLKqFGjlPfv33/3PIQQwtg0imLkGTyEEEIIIYQQQogkTsacCyGEEEIIIYQQRibJuRBCCCGEEEIIYWSSnAshhBBCCCGEEEYmybkQQgghhBBCCGFkkpwLIYQQQgghhBBGJsm5EEIIIYQQQghhZGbGDiA+6XQ6nj17hr29PRqNxtjhCCGEEEIIIYT4wSmKwsePH0mXLh0mJhG3jyep5PzZs2e4uLgYOwwhhBBCCCGEEEnM48ePyZAhQ4SvJ6nk3N7eHlDfFAcHByNHE7GgoCD2799PtWrVMDc3N3Y4QkRIrlWRWMi1KhIDuU5FYiHXqkgsEsq1+uHDB1xcXPT5aESSVHIe0pXdwcEhwSfnNjY2ODg4yC88kaDJtSoSC7lWRWIg16lILORaFYlFQrtWvze0WiaEE0IIIYQQQgghjEyScyGEEEIIIYQQwsgkORdCCCGEEEIIIYwsSY05F0IIIYQQQnyfoigEBwej1WrDvBYUFISZmRn+/v7hvi5EQhFf16qpqSlmZmaxXq5bknMhhBBCCCGEXmBgIN7e3vj5+YX7uqIopEmThsePH8c6GREiLsXntWpjY0PatGmxsLCIcR2SnAshhBBCCCEA0Ol03L9/H1NTU9KlS4eFhUWYpEan0+Hr64udnR0mJjJKViRc8XGtKopCYGAgr1694v79+2TPnj3Gx5LkXAghhBBCCAGoreY6nQ4XFxdsbGzCLaPT6QgMDMTKykqSc5Ggxde1am1tjbm5OQ8fPtQfLybk0ySEEEIIIYQIRZJuIaLHEJ8Z+dQJIYQQQgghhBBGJsm5EEIIIYQQQghhZJKcCyGEEEIIIUQ8Wbp0KU5OTt8tp9Fo2Lp1a5zE4OrqysyZM+OkbhFzkpwLIYQQQgghEi2NRhPpbeTIkfEe05o1azA1NaVr167fLTty5Ejc3NzCbPf29qZmzZoAPHjwAI1Gw6VLlwwcqUhIJDkXQgghhBBCJFre3t7628yZM3FwcAi1rW/fvvqyiqIQHBwc5zEtWrSI/v37s2bNGvz9/WNUR5o0abC0tDRwZCIhk+RcCCGEEEIIESFFUfj06VO83xRFiVJ8adKk0d8cHR3RaDT65zdu3MDe3p49e/ZQuHBhLC0tOXHiBG3atKFevXqh6vHw8KBChQr65zqdjgkTJpA5c2asra0pWLAgGzdu/G489+/f5+TJkwwcOJAcOXKwefPmCMsuXbqUUaNG4eXlpW/pX7p0KRC6W3vmzJkBKFSoEBqNRh9nhQoV8PDwCFVnvXr1aNOmjf75y5cv+emnn7C2tiZz5sysWrUqTBw+Pj506NCBVKlS4eDgQKVKlfDy8vruuQrDknXOhRBCCCGEEBHy8/PDzs4u3o/r6+uLra2tQeoaOHAgU6dOJUuWLCRLlixK+0yYMIGVK1cyd+5csmfPzrFjx2jRogWpUqWifPnyEe63ZMkSateujaOjIy1atGDRokU0a9Ys3LK//vorV69eZe/evRw8eBAAR0fHMOXOnDlDsWLFOHjwIHnz5sXCwiJK5wDQpk0bnj17hqenJ+bm5vTo0YOXL1+GKtOoUSOsra3Zs2cPjo6OzJs3j8qVK3Pr1i2SJ08e5WOJ2JHkXAghhBBCCPFDGz16NFWrVo1y+YCAAMaPH8/BgwcpWbIkAFmyZOHEiRPMmzcvwuRcp9OxdOlS5syZA0CTJk3o06cP9+/f17d+f83a2ho7OzvMzMxIkyZNhPGkSpUKgBQpUkRa7lu3bt1iz549nDlzhqJFiwJql/vcuXPry5w4cYIzZ87w8uVLfTf6qVOnsnXrVjZu3EinTp2ifDwRO5KcCyGESNQePACNBjJlMnYkQgjxY7KxscHX11f/XKfT8eHDBxwcHDAxibtRsjY2Ngarq0iRItEqf+fOHfz8/MIk9IGBgRQqVCjC/Q4cOMCnT5+oVasWAClTpqRq1aosXryYMWPGRD/wWLp+/TpmZmYULlxYvy1XrlyhZov38vLC19eXFClShNr38+fP3L17N75CFUhyLoQQIhH78AHc3cHEBO7fB3t7Y0ckhBA/Ho1GE6p7uU6nQ6vVYmtrG6fJuSF92z3exMQkzJj2oKAg/eOQLyN27dpF+vTpQ5WLbJK2RYsW8fbtW6ytrfXbdDodly9fZtSoUQZ/v753HlHh6+tL2rRpOXLkSJjXorLkmzAcSc6FEEIkWp8+wbt36uMtW6BVK+PGI4QQInFIlSoVV69eDbXt0qVLmJubA5AnTx4sLS159OhRpOPLv/bmzRu2bdvG2rVryZs3r367VqulTJky7N+/nxo1aoTZz8LCAq1WG2ndIWPMvy2XKlUqvL29Qx3r6tWrVKxYEVBbyYODgzl//ry+W/vNmzfx8fHR7+Pu7s7z588xMzPD1dU1Sucq4kbi+KpLCCGECEfatDB6tPp45UrjxiKEECLxqFSpEufOnWP58uXcvn2bESNGhErW7e3t6du3L7169WLZsmXcvXuXCxcuMGfOHJYtWxZunStWrCBFihQ0btyYfPny6W8FCxakVq1aLFq0KNz9XF1duX//PpcuXeL169cEBASEKePs7Iy1tTV79+7lxYsXvH//Xn8eu3btYteuXdy4cYPff/89VOKdM2dOatSoQefOnTl9+jTnz5+nQ4cOoVr2q1SpQsmSJalXrx779+/nwYMHnDx5kiFDhnDu3LmYvL0ihhJNcq7Vahk2bJh+KYOsWbMyZsyYKC+xIIQQ4sfUvLl6f+gQPHtm3FiEEEIkDtWrV2fYsGH079+fokWL8vHjR1p90/1qzJgxDBs2jAkTJpA7d25q1KjBrl27wp3YDWDx4sXUr18fjUYT5rUGDRqwfft2Xr9+He5rNWrUoGLFiqRKlYo1a9aEKWNmZsbs2bOZN28e6dKlo27dugC0a9eO1q1b06pVK8qXL0+WLFn0reYhlixZQrp06Shfvjy//PILnTp1wtnZWf+6RqNh9+7dlCtXjrZt25IjRw6aNGnCw4cPSZ069fffTGEwGiWRZLfjx49n+vTpLFu2jLx583Lu3Dnatm3LuHHj6NGjR5Tq+PDhA46Ojrx//x4HB4c4jjjmgoKC2L17N7Vq1dJ3rREiIZJrVRjT27dw8yYULQrly8PJkzBtGvTuHbasXKsiMZDrVCQE/v7++pnFrayswi0TXxPCCRFb8XmtRvbZiWoemmg+TSdPnqRu3brUrl0bV1dXGjZsSLVq1Thz5oyxQxNCCGEEu3ZBqVJQqRK0aKFuk67tQgghhEisEs2EcKVKlWL+/PncunWLHDly4OXlxYkTJ5g+fXqE+wQEBIQas/HhwwdA/WY6urMYxqeQ2BJyjEKAXKvCuA4cMAVMKF5cS/36Onr0MOPOHXj8OJhvl4CVa1UkBnKdioQgKCgIRVHQ6XTodLpwy4R0vA0pJ0RCFZ/Xqk6nQ1EUgoKCMDU1DfVaVH+vJ5pu7TqdjsGDBzN58mRMTU3RarWMGzeOQYMGRbjPyJEjGTVqVJjtq1evNui6iUIIIeKXokCHDtV488aaUaNOUrDgK65dS062bD5YWso/ikIIEVNmZmakSZMGFxcX/QzhQojvCwwM5PHjxzx//pzg4OBQr/n5+dGsWbPvdmtPNMn52rVr6devH1OmTCFv3rxcunQJDw8Ppk+fTuvWrcPdJ7yWcxcXF16/fp3gx5wfOHCAqlWrypgzkaDJtSqM5cYNKFDAHEtLhZcvg/lq0tlwybUqEgO5TkVC4O/vz+PHj3F1dY1wzLmiKHz8+BF7e/twJz8TIqGIz2vV39+fBw8e4OLiEu6Y85QpU343OU803dr79evHwIEDadKkCQD58+fn4cOHTJgwIcLk3NLSEktLyzDbzc3NE8UfvcQSpxByrYr4duyYel+6tAYHh9DXnqKAvz/hJuxyrYrEQK5TYUxarRaNRoOJiUmEE2iFdA8OKSdEQhWf16qJiQkajSbc3+FR/Z2eaD5Nfn5+Yd5QU1NTGecihBBJ0MGD6n2VKqG379wJefKAh0e8hySEEEIIESuJJjn/6aefGDduHLt27eLBgwds2bKF6dOnU79+fWOHJoQQIo4sWLCALFmyMHLkSPz8/ADQasHTU3392+Tcxkbt8r5+PXw1qkkIIYQQIsFLNMn5nDlzaNiwIV26dCF37tz07duXzp07M2bMGGOHJoQQIg5s2rSJzp07c//+fUaNGkWuXLlYu3YtoLBnD4wfD+7uofcpXx7SpwcfH9i92xhRCyGEEELETKJJzu3t7Zk5cyYPHz7k8+fP3L17l7Fjx8oskkII8QM6fvw4zZs3R1EU6tatS8aMGXn8+DFNmzalQoVyWFpeYNAg+GalEkxNoVkz9fGqVfEftxBCCCFETCWa5FwIIUTS8N9///Hzzz8TEBBAvXr12LRpEzdu3GD06NFYW1tz4sQJihQpQseOHXn58mWY/Zs3V+937FBb0IUQQoioWLp0KU5OTsYOI9qOHDmCRqPB5/9/9BLreXxLo9GwdetWY4cRryQ5F0IIkWA8ffqUGjVq4OPjQ6lSpVi9ejWmpqZYW1szbNgwvLxukS3bARSlAQsXLiZ79uxMnz6dwMBAfR0FCkC+fBAYCBs3GvFkhBBCxJs2bdpQr169UNs2btyIlZUV06ZNM05QBvTgwQM0Gk2YW4sWLShVqhTe3t44OjqGu+/IkSNxc3OLs9hCvhwI7/b8+fPv7h9RfN7e3tSsWTMOIg4tIX0JIMm5EEKIBOH9+/fUrFmTx48fkzNnTrZv3471N+uhPXiQgTt3quDsvJJChdz48OEDffr0oXz58mi1WgA0GmjRQi2/cmV8n4UQQoiEYOHChTRv3py///6bPn36GDscgzl48CDe3t76259//omFhQVp0qSJ83W8v/4iPDw3b94MFZu3tzfOzs4xPl6aNGnCXRb7RybJuRBCCKMLCAigfv36XLlyhTRp0rB3715SpEgRptyhQ+p9rVqWnDt3lkWLFmFvb8+pU6fYsWOHvlyzZmqCPnhwfJ2BEEL8+D59ivjm7x/1sp8/f79sbEyePJnu3buzdu1a2rZtq98+ffp08ufPj62tLS4uLnTp0gVfX98I6wlp0V28eDEZM2bEzs6OLl26oNVqmTx5MmnSpMHZ2Zlx48aF2u97xwnpdr5v3z5y586NnZ0dNWrUwNvb+7vnliJFCtKkSaO/OTo6hunW/rWlS5cyatQovLy89K3ZS5cuBcDHx4cOHTqQKlUqHBwcqFSpEl5eXmHOf+HChWTOnBkrK6tIY3N2dg4VW5o0afRLYR85coRixYpha2uLk5MTpUuX5uHDh5HG93WLdkjPgfXr11O2bFmsra0pWrQot27d4uzZsxQpUgQ7Oztq1qzJq1ev9DGdPXuW+vXr4+zsjKOjI+XLl+fChQv6111dXQGoX78+Go1G/xxg27ZtuLu7Y2VlRZYsWRg1ahTBwcHf/RnFhiTnQgghjEqn09G2bVs8PT2xs7Nj9+7dof44fu3r9c1NTExo164dXbp0AdRVPUK4uMCKFVCtWlxHL4QQSYednXpzcDAhQwYnHBxM9NsaNAhd1tn5S/lvb9/2VHZ1DVsmpgYMGMCYMWPYuXNnmCWXTUxMmD17NteuXWPZsmUcPnyY/v37R1rf3bt32bNnD3v37mXNmjUsWrSI2rVr8+TJE44ePcqkSZMYOnQop0+fjtZx/Pz8mDp1KitWrODYsWM8evSIvn37xvzEI/Drr7/Sp08f8ubNq2/N/vXXXwFo1KgRL1++ZM+ePZw/fx53d3cqV67M27dv9fvfuXOHTZs2sXnzZi5duhSjGIKDg6lXrx7ly5fn8uXL/Pvvv3Tq1AmNRhNpfOEZMWIEQ4cO5cKFC5iZmdGsWTP69+/PrFmzOH78OHfu3GH48OH68h8/fqRJkyYcO3aMU6dOkT17dmrVqsXHjx8BNXkHWLJkCd7e3vrnx48fp1WrVvTs2ZP//vuPefPmsXTp0jBfxBickoS8f/9eAZT3798bO5RIBQYGKlu3blUCAwONHYoQkZJrVRhC3759FUAxMzNT9u/fH2G5168VRaNRFFAUb+8v2x88eKCYmJgogHL16tVw95VrVSQGcp2KhODz58/Kf//9p3z+/DnMaxDxrVat0GVtbCIuW7586LIpU4YtE12tW7dWLCwsFEA5dOhQlPbZsGGDkiJFCv3zJUuWKI6OjvrnI0aMUGxsbJQPHz7ot1WvXl1xdXVVtFqtflvOnDmVCRMmROs4gHLnzh39tj///FNJnTp1hHXcv39fARRra2vF1tZWf7tw4YLi6empAMq7d+8iPI+CBQuGqu/48eOKg4OD4u/vH2p71qxZlXnz5un3Mzc3V16+fBlhXIqi6I//dVy2trZKnjx5FEVRlDdv3iiAcuTIkXD3Dy8+RVEUQNmyZUuo81+4cKH+9TVr1oT5eU+YMEHJmTOn/rlWq1XevXun/3lptVrF3t5e2bFjR7jHCVG5cmVl/PjxobatWLFCSZs2bYTvQ2SfnajmoWZxm/oLIYQQEZs1axZTp04FYPHixVStWjXCsp6e6r9sefNCmjRftmfKlIm6deuyZcsW/vjjD/7++2/9a5cvqy3oTZvG2SkIIUSSEdIzW6fT8eHDBxwcHPTdlr9d2jKcxTT0TL7pu/vggWHiK1CgAK9fv2bEiBEUK1YMu2+a4A8ePMiECRO4ceMGHz58IDg4GH9/f/z8/LCxsQm3TldXV+zt7fXPU6dOjampqf68Q7Z9vXpIVI5jY2ND1qxZ9fukTZs23BVIvrVu3Tpy586tf+7i4sK///773f2+5eXlha+vb5ghZCFLVofIlCkTqVKlilKdx48fD/VemZubA5A8eXLatGlD9erVqVq1KlWqVKFx48akTZs22nEXKFBA/zh16tQA5M+fP9S2r9/HFy9eMHDgQE6ePMnLly/RarX4+fnx6NGjSI/j5eXFP//8E6qlXKvVfvd6iS1JzoUQQhjF4cOH6dWrFwATJkygZcuWkZb/ukv7t7p3786WLVtYvnw5EyZM0C8hM2aMOmO7VmtC+fKGjF4IIZIeW1v1XqcDrVZ9/m2i/W3Z6NQbW+nTp2fjxo1UrFiRGjVqsGfPHn2y+ODBA+rUqcPvv//OuHHjSJ48OSdOnKB9+/YEBgZGmGyFJJghNBpNuNt0Ol20jhNeHWojbuRcXFzIli1b1N6QSPj6+pI2bVqOHDkS5rWvl2GzjcYPJ3PmzBEu4bZkyRJ69OjB3r17WbduHUOHDuXAgQOUKFEiWnF//b6FTID37baQnwWos/i/evWKGTNmkDlzZiwtLSlZsuR3J7fz9fVl1KhR/PLLL2Fe+97Y+9iQMedCCCHi3evXr2nZsiWKotC2bVsGDBjw3X1CWlbCS84rVKhAvnz58PPzY8mSJfrtIbO2r1tnwv8ncxdCCPEDy5QpE0ePHuX58+fUqFFDP7b4/Pnz6HQ6pk2bRokSJciRIwfPnj0z+PHj6zjRYWFhoV/RJIS7uzvPnz/HzMyMbNmyhbqlTJkyTuIoVKgQgwYN4uTJk+TLl4/Vq1dHGJ+hnDx5kk6dOlGrVi3y5s2LpaUlr1+/DlXG3Nw83Pfn5s2bYd6bbNmyheo1YWiSnAshhIhXiqLQvn17nj17Rq5cuZgzZ06Uln/ZuxcePoTKlcO+ptFo6N69OwB//vmn/lvzmjUheXJ49kzDv/+mM+h5CCGESJhcXFw4cuQIL1++pHr16nz48IFs2bIRFBTEnDlzuHfvHitWrGDu3LkGP3Z8HSc6XF1duX//PpcuXeL169cEBARQpUoVSpYsSb169di/fz8PHjzg5MmTDBkyhHPnzsXoOC9fvuT58+ehbkFBQdy/f59Bgwbx77//8vDhQ/bv38/t27f13fPDi89QsmfPzvr167l+/TqnT5+mefPmYZZpdXV15dChQzx//px3794BMHz4cJYvX86oUaO4du0a169fZ+3atQwdOtRgsYVHknMhhBDx6u+//2b79u1YWFiwZs2aaHWZy5gRvvmbqte8eXOcnJz0M+sCWFhAyKSvU6cWpXRpU1asgO/0ZhNCCJHIZciQgSNHjvD69WuqV69O5syZmT59OpMmTSJfvnysWrWKCRMmGPy4BQsWjJfjREeDBg2oUaMGFStWJFWqVKxZswaNRsPu3bspV64cbdu2JUeOHDRp0oSHDx/qx3JHV86cOUmbNm2o2/nz57GxseHGjRs0aNCAHDly0KlTJ7p27Urnzp0jjM9QFixYgI+PD0WKFKFly5b06NEjzNrr06ZN48CBA7i4uFCoUCEAqlevzs6dO9m/fz9FixalRIkSzJgxg0yZMhkstvBolKgMbvhBfPjwAUdHR96/f4+Dg4Oxw4lQUFAQu3fvplatWmHGowiRkMi1KqLr6tWrFC1aFH9/f2bMmIGHh0eU9lMUiELjOn379mXatGlUr16dvXv3AuDjA1276li/HoKDTUiRAp48gTgcMiZEjMjvVJEQ+Pv7c//+/UjXtQ5vQjghEqL4vFYj++xENQ+VT5MQQoh48fnzZ5o0aYK/vz81a9akZ8+eUdpPp4Ps2aFOHfD2jrxsly5d0Gg07Nu3j5s3bwLg5ARLl2pZuHA/o0ZpGTToS2Ku00HXrnD4sPoFgBBCCCGEschs7UIIIeJF3759uXbtGqlTp2bp0qVRGmcOcPUq3L2rJubfrPgSRpYsWahTpw47duzgjz/+YM6cOfrXnJwCaNZMh7n5l/V+Dh6Ev/5Sb2nSQLZs4Or65VahAny10o0QQgghRJyRlnMhhBBxbtu2bfz1118ALF++PMx4r8iELKFWvrw6hvx7QiaGW7p0KR8+fIi0bNas0KUL2NnB8+dw4gSsXAljx0KHDnD8+JeyigJXrkQ5bCGEEEKIaJHkXAghRJx6+vQp7dq1A6BPnz5Uq1YtWvsfOqTeh7eEWniqVKlCrly58PX1ZdmyZZGWzZoV/vxTbZU/dQrWroWJE+G336BGDciTRy3n5we//AJFi8KlS9EKXwghhBAiSqRbuxBCiDij1Wpp2bIlb9++xd3dnfHjx0dr/8BAOHpUfRzV5Fyj0dCtWze6devGH3/8QdeuXb+7j50dFC+u3sJjZQVBQRAQAI0awblz4OgYxZMQQohEKAnNGS2EQRjiMyMt50IIIeLM5MmT8fT0xMbGhtWrV2MRlX7pXzl9Gj59glSpIF++qO/XqlUr7O3tuXXrFgcOHIhm1GGZmMCyZepSbnfuqF3e5f9WIcSPKGSlAD8/PyNHIkTiEvKZic1qG9JyLoQQIk6cOXOGYcOGATBnzhxy5swZ7Tq2blXvK1dWE+Sosre3p23btsyePZs5c+ZQqVKlaB/7WylSwPr1ULYsbNwIf/wB/x/eLoQQPwxTU1OcnJx4+fIlADY2NmEm8NTpdAQGBuLv7y9LqYkELT6uVUVR8PPz4+XLlzg5OWFqavr9nSIgybkQQog4MX78eLRaLY0bN6Zt27YxquPXX2HbNmjcOPr7duvWjdmzZ7N7927u3r0bo+N/q3hxmDIFPDygTx/1ebFiBqlaCCESjDRp0gDoE/RvKYrC58+fsba2jvLKG0IYQ3xeq05OTvrPTkxJci6EEMLgFEXh9OnTAHh4eMT4D2KxYuoM6SHrkkdH9uzZqVmzJnv27GHu3LlUrFgxRjF8q0cPdRb3TZugeXO4fh3M5K+pEOIHotFoSJs2Lc7OzgQFBYV5PSgoiGPHjlGuXLlYdeEVIq7F17Vqbm4eqxbzEPLvhBBCCIN7+vQpz58/x9TUlIIFC0Z7/0eP1PHdANbWMY+je/fu7Nmzh6VLl1KiRImYV/QVjQYWLYJ372DcOEnMhRA/LlNT03ATDlNTU4KDg7GyspLkXCRoie1alUEiQgghDO7cuXMA5M2bFxsbm2jtu3Il5MgB/18WPVaqV69O9uzZef/+PStWrCAwMDD2laLO1H7oEBgo3xdCCCGEkORcCCGE4YUk50WLFo3Wfnfvwu+/q0uWvXkT+zhMTEwYOHAgALt376Zs2bJcu3Yt9hV/48oVdZ10IYQQQoiYkuRcCCGEwZ09exaAIkWKRHmfoCBo1gx8faFcORg82DCxtGvXjlWrVmFvb8/FixcpXLgw06dPR6fTGaT+o0fVsfENGkAEcycJIYQQQnyXJOdCCCEMSlEUfct5dJLzESPgzBlwclK7thtgXhW9Ro0aMWvWLGrWrElAQAB9+vShUqVKPHjwINZ1Fy4MmTPDs2fqlwuyNLAQQgghYkKScyGEEAb14MED3r59i4WFBfnz54/SPp6eMHGi+njhQnBxMXxcyZMnZ+vWrcyfPx9bW1uOHj1KgQIFWLJkCYqixLheOzt13XMbG3UceuHCcPGiAQMXQgghRJIgybkQQgiDCunSXqBAASwtLb9b/t07aNkSFAU6dlS7h8cVjUZDx44d8fLyonTp0nz8+JF27dpRv379CNfzjYo8eWDnTkibFm7cUNc/nzoVDNRzXgghhBBJgCTnQgghDCq6XdodHKBrV8ifH2bMiMvIvsiaNStHjx5l4sSJmJubs23bNtzc3PD29o5xnRUrwuXLULeuOn6+Xz/YscOAQQshhBDihybJuRBCCIOK7kztpqYwaBCcOwe2tnEZ2bfHNWXAgAGcO3eOHDly4O3tTatWrWI1UVzKlLBlC8ybp44///lnAwYshBBCiB+aJOdCCCEMRqfTcf78eeD7LedPnoC//5fnFhZxGVnEChQowLZt27CxseHgwYNMnTo1VvVpNNCpE6xapT4G8PGBgQPh06fYxyuEEEKIH5Mk50IIIQzm9u3bfPjwAWtra/LkyRNhucBAtft3kSLqGG1jy5UrF7NmzQJgyJAh+nHzhtKtG0yaBO7u8N9/Bq1aCCGEED8ISc6FEEIYTEiX9kKFCmFmZhZhudGj4cIF8PZWx5wnBO3bt6dhw4YEBwfTtGlTPn78aLC627WD9Onh1i110jshhBBCiG9Jci6EEMJgQlqcI+vSfvIkTJigPp4/H9Kli4/Ivk+j0TB//nwyZszI3bt36datm8HqrlQJ/v1X7eZ+8iQ8emSwqoUQQgjxg5DkXAghhMF8bzK4jx/VZdN0OmjVKm6XTYuJZMmSsWrVKkxMTFi+fDmrVq0yWN0uLlCunPp440aDVSuEEEKIH4Qk50IIIQwiODiYixcvAhG3nPfuDffuQcaMMHt2fEYXdWXKlGH48OEA/P7779y7d89gdTdurN6vX2+wKoUQQgjxg5DkXAghhEFcv34dPz8/7O3tyZEjR5jXt2+HhQvVrt3Ll4OjoxGCjKIhQ4ZQpkwZPn78SNOmTQkKCjJIvb/8AiYmcPo0PHhgkCqFEEII8YOQ5FwIIYRBhHRpL1y4MCYmYf+8uLlBhQrQty+ULx+/sUWXmZkZq1atwsnJiTNnzjBixAiD1JsmDfTsCXPmgJOTQaoUQgghxA8i4ql0hRBCiGj43mRwGTPCoUOg1cZnVDGXMWNGFixYQKNGjZg4cSJVqlShUqVKsa53+nQDBCeEEEKIH460nAshhDCIiCaD8/b+8tjEBMzN4zOq2GnYsCEdOnRAURRatGjB69evjR2SEEIIIX5QkpwLIYSItcDAQLy8vIDQLed37kCOHNC1KwQEGCu62Jk5cya5cuXC29ubJk2aEBgYGOs6X72CefNg3ToDBCiEEEKIH4Ik50IIIWLtypUrBAYGkjx5cjJnzgxAcLC6XJqvL1y7BmaJdCCVra0t69atw87OjkOHDtGxY0cURYlVnVu3wm+/weTJholRCCGEEImfJOdCCCFiLaRLe5EiRdBoNADMnAn//gsODrBsGZiaGjHAWCpQoADr16/H1NSU5cuXM3LkyFjVV7+++n5cuKD2LhBCCCGEkORcCCFErH2dnIdYsUK9nzQJMmUyRlSGVbNmTebOnQvA6NGjWbRoUYzrSpkSKldWH8ua50IIIYQASc6FEEIYwLcztb98CZcvq681aGCsqAyvQ4cODB06FIDOnTuzb9++GNfVuLF6L8m5EEIIIUCScyGEELH0+fNnrl69CnyZqd3TU32tQAFIlcpYkcWN0aNH07JlS7RaLQ0bNuTSpUsxqqd+fXUcvpcX3Lxp2BiFEEIIkfhIci6EECJWvLy80Gq1pE6dmvTp0wNw+LD6mgGWBU9wNBoNCxcupFKlSvj6+lKrVi0ePXoU7XqSJ4eqVdXH0nouhBBCCEnOhRBCxMrXXdpDJoObNEmdkbxdOyMGFocsLCzYvHkz+fLlw9vbm1q1auHj4xPteho3VieGe/7c8DEKIYQQInGR5FwIIUSshEwGF9KlHcDJCerWhfz5jRRUPHB0dGT37t2kS5eOa9eu8csvv0R7DfRGjcDbG/78M46CFEIIIUSiIcm5EEKIWAlvpvakwsXFhV27dmFnZ4enpyft27eP1hrotrY/3ph8IYQQQsSMJOdCCCFi7OPHj1y/fh34kpyPGQPDhsHdu8aMLP64ubmxadMmTE1NWblyJQMGDIhRPd7eBg5MCCGEEImKJOdCCCFi7OLFiyiKgouLC6lTp0ZR4K+/YOxYePzY2NHFn2rVqunXPZ8yZQrTpk2L8r46HVSpAunSwbVrcRWhEEIIIRI6Sc6FEELE2Ldd2q9fVyc3s7KCEiWMGVn8a926NZMmTQKgb9++rFy5Mkr7mZio3dsB1q2Lq+iEEEIIkdBJci6EECLGQmZqD5kM7tAhdXuZMmqCntT069ePXr16AdC2bVv27NkTpf0aN1bv16+HaAxZF0IIIcQPJFEl50+fPqVFixakSJECa2tr8ufPr2+1EUIIEf++bTkPSc4rVzZWRMal0WiYOnUqzZs3Jzg4mIYNG3L69Onv7vfTT2BpCTdvwpUr8RCoEEIIIRKcRJOcv3v3jtKlS2Nubs6ePXv477//mDZtGsmSJTN2aEIIkSS9e/eOO3fuAFC4cGGCg+HIEfW1pJqcA5iYmLB48WKqV6+On58ftWvX5saNG5Hu4+AANWuqj9evj4cghRBCCJHgJJrkfNKkSbi4uLBkyRKKFStG5syZqVatGlmzZjV2aEIIkSSdP38egKxZs5I8eXIuXID378HREdzdjRyckVlYWLBx40aKFSvGmzdvqFatGk+ePIl0n5Cu7evWJY6u7Xfv3sVbppgXQgghDMbM2AFE1fbt26levTqNGjXi6NGjpE+fni5dutCxY8cI9wkICCAgIED//MOHDwAEBQURFBQU5zHHVEhsCTlGIUCu1aQupLu2u7s7QUFBPHigIVkyU8qUUdDptOh0Rg7wK8a4Vi0tLdm6dSsVKlTg1q1bVK9eHU9Pzwh7fNWoAVZWZty5o+HixSDy54+3UKPl8+fPDB8+nFmzZpEuXTquXr2KnZ2dscP6IcjvVJFYyLUqEouEcq1G9fgaRUkM38+D1f9nFurduzeNGjXi7Nmz9OzZk7lz59K6detw9xk5ciSjRo0Ks3316tXY2NjEabxCCPGjmzhxIqdOnaJNmzbUq1cPAK0WPn0yx8FB/mEL8fLlSwYOHMjbt2/JnTs3I0eOxNLSMtyyS5fmIXPmD5QvH3kru7HcuXOHmTNnhuoF0K5dO37++WcjRiWEEEIkbH5+fjRr1oz379/j4OAQYblEk5xbWFhQpEgRTp48qd/Wo0cPzp49y7///hvuPuG1nLu4uPD69etI3xRjCwoK4sCBA1StWhVzc3NjhyNEhORaTdqyZcvGo0ePOHjwIOXKlTN2OJEy9rV65coVKleujI+PDx06dOCvv/6K9xhiIygoiEmTJjF+/HiCg4NJkyYNtWvXZtGiRaRLl46bN29G+IWDiDpjX6dCRJVcqyKxSCjX6ocPH0iZMuV3k/NE0609bdq05MmTJ9S23Llzs2nTpgj3sbS0DPefBXNz80TxiySxxCmEXKtJz8OHD3n06BEajYZixYqhKOaYm4NGY+zIImesa9Xd3Z3169dTrVo1Vq5cyZQpU3Bycop0n5cv1Qn2QsaiG8vNmzdp2bKlftm8Ro0a8ffff2NnZ8fevXt5+vQpa9asiXSYmYge+Z0qEgu5VkViYexrNarHTjQTwpUuXZqbN2+G2nbr1i0yZcpkpIiEECJpunnzJhUrVgTUJdTs7e0ZMwYyZYL5840cXAJWpUoV8uXLh7+/P6tXr4607PPn4OYGzZrB8ePxE9+3dDodc+bMwc3NjbNnz+Lk5MTq1atZt24dKVKkwNLSkr59+wLqpK3BwcHGCVQIIYT4QSSa5LxXr16cOnWK8ePHc+fOHVavXs38+fPp2rWrsUMTQogk459//qFUqVLcv3+frFmz6pPMQ4fg8WMwSzT9seKfRqOhQ4cOACxatCjSsqlTq8vRabXQtCm8fh0fEX7h7e1NtWrV6NGjB/7+/lSrVo2rV6/StGlTNF91j+jYsSMpUqTg7t27bNiwIX6DFEIIIX4wiSY5L1q0KFu2bGHNmjXky5ePMWPGMHPmTJo3b27s0IQQIknYuHEjlStX5u3btxQvXpx///2XbNmy8eEDnDmjlknK65tHRYsWLbCwsODChQtcvHgxwnIaDfz9N+TMCU+fQqtWxNvs94qi8Ouvv3Lo0CGsra35888/2bt3L+nTpw9T1tbWFg8PDwDGjx+PLiFN0S+EEEIkMokmOQeoU6cOV65cwd/fn+vXr8v4NiGEiCczZsygcePGBAQEULduXQ4fPkyqVKkAOHZMbeHNkkXt2i4iliJFCurXrw98v/Xczg7WrwcrK9izB6ZOjY8IYd26dRw/fhxra2vOnz9Ply5dQrWWf6tbt27Y29tz9epVdu7cGT9BCiGEED+gRJWcCyGEiF9arRYPDw969+6Noih069aNTZs2hVqO8tAh9V5azaOmffv2AKxcuZLPnz9HWrZAAZg1S308eDB8tWBJnPj06RP9+vX7//EGkzt37u/u4+TkpB9iNm7cOBLJIjBCCCFEgiPJuRBCiHB9/vyZxo0bM+v/2eHUqVOZPXs2pqamocpJch49lStXJlOmTLx//57Nmzd/t3zHjtCkido7YdiwuI1t0qRJPHnyBFdXV/r06RPl/Tw8PLCysuLMmTN4enrGYYRCCCHEj0uScyGEEGG8fv2aKlWqsHnzZiwsLFi3bh19+vQJ07355Uu4ckV9XKmSEQJNhExMTGjXrh0ACxcu/G55jQbmzYPevWHLlriL68GDB0yZMgWAadOmYW1tHeV9U6dOrZ/sbvz48XESnxBCCPGjk+RcCCFEKIqi0LBhQ06ePEmyZMk4ePAgjSNYbDsoCHr2hIYN4f9D0EUUtG3bFo1Gw5EjR7hz5853yzs4wLRp6n1c6du3L/7+/lSqVEk/Lj66+5uZmXHo0CFOnz4dBxEKIYQQPzZJzoUQQoSyadMmjh49irW1NSdOnKBs2bIRlk2fHmbOBFlFK3pcXFyoXr06AIsXL47Wvjod7NgBvr6Gi8fT05NNmzZhamrKrFmzIp0ALiKZMmWiRYsWAEyYMMFwwQkhhBBJhCTnQggh9Pz9/enfvz8A/fv3J0+ePEaO6McV0g186dKlBAcHR3m/n39Wb0uWGCaO4OBgevToAcDvv/9Ovnz5YlzXgAED0Gg0bNu2jatXrxomQCGEECKJkORcCCGE3uzZs7l//z7p0qXTz9odkVevwNMT/P3jKbgfzE8//USqVKnw9vZmz549Ud6vdm31fuZMdZK4EIGBgRw5coTBgwfTtWtXbt++HaX65s2bx9WrV0mRIgWjRo2KxhmElStXLho0aADAxIkTY1WXEEIIkdRIci6EEAKAly9fMnbsWEDtlmxraxtp+R071EngatSIj+h+PBYWFrRq1Qr4/prnX2vdGpInh3v34M8/nzBr1ixq165N8uTJqVixIhMmTOCvv/7Czc2NefPmRbq02Zs3bxj2/yngx4wZQ/LkyWN3UsCgQYMAWLNmDffu3Yt1fUIIIURSIcm5EEIIAIYPH87Hjx8pUqSIfuxwZEKWUItkSLr4jpA1z3fu3Im3t/d3yyuKwoED23Bx2QlAz54P8PDwYPfu3Xz69InUqVPTokULKlSogJ+fH7/99ht16tTh+fPn4dY3fPhw3r17R4ECBejUqZNBzsnd3Z0aNWqg0+mYPHmyQeoUQgghkgJJzoUQQnDlyhUWLFgAwPTp0zExifzPg6LA4cPqY1nfPOZy585NqVKl0Gq1LF++PNKyAQEBtGnThnr16uHl1REIBMpQrFh3pkyZgpeXF97e3qxYsYJDhw4xY8YMLC0t2b17N/ny5Quzpvrly5eZO3cuQLjr18fG4MGDAViyZAlPnz41WL1CCCHEj0yScyGESOIURaFPnz7odDoaNmwY6ezsIby84PlzsLKCEiXiIcgfWMjEcIsWLYqwC3rIuvPLly/H1NSUHj0aU7XqKwAyZ55N3759KVCggH6WdRMTEzw8PDh//jxubm68efOGBg0a0LZtWz58+ICiKPTo0QOdTkejRo0oX768Qc+pbNmylClThsDAQHr06BFp13ohhBBCqCQ5F0KIJG737t0cOHAACwsLJk2aFKV9Zs9W7+vUURN0EXONGjXCzs6O27dvc/z48TCv37hxg+LFi3PixAkcHR3Zs2cPs2bNYsqU9ADcv6+uNx+evHnzcvr0aQYOHIhGo2Hp0qUUKFCAoUOHcvToUaysrJgyZUqcnNe0adMwNzdn8+bNTJ8+PU6OIYQQQvxIJDkXQogkLCgoiD59+gDg4eFBlixZvruPtzesXKk+/v+uIhbs7Oxo2rQpAAsXLgz12sGDBylRogT37t0jc+bMnDx5kqpVqwJQsCBcuACnToG5ecT1W1hYMGHCBI4dO4arqysPHz5k/PjxgLr0WaZMmeLkvIoVK8bMmTP1xzl27FicHEcIIYT4UUhyLoQQSdjcuXO5efMmqVKlYsiQIVHaZ/dutaW2TBnp0m4oIRPDbdy4kffv3wPqEmc1atTg/fv3lC5dmtOnT4dZd75QIfh/T/bvKlOmDJcvX9YfK3PmzPo17ePC69cQHPw7ZcrMQastRMOGnXn69FmcHU8IIYRI7MyMHYAQQgjjePfuHSNHjgTUZbQcHByitF/79lCsGAQExGFwSUyxYsXIly8fV69eZeXKldy5c0ff6tyiRQsWLlyIpaVlhPt/+AC3b0PhwpEfx97enoULF9KrVy9Sp06NjY2NAc/ii8+foWZNOHdOA3QDuvHqFWTK5Mvz50GkTKk29Z84ASlTQq5ccRKGEEIIkahIy7kQQiRRo0eP5u3bt+TLl0/fmhpV+fNDkSJxFFgSpNFo9D+Dnj176hPzsWPHsnz58kgT89OnIUMG+OUXCA6O2vHy5s1LypQpYxt2uBQF2rWDc+cgWTK1h4WzsxqYVqtj7Nj++nKTJkHx4moyL4QQQiR1kpwLIUQSdOvWLf744w9AXTrNzOz7HamCg+GZ9EqOMy1atMDCwgKtVouVlRXr1q1jyJAh+hnYI1KggDop36NH8M1qaUbx6BEcOgRmZrBlCxw/Di9emLF27XbAjVmzZrJ+/XoAdu5UW/2vXjVuzEIIIURCIMm5EEIkQf369SM4OJjatWvrJxj7no0bwdUV+vaN29iSqpQpUzJw4EDy58/PkSNHaNy4cZT2s7aGLl3Ux9OmqS3SxpQpE5w9C6tXw9crtP36688MGKCeU7t27bh+/T8qV1Zf8/IyQqBCCCFEAiPJuRBCJDFz5sxh+/btmJmZMXXq1CjtoygwZYo6EVwUh6aLGBg1ahSXL1+mePHi0dqvSxewtIQzZ+Dff+MouO/Qar88zpQJGjUKW2bs2LFUrFiRT58+0aBBA3LnDgQkORdCCCFAknMhhEgyFEVh1KhR9OjRA4DBgweTK4ozcR05oi7bZWX1pZVWJBzOztCypfp42rT4P/6rV+rM8du3R17OzMyMtWvXkj59em7cuMHp0/MAuHw5HoIUQgghEjhJzoUQIgnQ6XT06NFDPzv76NGj9Y+jIqSBvW1bdXZtkfB4eKj3W7bA3bvxd9zAQGjQAK5cgX791OeRcXZ2ZsOGDZibm3P2rLquu5eX8bvjCyGEEMYmybkQQvzggoKCaNmyJX/88QcajYY//viDYcOGfXeisRDXrqlrm2s00Lt3HAcrYixvXqhRQ/05HTsWP8dUFOjaVZ30zcEBtm4FC4vv71eyZEmmT58OXAcCef9enUhOCCGESMpknXMhhPiB+fn50bhxY3bt2oWZmRnLly+nadOm0apj+nT1vn59yJYtDoIUBjN9ujpBnKtr/BxvzhxYuBBMTGDtWsidO+r7du3alYMHD7Jt2yLSpbPHxKQZ0mYghBAiKZO/gkII8YPy8fGhevXq7Nq1C2tra7Zt2xbtxNzPT+0mDTJLe2KQO3f8JeYHDkCvXurjyZOhZs3o7R/Si8PefgDPnrVk5855hg9SCCGESEQkORdCiB/Q8+fPqVChAidOnMDR0ZH9+/dTq1ataNdjYwO3b6utoyVLxkGgIs54esKsWXFT95s38OuvoNNBmzYxH+6QIUMGxo0bB8DAgQN59uyZ4YIUQgghEhlJzoUQ4gdz//59ypQpg5eXF6lTp+bo0aOUKVMmxvWlSAHt2xswQBHn/vsPqlZVW7Z37TJ8/VotNG8OxYvD3LnqOPeY6tKlC4UKVeHDh7x4hMxqJ4QQQiRBkpwLIcQPZOfOnRQtWpS7d+/i6urKiRMnKFiwYIzqev3awMGJeJMnD3TsqE7Y1qwZ3Lhh2PqdndXx5idPquurx8a7d6ZcvHgAOMGGDbvZFRffJgghhBCJgCTnQgjxAwgICKBXr1789NNPvHnzBnd3d/755x+yxXAGt+BgKFoUSpeG+/cNHKyIF7NmQZky8OED1KsH798b/hgmBvgvImVKSJMG1H9J8tGlSxd8fX1jX7EQQgiRyEhyLoQQidydO3coXbo0M2fOBMDDw4OTJ0+SLl26GNe5ahU8eAC3boUkTiKxsbCAjRshQwa4eRNatFDHiMdGcDD8/jucPm2YGEOEdO5InrwSjx49YsSIEYY9gBBCCJEISHIuhBCJ2Jo1a3B3d+f8+fMkT56c7du3M2PGDCxj0Nf42TOYNg0KFVIn+QLo1k1dmkskTqlTq7PtW1nBzp0wfHjs6tu8WR1jXrs2+PsbJkb4kpyXKNEZgJkzZ3LhwgXDHUAIIYRIBCQ5F0KIROjTp0+0b9+eZs2a8fHjR8qWLYuXlxc//fRTjOobPFhtYe3bFy5dAnNzaNoU+vQxbNwi/hUpAgsWqI8fPox567miqEumgfqljZWVYeKDL8m5j08mGjdujE6no1OnTmi1WsMdRAghhEjgJDkXQohE5sqVKxQtWpTFixej0WgYNmwYhw8fJkOGDFGuw9MTnj//8jxXLjX5KlNGbRl9/hxWrwY7uzg4ARHvWrRQf+bLl8d8nLinJ5w/r/ak6NrVsPGFJOeXL8P06TNxdHTk/Pnz/PHHH4Y9kBBCCJGASXIuhBCJyOLFiylWrBjXr18nbdq0HDp0iNGjR2NmZhblOk6cgMqVYeXKL9saNIB79+D4cejcGZInj4PghVFVqPBlyTOdDqI751pIq3m7dpAqlUFDI2dOddZ3X18ICEjLxIkTARg6dCiPHz827MGEEEKIBEqScyGESAQ+f/5Mhw4daN++Pf7+/tSoUYNLly5RsWLFaNe1fLnaSn7w4JdttraQObMBAxYJ1ocP8MsvULcuBAREbR8vL9i3T211793b8DGZmcGIETBvHjg6QqdOnShVqhS+vr5069YNRVEMf1AhhBAigZHkXAghErh79+5RunRpFi1ahEajYezYsezatQtnZ+do16XVwtat6uO+fQ0bp0gcHj9Wv5g5fBhat47aGPQpU9T7Ro0gS5a4iWvQIOjUCVKkABMTE+bNm4eZmRnbt29na8hFK4QQQvzAJDkXQogEbOfOnRQuXJiLFy+SMmVK9u3bx5AhQzCJ4cDhEyfg1Su123r58gYOViQKefOqM7ibm8O6deDhofakiEypUpApE/TrFy8hApAvXz76/f+Affv2JSCqzfxCCCFEIiXJuRBCJEBarZZhw4bx008/4ePjQ/Hixblw4QJVq1aNVb2bNqn3P/+sJmciaapaFZYtUx/PmQMTJkRevksXuHsXCheOu5iCguDUqdBzIQwePJg0adJw7949/v7777g7uBBCCJEASHIuhBAJzKtXr6hRowZjx44FoHv37hw7dgwXF5dY1avTqetUgzoBnEjamjaFWbPUx0OGwMKFkZc3NY3beD5+hJIloWVLdVw8gJ2dHWPGjAFg9OjRvHv3Lm6DSATevn2Ln5+fscMQQggRByQ5F0KIBOTMmTO4u7tz8OBBbGxsWL16NbNnz8bCwsIAdcPTp2Bvr7acCtGjhzrWG9Q17d+8Cf36kiWwYoXaqh3XkieHkNUAL1/+sr1t27bkzZuXd+/eMW7cuGjXq9Vq2bVrF69evTJQpMbz33//4erqSrp06Rg5cqR8WSGEED8YSc6FECKBePnyJTVq1ODJkyfkzJmTM2fO0LRpU4PVX6CA2q19wgR12SohAMaNUxPzAwfUydhCfP4MAwZAq1bqGPX4ELLeuZfXl22mpqZM+f+MdHPmzOH+/fvRqrNbt27UqVOHfPnycfjwYUOFGu8URaFbt258/PiR9+/fM2rUKDJlysTQoUN58+23KkIIIRIlSc6FECKB6NevH+/evcPNzY0zZ86QN29eg9ZvY6MuodW1q0GrFYmcRgNTp0KxYl+2KYo6Jv3VK3UiuPr14yeW8JJzgBo1alClShUCAwMZPHhwlOtbvnw5c+fOBdQvv6pWrcrYsWPRRWWK+v/TarUsXLiQggULUq1aNebOncvz58+jvL+hrFu3Dk9PT6ysrPj777/Jnz8/Hz9+ZNy4cbi6ujJo0KAfoneAEEIkZZKcCyFEAnDkyBGWL1+ORqNh3rx5ODg4GDskkUSdOweFCsGkSerz3r3jb/LAkOT8627tABqNhilTpqDRaFi7di2nT5/+bl1eXl507twZgIEDB9K2bVt0Oh3Dhg2jdu3avH79+rt1nDp1iuLFi9OxY0cuX77MgQMH+P3330mXLh3lypVj5syZPHr0KNrnGV0fP36kT58+gDpJ3m+//calS5fYvHkzbm5u+Pr6MnHiRFxdXenXrx8vXryI85iEEEIYniTnQghhZIGBgfz+++8A/PbbbxT7ugnTQObOhZEj1Rm3hYiIoqjj0L284MEDdRx4+/bxd/wCBdT7K1dAqw39mpubG61btwbUpdWUSNZ/8/HxoUGDBvj7+1OjRg3GjRvH4sWLWbx4MVZWVuzdu5dChQrx77//hrv/8+fPadOmDSVLluT8+fM4ODgwefJkJk6cSNGiRVEUhePHj9OrVy8yZcpEsWLFmDhxInfj6AM2evRonj17RtasWfXLy5mYmFC/fn0uXLjA9u3bKVKkCH5+fkydOpXMmTNz6NChOIlFCCFE3JHkXAghjGzq1KncuHEDZ2dnxo8fHyfHmD0bRo2CCHIRIQC1i/uGDZAxo/q8WzewtY2/42fPDtbW4OcX/hdJY8aMwdramhMnTrBt27Zw69DpdLRu3Zq7d++SKVMmVq5ciYmJ+u9O27ZtOX36NNmzZ+fJkyf61u+QRD8wMJBp06aRI0cOlv1/rbm2bdty69Yt+vXrx4ABAzhz5gwPHz5k5syZlC1bFo1Gw9mzZxk0aBA5cuRgxowZkX5xEF3//fcfM2fOBGDWrFlYWVmFel2j0fDTTz9x5swZdu/eTZEiRfj8+TOtW7fGx8fHYHEIIYSIe5KcCyGEEd27d0+/VNT06dNxcnIy+DGuX1dv5uZQp47Bqxc/mPTp4cQJ+OsviMbwboMwNYUFC+DQoS8zt38tQ4YM9O7dG4D+/fsTFM408pMmTWL79u1YWFiwadMmUnw9yx1QoEABzp07R6NGjQgODqZXr140bNiQbdu2UbBgQfr27cvHjx8pWrQop06dYvHixaROnTpUHRkzZqRnz54cO3YMb29v5s6dS4UKFdDpdPTu3Zvffvst3NiiK2QSuODgYOrWrUvt2rUjLKvRaKhZsyZHjx4le/bsPH36FA8Pj1jHIIQQIv5Ici6EEEYS8o+3v78/lSpVolmzZnFynJC1zatUgTjI/cUPyMUFfv/dOLP6N28OlSqpExiGZ8CAATg7O3P79m3mzZsX6rVDhw4xdOhQAP744w8KFy4cbh0ODg6sW7eOOXPmYG5uzubNm6lXrx43btwgVapULFq0SD/e/HtSp05N586dOXz4MFOnTkWj0TB//nxq1KjB27dvo3fy3/h6EriQ1vPvsbGxYenSpWg0GpYtW8b27dtjFYMQQoj4I8m5EEIYyebNm9mzZw8WFhb89ddfaDSaODqOev/LL3FSvRDxyt7enlGjRgEwcuRI3r9/D8CTJ09o2rQpOp2Otm3b0qFDh0jr0Wg0dOvWjRMnTpApUyZMTU3x8PDg1q1btGvXTt8VPqo0Gg19+vRh27Zt2NnZcfjwYUqUKMGtW7didJ7fTgLn6uoa5X1LlSql37dTp06y1JoQQiQSkpwLIYQRfPz4kZ49ewJqS2DOnDnj5Dj378OFC2BiAnXrxskhhDCoT59g1Sr4/2iPcHXo0IFcuXLx5s0bJk6cSGBgII0aNeLVq1e4ubnx559/RvnLrmLFinHz5k28vb2ZMWNGrIeW/PTTT/zzzz9kzJiR27dvU6JEiRitrx7eJHDRMWbMGHLnzs2LFy/o3r17tPcXQggR/yQ5F0IIIxgxYgRPnz4lS5YsDBo0KM6OE9JqXr48pEoVZ4cRwmCCgqBFCxg+HN69C7+MmZkZU6ZMAWDGjBm0atWKU6dO4eTkxKZNm7C2to7WMS0tLUllwA9IgQIFOHPmDCVKlODdu3dUr16d+fPnR3n/a9eu6buxz549O8wkcFFhZWXFsmXLMDU1Zc2aNWzatCnadQghhIhfkpwLIUQ8u3TpErNmzQLgzz//jHYiER0BAeDoCA0axNkhhDAoJyfIlEl9/O1651+rXbs2FStWJCAggHXr1gGwYsUKsmTJEvdBRkHq1Knx9PSkWbNmBAcH07lzZ3r37o322zXivqEoCh4eHvpJ4GrVqhXjGIoWLcqAAQMAdZnGly9fxrguIYQQcU+ScyGEMJCAgIDvLl2k0+n47bff0Ol0NG7cmBo1asRpTIMHw8uX0LZtnB5GCIMqWFC99/KKuIxGo9G3ngMMGTKEOglsOQIrKytWrlypX5FhxowZZM+enXbt2rFkyRLu3LkTZtm1EydOcPTo0WhNAheZ4cOHkz9/fl6/fk2XLl0MusybEEIIwzIzdgBCCPEj+PTpE4UKFeL27du4uLjg5uZGoUKFcHNzw83NDVdXVzQaDQsWLOD06dPY29szY8aMeInNwkK9CZFYFCwI27dHnpwDFC5cmHnz5vHkyRNGjBgRP8FFk0ajYejQoeTMmZO2bdty//597t+/z5IlSwBIkyYNZcuWpWzZsri7u+u3R3cSuIhYWlqyfPlyihYtyqZNm1i7di1NmzaNdb1CCCEMT5JzIYQwgPHjx3P79m0AHj9+zOPHj9mxY4f+dQcHB9zc3PD6f7YxduxY0qVLF6cx3bkDWbNCHE0CL0SciUrLeYhOnTrFbTAG0qhRI6pVq8Y///zD8ePHOX78OGfPnuX58+ds2LCBDRs26MvGdBK4iLi5uTFs2DBGjBhB165dqVChAmnTpjVY/UIIIQxDknMhhIil27dvM3XqVABWrVqFi4sLly5d0t+uXr3Khw8fOHbsGACFChWiS5cucRrTq1eQMye4usLFi+DgEKeHE8KgQpLzq1chOBjMfpD/VhwdHalVq5Z+HPnnz585e/asPlk/efIkfn5+zJkzJ0aTwEVm0KBBbNu2jQsXLtC5c2e2bdsWZ8s3CiGEiJlE++du4sSJDBo0iJ49expkTJYQQsSEoij07NmTwMBAatasSdOmTdFoNJQtW1ZfJigoiOvXr3Pp0iXu3btH69atMYvjbGP7dtDp1MngJDEXiU2WLGBnB76+cOsW5Mlj7IjihrW1NeXKlaNcuXKAmqxv3bqVKlWqGPxY5ubmLFu2jMKFC7Njxw4WLFhAx44dJUEXQogEJFFOCHf27FnmzZtHgQIFjB2KECKJ27lzJ3v27MHc3JyZM2eG+4+uubk5BQoUoFWrVowcOZLMmTPHeVwhqybJLO0iMTIxgd274eFDyJ3b2NHEHzMzM2xsbOKs/nz58jFq1CgAOnfuTLZs2RgwYABnz56VieKEECIBSHTJua+vL82bN2fBggUkS5bM2OEIIZIwf39/evbsCUCfPn3IkSOHkSNS+fjAwYPq419+MWooQsRY2bKQMaPMmWBoffv2pXPnzlhZWXHv3j0mT55MsWLFcHV1pU+fPpw8eRKdTmfsMIUQIklKdN3au3btSu3atalSpQpjx46NtGxAQAABAQH65x8+fADULqZBQUFxGmdshMSWkGMUAuRanThxIvfv3yd9+vT0798/wbwPW7dqCAoyI1cuhWzZgkkgYRlVUr9WReIQX9fpnDlzmDBhAnv37mXz5s3s2bOHR48eMX36dKZPn066dOmoV68eNWvWpGzZsnHami8SJ/mdKhKLhHKtRvX4GiUR9WNau3Yt48aN4+zZs1hZWVGhQgXc3NwiHHM+cuRIffetr61evVr+0AghYuXly5d069aNwMBA+vbtS5kyZYwdEgAvXtgwalRJnj2zo1GjmzRvfsPYIQkRI76+5uzYkYXXr63p3v2SscP5oQUEBHDx4kX+/fdfzpw5w+fPn/WvmZubkydPHv3ykJkyZZJx6kIIEU1+fn40a9aM9+/f4xDJZECJJjl//PgxRYoU4cCBA/qx5t9LzsNrOXdxceH169eRvinGFhQUxIEDB6hatSrm5ubGDkeICCXla/XXX39ly5YtlC9fnv3798f7P6uKok6U5elpgr29QvPm6q9yX19wdjZDUeD8+eAfdiKt6ErK12pi9fEjpEih/qyePQsiZUojBxQPEsJ1GhAQwKFDh9i+fTsHDhzg8ePHoV5PkyYNVapUoUqVKlSvXp0UKVIYJU5hXAnhWhUiKhLKtfrhwwdSpkz53eQ80XRrP3/+PC9fvsTd3V2/TavVcuzYMf744w8CAgIwNTUNtY+lpSWWlpZh6jI3N08Uv0gSS5xCJLVr9cCBA2zZsgVTU1PmzJmDhYVFvB37+nWYOhX27YOnT9VthQtDmzbq42TJYPVqcHeHrFmTzs8kqpLatZqYJU8OWbPC3bvw33/mVK5s7IjijzGvU3Nzc+rWrUvdunVRFIWbN2+yf/9+9u3bx5EjR3j+/DkrV65k5cqV2NraMmrUKHr06CGfqyRKfqeKxMLY12pUj51oJoSrXLkyV65cCbV2cJEiRWjevDmXLl0Kk5gLIURUKYrCyJEj6dq1KzduRN4NPDAwkB49egDQrVs38ufPHx8h8vw5dO4M+fLB4sVqYm5hAZUqQcOGakt6iEaN1KRGiMQuZL1zLy/jxpFUaTQacuXKRY8ePdi1axdv377l0KFDDBgwgLx58/Lp0yf69u1L4cKF+eeff4wdrhBCJHqJJjm3t7cnX758oW62trakSJGCfPnyGTs8IUQidv36dUaNGsVff/1Fnjx5aNCgAWfPng237OzZs7lx4wbOzs6MHDky3mLs2hXmz1fXLq9bF/bvV2dlP3QIBg6UGa3Fj6lwYfV+xw7jxiFUlpaWVKpUiYkTJ3L58mUWLVpEihQpuHLlCmXKlKF9+/a8fv3a2GEKIUSilWiScyGEiCtHjhwBwMHBAUVR2Lx5M8WKFaNKlSocOnRIv/7vs2fP9JNMTpw4EScnpziLKShIHXMbYtQoKFUKjh2DrVuhalWwto6zwwuRILRsCaamcOQIXLxo7GjE10xMTGjXrh03btygffv2ACxevJicOXOyaNEiWY5NCCFiIFEn50eOHIlwMjghhIiqo0ePAupa5deuXaNVq1aYmppy6NAhqlSpQvHixdm8eTP9+vXD19eX4sWL07p162gf58wZaN9ebfEOcfGiuia5lxc8ewaBgWrynT8/DBjwpVy+fPDPP+raz0IkFS4u0Lix+njGDOPGIsKXMmVKFi5cyIkTJ8ifPz9v376lQ4cOlC1blsuXLxs7PCGESFQSdXIuhBCxpSiKPjmvUKECefLkYdmyZdy9e5fu3btjbW3N2bNnadCgAatXr0aj0fDHH39gYhL1X5/Pn0O7dlC8uDpe/OsW7xkz1FZwNzdInx4sLaF+fbh5U03SP30y7PkKkdj07g22tuDsHHpuBZGwlC5dmgsXLjBt2jTs7Ow4efIk7u7u9OnTB19fX2OHJ4QQiYIk50KIJO3WrVu8ePECS0tLihUrpt+eKVMmZs+ezYMHDxgyZAiOjo4AdOrUiSJFikSp7sBAmDYNcuSAJUvUbU2bqhO5hUiXTm0Vd3aGkHzfygoGD4YbN9SkRIikrEgR8PZWVymQuRUSNjMzM3r37s3169dp2LAhWq2W6dOnkzt3brZu3UoiWb1XCCGMRpJzIUSSFtJqXqJECaysrMK87uzszNixY3n06BEHDhzgjz/+iFK9e/dCgQLQt686drxoUTh1Sl3m7OsEY+JEuHIFXrxQx5m/fq3exo2DSJbBFCJJsbc3dgQiOjJkyMCGDRvYvXs3mTNn5smTJ9SvX5+6devy8OFDY4cnhBAJliTnQogkLSQ5L1++fKTlHBwcqFKlCmZmZt+t8+NHaN5c7Zru7Kx2ZT91Su3WHhkTE0iRQlrLhQiPosDJk+pKBSJxqFmzJlevXmXw4MGYm5uzY8cO8uTJw+TJkwkKCjJ2eEIIkeBIci6ESLIURdHP1P695Dw67O3VFvHeveHWLWjb9kuXdSFEzKxZA6VLQ48e6pKCInGwsbFh3LhxXLp0iXLlyuHn58eAAQNwd3eXtdGFEOIb8u+iECLJunv3Ls+ePcPc3JwSJUrEqq7jx+HriYk7dlTHm/9/qLoQIpZ++kn9PN28CXv2GDsaEV158uThyJEjLF26lJQpU3L16lXKlClDly5d0Gq1xg5PCCESBEnOhRBJVkiX9uLFi2NjYxPjekK6sRcuLEmDEHHF3l790gtkWbXESqPR0Lp1a27cuEGHDh0A+Pvvvxk3bpyRIxNCiIRBknMhRJIV1fHm3zNkCDx+rK7JXK6cISITQoSne3cwNYVDh8DLy9jRiJhKkSIFCxYsYNmyZQCMGjVKP8RICCGSMknOhRBJliGS83//hZAJ3OfNk8nchIhLGTNCw4bq45kzjRqKMIBWrVrRrl07dDodzZo14+XLl8YOSQghjEqScyFEkvTgwQMePXqEmZkZpUqVilEdgYHQoYM6i3Tr1lC1qoGDFEKE0bu3er96NTx/btxYROzNnj2bPHny4O3tTatWrdDJbH9CiCRMknMhRJIU0mpepEgRbGPY3D1hAvz3n7pc2rRphoxOCBGRYsWgVClInx7u3zd2NCK2bG1tWb9+PdbW1uzbt4/JkycbOyQhhDAaSc6FEElSbJdQu3ULQuYwmj1bXZ9cCBE/NmyA27ehZEljRyIMIW/evMyZMweAoUOHyhJrQogkS5JzIUSSFNJyXqFChRjtnzUrTJ4MTZpA48YGDEwI8V3p0qkTw4kfR7t27WjevDlarZamTZvy5s0bY4ckhBDxTpJzIUSS8/jxY+7fv4+pqSmlS5eOUR2mpuDhAWvWgEZj2PiEEFETGAgbN4IMU078NBoNf//9N9mzZ+fx48e0bdsWRVGMHZYQQsQrSc6FEElOSKu5u7s79vb20dr35Uv4/DkuohJCRIdOBwULQqNGsG+fsaMRhmBvb8/69euxtLRkx44dzJQp+YUQSYwk50KIJCemS6gpCrRpAwUKwNmzcRCYECLKTEygZk318YQJ6hdnIvFzc3Nj+vTpAAwYMIAzZ84YOSIhhIg/kpwLIZKcmCbnq1fDnj3w6BFEs8FdCBEHevRQk/TjxyF1anB3h8GD1eci8fr9999p2LAhQUFBNGnSBB8fH2OHJIQQ8UKScyFEkvLs2TNu376NRqOhTJkyUd7v1Svo2VN9PGwY5MoVRwEKIaLM1RVWroRChdTnFy+qregDB4Yu9+xZvIcmYkGj0bBgwQIyZ87M/fv3qVKlCrdv3zZ2WEIIEeckORdCJCkhreaFChXCyckpSvtotdCqFbx5A/nzQ//+cRigECJamjaFCxfA2xuWL4fmzeHXX7+8/u4duLjA2LHGi1FEn5OTExs2bCBZsmScP3+eQoUKsWjRIpkkTgjxQ5PkXAiRpMSkS3v//rB3L1hbw7JlYGERV9EJIWIqTRpo2VJtSe/R48v2U6fUyeNGjoRLl4wVnYiJwoULc/nyZSpWrMinT5/o0KEDDRs2lGXWhBA/LEnOhRBJSnST83Xr4P9zE7Fs2Zfus0KIxKFmTXVGd60WOndW70XikSFDBg4ePMjkyZMxNzdn8+bNFChQgEOHDhk7NCGEMDhJzoUQScaLFy+4ceMGGo2GsmXLRmmfatXU2/Dh6j/4QojEZ+ZMcHCAM2dg3jxjRyOiy8TEhH79+nHq1Cly5szJs2fPqFq1Kv379ycgICDW9SuKIt3lhRAJgiTnQogk49ixYwDkz5+f5MmTR2mfZMlg1y4YMSIuIxNCxKV06WD8ePXxoEEyQVxi5e7uzoULF+jcuTOKojBlyhRKlCjB5cuX0el0Ua7nw4cPHD58mAkTJlCvXj3Sp09PypQpuXr1ahxGL4QQ32dm7ACEECK+RLVL+6dPsGWLOrGURgNm8ptSiETvt9/UoSlnz0KvXuqQFRFzhw+Dnx/Urq3+nowvNjY2zJ07l5o1a9K+fXsuXbpEwYIFMTc3J126dKRPnz7MzdnZmdu3b3PmzBlOnz7N9evXw20p79GjB4cOHUITnyckhBBfkX85hRBJRkhyXqFChQjL6HTqzOybN8O1a+qyTEKIxM/UFObPhyJF4O1b8PcHKytjR5U4HTsGVaqAoqhfYs6bB7a28RtD3bp1KVasGJ06dWLXrl0EBQXx8OFDHj58GKX9M2XKRPHixSlevDjZsmWjcePGeHp6sn37durWrRvH0QshRPgkORdCJAmvX7/Wd1ksV65chOVGjVITcwsL+Omn+IpOCBEf3NzUceeFCsVva++P5ty5L49XrVJnwd+4EXLlit840qZNy44dOwgMDOT58+c8ffo03Nvz589xcXGhePHiFCtWjOLFi5M6depQdfXu3ZsJEybQt29fatasiYUsyyGEMAJJzoUQSULIePO8efOSMmXKcMusWwejR6uP582DUqXiKzohRHxxdzd2BIlf795QrBh8+ADt26u9jIoWhYULQ68xH18sLCzImDEjGTNmjHEdgwYNYvHixdy5c4c///yTXr16GTBCIYSIGpkQTgiRJHxvvPn589Cmjfq4b98vj4UQPyYfH+jaFWQOsJgpUwZq1YKLF6FCBfD1hSZN1N+liZG9vT3jxo0DYPTo0bx+/drIEQkhkqJoJ+fXr19nxIgRVKpUiaxZs5I2bVoKFChA69atWb16tUGWtBBCCEOLLDm/ckXtwu7vr/6zOXFifEcnhIhvffrAX3+pE8VFY6LvGAsIUFuWL12Ku2P4+amt2BcvQnCwYet++FBdVvL27dDb06SBAwfUWfC7dYPChQ173PjUpk0b3Nzc8PHxYeTIkcYORwiRBEU5Ob9w4QJVqlShUKFCnDhxguLFi+Ph4cGYMWNo0aIFiqIwZMgQ0qVLx6RJkyRJF0IkGO/evePy5ctA+OPN792D588hXz5YvVqdOEoI8WMbORLs7OCff2DRorg/3uzZ0LGj2uJ84ULM6tBq1Xpat1ZnSS9RIvSs8//+q/4ec3eH9OnVngHHjsX+ywetFlq2VJPwrl3Dvm5mpi5VN3v2l20vXqjlExNTU1OmT58OwNy5c/nvv/+MHJEQIqmJ8pjzBg0a0K9fPzZu3IiTk1OE5f79919mzZrFtGnTGDx4sCFiFEKIWDl+/DiKopAzZ07SpEkT5vW6dWHDBqhUCRwdjRCgECLeubjAmDHqsmr9+8PPP8M3c4QZVI8e6nE+fVJ76Jw6Ba6uUd9fp1PHdy9bFnr73btfHqdKBSlSQFAQvHyp9gz46y91nffGjdXEOlu26Mc+aRIcPw729jB3bsTlQibZCw6Gpk3hyBHIkkU9fsgtbVr1vBs1in4c8aFixYrUrVuXbdu20bdvX3bv3m3skIQQSUiUk/Nbt25hbm7+3XIlS5akZMmSBAUFxSowIYQwhDt37jB+/HjgyxJqigKTJ6sTF4X8c9yggXHiE0IYT7dusHy52g28Vy9YuRJMDDQbz7NnMGOGuhyjmRlYWqrj3MuVg8uXoWZNtdU+efLv16XTQefOamJuagoDB6pJb8qUakt5iAIF4PVrNTk/dAjWroUtW9RYZs6EevW+JOc6XdTO9exZGDFCffzHH+pxv0erhRw5wNNT/fLg6y8QALJnT7jJOcCUKVPYvXs3e/bsYe/evdSoUcPYIQkhkogo/wmKSmIem/JCCGFIwcHBTJ48mfz583P69Gmsra3p0KEDgYFql9CBA9XWK39/Y0cqhDAWMzN1ZQaNBtasURPKV69iX++WLWqiPHVq6DksHB1h927IkAFu3FB77UTld9CECep4dRMTWLECxo6Fdu3U1v7wkmVzc6hRA5YuVVvQt21Tx9aXKfOlzKBBapmDB9UvLMPj66uuYx4crLa8t2wZtfO3tFRb2B8/VrvVr1unflHRr59aX+3aX8o+eaJ+OWqI991QsmfPTvfu3QHo06cPwYYewC+EEBGI8VJqZ8+exdPTk5cvX6L7ZjBTyHgdIYQwhgsXLtChQwcuXrwIQOXKlZk3bx4pUmSlRg21NcfUVF0OyMrKyMEKIYyqaFG1RXjIEEiWTG2NDvHiRfS6uvv6Qs+esHix+tzdPWyvnPTpYc8eNVE+cQI6dFBb7CPToQOsX69OYte0adTjATVR/vln9RYiZHK6t29h3z51/fe+fdUE/Ou2ld691QngMmRQk+3org2fIYN6i4iiQLNmapf558/V1v6E8jt52LBhLFu2jP/++4/58+fTpUsXY4ckhEgCYtR5a/z48RQvXpwlS5Zw7tw5Ll68qL9distpSIUQIhJ+fn7079+fYsWKcfHiRZIlS8aSJUs4cOAAZmZZKVNGTczt7GDnTvUfXiGE6NJFbcFdtepLAurjA1mzQsWKsGlT6NnPFSX0JGuXL8OsWWqSu3ixWsfAgeoEbblzhz1evnywdSs4O0ft91Dq1HDuHLRqFYuT/IqlpdpdvXt3sLFRZ5Bv0UI93+nT1fXL/fzU7RqN2vU/WTLDHPtrGo3ac8HJCU6eVJewjI+Z86PCycmJUaNGATB8+HB8fHyMG5AQIkmIUXI+a9YsFi9ezPXr1zly5Aienp762+HDhw0doxBCfNehQ4fInz8/U6ZMQavV8uuvv3L9+nXatGnDvn0aSpRQlxhKl05tpZEhhEKIr9naqt3aQ5w4oXY5P3IEGjZU56cImQXdwgJOn/5S1tMTPDzUsdUuLurzCRPUchGpUEFdKeL/U2GEoigwbNiXFngI3aJtCFmyqLOrP36sdpNPnVp93KePOpO9jY06Jn7PHvULiriSOzds3qwOMVi3Tj3v+BRRl36Azp07kzt3bt68ecPYsWPjLyghRJIVo+TcxMSE0qVLGzoWIYSItsDAQDp27EiVKlW4d+8eGTJkYPv27axdu5bU/++PumyZ2mUyf351hmQ3N+PGLIRI+OrUgfv31e7uqVLB06fqxHHPnqmt6M+ffymbP786wdnQoWorevnyUTuGre2Xx9euwfbtarP9uHEmjB2rtqpfu2bAkwpH8uTqOT54oHZ1z5dPbVEH9QuB6tXj9vigJv8LFqiPx48P/aVEXLl3T51/pHfvL9sCAtShDCHMzMyYNm0aALNnz+b2t4u8CyGEgcVozHmvXr34888/mTlzpoHDEUKIqAsKCqJJkyZs2bIFjUZDly5dGDlyPDt2OHDnzpdZiQcNUlvMhw+XpdKEEFHn4qK2Kg8bpk6cBmoLc+rU8PWqjJUqqbeYunkTSpcGf39TypZ14+BBUwCmTYO8eWNxAtFgZaUu1dauXfTHlhtCmzZqz4OxY9WZ6V1dY/eeRuTJE/UYixapX7JYWqpfTpibQ/366sR0x4+rXe0BatasSY0aNdi7dy89e/Zk586dmMRwSv/jx4/z7NkzUqRIob8lT54cW1tbNMZ404UQCU6MkvO+fftSu3ZtsmbNSp48ecLMzL5582aDBCeEEBEJDg6mRYsWbNmyBQsLC9at287jx9Vxd1e7ZrZvr7YCgTpr8v8bP4QQItosLUPPMG5o2bKprcdbt2o4eDAToM7y3qtX3B0zIsbMEUePVlu0r1xRl1szpBcv1KEGc+eqLeSg9goYM0adBPDhQ7h+Xe0RUb8+7N2r/twBpk2bxuHDh9mzZw8TJkxgyJAh0T7+mjVraNasWbivWVhY6BP1DBky0LdvX6pUqRLTUxVCJGIx+uqvR48eeHp6kiNHDlKkSIGjo2OomxBCxCWtVkvr1q1Zv3495ubmtGt3ns6dq9Ojh5qYp04deu1fIYRIyExNYfVqKFVKnQ1txAgtAwYYOSgj0GjUFu0TJ9ReC4ayc6c6xn7WLDUxL1dOXeJt7151tn6ATJnU8fX29uo8A19PTpcnTx7++usvQJ3Ffc+ePdE6/qlTp2jbti0ABQoUIG/evKRNmxaL/09KEBgYiLe3N9euXWPfvn1UrVqVNm3a8ObNG0OcvhAiEYlRy/myZcvYtGkTtePya2QhhAiHTqejffv2rF69GjMzM4YO9WTECDUTd3WFAQPUf6oSynI8QggRFdbWcPCglhUrDtG2bQXA1MgRGYeVVejf3wcOqMvOWVvHvM5ixb7cjxsHlSuH30PAzU2dmb9WLVi7Vp38b+pU9bX27dtz5swZ5s+fT7NmzTh37hxZs2b97rEfPXpEvXr1CAgI4Oeff2bz5s2Ymqo/W0VR+PTpE2/evOHt27e8efOGrVu38tdff7Fs2TJ2797NzJkzadq0qXR7FyKJiFHLefLkyaP0C0kIIQxJp9PRuXNnli1bhqmpKWvXruWff9TJKdu0gVu34LffJDEXQiROZmaQOrWfscNIMP78U+16XqYMXLgQvX1v3Pjy2NlZ3f/UKahSJfKu+1WrfpmQbto0+Hp6pdmzZ1OiRAl8fHz45Zdf+PTpU6QxfPz4kZ9++okXL15QsGBBVq1apU/MATQaDXZ2dmTKlIlChQpRpUoV/vjjD/755x/y5s3Lq1evaN68ObVq1eLBgwfRewOEEIlSjJLzkSNHMmLECPz85A+IECLmfH19adCgAb/++iubNm3i8+fPEZZVFIVu3bqxcOFCTExMWLlyJXXqNMDcXP2Hdvhwwy81JIQQwngKFAAHBzWxLloUevZU12CPjFarzpqfJ4+6RFuInDmjPp6+ZUt1fDqo4+DfvlUfW1pasnHjRpydnbl8+TKdOnVCiWAtNq1WS4sWLbh8+TKpU6dm+/bt2NnZRen4JUuW5MKFC4wZMwYLCwv27t1L3rx5mT59OsHBwVE7CSFEohSj5Hz27Nns2bOH1KlTkz9/ftzd3UPdhBAiKtauXcvmzZtZv349DRs2xNnZmebNm7Njxw4CQmbsQU3MPTw8+Pvvv9FoNCxdupQmTZpgaamOJXzwADJnNt55CCGEMLyyZdVJ2po2Vcd/z54NuXLBhg3hr0/++jXUrKl2XVcUOHs25sceMABGjFDHpidP/mV7+vTp2bBhA2ZmZqxevZpZs2aFu/+gQYPYvn07lpaWbN26lYwZM0br+BYWFgwdOpTLly9Trlw5/Pz86NOnDyVKlMDLyyvmJyaESNBiNOa8Xr16Bg5DCJEUbdy4EYDSpUvz+PFjHj16xOrVq1m9ejWOjo7Ur1+fxo0bc+jQIWbPng3AwoULadmyZah60qeP99CFEELEg7Rp1cny2raFLl3gzh1o3Bg6dYJ5876UO3MGGjZUJwW1sVHXTY9gcvQo0Whg5MjQ23Q6MDGBcuXKMW3aNHr27Enfvn1xc3OjQoUK+nJLlixhypQp+sclSpSIcRw5c+bE09OTRYsW0a9fP86fP0+ZMmU4d+4cOXPmjHG9QoiEKUbJ+YgRIwwdhxAiiXn37h2HDh0CYNGiReTIkYNTp06xbt06NmzYwLNnz1i6dClLly7V7zNv3jzatWsHwPbt4O4OGTIYI3ohhBDxqWpVdYm1iRPVLud166rbFUVN0nv0gKAgyJFDndTN0Ct2HD0KgwerLemmptC9e3fOnj3LypUrady4MRcuXCBDhgwcPXqUzp07AzB8+HCaNm0a62ObmJjQsWNH6tSpQ8OGDTl58iSNGzfm1KlTWMdmpjwhRIIT5W7tEY2pEUKImNi+fTvBwcHky5ePnDlzotFoKFmyJDNnzuTx48ccPXqULl264OzsjImJCXPmzKFTp04AvHuntohkzqz+syaEEOLHZ2Wltmbfv6/OqA7w5o2aOAcFwS+/qF3ZDZ2Ya7XQpAmcPAn/7/CFRqNh3rx5uLm58erVKxo0aMB///3HL7/8QlBQEI0aNTJ4Y1batGlDjXnv0aOHQesXQhhflJPzvHnzsnbtWgIDAyMtd/v2bX7//XcmTpwY6+CEED+ukC7tDRs2DPOaiYkJ5cqV488//+Tp06e8fPmSbt266V+fOxc+fYLcuWU9cyGESGrSpfvyODgY9u+HyZPVxNnBwfDHMzVVVwIBGDv2y/rnNjY2bN68meTJk3PmzBkKFSrE27dvKVKkCEuXLsXEJEZTO0Uqbdq0rF69Go1Gw8KFC1m5cqXBjyGEMJ4o/9aYM2cOU6dOJU2aNPz6669MmTKFVatWsWnTJhYuXEjv3r0pVqwYbm5uODg48Pvvv8dl3EKIROz9+/fs378fCD85/5qZmRkpUqTQP/f3VycFAujXL+qz7wohhPjxODrC1atx//egRw818b96FbZt+7I9c+bMrFmzBhMTEwIDA0mfPj3bt2/HxsYmzmKpXLkyw4cPB6Bz585cv349zo4lhIhfUU7OK1euzLlz59i+fTvOzs6sWrWKbt260bx5c0aOHMnt27dp1aoVT548YdKkSTg6OsZl3EKIRGznzp0EBgaSM2dO8uTJE619V66E58/BxUXtZiiEECLpsrZWJ42La8mSQffu6uMxY0LPFl+tWjUWLFhAuXLl2LlzJ2njIaBhw4ZRuXJl/Pz8aNSo0XfXXBdCJA7RnhCuTJkylClTJi5iEUIkEZs2bQLUVnNNNJo6dDqYOlV97OEh65oLIYSIPx4eMHMmXLwIu3ZBnTpfXmvXrp1+wtL4YGpqyqpVq3Bzc+PatWt069aNJUuWxNvxhRBxw/CDYYQQIhK+vr7s2bMH+H6X9m/t3Ak3b6rdGDt2jIvohBBCiPClTAldu6qPv209N4bUqVPru9R/u7qJECJxkuRcCBGvdu/ejb+/P1mzZqVgwYLR2vfJE7C1hd9/B3v7OApQCCGEiECfPlCypDrGPSGoUKECo0ePBqBLly5cvXrVyBEJIWJDknMhRLwKmaW9QYMG0erSDtClCzx6lHD+KRJCCJG0ODurS6o1bJhwJiQdNGgQ1atX5/PnzzRq1AhfX19jhySEiCFJzoUQ8cbPz4/du3cD0e/SHiJ5cvUmhBBCCHX50RUrVpA+fXpu3LjBb7/9hmLsPvdCiBhJNMn5hAkTKFq0KPb29jg7O1OvXj1u3rxp7LCEENGwb98+Pn36RMaMGSlSpEiU97t/H06cMP74PiGEEALg0yd1gtKEsmpIqlSpWLt2rX6iuOXLlxs7JCFEDMQ4Ob979y5Dhw6ladOmvHz5EoA9e/Zw7do1gwX3taNHj9K1a1dOnTrFgQMHCAoKolq1arJ0hBCJSEiX9ujO0j5xIpQtCwMHxlVkQgghRNS9fQuDB8O6dXD8uLGjUZUpU0Y//rxv3768e/fOyBEJIaIr2kupgZoo16xZk9KlS3Ps2DHGjRuHs7MzXl5eLFq0SP8PuCHt3bs31POlS5fi7OzM+fPnKVeuXLj7BAQEEBAQoH/+4cMHAIKCgggKCjJ4jIYSEltCjlEIiN61GhAQwI4dOwCoW7dulK/vFy9g2TIzQEONGsEEBUnzuYg++b0qEgO5ThOPNGmgTRsTFiwwZfRoHbt3a40dEgAeHh6sWLGCGzduMGzYMGbMmBEnx5FrVSQWCeVajerxNUoMBqWULFmSRo0a0bt3b+zt7fHy8iJLliycOXOGX375hSdPnkQ74Oi6c+cO2bNn58qVK+TLly/cMiNHjmTUqFFhtq9evRobG5u4DlEI8ZWzZ88ybtw4kidPzsKFCzExiVrHnYUL87FzZ1Zy5nzLxInHE8wEPEIIIZK2Fy+s6dKlClqtCZMmHSNnzoTRUu3l5cWIESMwMTFh+vTpuLq6GjskIZI8Pz8/mjVrxvv373FwcIiwXIySczs7O65cuULmzJlDJecPHjwgV65c+Pv7xyr479HpdPz888/4+Phw4sSJCMuF13Lu4uLC69evI31TjC0oKIgDBw5QtWpVzM3NjR2OEBGKzrXavn17VqxYQdeuXaP8Tf6cOSb06WMKwObNwdSpI63mImbk96pIDOQ6TXw6dTJl6VITatbUsW1bwmg9B/j111/ZsmUL5cqV48CBA9FeHeV75FoViUVCuVY/fPhAypQpv5ucx6hbu5OTE97e3mTOnDnU9osXL5I+ffqYVBktXbt25erVq5Em5gCWlpZYWlqG2W5ubp4ofpEkljiF+N61GhgYqO/S3rhx4yhd18uWqevJAoweDfXrx+jXlRChyO9VkRjIdZp4DBkCy5fDnj0meHmZEI25TuPUjBkz2Lt3L8eOHWPLli38+uuvcXIcuVZFYmHsazWqx47RhHBNmjRhwIABPH/+HI1Gg06n459//qFv3760atUqJlVGWbdu3di5cyeenp5kyJAhTo8lhDAMT09PfHx8cHZ2pnTp0t8t//Yt9OihPvbwgKFD4zY+IYQQIiayZYNmzdTHY8caN5avZcqUiYH/n0W1T58+sva5EIlEjJLz8ePHkytXLlxcXPD19SVPnjyUK1eOUqVKMTSO/otWFIVu3bqxZcsWDh8+HKbVXgiRcIVMEvnLL79gamr63fLJk8OePWqCPm0aMs5cCCFEgjVkCDRqpPbySkj69euHq6srT58+Zfz48cYORwgRBTFKzi0sLFiwYAF3795l586drFy5khs3brBixYoo/eMdE127dmXlypWsXr0ae3t7nj9/zvPnz/n8+XOcHE8IYRjBwcFs2bIFUJdQi4z2q+F6pUrBrFkQxXnjhBBCCKPIlQvWr4cCBYwdSWjW1tb6OV6mTZvGnTt3jByREOJ7YvVvb8aMGalVqxaNGzcme/bshoopXH///Tfv37+nQoUKpE2bVn9bt25dnB5XCBE7x44d482bN6RIkYLy5ctHWO7qVciXDy5ejMfghBBCCAN7/drYEXxRt25dqlevTmBgIB4eHsYORwjxHVGeYal3795RrnT69OkxCiYyMZhUXogkKyAAbt2C27dD32rWhP8PQSMgAPbtg59/jttYQrq016tXDzOz8H/l3L8P1aqBt7ca3759cRuTEEIIYWifP0OvXrB2LVy7BvEwR/J3aTQaZs2aRf78+dm1axe7du2idu3axg5LCBGBKCfnF79pzrpw4QLBwcHkzJkTgFu3bmFqakrhwoUNG6EQEfj06RNPnz7l6dOnPHv2DD8/P4KDg/U3rVYb6nn69Olp1apVuDP4J2aK8mVM9qtXapJ79SoEB4ctmyKFeu/vr7ZS370LJ09CyZJxE5tWq2Xz5s1AxF3avb2hShX1Pl8+WLMmbmIRQggh4pKFBXh5wfv30L07/P/PX5T5+8OFC1CihGGHdOXMmRMPDw+mTJlCz549qVy5MlZWVoY7gBDCYKKcnHt6euofT58+HXt7e5YtW0ayZMkAePfuHW3btqVs2bKGj1IkaTdu3GDNmjU8efKEp0+f6u99fHyiXdepU6dYtGiR4YOMR58+qd/Knz4N586pY9yWLlVfS5FCTbiDg8HJCXLkgOzZ1dlks2f/Mh7OygrKl1fLDh8OBw7ETaz//PMPL168wMnJiUqVKoV5/fRpaN8e7t2DLFnUFvPkyeMmFiGEECIumZrC/Png7g5btsDWrVCvXtT2/fhR/XL91Cn17+KCBYadDHXYsGGsXLmSu3fvMn36dAYPHmy4yoUQBhOjhYOnTZvG/v379Yk5QLJkyRg7dizVqlWjT8jixELEkqIo/PLLL1y/fj3c1+3s7EifPj3p06fH3t4eMzMzTE1NMTMz099MTU3R6XQsWbKExYsXU7p0adq1axfPZ2IYhw9Dx45qMhvi06cvj01MYMcOyJwZXFwi/8M+dKi6NuvBg3DsGJQrZ/h4N23aBKhj3iwsLPTbdTp1ZtuQVoW0adUvCNKlM3wMQgghRHzJnx/69YMJE6BbN6hUCRwcIt/n82d1iNmpU+rzRYsgTx6IxohSvadP1S/wW7SA1Km/bLe3t2fy5Mm0bNmScePG0bJlS1xcXKJ/ACFEnIpRcv7hwwdevXoVZvurV6/4+PFjrIMSIsTZs2e5fv061tbWDBkyRJ+IZ8iQgfTp0+Pwvb94X8mSJQtDhgyha9euuLu74+bmFneBG5iPj/rHfuFC9XmGDNCyJRQurN6+Fsmca6Fkzqx+Oz9vntp67ulp2G/pX79+zdL/N+k3atQo1GsmJmorv4kJtG4No0apXyYIIYQQid2wYers7Xfvql+Ez54defk2beDIEbC3V/8m/vEH9O2r9n77X3v3HR5FtcZx/LuphBJaIIB0iITeQUBAunRQROlFigjBUER6l967oCIgzQbSm1cQBCkiIB1p0hGQBAgkIZn7x5hgTCEkm2w2+X2eZ5/MzpyZedd7bsi758x7GjWK/X0vXoQaNeDyZfNL8A8/jHi8TZs2LFiwgJ9//pn+/furqLJIEhSnJ1qaN29Op06d+O6777h69SpXr17l22+/5d133+WNN96wdoySgi1btgww+9yQIUPo2LEjderUoXDhwi+UmAMMHDiQRo0a8eTJE9588804TYu3lWnTniXm779vFpoZNw7efBPy5o37dYcMMZ+R27XLTM6tacKECfj7+1OqVCkKF65P587w++/Pjo8cCSdPwuefKzEXEZHkw83N/OIbzER7//6Y2/v6mjPHNm40E/lu3cxHvNKli/09z583v5y/fNl87+MTuY3FYmHOnDk4ODjw1VdfMXv27NjfQEQSRZyS8wULFlC/fn1at25Nnjx5yJMnD61bt+b1119n3rx51o5RUqigoCBW/lMdrH379vG+noODA0uXLiVv3rxcuHCBDh06EBoaGu/rJoaPPoLXXzeT6Llznz9FLrZy5TL/CADzm35rLYpw5coV5syZA2QmV661eHs7sHixOUIfJkcO+KeepIiISLJSqxa0b28m2VFMNo2gUiUzua5a1ZzBNmcO/Ppr7GfCnTtntr1yxfx39do1s7ZMVEqVKsXYsWMB+OCDD8IfPxORpCFOyXnq1KmZN28ed+/e5bfffuO3337j3r17zJs3jzRp0lg7RkmhNm/ezN27d8mePTu1atWyyjUzZszIN998g6urK+vWrWPy5MlWua41GQYsXw5Nm5rT0gDSpIHNmxPmufBBg8x/xN3dzYI01jBq1CgCAwNJl+4n1q/PQ3CwWZH9o4+sc30REZGkbvp0OH068tR0wzBnrh0+/Gzfv5NpZ2fIk+fZ+7NnzeVPo3LmDLz2mpmQFy5sTo8Pq99y+7ZZkO6/ZXsGDhzIe++9h2EYtGnThj179sTxE4qItcVroYY0adJQokQJSpQooaRcrG7p0qUAtG7dOtr1seOibNmy4VO5Bg8ezM6dO6127Zg8fPiQCRMmULVq1QirH/xbQAC88YZZyGXdOvjyy4SPK0cO8x/3zZutMyJ/+vRpFi9eDDThwYMipEljFrLbvt1cHkZERCQlyJQJPDwi7x882Hw0rXZtuHcv5mts2QLlypnFYP87u83f33zG/Pp1KFrUTMyzZXt2vE8f+P57aNEiYvHYsOntTZs2JTAwkCZNmkRbeFdEElecMp4aNWpgiaFy1P/+9784ByQCcO/ePTZs2ABYZ0r7f3Xp0oWff/6ZJUuW8Pbbb/Pbb7+RI4FKhQcEBDBv3jwmTpzInTt3ALN6+d69eylWrFh4uwcPzGqtO3eaz4EPHw6tWiVISJHkzm29aw0dOpTQUAN39xn4+0Pv3uYfDyIiIimRYZirk6xbZxZ5mzDB3D9+/POXD3VyMr+4X7bMrOA+cOCzY+7uZsG5Tz4xV17JkiXiudOmmfVkTp6EHj1gyZJnhV8dHR1ZsWIFtWrV4pdffqF+/frs27eP7NmzW++Di8gLi9PIealSpShZsmT4q0iRIgQFBXH48GGKFy9u7RglBfrqq68ICgqiZMmSlAhbnNuKLBYL8+bNo0SJEty+fZu3336b4OBgq97j8ePHzJgxg/z58/Phhx9y584dChYsSNmyZXnw4AENGzbk5s2bgFmNvW7dZ9Vaf/jBnPLm7GzVkJ7r5k2YODHuz54fPHjwn+fXmuPvnw93d7PirIiISEp144Y5I27pUjOZBpgyBbp3f/65tWtDWN22QYPM9dP/7f334eDByIk5mEuprVplrr++bNmzwrJhUqdOzfr16/Hy8uLy5cs0aNAAf3//F/+AImI1cRo5nz59epT7R44cycOHD+MVkAg8m9KeEKPmYVKnTs0333xDuXLl2LNnD4MGDWLKlCnxvm5gYCCLFi1i3Lhx3LhxA4B8+fIxfPhw2rZti5+fH5UqVeLcuXM0adKEb77ZSbNmqfntN8iYEbZuhfLl4x3GCwsKgpIlzWfUXn4Zmjd/8WsMGjQIgDZtMlGunPkN/fNGBURERJKzHDnMoqtDhpjvR4yAfv1if36PHubo95w5ZpJfqRKsXm0uSQrmbLvoVKsGH39sjrj7+JhT5EuXfnbcw8ODLVu2UKlSJY4cOUKLFi3YsGEDLjFdVEQSTLyeOf+vtm3b8vnnn1vzkpICnTt3jn379uHg4EDr1q0T9F5eXl7/PB8NU6dOZfHixXGu4O7n58fcuXMpWLAgPj4+3Lhxg9y5c7No0SLOnDlDx44dcXJyInPmzGzcuJFMmTJx8OBBOnYcxdmzBlmymCPntkjMwfzHvWtXc3v48GfF6GJrx44d/PDDD7i4uDB27BB8feGDD6wepoiIiN3p3x8GDDAT7BEjXvz86dPNGXYBAebsugEDYn/uhx+aRekCA+Gtt8DPL+Lx/Pnzs2nTJtKkScP27dvp2rUrhrWWbxGRF2LV5Hzfvn2kim7tBpFYClvbvG7dumT7d2WTeDhwAPr2hV9+iXzsjTfeoN8/X2F37tyZAgUKMHr0aC6HLRYaA8Mw2LNnDx07diR79uz06tWLq1ev8tJLLzF//nzOnTtHly5dcP7P/HQvLy/Wrl2Li4sLP/44icaNP+GnnyA2M/gfP37M1q1bE2TqWb9+kD49HD8O33wT+/MMw2DgwIGAA927v0/e+Cy+LiIiksy4uJiPjfXs+ey57xfh5GSOlteubdanmTYt9uc6OJjPm+fJY27fvh25TdmyZfn6669xdHRk6dKlDA2bfy8iiSpOyfkbb7wR4dW8eXNeeeUVOnXqRPfYPEAjEo3Q0NDw5NxaU9qDgsxviqdPN6eCvfpq5GVFxo8fT9++fXF3d+fSpUuMGDGCfPnyUadOHVauXMnjx48jtL99+zZTp06lSJEiVK1alSVLlvD48WOKFCnC7Nmz+eOPP3jvvfeinRZ28SKkS1c1fKbJqlU92L17UYyfIzg4mEWLFuHl5cXrr7+Ot7c3q1evtuq32xkzml9iAIwcCSEhsTvvu+++49dff8XVtRtbt05m/XqrhSQiIiJAhgzmyifff29+kf4iMmUyK78fOgReXlG3qV+/PosWmX+LjBs3jk//+5C6iCS4OCXn7u7upE+fPvyVKVMmXnvtNTZt2sSIuMzVEfnHzz//zKVLl0iXLh1Nmza1yjUXL4Y//zQLrbm4mOuK/rdwirOzM1OnTuXGjRt8+eWX1KxZE8Mw2LFjB61btyZHjhy8//77rF69mrfeeoucOXPSv39/Tp8+TerUqencuTN79+7l+PHj9OrVK8YZJGfOQNWq5rffpUq1YeTIkQD06NGD7du3R2ofGhrKypUrKVKkCN26dePatWs4OTlx48YN3nnnHerVq8fZs2et8t8KzKnoGTOaX2CsWvX89iEhIQwfPhxwxs1tHGfPOnHmjNXCERERESvw9n7+kqmdOnUK/7vEx8eHkydPJnxgIvKMkYL4+fkZgOHn52frUGIUFBRkrF271ggKCrJ1KImuS5cuBmB07tzZKtd78sQwcuUyDDCMmTMN4/p1w1i7NmKb5s0NY8QIw7h1K+L+CxcuGCNGjDBy585tAJFeFSpUMBYuXPhC/en0acPw9DTjKVLEjCc0NNRo27atARju7u7G8ePHDcMw969fv94oUaJE+D2zZs1qzJw507h//74xatQow9XV1QAMFxcXY9iwYUZAQEA8/4uZxo0zY3z5ZcMICYm+XVBQkNGzZ08DMNKk6WuAYWTLZhiPHlklDBGrScm/V8V+qJ9KYggIMIwpUwzDxyfq4yEhIUbdunUNwChZsqTx5MmTSG3UV8VeJJW+Gts8NE7Jeb58+Yw7d+5E2v/3338b+fLli8slE4WS86QtICDAcHd3NwBj586dVrnmvHlmkpkjh2E8fhz5+IED5nEwjFSpDGPoUMMIDY3YJiQkxNixY4fRunVrw9vb2+jdu7dx9OjROMXTsKF5r5IlDeP27Wf7nzx5YlStWtUAjDx58hhr1qwxKlWqFJ6Up0+f3hg7dqzx4MGDCNc7d+6cUa9evfB2+fPnNzZt2hSn2P7twQPDyJLFMCZPjrmdn5+fkTlzZgNcjQwZ/MO/BBFJalLq71WxL+qnkhgOHzb/FrFYDOPIkajbXL9+3fDw8DAAo0+fPpGOq6+KvUgqfTW2eWicprVfunSJkCgeRg0MDOTatWtxuaQI69atw9/fn9y5c1O1alWrXDNvXihe3FwbNKqZ5qVLw1dfmRXSnzyBsWOhT5+I63w7ODhQq1Ytli9fzqlTp5g5c2ac1l4/eRI2bjQLwXz9dcSp9a6urqxZs4aCBQty+fJlmjdvzr59+3Bzc+Ojjz7iwoULDBkyhLRp00a4ZsGCBdm8eTNff/01L730EhcuXKBBgwa0aNGCq1evvnCMYdKmhZ9+irjUS1TPn8+fP5+7d++SMeMA7t9PR86c0K1bnG8rIiIiCax0aWjZ0vxbJ2x5t//Knj17+Go206dPZ+vWrYkYoUjK9ULJ+bp161i3bh0AW7duDX+/bt061qxZw5gxY1SlWeIsrBBcu3btcHCwzkIC9evDkSPw3ntRH3dyMovF7d8PCxea+2bONJc8sfYqImGVVZs1i7oYS9gSax4eHjg7O9OzZ0/Onz/PhAkTyBTDYuEWi4UWLVpw6tQp+vbti6OjI99++y3e3t5MmzaNp0+fxileb+9nFWUfPIAKFeCLL54dv3//PpMmTQJSERr6EWD+I68FG0RERJK2MWPA0dEcNPj556jbNGrUiJ49ewLQoUMHbkdV5l1ErOtFhuMtFothsVgMBweH8O2wl4uLi/Hyyy8b69evj9eQf0LStPak6+bNm4ajo6MBGKdPn7ZZHJ988mya+8iR1rvujRuG4eJiXvfnn2Nue/fuXeP2v+e8v6CjR48alStXDp/qXrJkSWPfvn1xvp5hmNPbw/67fPCBYQQHG0a3bt0MwMiY0ccAw8ib1zACA+N1G5EEkxJ/r4r9UT+VxNS1q/nvetWqkR/pCxMQEGAULVrUAIxGjRoZof80VF8Ve5FU+mqCTGsPDQ0lNDSU3Llzc/v27fD3oaGhBAYGcubMGRo1amT1LxAk+Vu5ciUhISFUrFiRQoUKxft6S5bA1KkQEPBi53XrBnPnmkuONG4c7zDCpU5tfkv95ptQuXLMbTNlykSW/5aTfwElSpRg9+7dfPrpp2TKlImjR49SuXJlunfvzr179+J0zb59IWwhhpkzoWLFuyxc+DUAffpkZf36p8yebVbDFxERkaRv+HBwdYXdu81l1qLi5ubGihUrcHV1ZcOGDcybNy9xgxRJYeI0d/jixYt4eHhYOxZJwZYuXQpYZ23zx4/NZ8z794fly1/8/Pffh3PnoEyZeIcSzt0dBgyAb76x3jVj4uDgwLvvvsvp06fp2LEjhmGwcOFCvL29WbZs2Quvje7gYK57/s03kCaNweHDmYEDtGw5ihIlilOvnoG+lxMREbEfOXNCr17m9tCh0T/OV6JECSZOnAhA//79OXHiRCJFKJLyOMW24axZs+jWrRupUqVi1qxZMbbt3bt3vAOTlOP48eP89ttvODs78/bbb8f7egsXwo0bkCsXxDXX//cj3vv2md8qDxgQ79ASXZYsWVi8eDEdO3akR48enDp1ivbt2/P5558zf/58vL29X+h6b74J33wzgVWr3gEKcubMYPz9I6/NLiIiIknfoEFw7ZpZMyaszkxUevfuzZYtW9iyZQutWrXi5+geVBeReIl1cj59+nTatGlDqlSpmD59erTtLBaLknN5IWGF4Bo2bEjmzJnjda3Hj2HCBHN7yBBzulZ8XL8O9eqZBdGePoXBg1/s/JAQeOcds+jcG2+YBehsoXr16hw5coRp06YxevRodu7cSYkSJZg6dSo+Pj6xvs5PP/3EqlWDgamUKnWWixczsn9/Nt55J+FiFxERkYSROTOsXPn8dhaLhS+++ILixYvz+++/M2TIEGrVqpXwAYqkMLGe1n7x4sXwxOnixYvRvi5cuJBgwUryExISwpdffglYZ0r7ggVw8ybkyQOdOsX7cuTI8WyZkSFDYNKkFzv/++/NqeA9ekBgYPzjiQ8XFxcGDhzIiRMnaNCgAcHBwfTu3ZuPP/44VucHBATQuXNnALp0ac6BA5n45JMQypa9lZBhi4iISCJ5/Dj6Y56ennzxz7Its2fP5vDhw4kTlEgKEqdnzkePHk1AFJW2Hj9+zOjRo+MdlKQcW7Zs4fr162TKlIkGDRpEOHbnjvnceFDQs33r1pn7oxIQAP88EsWQIdYrTvbRR+b652Hbs2fH/twpU8yf778PadJYJ574ypcvHxs2bGDUqFEADB06lMGDBz/3OfShQ4dy/vx5cubMyZQpU3B2hjfeMMiUycbfOoiIiEi83L9vFsX19o45QW/QoEH4jLuZM2fi5+eXOAGKpBBxSs5HjRrFw4cPI+0PCAgI/4Nf5HkMw2DkyJEAdOrUCdd/zUH/+WcoVcqsuB42lfyPP8zp4S+/DPPmmVPG/23BArh1C/LmhY4drRvrkCHPqpV/8AGsWvX8c/buNZ9Xd3F5VnAlqbBYLAwfPpwp/3x7MH78eHx9fQkNDY2y/b59+5gxYwYAn3zyCenTp0+sUEVERCSBubnBtm3w558wZ07MbSdNmoSXlxd+fn589tlniROgSAoRp+TcMAwsUVSNOHr0KJn+XUlLJAZr167l0KFDpEmThgH/VFsLDYXJk6F6dbNAycsvPyvq9uiR+Y3u339Dz55QrpyZxIepW9csWDZ8ODg7Wz/eESPMJNswzJieVwslbNS8XTvw9LR+PNbQr18/5s+fDzwr+hjyn289njx5QufOnTEMg/bt20ea4SAiIiL2zdXVXJUFYPx4cyQ9OqlSpQr/u23OnDkEBwcneHwiKcULJecZM2YkU6ZMWCwWXn75ZTJlyhT+Sp8+PXXq1KFly5YJFaskIyEhIQwbNgwAX19fsmbNyr170LSpWRU9JARatYJDh6BECfOckiXh11/Nb3QzZIAjR+DVV81E+cYNKFbMfL7bGs+aR8ViMdf4fucdeP31mJdaO3cO1q41t/v2TZh4rOW9995jyZIlODg48Nlnn9G+ffsI/9COHDmS06dPky1bthiLQYqIiIj9atcOihQxB0HCBhii884775AxY0auXr3KV199lTgBiqQAL1Q7esaMGRiGQefOnRk1alSEqa0uLi7kzZuXSpUqWT1ISX5WrlzJiRMnyJAhA/379+fwYWje3JxO5epqJsHdukVe1sPJyRw1b9nSnO7+2WewbJk5FeviRXNaVkJycIAlS8yfMVVenzHDHGFv2ND8hy6pa9++PalTp6ZVq1asWLGCgIAAVq1axbFjx5g8eTIACxYs0MwYERGRZMrR0ayx88Yb5t8xPj7Rz/xzdXWlQYMGLF++nKlTp9K6desoZ9WKyIt5oeS8Q4cOgFlQqnLlyjgnxNxhSfaCg4MZ8c8D3AMGDCBDhgy4u5vf1BYoAF9/DaVLx3yNLFlg0SLo2tWcat64ccIn5mH+XWjOMMxp+K1bQ86cz/a//ro5st+/f+LEZA0tWrTAzc2NN998k7Vr19K0aVOuXbtGaGgorVq1omnTprYOUURERBJQs2ZQoQIcOPBsECQ69erV47vvvuO3335j586d1KhRI9HiFEmuYj2t3d/fP/xVunRpHj9+HGHfv18iMVm8eDEXLlwga9as9O7dG4CCBWHzZnPa+vMS83+rUAF++QUGDkygYJ9j9Gizgnu9enDv3rP9jRubz6RXr26buOKqYcOGbNy4kdSpU7N161aOHz9OlixZmDVrlq1DExERkQRmsZjFeC0W8++y6FbIAXB3dw8fuJvyvHnwIhIrsU7OM2TIQMaMGWN8hbURic6TJ08YM2YMAH37juTWrWfri1WpAnEpAu7gkDAF4GKjY0dzLfSTJ82E/L8rDNrjDK9atWqxbds23N3dAZg7dy4eHh42jkpEREQSw6uvmo8MHjsGz/vnv3fv3lgsFjZt2sSpU6cSJ0CRZCzW09p//PHHhIxDUogFCxZw9epVcubMyY0bXSlc2PyGNqktNRZbefLA1q1Qtaq5dFqaNGa10169IHNmW0cXd1WqVOHEiRNcuXJFdSRERERSmDZtYteuYMGCNGvWjDVr1jBt2jQWLVqUsIGJJHOxTs6rx3J+7vHjx+McjCRvDx8+ZNy4cQB07TqVMWOcePrUfM7cnhUrBhs2QJ068PixmZynS5f0q7Q/T86cOcn57wfpRUREJEUxDFi+3Pz7pmvXqNv069ePNWvWsGzZMsaOHYtnUl0/VsQOxGmd8/968OABCxcupEKFCpQsWdIal5RkaNasWfz111/kz1+AvXtb8PSpWc28fn1bRxZ/VaqYhewcHc0R8y5dbB2RiIiISPxs3WousebjAydORN2mcuXKVKxYkcDAQObNm5e4AYokM/FKzn/66Sc6dOhA9uzZmTJlCjVr1uSXX36xVmySjNy/fz98Sa7mzT9l61YHnJ0hOS2b3bCh+XzWwYPwz+PaIiIiInarXj1zBZrAQHOqe2Bg5DYWi4V+/foBZp2agP8W4BGRWHvh5PzmzZtMmDABLy8v3nrrLdzd3QkMDGTt2rVMmDCB8uXLJ0SckgTduAHvvw87djy/7ZQpU7h//z6FC5di7VrzEYm+fcHLK4GDTGRFikC+fLaOQkRERCT+LBZYvNgsDHf0KAwbFnW75s2bky9fPu7evcvSpUsTN0iRZOSFkvPGjRtTqFAhjh07xowZM7h+/TqzZ89OqNgkCTMM6NwZ5s83v1FdsSL6trdv32bGjBkAlC27jPPnLWTPDkOGJE6sIiIiIhI32bLBp5+a21OmQFQ1op2cnPD19QVg+vTphIaGJl6AIsnICyXnmzdv5t1332XUqFE0bNgQR0fHhIpLkrivv4YtW8ztkBBo29ZM1KMyYcIEHj16RLly5ShZsihubjBxolk0TURERESStqZNzYJwhgHt28Pff0du07lzZzJkyMDZs2fZsGFD4gcpkgy8UHK+Z88eHjx4QNmyZalYsSJz5szhzp07CRWbJGEeHub07eHDzanthmH+nDgxYrurV6+GFwcZO3Ys/ftbOHcu9kt0iIiIiIjtTZ9uPo549Sps3myJdDxt2rR0794dMB9nFJEX90LJ+SuvvMKiRYu4ceMG3bt3Z9WqVeTIkYPQ0FC2b9/OgwcPEipOSWJq1oTjx2HwYJgzx/wJEQuhGYbBsGHDCAwMpFq1atStWxeAl14CB6usEyAiIiIiiSFNGvMxxh07oHVrI8o2Pj4+ODs7s3v3bg4ePJjIEYrYvzilSGnSpKFz587s2bOH33//nX79+jFhwgSyZs1KkyZNrB2jJCHGv34Xp04Nrq5msZCPP4ZffoEePZ4dHzVqFF988QVgIXXqr9izJ/K3rCIiIiJiH8qVg1q1oj/+0ksv0apVKwCmTp2aSFGJJB/xHr8sVKgQkyZN4urVq6xcudIaMUkSFRwM1aubI+UhIZGPV6z4bHvQoMmMGuUMONGy5Ra2bPGkUSPw90+0cEVEREQkgfz1lxu//RZ5f9++fQH45ptvuHz5ciJHJWLfrDa52NHRkWbNmrFu3TprXVKSmJkzYfduGDEi6kIgYT7+eBwTJlQChuDtfZqdO83p7CNGaP1vEREREXu3erWFrl3r4usbuTh0yZIlqV27NiEhIcyaNcsG0YnYLz35a6cMAxJzlYrLl83kGsxlNDw8om43YcIEhg4dAozHySmY06cLcPs2FCoEvXolWrgiIiIikkCqVjWwWAz27XPg4sXIx318fAD4+uuvMYyon08XkciUnNup7duhRAn44gsICkrYexkG9OwJAQFQrRp07Bh1u8mTJzNo0CAAxo6tzI4dzuHLpc2YAS4uCRuniIiIiCS8HDmgeHFzxaYVKyIfr1OnDqlTp+bKlSscPXo0kaMTsV9Kzu3UnDlw4gR06gT585uj2Qn1PPd338HGjeDsDAsWmAXg/mvatGkMGDAAMAvBDRkyhOrV4eRJOHAAXn89YWITERERkcRXvfpVAJYvj1gwGMDNzY06deoAsH79+sQOTcRuKTm3U0uXwoQJkD07XLsGH34IuXLBRx/B9evWu4+/P/TubW4PHAiFC0duM2PGDPr16wfA8OHDGT58ePixnDmhfHnrxSMiIiIitvfKK9dxdTU4dQqiGhxv3LgxgOpRibwAJed25tNP4fZtyJDBTMQvXoTPPzeTZn9/mDQJGjWy3v3+9z+4dQsKFny2lnkYwzCYPXs2ffr0AWDIkCGMHDnSejcXERERkSQpTZqnNGhgDpkvXx75eKNGjbBYLBw6dIjr1hw5EknGlJzbkQMHoGtX8PIyn/8Gc53xTp3g+HFYvx6qVn020m0NzZrBoUMwd+4DDh3aw4IFC+jZsyfVq1fHw8OD3v/cbODAgYwZMwZLVHPeRURERCTZadXKrE78/feRp7Z7enpSoUIFADZs2JDYoYnYJSdbByCxN3eu+bNpU0idOuIxBwdzxLxRo4i/HFesgFOnYNQos01s3b0LW7euYNmyZRw/fpyrV69G2c7JyYnBgwczcuRIJeYiIiIiKUj9+gbLlpl/m0b1Z2Djxo3Zv38/69evp1u3bokfoIidUXJuJ/76C1atMreftyRZ2C/HK1fg3XfhyRM4fRqWLImc1P9XSAhMngxjxhgEBs4iJGR/+LFcuXJRvHhxihUrRrFixShevDje3t6kSpUqHp9MREREROyRqyu0bRv98SZNmjB06FB27NhBQEAAqZ/3h6hICqfk3E58+qm5ZFr58vDPDKHnypUL5s+Hbt3gm2/M59O//x5eeinq9ufPQ4cO8PPPABagJQUL3mXJkiUULVqU9OnTW+nTiIiIiEhyYxgRR9CLFStGnjx5uHz5Mjt27KBJkya2C07EDtjdM+dz584lb968pEqViooVK3LgwAFbh5Tgnj41k2x4/qj5f3XsaBZ18/CAX381k/tDhyK2MQxYuBBKljQT83TpoFy5uUA/WrZsSeXKlZWYi4iIiEiUPvsMSpWCtWsj7rdYLOEJuZZUE3k+u0rOV69eTd++fRkxYgSHDx+mZMmS1KtXj9u3b9s6tAS1fr05Rd3DA1q2fPHzX33VLCZXtCjcuAHVqsHXX5vHbtwwn1Pv3h0ePYLXXoODB59w6tRHADRv3tx6H0REREREkp3Tp83l1KKq2h62pNr69esJDQ1N5MhE7ItdJefTpk2ja9eudOrUiSJFirBgwQJSp07N559/buvQEtT58+YzPV27Qlwf786XD/buhQYN4PFjOHzY3L92LWzaZF5/2jT44Qc4e3Y7jx49IleuXJQtW9Zqn0NEREREkp82bcyfGzaAn1/EY9WrVyddunTcunWLQ/+dvikiEdjNM+dBQUH8+uuvDBo0KHyfg4MDtWvXZt++fVGeExgYSGBgYPh7f39/AIKDgwkODk7YgOMhLLawnx98AK1bm8/wxCdsNzf49lv48ksL7doZBAdD585w8qQD774bStGiZkG4b7/9FjCLeDx9+jTen0eSr//2VZGkSn1V7IH6qdiL//bVIkXA29uJ06ctfP31Uzp0eLZ0kMVioW7dunz77besWbOG0qVL2yRmSZmSyu/V2N7fbpLzO3fuEBISgqenZ4T9np6enD59Ospzxo8fz6hRoyLt37Ztm11Ui9y+fXuCXDdLFtiy5dn72rXh8mXzFRISwnfffQdAtmzZ2LRpU4LEIMlLQvVVEWtTXxV7oH4q9uLffbVs2Zc5fbows2f/TZYseyO0y5kzJwCrVq3ilVdeSdQYRcD2v1cDAgJi1c5iGP9eFTvpun79Oi+99BJ79+6lUqVK4fsHDBjArl272L9/f6Rzoho5z5UrF3fu3MHd3T1R4o6L4OBgtm/fziuv1OHKFWdKlky8e+/atYs6deqQOXNmrly5gpOT3Xx/IzYQ1lfr1KmDs7OzrcMRiZb6qtgD9VOxF1H11YsXoVAhZywWg4sXn5Ijx7P2d+/e5aWXXiI0NJRz586RJ08eG0UuKU1S+b3q7++Ph4cHfn5+MeahdpN5eXh44OjoyK1btyLsv3XrFtmyZYvyHFdXV1xdXSPtd3Z2TtL/6G3bto27d++ycqULffo40bmzWQXzef7++2+2bNnChg0b2LJlC3nz5mXv3r1R/jeITlglzcaNG+Pm5hbXjyApTFL//5RIGPVVsQfqp2Iv/t1XX34ZKleGvXstfPedM336PGuXLVs2qlSpwu7du9myZQu9XnT5IZF4svXv1dje224Kwrm4uFC2bFl++OGH8H2hoaH88MMPEUbS7d3du3dp1KgR7777Lv37XwTg+vX1rFmzhj///JN/T3QwDINTp04xefJkqlevTpYsWWjdujUrVqzg3r17HD58mC+//DLW9zYMg7X/rIGhKu0iIiIi8iLefddcWSiqesL/rtouIlGzm5FzgL59+9KhQwfKlStHhQoVmDFjBo8ePaJTp062Ds1qbt26RbFixThxIjshIV6AP1u2tGbLloeAOYOgTJky5MqVix9//JELFy5EOL9o0aI0atSIR48eMWfOHCZPnkynTp1wcHj+9zCHDx/mzz//JE2aNNSpUychPp6IiIiIJFOdO5uvqDRp0oQBAwbw448/4u/vn6QfMRWxFbtKzt9++23++usvhg8fzs2bNylVqhRbtmyJVCTOnhUpUoTDhw9TufJtDh2C6tUvUaBASw4fPszx48e5c+cO27ZtC2/v4uJCzZo1adiwIQ0bNiRfvnyA+VzDsmXLOHPmDOvWraNZs2bPvfeaNWsAeP311zWlXURERESsplChQnh5eXHu3Dm2bdtGixYtbB2SSJJjV8k5QK9evZL9cyqXLsHhw2YVjQULSuDtbT5w/uTJE37//XcOHz7MpUuXeOWVV6hVqxZp06aNdA13d3fef/99xo8fz8SJE2natCkWiyXG+4Yl55rSLiIiIiJxdeoUrF8PH35oLgUcpnHjxkybNo1169YpOReJgt0l5ynBwoUOhIZaqFUrFG/vZ9PRU6VKRfny5SlfvnysrvPBBx8wbdo0fvnlF3bv3k21atWibXv27FlOnjyJk5MTDRs2jPdnEBEREZGU5/FjKF8eHj2C6tWhYsVnx5o0acK0adPYtGkTISEhODo62i5QkSTIbgrCpRSGAZs3m/+z9OgRGq9reXp60rFjRwAmTpwYY9uwUfOaNWuSIUOGeN1XRERERFImNzcIe5py8eKIx6pUqULGjBm5e/cu+/btS/TYRJI6JedJjMUC+/c/ZcCAAzRsGP8l6Pv164fFYmHTpk38/vvv0bbTlHYRERERsYZ33zV/LloEhw8/2+/k5ESDBg0AWLdunQ0iE0nalJwnQS4uULnyDawx08fLy4s333wTgMmTJ0fZ5tq1a+zfvx+LxULTpk3jf1MRERERSbFq1IC334bQUOjWDZ4+fXZMS6qJRE/JeQrw0UcfAbBy5Ur+/PPPSMe///57AF555RWyZ8+eqLGJiIiISPIzYwZkyAC//gqzZz/b//rrr+Pk5MTp06c5d+6crcITSZKUnKcA5cqVo2bNmjx9+pRp06ZFOq4p7SIiIiJiTdmyQdikzaFDIWx8KH369FSvXh3Q6LnIfyk5TyEGDBgAwKJFi7h79274/r///pudO3cCSs5FRERExHo6d4bXX4dRoyBHjmf7NbVdJGpKzlOIunXrUqpUKQICApg3b174/g0bNvD06VOKFStGwYIFbRihiIiIiCQnDg6waRP07w9O/1rAOSw53717N3fu3LFRdCJJj5LzFMJisYSPns+aNYuAgABAU9pFREREJOFYLM+2AwPhwQPInz8/pUqVIiQkhO7du2MY8V+hSCQ5UHKegrz11lvky5ePO3fusHjxYgICAtiyZQug5FxEREREEs7+/VCyJPTta77/5JNPcHZ25rvvvouyJpJISqTkPAVxcnKiX79+AEydOpXNmzfz+PFj8uTJQ6lSpWwbnIiIiIgkW8HBcOYMfPop7NoFFSpUYMaMGYC5stDu3bttG6BIEqDkPIXp1KkTHh4eXLx4EV9fX8AcNbf8e86RiIiIiIgVvfoqdO9ubnfvDk+eQI8ePWjdujUhISG8/fbb3Lx507ZBitiYkvMUJnXq1Pj4+ABw9epVQFPaRURERCThTZhgLrF25gyMG2fWRFq4cCFFihThxo0btGrViqdPn9o6TBGbUXKeAvXs2ZPUqVMDkCVLFqpUqWLjiEREREQkucuQAWbPNrcnTIATJyBNmjR8++23pE2blp07dzJ06FCbxihiS0rOU6DMmTPT/Z95RW+++SaOjo42jkhEREREUoI334TGjc1n0Pv0AcMAb29vPvvsMwAmTpzIunXrbByliG0oOU+hxo8fz7Jly5g4caKtQxERERGRFMJigblzIW1aKFPm2VJrtWu3pFChg8AHtG49j99/v2DTOEVswcnWAYhtuLq60rZtW1uHISIiIiIpTK5csHkzOP0rEzl0CM6cKQeU49EjKFEihKJFQxk61IF33rFZqCKJSiPnIiIiIiKSqF59FV555dn7/PlhzBioW/cxDg7XAUdOnHDggw9ANeIkpVByLiIiIiIiNlWwIAwdClu3urF160ngJeAvbt+GH36wdXQiiUPJuYiIiIiIJBm1a9dmzJgewFc4OBzn9u17tg5JJFEoORcRERERkSRl0KBBlC27gtDQ4mzZ4mPrcEQShZJzERERERFJUhwdHVmwYCYWi4UVK1bw448/2jokkQSn5FxERERERJKccuXK0aNHDyANHTosISgoyNYhiSQoJeciIiIiIpIk9e79MXCLK1cWMXbsAluHI5KglJyLiIiIiEiSVKhQBvLmfQw4M2HCBS5fvmzrkEQSjJJzERERERFJsnx8MgMQHPwWvr6+tg1GJAEpORcRERERkSSrVSsLDg4GUIW1a4+yceNGW4ckkiCUnIuIiIiISJKVPTvUrGn5511rfHx8ePz4sU1jEkkISs5FRERERCRJa9PG/Onk1IGLFy8yfvx42wYkkgCUnIuIiIiISJL2xhuQKhU8feoFFGLixImcO3fO1mGJWJWScxERERERSdLc3WH5crhwwaBevbwEBQXRq1cvDMOwdWgiVqPkXEREREREkrw33oB8+SzMnj0bFxcXtm3bxrfffmvrsESsRsm5iIiIiIjYDS8vLz76aCAAvr6+PHjwwMYRiViHknMREREREbELBw5Aw4Zw5cow8ufPz7Vr1+jbt6+twxKxCiXnIiIiIiJiFwIDYdMm+PZbJ+bNW4zFYuHTTz9l3bp1tg5NJN6UnIuIiIiIiF2oUgVy54YHD8DPrxr9+vUDoEuXLty6dcvG0YnEj5JzERERERGxCw4Oz9Y8X74cxo4dS/Hixfnrr7/o0qWLqreLXVNyLiIiIiIidiMsOd+8GR4+dGX58uW4uLiwYcMGFi1aZNvgROJBybmIiIiIiNiNokWhZEkIDoavv4bixYszbtw4APr06cO5c+dsHKFI3Cg5FxERERERu/Lvqe1gJuU1atQgICCAdu3a8fTpU9sFJxJHSs5FRERERMSutGoFr75qJumGAQ4ODixZsoT06dOzf//+8JF0EXui5FxEREREROxKzpyweze89x5YLOa+XLlyMW/ePABGjx7NgQMHbBihyItTci4iIiIiInZtxQr4/HNo1aoVb7/9NiEhIbRt25ZHjx7ZOjSRWFNyLiIiIiIiduvkSejUCd59FwYOtDB37nxeeuklzp07R//+/W0dnkisKTkXERERERG75e0NH31kbk+aBF27ZmTBgmUALFiwgI0bN9owOpHYU3IuIiIiIiJ2y8EBRo+GZcvAxQXWrIGRI2vQpctwAHr16kVISEiU54aEwIMHiRmtSPSUnIuIiIiIiN1r2xb+9z/w8IBff4VNm0bg7l6dS5cusXHjRvz8zCJyc+dCt25QsSK4u0PGjLBypa2jF1FyLiIiIiIiyUSVKrB/PxQuDNevO1Cs2GAA5s6dS5kyUK0a9OoFixbBgQMQEGCOno8bB1oaXWzNydYBiIiIiIiIWEv+/LB3L3zyCbRo4YWXl4Vt27ZRp84DgoPTUbIklChB+M+vvjITdidlRmJj6oIiIiIiIpKsZMgQViQuHw0aNGDjxo14e49k27apkdoOHx7xvWE8WztdJDFpWruIiIiIiCRbPXv2BGDp0s+eu+75/PnQvr2ZoIskNiXnIiIiIiKSbNWrV48CBQrg5+fH8uXLo2137hz07g1ffgkff5yIAYr8Q8m5iIiIiIgkWw4ODrz//vuAWRjOiGZY3MsL5s0zt4cNM5dkE0lMSs5FRERERCRZ69SpE25ubhw7doyff/452nZdu4KPj7ndti0cPZpIAYpgJ8n5pUuXePfdd8mXLx9ubm4UKFCAESNGEBQUZOvQREREREQkicuYMSOtW7cGzNHzmEybBrVrm8usNWkCt28nRoQidpKcnz59mtDQUD755BNOnDjB9OnTWbBgAYMHD7Z1aCIiIiIiYgfCCsN9++233Lx5M9p2Tk7m8mpeXvDnn/DGG6AxQUkMdpGcv/766yxevJi6deuSP39+mjRpQv/+/fnuu+9sHZqIiIiIiNiB0qVLU6lSJYKDg1m0aFGMbTNmhHXrzJ9NmoCzcyIFKSma3a5z7ufnR6ZMmWJsExgYSGBgYPh7f39/AIKDgwkODk7Q+OIjLLakHKMIqK+K/VBfFXugfir2wp77avfu3dm3bx8LFiygX79+OMeQdRcoAKdOQaZM8PRpIgYpVpNU+mps728xoitXmIT98ccflC1blilTptC1a9do240cOZJRo0ZF2r9ixQpSp06dkCGKiIiIiEgSExwcTJcuXfDz82PAgAFUrlzZ1iFJChAQEEDr1q3x8/PD3d092nY2Tc4HDhzIxIkTY2xz6tQpvL29w99fu3aN6tWr89prr/Hpp5/GeG5UI+e5cuXizp07Mf5HsbXg4GC2b99OnTp1Yvw2T8TW1FfFXqivij1QPxV7Ye99ddiwYUycOJHq1auzffv2WJ2zcaOFadMc+PzzEPLkSeAAxWqSSl/19/fHw8Pjucm5Tae19+vXj44dO8bYJn/+/OHb169fp0aNGlSuXJmFCxc+9/qurq64urpG2u/s7GwXv0jsJU4R9VWxF+qrYg/UT8Ve2Gtf7dmzJ5MnT2bXrl2cPXuWokWLPvecOXNg926YNcuBWbMSIUixKlv31dje26YF4bJkyYK3t3eMLxcXF8AcMX/ttdcoW7YsixcvxsHBLmrZiYiIiIhIEpIrVy6aNm0KwLx582J1zqBB5s9PP4W//kqoyCSls4sMNywxz507N1OmTOGvv/7i5s2bMS6BICIiIiIiEpWwZdWWLl0aXjQ6JjVrQrly8PgxGjmXBGMXyfn27dv5448/+OGHH8iZMyfZs2cPf4mIiIiIiLyImjVr4u3tzcOHD1m6dOlz21ssMHCguT1nDsQinxd5YXaRnHfs2BHDMKJ8iYiIiIiIvAiLxcL7778PmFPbY5NXNG8OhQrB/fsQi/JXIi/MLpJzERERERERa2rfvj1p0qTh1KlTbN68+bntHRxgwABze9o0+NeiUCJWoeRcRERERERSnPTp09O1a1cAunXrxr179557Ttu20LAhzJgBTjZd90qSIyXnIiIiIiKSIo0ZMwYvLy+uXbtGt27dnju93cUFNmyAli3B0TGRgpQUQ8m5iIiIiIikSGnTpmX58uU4OTnx7bffsnjxYluHJCmYknMREREREUmxypcvz5gxYwDo3bs3586de+45jx7BlCnQqBGoRrVYi5JzERERERFJ0T788ENee+01Hj16RJs2bQgODo6x/ZMnMGIEbNwI27YlUpCS7Ck5FxERERGRFM3R0ZGlS5eSMWNGDh48yMiRI2NsnzkzdOtmbk+YkPDxScqg5FxERERERFK8XLlysfCfBczHjx/Prl27Ymzfty84O8POnfDLL4kQoCR7Ss5FRERERESAFi1a0LlzZwzDoF27dvz999/Rts2Vy1xaDTR6Ltah5FxEREREROQfM2fOpGDBgly5coX33nsvxuXVBgwAiwW+/x5OnEjEICVZUnIuIiIiIiLyj7Rp07JixQqcnJz46quvWLJkSbRtvb2heXNze/jwRApQki0l5yIiIiIiIv9Svnx5Ro8eDYCPjw9//PFHtG3HjIHGjWHs2MSKTpIrJeciIiIiIiL/MWDAAKpXr87Dhw9p164dISEhUbYrUgTWrYPChRM5QEl2lJyLiIiIiIj8h6OjI8uWLcPd3Z1ffvmFRYsWxeq8Bw8SODBJtpSci4iIiIiIRCFXrlyM/We++qBBg7h9+3a0bR88gO7d4eWXwc8vsSKU5ETJuYiIiIiISDR69OhB6dKluX//PgMGDIi2XapUsGsX3LwJH3+ciAFKsqHkXEREREREJBpOTk7Mnz8fi8XCkiVL+Omnn6Js5+wM06aZ2zNmQAw15ESipORcREREREQkBhUrVqRbt26AOZIeHBwcZbv69aFePQgONtdAF3kRSs5FRERERESeY9y4cWTJkoWTJ08yY8aMKNtYLObouaMjrFkDP/6YuDGKfVNyLiIiIiIi8hyZMmVi8uTJAIwcOZI///wzynZFikCPHua2ry9EswKbSCRKzkVERERERGKhffv2VK1alYCAAHx9faNtN3IkZMgAV67A6dOJFZ3YOyXnIiIiIiIisWCxWJg3bx5OTk6sWbOGjRs3Rtkuc2ZzWvsff0DRookcpNgtJeciIiIiIiKxVKxYMfr06QOAj48PAQEBUbZ77TXIlMk69wwJgWvXrnH27FnrXFCSJCXnIiIiIiIiL2D48OHkzJmTixcvMn78+BjbGgZ8/z2cP//i97l4Efr3h1y5QihZ8jUKFSpEx44duXXrVhwjl6RMybmIiIiIiMgLSJs2LTNnzgRg0qRJnDlzJtq2Q4dCs2bQrh188QWcOBFzkTjDgO3boUkTKFAApk6FGzccuXu3NgBLliyhUKFCzJo1i6dPn1rxU4mtKTkXERERERF5Qc2bN6dBgwYEBQXRs2dPDMOIsl3r1uDkBPv2QadOUKyYWSyuenVzVDwsv370CObNM59Rr1sX1q83E/VXX32Eg0MT4BNGjpyHh8fX+Pk144MPPqBs2bLs3r070T6zJCwl5yIiIiIiIi/IYrEwe/ZsUqVKxQ8//BDt2udFi8LevdCvH1SrBmnSwMOH8NNP8NVXZuIO4OcHH3wAp05B2rTQq5dZ6d3Doy2hoetp2LAB6dP34M6dFri7zyVDhpwcO3aMatWq0b59e27evJl4H14ShJJzERERERGROMifPz+jRo0CoG/fvowdOzbKEfTy5WHKFNi1y0zCjx+HxYth2LBnbXLkMBP4WbPg2jWYPRtu3tzF2rVrcXR0ZPLkyfToYU519/dPw7vvnqFr165YLBaWLVtGoUKFmDFjhqa62zEl5yIiIiIiInH04YcfMnLkSACGDRvGhx9+GO0UdwBHR3M0vWNH6No14rEJE8DHB9zdITQ0lL59+wLQrVs3ChcujKsrTJ5stp03LzXDhi3kl19+oVy5cvj7+9OnTx+6d++eAJ9SEoOScxERERERkTiyWCyMGDEifFr71KlT6dq1KyExVX2LheXLl3P48GHSpUsXnvyDWVyuWjV4/BgGD4YKFSrwyy+/MH/+fCwWC59//nm0669L0qbkXEREREREJJ4++OADvvjiCxwcHPjss89o1aoVQUFBcbpWQEAAgwcPBmDIkCFkzZo1/JjFAtOmmdtffgkHD4KjoyPvvfde+Eh7165d+fvvv+P3gSTRKTkXERERERGxgg4dOvD111/j4uLC119/TZMmTXj06NELX2f69OlcvXqVPHny8MEHH0Q6XrYstG9vbv/zyDsAY8aMoVChQty4cQNfX984fgqxFSXnIiIiIiIiVvLGG2+wceNGUqdOzdatW6lXrx7379+P9fk3b95k/PjxAIwfP55UqVJF2e7jj8HXF5YsebbPzc2NxYsX4+DgwNKlS1m/fn08PokkNiXnIiIiIiIiVlS7dm127NhBhgwZ+Pnnn6lRowa3b9+O1bnDhw/n0aNHVKhQgXfeeSfadjlzwvTpkDlzxP2VKlWiX79+gFlI7t69e3H+HJK4lJyLiIiIiIhYWaVKldi1axeenp4cOXKEMmXKMHPmzBinuR8/fpzPPvsMgGnTpmGxWGJ1L8OAS5eevR89ejTe3t7cvHkzymnxkjQpORcREREREUkAJUqUYPfu3eTPn59r167h6+tL7ty5GTFiBHfu3InUvn///oSGhtKiRQuqVKkSq3vcvQt16kCpUvDXX+a+VKlShRen+/LLL/n++++t+KkkoSg5FxERERERSSBeXl6cOHGCTz75hAIFCnDv3j1Gjx5N7ty56d27N5cvXwZgy5YtbN26FWdnZyZMmBDr62fMCPfugZ9fxOJwFStWpH///gB0796du3fvWvVzifUpORcREREREUlAqVKlolu3bpw5c4avvvqKMmXK8PjxY2bPnk2BAgVo165d+DJoPj4+FChQINbXdnCAqVPN7QUL4NSpZ8dGjRpF4cKFuXXrFr1797bmR5IEoORcREREREQkETg6OvLWW29x6NAhtm3bRq1atQgJCeHLL7/k1KlTZMqUiaFDh77wdWvUgKZNISQE/in0DkSc3r5ixQrWrl1rvQ8jVqfkXEREREREJBFZLBbq1KnDjh07OHDgAG+++SapU6dmxowZZMyYMU7X/KdAO+vXQ3Dws/0VKlRgwIABgDm9Papn3SVpUHIuIiIiIiJiI+XLl+ebb77h0aNHtGvXLs7XqVwZPDzg/n3YsyfisZEjR1KkSBFu376Nj49P/AKWBKPkXERERERExM45OkKjRub2xo0Rj7m6uvLFF1/g6OjIqlWrmD59euIHKM+l5FxERERERCQZ6N0btmyBjz+OfKx8+fKM/+eB9L59+7J69epEjk6ex8nWAYiIiIiIiEj8lS4d8/H+/ftz5coVZs+eTfv27cmaNSs1atRInODkuTRyLiIiIiIikgJYLBamT59OixYtCAoKolmzZhw9etTWYck/lJyLiIiIiIgkE9evw4cfQqtWUR93dHRk2bJlVKtWDX9/f+rXr8/ly5cTN0iJkpJzERERERGRZMJigSlTYNUquHEj6japUqVi7dq1FC1alBs3blC/fn3u3buXuIHG4MYNmDwZfvrJ1pEkLiXnIiIiIiIiyUT27FCxorm9fn307TJmzMiWLVvImTMnp06donHjxjx+/DhxgozGxYvQowfkywcDBkDz5hHXbE/ulJyLiIiIiIgkI02amD/XrYu5Xc6cOdm8eTMZMmRg7969tG7dmpCQkIQPMArjxoGXFyxYAIGB5gyAe/dg1y6bhGMTSs5FRERERESSkbDkfMcOePgw5rbFihXj+++/x9XVlbVr1+Lj44NhGAkfJBAa+u84ICQE6tUzE/LOnc39a9YkSihJgpZSExERERERSUaKFoX8+eHCBdi+3ZweHpNq1arx5Zdf0rJlS+bPn8/u3bt56aWX8PT0xNPTk6xZs4Zve3p6ki9fPtzd3eMUm2HAjz/CxIlQrRoMGWLub9QIjhyBkiXN946O5md488043cYuKTkXERERERFJRiwWc/R8xgxzavvzknOAFi1aMGvWLHr37s3x48c5fvx4tG3d3Nz44osvaNmyZaxjCgw0i9RNmwbHjpn7jh0zny13dgYHh2eJOUCVKuYrJVFyLiIiIiIiksw0bWomw56esT+nV69e1K9fnzNnznD79m1u3boV6XXjxg3u3r3L22+/zbVr1+jTp0+M17xzBz75BObMgZs3zX2pU0PHjtC/v5mYi0nJuYiIiIiISDJTrRpcu2aOSL+IAgUKUKBAgWiPh4SE4Ovry5w5c+jbty9XrlxhypQpOERzoyFDYOFCcztHDvDxgW7dIFOm58fy5AmsXQv79pmzACyWF/ss9sbuCsIFBgZSqlQpLBYLR44csXU4IiIiIiIiSY6Dw4sn5rHh6OjIrFmzmDhxIuDA9OmrqVNnBMuWBTNpEvTsCd9886x9795Qtix8+aW5VNrAgbFLzAGCgqBDB5g1C06dsv5nSWrsbuR8wIAB5MiRg6NHj9o6FBERERERkSQtNBQOH4Zy5ax3zUuXLCxYMABHx36EhDjyv//B//4X8Z4tWpjbRYvCoUNxu4+7O9SuDZs2mVXbixSJf+xJmV2NnG/evJlt27YxZcoUW4ciIiIiIiKSpAUHQ968UL48nD5tvetmzmyOgoeEOOLgEIrFchnYRfr06/Hx8aNpU+vdK6yYXUpYUs1uRs5v3bpF165dWbt2LalTp47VOYGBgQQGBoa/9/f3ByA4OJjg4OAEidMawmJLyjGKgPqq2A/1VbEH6qdiL9RX7Uvhwo5cueLAmjUh9O8f+vwTonHmDBQsaC5x5uYGu3ZZyJnTIHt2OHHiL5o0acWNGzf47ruX6NhxHcHBxa0Sf/364ODgxK+/Wjh/PpjcuWN/blLpq7G9v8VIrBXm48EwDBo0aECVKlUYOnQoly5dIl++fPz222+UKlUq2vNGjhzJqFGjIu1fsWJFrBN8ERERERERe7VpU14WLiyJt/ddJkzYE6drXLqUjsGDq1Kq1G18fQ/j4hI5yf/rr78YNWoUV69eJXXq1AwZMoSiRYvGN3wABg+uwsmTHnTpcoxGjS5a5ZqJKSAggNatW+Pn5xfj+vA2Tc4HDhz4TyGB6J06dYpt27bx1VdfsWvXLhwdHWOdnEc1cp4rVy7u3LkT438UWwsODmb79u3UqVMHZ60tIEmY+qrYC/VVsQfqp2Iv1Ffty9WrkD+/MxaLwZ9/Pn2hpdUA/vwTqlVz4vp1C1WqhLJpUwhublG3vXfvHi1atGDPnj1ky5aNU6dOkSZNmnh/hpkzHfjwQ0deey2UbdtCYn1eUumr/v7+eHh4PDc5t+m09n79+tGxY8cY2+TPn5///e9/7Nu3D1dX1wjHypUrR5s2bViyZEmU57q6ukY6B8DZ2dkufpHYS5wi6qtiL9RXxR6on4q9UF+1D/nymdXSf/3VwrZtznTuHPtz792DJk3g+nWzGNv69Q64u0dftszT05Nt27ZRtGhRLl68yKxZsxg+fHi8P0OLFvDhh/DkiQMWiwNOL5jF2rqvxvbeNk3Os2TJQpYsWZ7bbtasWYwdOzb8/fXr16lXrx6rV6+mYsWKCRmiiIiIiIiIXWvSBH79Fb7/nlgn548fQ9OmcPIkvPQSbNkCGTM+/zw3NzfGjx/PO++8w6RJk+jWrRvZsmWLV/x585pfEGTPHq/LJHl2Ua09d+7cFCtWLPz18ssvA1CgQAFy5sxp4+hERERERESSrrDq6du3Q0DA89uHhECbNrBnD6RPbybmuXLF/n4tW7akQoUKPHr0iBEjRsQt6P9I7ok52ElyLiIiIiIiInFTogSMHm0m51E89RvJsWOweTO4uJij7cWKvdj9LBZL+PLXn376KSdPnoxD1FHz94cnT6x2uSTFLpPzvHnzYhhGjMXgREREREREBCwWGDYMqlQxl0KLSmgoPHpkbpcuDTt2wMqVUL163O5ZtWpVmjZtSmhoKB999FHcLvIf770HWbLAhg1WuVySY5fJuYiIiIiIiLy4b7+Fjh2hcWOoXBkKFQIPD3B2htdee9auShV444343WvixIk4OjqyYcMGdu7cGb+LAWnTQlAQrFkT70slSUrORUREREREUoAffzSfH1+61Bx93rcPzp6Fu3fNkfO7d617v0KFCtGtWzcA+vfvT2ho5PXRX0Tz5ubPjRvNJD25UXIuIiIiIiKSQmTKBOPGwcKF5ij6zp3w++9mNfTTp61/vxEjRpA2bVp+/fVXVq1aFa9rVaoEnp7g52d+0ZDc2HQpNREREREREUkcNWqYr8Tk6enJRx99xLBhwxg8eDBvvPEGqVKlitO1HBzMyvMLF5pT2+vVs3KwNqaRcxEREREREUkwffv2JUeOHFy+fJk5c+bE61phz8F//705FT85UXIuIiIiIiIiCSZ16tSMGTMGgI8//ph79+7F+Vo1aphrr9+8Cb/8Yq0IkwYl5yIiIiIiIpKgOnToQPHixbl//z5jx46N83VcXGDgQJg1C7y8rBhgEqDkXERERERERBKUo6MjkyZNAmDOnDlcuHAhztcaOBB8fMw1z5MTJeciIiIiIiKS4OrVq0ft2rUJDg5m8ODBtg4nyVFyLiIiIiIiIgnOYrEwefJkLBYLq1evxtfXl2vXrtk6rCRDybmIiIiIiIgkilKlSuHj4wPAzJkzyZ8/Pz169ODy5cs2jsz2lJyLiIiIiIhIopkxYwZbt27l1VdfJSgoiAULFlCwYEHeffdd/vjjD1uHZzNKzkVERERERCTRWCwW6taty+7du9m5cye1atXi6dOnfP755xQqVIi2bdty6tQpW4eZ6JSci4iIiIiIiE1Ur16dHTt2sHfvXho0aEBoaCjLly+naNGiVKlShffff59PPvmEffv28eDBA1uHm6CcbB2AiIiIiIiIpGyVKlVi48aNHD58mLFjx7JmzRr27t3L3r17I7QrUKAAJUqUoESJEpQsWZKKFSuSI0cOG0VtXUrORUREREREJEkoU6YM3333HefPn2f//v0cO3aMo0ePcuzYMa5fv8758+c5f/48a9asAeDjjz9ONsuyKTkXERERERGRJKVAgQIUKFCA1q1bh++7c+dOhGT92LFjlClTxoZRWpeScxEREREREUnyPDw8qFmzJjVr1rR1KAlCBeFEREREREREbEzJuYiIiIiIiIiNKTkXERERERERsTEl5yIiIiIiIiI2puRcRERERERExMaUnIuIiIiIiIjYmJJzERERERERERtTci4iIiIiIiJiY0rORURERERERGxMybmIiIiIiIiIjSk5FxEREREREbExJeciIiIiIiIiNqbkXERERERERMTGlJyLiIiIiIiI2JiScxEREREREREbU3IuIiIiIiIiYmNKzkVERERERERsTMm5iIiIiIiIiI052TqAxGQYBgD+/v42jiRmwcHBBAQE4O/vj7Ozs63DEYmW+qrYC/VVsQfqp2Iv1FfFXiSVvhqWf4blo9FJUcn5gwcPAMiVK5eNIxEREREREZGU5MGDB6RPnz7a4xbjeel7MhIaGsr169dJly4dFovF1uFEy9/fn1y5cnHlyhXc3d1tHY5ItNRXxV6or4o9UD8Ve6G+KvYiqfRVwzB48OABOXLkwMEh+ifLU9TIuYODAzlz5rR1GLHm7u6uX3hiF9RXxV6or4o9UD8Ve6G+KvYiKfTVmEbMw6ggnIiIiIiIiIiNKTkXERERERERsTEl50mQq6srI0aMwNXV1dahiMRIfVXshfqq2AP1U7EX6qtiL+ytr6aognAiIiIiIiIiSZFGzkVERERERERsTMm5iIiIiIiIiI0pORcRERERERGxMSXnIiIiIiIiIjam5DyJmTt3Lnnz5iVVqlRUrFiRAwcO2DokkQjGjx9P+fLlSZcuHVmzZqVZs2acOXPG1mGJPNeECROwWCz4+vraOhSRSK5du0bbtm3JnDkzbm5uFC9enEOHDtk6LJEIQkJCGDZsGPny5cPNzY0CBQowZswYVF9abO2nn36icePG5MiRA4vFwtq1ayMcNwyD4cOHkz17dtzc3Khduzbnzp2zTbAxUHKehKxevZq+ffsyYsQIDh8+TMmSJalXrx63b9+2dWgi4Xbt2kXPnj355Zdf2L59O8HBwdStW5dHjx7ZOjSRaB08eJBPPvmEEiVK2DoUkUj+/vtvqlSpgrOzM5s3b+bkyZNMnTqVjBkz2jo0kQgmTpzI/PnzmTNnDqdOnWLixIlMmjSJ2bNn2zo0SeEePXpEyZIlmTt3bpTHJ02axKxZs1iwYAH79+8nTZo01KtXjydPniRypDHTUmpJSMWKFSlfvjxz5swBIDQ0lFy5cuHj48PAgQNtHJ1I1P766y+yZs3Krl27qFatmq3DEYnk4cOHlClThnnz5jF27FhKlSrFjBkzbB2WSLiBAwfy888/s3v3bluHIhKjRo0a4enpyWeffRa+780338TNzY0vv/zShpGJPGOxWFizZg3NmjUDzFHzHDly0K9fP/r37w+An58fnp6efPHFF7zzzjs2jDYijZwnEUFBQfz666/Url07fJ+DgwO1a9dm3759NoxMJGZ+fn4AZMqUycaRiEStZ8+eNGzYMMLvV5GkZN26dZQrV4633nqLrFmzUrp0aRYtWmTrsEQiqVy5Mj/88ANnz54F4OjRo+zZs4f69evbODKR6F28eJGbN29G+Dsgffr0VKxYMcnlWU62DkBMd+7cISQkBE9Pzwj7PT09OX36tI2iEolZaGgovr6+VKlShWLFitk6HJFIVq1axeHDhzl48KCtQxGJ1oULF5g/fz59+/Zl8ODBHDx4kN69e+Pi4kKHDh1sHZ5IuIEDB+Lv74+3tzeOjo6EhITw8ccf06ZNG1uHJhKtmzdvAkSZZ4UdSyqUnItInPXs2ZPjx4+zZ88eW4ciEsmVK1f44IMP2L59O6lSpbJ1OCLRCg0NpVy5cowbNw6A0qVLc/z4cRYsWKDkXJKUr776iuXLl7NixQqKFi3KkSNH8PX1JUeOHOqrIlagae1JhIeHB46Ojty6dSvC/lu3bpEtWzYbRSUSvV69erFhwwZ+/PFHcubMaetwRCL59ddfuX37NmXKlMHJyQknJyd27drFrFmzcHJyIiQkxNYhigCQPXt2ihQpEmFf4cKF+fPPP20UkUjUPvzwQwYOHMg777xD8eLFadeuHX369GH8+PG2Dk0kWmG5lD3kWUrOkwgXFxfKli3LDz/8EL4vNDSUH374gUqVKtkwMpGIDMOgV69erFmzhv/973/ky5fP1iGJRKlWrVr8/vvvHDlyJPxVrlw52rRpw5EjR3B0dLR1iCIAVKlSJdKSlGfPniVPnjw2ikgkagEBATg4REwfHB0dCQ0NtVFEIs+XL18+smXLFiHP8vf3Z//+/Ukuz9K09iSkb9++dOjQgXLlylGhQgVmzJjBo0eP6NSpk61DEwnXs2dPVqxYwffff0+6dOnCn9VJnz49bm5uNo5O5Jl06dJFqoWQJk0aMmfOrBoJkqT06dOHypUrM27cOFq2bMmBAwdYuHAhCxcutHVoIhE0btyYjz/+mNy5c1O0aFF+++03pk2bRufOnW0dmqRwDx8+5I8//gh/f/HiRY4cOUKmTJnInTs3vr6+jB07Fi8vL/Lly8ewYcPIkSNHeEX3pEJLqSUxc+bMYfLkydy8eZNSpUoxa9YsKlasaOuwRMJZLJYo9y9evJiOHTsmbjAiL+i1117TUmqSJG3YsIFBgwZx7tw58uXLR9++fenatautwxKJ4MGDBwwbNow1a9Zw+/ZtcuTIQatWrRg+fDguLi62Dk9SsJ07d1KjRo1I+zt06MAXX3yBYRiMGDGChQsXcv/+fV599VXmzZvHyy+/bINoo6fkXERERERERMTG9My5iIiIiIiIiI0pORcRERERERGxMSXnIiIiIiIiIjam5FxERERERETExpSci4iIiIiIiNiYknMRERERERERG1NyLiIiIiIiImJjSs5FREREREREbEzJuYiISDLVsWNHmjVrZrP7t2vXjnHjxsWq7TvvvMPUqVMTOCIREZGky2IYhmHrIEREROTFWCyWGI+PGDGCPn36YBgGGTJkSJyg/uXo0aPUrFmTy5cvkzZt2ue2P378ONWqVePixYukT58+ESIUERFJWpSci4iI2KGbN2+Gb69evZrhw4dz5syZ8H1p06aNVVKcULp06YKTkxMLFiyI9Tnly5enY8eO9OzZMwEjExERSZo0rV1ERMQOZcuWLfyVPn16LBZLhH1p06aNNK39tddew8fHB19fXzJmzIinpyeLFi3i0aNHdOrUiXTp0lGwYEE2b94c4V7Hjx+nfv36pE2bFk9PT9q1a8edO3eijS0kJIRvvvmGxo0bR9g/b948vLy8SJUqFZ6enrRo0SLC8caNG7Nq1ar4/8cRERGxQ0rORUREUpAlS5bg4eHBgQMH8PHxoUePHrz11ltUrlyZw4cPU7duXdq1a0dAQAAA9+/fp2bNmpQuXZpDhw6xZcsWbt26RcuWLaO9x7Fjx/Dz86NcuXLh+w4dOkTv3r0ZPXo0Z86cYcuWLVSrVi3CeRUqVODAgQMEBgYmzIcXERFJwpSci4iIpCAlS5Zk6NCheHl5MWjQIFKlSoWHhwddu3bFy8uL4cOHc/fuXY4dOwbAnDlzKF26NOPGjcPb25vSpUvz+eef8+OPP3L27Nko73H58mUcHR3JmjVr+L4///yTNGnS0KhRI/LkyUPp0qXp3bt3hPNy5MhBUFBQhCn7IiIiKYWScxERkRSkRIkS4duOjo5kzpyZ4sWLh+/z9PQE4Pbt24BZ2O3HH38Mf4Y9bdq0eHt7A3D+/Pko7/H48WNcXV0jFK2rU6cOefLkIX/+/LRr147ly5eHj86HcXNzA4i0X0REJCVQci4iIpKCODs7R3hvsVgi7AtLqENDQwF4+PAhjRs35siRIxFe586dizQtPYyHhwcBAQEEBQWF70uXLh2HDx9m5cqVZM+eneHDh1OyZEnu378f3ubevXsAZMmSxSqfVURExJ4oORcREZFolSlThhMnTpA3b14KFiwY4ZUmTZoozylVqhQAJ0+ejLDfycmJ2rVrM2nSJI4dO8alS5f43//+F378+PHj5MyZEw8PjwT7PCIiIkmVknMRERGJVs+ePbl37x6tWrXi4MGDnD9/nq1bt9KpUydCQkKiPCdLliyUKVOGPXv2hO/bsGEDs2bN4siRI1y+fJmlS5cSGhpKoUKFwtvs3r2bunXrJvhnEhERSYqUnIuIiEi0cuTIwc8//0xISAh169alePHi+Pr6kiFDBhwcov8zokuXLixfvjz8fYYMGfjuu++oWbMmhQsXZsGCBaxcuZKiRYsC8OTJE9auXUvXrl0T/DOJiIgkRRbDMAxbByEiIiLJy+PHjylUqBCrV6+mUqVKz20/f/581qxZw7Zt2xIhOhERkaRHI+ciIiJidW5ubixdupQ7d+7Eqr2zszOzZ89O4KhERESSLo2ci4iIiIiIiNiYRs5FREREREREbEzJuYiIiIiIiIiNKTkXERERERERsTEl5yIiIiIiIiI2puRcRERERERExMaUnIuIiIiIiIjYmJJzERERERERERtTci4iIiIiIiJiY0rORURERERERGzs/989PC1vEo+sAAAAAElFTkSuQmCC\n",
                  "text/plain": "<Figure size 1200x600 with 1 Axes>"
                },
                "metadata": {},
                "output_type": "display_data"
              }
            ]
          }
        },
        "6b0c36ad367d46469836af7e0e2118ba": {
          "model_module": "@jupyter-widgets/output",
          "model_module_version": "1.0.0",
          "model_name": "OutputModel",
          "state": {
            "_dom_classes": [],
            "_model_module": "@jupyter-widgets/output",
            "_model_module_version": "1.0.0",
            "_model_name": "OutputModel",
            "_view_count": null,
            "_view_module": "@jupyter-widgets/output",
            "_view_module_version": "1.0.0",
            "_view_name": "OutputView",
            "layout": "IPY_MODEL_d6033660dbec46d586e729b7cbf2c94d",
            "msg_id": "",
            "outputs": [
              {
                "name": "stderr",
                "output_type": "stream",
                "text": [
                  "<ipython-input-52-44fe1955a570>:62: DeprecationWarning: Conversion of an array with ndim > 0 to a scalar is deprecated, and will error in future. Ensure you extract a single element from your array before performing this operation. (Deprecated NumPy 1.25.)\n",
                  "  x_est_vals[t] = x_est\n"
                ]
              },
              {
                "data": {
                  "image/png": "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\n",
                  "text/plain": "<Figure size 1000x600 with 1 Axes>"
                },
                "metadata": {},
                "output_type": "display_data"
              }
            ]
          }
        },
        "6bfbed0e3af349408ca13be118815dc0": {
          "model_module": "@jupyter-widgets/base",
          "model_module_version": "1.2.0",
          "model_name": "LayoutModel",
          "state": {
            "_model_module": "@jupyter-widgets/base",
            "_model_module_version": "1.2.0",
            "_model_name": "LayoutModel",
            "_view_count": null,
            "_view_module": "@jupyter-widgets/base",
            "_view_module_version": "1.2.0",
            "_view_name": "LayoutView",
            "align_content": null,
            "align_items": null,
            "align_self": null,
            "border": null,
            "bottom": null,
            "display": null,
            "flex": null,
            "flex_flow": null,
            "grid_area": null,
            "grid_auto_columns": null,
            "grid_auto_flow": null,
            "grid_auto_rows": null,
            "grid_column": null,
            "grid_gap": null,
            "grid_row": null,
            "grid_template_areas": null,
            "grid_template_columns": null,
            "grid_template_rows": null,
            "height": null,
            "justify_content": null,
            "justify_items": null,
            "left": null,
            "margin": null,
            "max_height": null,
            "max_width": null,
            "min_height": null,
            "min_width": null,
            "object_fit": null,
            "object_position": null,
            "order": null,
            "overflow": null,
            "overflow_x": null,
            "overflow_y": null,
            "padding": null,
            "right": null,
            "top": null,
            "visibility": null,
            "width": null
          }
        },
        "6edcb6eebbc7415dbc8b18e4e424ddb1": {
          "model_module": "@jupyter-widgets/base",
          "model_module_version": "1.2.0",
          "model_name": "LayoutModel",
          "state": {
            "_model_module": "@jupyter-widgets/base",
            "_model_module_version": "1.2.0",
            "_model_name": "LayoutModel",
            "_view_count": null,
            "_view_module": "@jupyter-widgets/base",
            "_view_module_version": "1.2.0",
            "_view_name": "LayoutView",
            "align_content": null,
            "align_items": null,
            "align_self": null,
            "border": null,
            "bottom": null,
            "display": null,
            "flex": null,
            "flex_flow": null,
            "grid_area": null,
            "grid_auto_columns": null,
            "grid_auto_flow": null,
            "grid_auto_rows": null,
            "grid_column": null,
            "grid_gap": null,
            "grid_row": null,
            "grid_template_areas": null,
            "grid_template_columns": null,
            "grid_template_rows": null,
            "height": null,
            "justify_content": null,
            "justify_items": null,
            "left": null,
            "margin": null,
            "max_height": null,
            "max_width": null,
            "min_height": null,
            "min_width": null,
            "object_fit": null,
            "object_position": null,
            "order": null,
            "overflow": null,
            "overflow_x": null,
            "overflow_y": null,
            "padding": null,
            "right": null,
            "top": null,
            "visibility": null,
            "width": null
          }
        },
        "74840750cbc24c3e88892edc261bc7c7": {
          "model_module": "@jupyter-widgets/base",
          "model_module_version": "1.2.0",
          "model_name": "LayoutModel",
          "state": {
            "_model_module": "@jupyter-widgets/base",
            "_model_module_version": "1.2.0",
            "_model_name": "LayoutModel",
            "_view_count": null,
            "_view_module": "@jupyter-widgets/base",
            "_view_module_version": "1.2.0",
            "_view_name": "LayoutView",
            "align_content": null,
            "align_items": null,
            "align_self": null,
            "border": null,
            "bottom": null,
            "display": null,
            "flex": null,
            "flex_flow": null,
            "grid_area": null,
            "grid_auto_columns": null,
            "grid_auto_flow": null,
            "grid_auto_rows": null,
            "grid_column": null,
            "grid_gap": null,
            "grid_row": null,
            "grid_template_areas": null,
            "grid_template_columns": null,
            "grid_template_rows": null,
            "height": null,
            "justify_content": null,
            "justify_items": null,
            "left": null,
            "margin": null,
            "max_height": null,
            "max_width": null,
            "min_height": null,
            "min_width": null,
            "object_fit": null,
            "object_position": null,
            "order": null,
            "overflow": null,
            "overflow_x": null,
            "overflow_y": null,
            "padding": null,
            "right": null,
            "top": null,
            "visibility": null,
            "width": null
          }
        },
        "7b161a6e51cb49908f267dd81eabf28d": {
          "model_module": "@jupyter-widgets/base",
          "model_module_version": "1.2.0",
          "model_name": "LayoutModel",
          "state": {
            "_model_module": "@jupyter-widgets/base",
            "_model_module_version": "1.2.0",
            "_model_name": "LayoutModel",
            "_view_count": null,
            "_view_module": "@jupyter-widgets/base",
            "_view_module_version": "1.2.0",
            "_view_name": "LayoutView",
            "align_content": null,
            "align_items": null,
            "align_self": null,
            "border": null,
            "bottom": null,
            "display": null,
            "flex": null,
            "flex_flow": null,
            "grid_area": null,
            "grid_auto_columns": null,
            "grid_auto_flow": null,
            "grid_auto_rows": null,
            "grid_column": null,
            "grid_gap": null,
            "grid_row": null,
            "grid_template_areas": null,
            "grid_template_columns": null,
            "grid_template_rows": null,
            "height": null,
            "justify_content": null,
            "justify_items": null,
            "left": null,
            "margin": null,
            "max_height": null,
            "max_width": null,
            "min_height": null,
            "min_width": null,
            "object_fit": null,
            "object_position": null,
            "order": null,
            "overflow": null,
            "overflow_x": null,
            "overflow_y": null,
            "padding": null,
            "right": null,
            "top": null,
            "visibility": null,
            "width": null
          }
        },
        "8ca6f58c642d4d8280e92b5c9cb3b30b": {
          "model_module": "@jupyter-widgets/base",
          "model_module_version": "1.2.0",
          "model_name": "LayoutModel",
          "state": {
            "_model_module": "@jupyter-widgets/base",
            "_model_module_version": "1.2.0",
            "_model_name": "LayoutModel",
            "_view_count": null,
            "_view_module": "@jupyter-widgets/base",
            "_view_module_version": "1.2.0",
            "_view_name": "LayoutView",
            "align_content": null,
            "align_items": null,
            "align_self": null,
            "border": null,
            "bottom": null,
            "display": null,
            "flex": null,
            "flex_flow": null,
            "grid_area": null,
            "grid_auto_columns": null,
            "grid_auto_flow": null,
            "grid_auto_rows": null,
            "grid_column": null,
            "grid_gap": null,
            "grid_row": null,
            "grid_template_areas": null,
            "grid_template_columns": null,
            "grid_template_rows": null,
            "height": null,
            "justify_content": null,
            "justify_items": null,
            "left": null,
            "margin": null,
            "max_height": null,
            "max_width": null,
            "min_height": null,
            "min_width": null,
            "object_fit": null,
            "object_position": null,
            "order": null,
            "overflow": null,
            "overflow_x": null,
            "overflow_y": null,
            "padding": null,
            "right": null,
            "top": null,
            "visibility": null,
            "width": null
          }
        },
        "90895739c154410e9ada80cde03115f3": {
          "model_module": "@jupyter-widgets/base",
          "model_module_version": "1.2.0",
          "model_name": "LayoutModel",
          "state": {
            "_model_module": "@jupyter-widgets/base",
            "_model_module_version": "1.2.0",
            "_model_name": "LayoutModel",
            "_view_count": null,
            "_view_module": "@jupyter-widgets/base",
            "_view_module_version": "1.2.0",
            "_view_name": "LayoutView",
            "align_content": null,
            "align_items": null,
            "align_self": null,
            "border": null,
            "bottom": null,
            "display": null,
            "flex": null,
            "flex_flow": null,
            "grid_area": null,
            "grid_auto_columns": null,
            "grid_auto_flow": null,
            "grid_auto_rows": null,
            "grid_column": null,
            "grid_gap": null,
            "grid_row": null,
            "grid_template_areas": null,
            "grid_template_columns": null,
            "grid_template_rows": null,
            "height": null,
            "justify_content": null,
            "justify_items": null,
            "left": null,
            "margin": null,
            "max_height": null,
            "max_width": null,
            "min_height": null,
            "min_width": null,
            "object_fit": null,
            "object_position": null,
            "order": null,
            "overflow": null,
            "overflow_x": null,
            "overflow_y": null,
            "padding": null,
            "right": null,
            "top": null,
            "visibility": null,
            "width": null
          }
        },
        "a5c31c613c0a406c92a66714bcd72de0": {
          "model_module": "@jupyter-widgets/base",
          "model_module_version": "1.2.0",
          "model_name": "LayoutModel",
          "state": {
            "_model_module": "@jupyter-widgets/base",
            "_model_module_version": "1.2.0",
            "_model_name": "LayoutModel",
            "_view_count": null,
            "_view_module": "@jupyter-widgets/base",
            "_view_module_version": "1.2.0",
            "_view_name": "LayoutView",
            "align_content": null,
            "align_items": null,
            "align_self": null,
            "border": null,
            "bottom": null,
            "display": null,
            "flex": null,
            "flex_flow": null,
            "grid_area": null,
            "grid_auto_columns": null,
            "grid_auto_flow": null,
            "grid_auto_rows": null,
            "grid_column": null,
            "grid_gap": null,
            "grid_row": null,
            "grid_template_areas": null,
            "grid_template_columns": null,
            "grid_template_rows": null,
            "height": null,
            "justify_content": null,
            "justify_items": null,
            "left": null,
            "margin": null,
            "max_height": null,
            "max_width": null,
            "min_height": null,
            "min_width": null,
            "object_fit": null,
            "object_position": null,
            "order": null,
            "overflow": null,
            "overflow_x": null,
            "overflow_y": null,
            "padding": null,
            "right": null,
            "top": null,
            "visibility": null,
            "width": null
          }
        },
        "ac63b74bdfcb4db993758792516e0618": {
          "model_module": "@jupyter-widgets/controls",
          "model_module_version": "1.5.0",
          "model_name": "FloatSliderModel",
          "state": {
            "_dom_classes": [],
            "_model_module": "@jupyter-widgets/controls",
            "_model_module_version": "1.5.0",
            "_model_name": "FloatSliderModel",
            "_view_count": null,
            "_view_module": "@jupyter-widgets/controls",
            "_view_module_version": "1.5.0",
            "_view_name": "FloatSliderView",
            "continuous_update": true,
            "description": "Imaginary Part:",
            "description_tooltip": null,
            "disabled": false,
            "layout": "IPY_MODEL_27472d9a216a4544aea25d31916b0b3c",
            "max": 5,
            "min": 0,
            "orientation": "horizontal",
            "readout": true,
            "readout_format": ".2f",
            "step": 0.5,
            "style": "IPY_MODEL_e1b0e803afe04f8ab072b89f6810826f",
            "value": 1
          }
        },
        "bcba4309681f459ba0cb8f927ca11e8b": {
          "model_module": "@jupyter-widgets/controls",
          "model_module_version": "1.5.0",
          "model_name": "SliderStyleModel",
          "state": {
            "_model_module": "@jupyter-widgets/controls",
            "_model_module_version": "1.5.0",
            "_model_name": "SliderStyleModel",
            "_view_count": null,
            "_view_module": "@jupyter-widgets/base",
            "_view_module_version": "1.2.0",
            "_view_name": "StyleView",
            "description_width": "",
            "handle_color": null
          }
        },
        "c864ba71b0dd4879990928d612ecbb7e": {
          "model_module": "@jupyter-widgets/controls",
          "model_module_version": "1.5.0",
          "model_name": "SliderStyleModel",
          "state": {
            "_model_module": "@jupyter-widgets/controls",
            "_model_module_version": "1.5.0",
            "_model_name": "SliderStyleModel",
            "_view_count": null,
            "_view_module": "@jupyter-widgets/base",
            "_view_module_version": "1.2.0",
            "_view_name": "StyleView",
            "description_width": "",
            "handle_color": null
          }
        },
        "cc634fa49efa4cd88408e14a36fe2ddb": {
          "model_module": "@jupyter-widgets/controls",
          "model_module_version": "1.5.0",
          "model_name": "SliderStyleModel",
          "state": {
            "_model_module": "@jupyter-widgets/controls",
            "_model_module_version": "1.5.0",
            "_model_name": "SliderStyleModel",
            "_view_count": null,
            "_view_module": "@jupyter-widgets/base",
            "_view_module_version": "1.2.0",
            "_view_name": "StyleView",
            "description_width": "",
            "handle_color": null
          }
        },
        "cdb51adc3cb447a496851ee327041ee7": {
          "model_module": "@jupyter-widgets/controls",
          "model_module_version": "1.5.0",
          "model_name": "SliderStyleModel",
          "state": {
            "_model_module": "@jupyter-widgets/controls",
            "_model_module_version": "1.5.0",
            "_model_name": "SliderStyleModel",
            "_view_count": null,
            "_view_module": "@jupyter-widgets/base",
            "_view_module_version": "1.2.0",
            "_view_name": "StyleView",
            "description_width": "",
            "handle_color": null
          }
        },
        "d0e4dd557cf844f3a4338137589888a3": {
          "model_module": "@jupyter-widgets/controls",
          "model_module_version": "1.5.0",
          "model_name": "FloatSliderModel",
          "state": {
            "_dom_classes": [],
            "_model_module": "@jupyter-widgets/controls",
            "_model_module_version": "1.5.0",
            "_model_name": "FloatSliderModel",
            "_view_count": null,
            "_view_module": "@jupyter-widgets/controls",
            "_view_module_version": "1.5.0",
            "_view_name": "FloatSliderView",
            "continuous_update": true,
            "description": "Simulation Time:",
            "description_tooltip": null,
            "disabled": false,
            "layout": "IPY_MODEL_7b161a6e51cb49908f267dd81eabf28d",
            "max": 20,
            "min": 5,
            "orientation": "horizontal",
            "readout": true,
            "readout_format": ".2f",
            "step": 1,
            "style": "IPY_MODEL_c864ba71b0dd4879990928d612ecbb7e",
            "value": 10
          }
        },
        "d6033660dbec46d586e729b7cbf2c94d": {
          "model_module": "@jupyter-widgets/base",
          "model_module_version": "1.2.0",
          "model_name": "LayoutModel",
          "state": {
            "_model_module": "@jupyter-widgets/base",
            "_model_module_version": "1.2.0",
            "_model_name": "LayoutModel",
            "_view_count": null,
            "_view_module": "@jupyter-widgets/base",
            "_view_module_version": "1.2.0",
            "_view_name": "LayoutView",
            "align_content": null,
            "align_items": null,
            "align_self": null,
            "border": null,
            "bottom": null,
            "display": null,
            "flex": null,
            "flex_flow": null,
            "grid_area": null,
            "grid_auto_columns": null,
            "grid_auto_flow": null,
            "grid_auto_rows": null,
            "grid_column": null,
            "grid_gap": null,
            "grid_row": null,
            "grid_template_areas": null,
            "grid_template_columns": null,
            "grid_template_rows": null,
            "height": null,
            "justify_content": null,
            "justify_items": null,
            "left": null,
            "margin": null,
            "max_height": null,
            "max_width": null,
            "min_height": null,
            "min_width": null,
            "object_fit": null,
            "object_position": null,
            "order": null,
            "overflow": null,
            "overflow_x": null,
            "overflow_y": null,
            "padding": null,
            "right": null,
            "top": null,
            "visibility": null,
            "width": null
          }
        },
        "d9637d0af3d946abb414044011cd85b4": {
          "model_module": "@jupyter-widgets/controls",
          "model_module_version": "1.5.0",
          "model_name": "SliderStyleModel",
          "state": {
            "_model_module": "@jupyter-widgets/controls",
            "_model_module_version": "1.5.0",
            "_model_name": "SliderStyleModel",
            "_view_count": null,
            "_view_module": "@jupyter-widgets/base",
            "_view_module_version": "1.2.0",
            "_view_name": "StyleView",
            "description_width": "",
            "handle_color": null
          }
        },
        "e1b0e803afe04f8ab072b89f6810826f": {
          "model_module": "@jupyter-widgets/controls",
          "model_module_version": "1.5.0",
          "model_name": "SliderStyleModel",
          "state": {
            "_model_module": "@jupyter-widgets/controls",
            "_model_module_version": "1.5.0",
            "_model_name": "SliderStyleModel",
            "_view_count": null,
            "_view_module": "@jupyter-widgets/base",
            "_view_module_version": "1.2.0",
            "_view_name": "StyleView",
            "description_width": "",
            "handle_color": null
          }
        },
        "e2e566c792974ce5b2508a892ff5a1df": {
          "model_module": "@jupyter-widgets/controls",
          "model_module_version": "1.5.0",
          "model_name": "VBoxModel",
          "state": {
            "_dom_classes": [
              "widget-interact"
            ],
            "_model_module": "@jupyter-widgets/controls",
            "_model_module_version": "1.5.0",
            "_model_name": "VBoxModel",
            "_view_count": null,
            "_view_module": "@jupyter-widgets/controls",
            "_view_module_version": "1.5.0",
            "_view_name": "VBoxView",
            "box_style": "",
            "children": [
              "IPY_MODEL_1a98e326cdfa4e87ad680a7f2945a0b2",
              "IPY_MODEL_ac63b74bdfcb4db993758792516e0618",
              "IPY_MODEL_2bc27cccb8b943f5ac08ed3d43f7f6ec"
            ],
            "layout": "IPY_MODEL_a5c31c613c0a406c92a66714bcd72de0"
          }
        },
        "e9b041fa695f44719ce0094ae9f2da61": {
          "model_module": "@jupyter-widgets/base",
          "model_module_version": "1.2.0",
          "model_name": "LayoutModel",
          "state": {
            "_model_module": "@jupyter-widgets/base",
            "_model_module_version": "1.2.0",
            "_model_name": "LayoutModel",
            "_view_count": null,
            "_view_module": "@jupyter-widgets/base",
            "_view_module_version": "1.2.0",
            "_view_name": "LayoutView",
            "align_content": null,
            "align_items": null,
            "align_self": null,
            "border": null,
            "bottom": null,
            "display": null,
            "flex": null,
            "flex_flow": null,
            "grid_area": null,
            "grid_auto_columns": null,
            "grid_auto_flow": null,
            "grid_auto_rows": null,
            "grid_column": null,
            "grid_gap": null,
            "grid_row": null,
            "grid_template_areas": null,
            "grid_template_columns": null,
            "grid_template_rows": null,
            "height": null,
            "justify_content": null,
            "justify_items": null,
            "left": null,
            "margin": null,
            "max_height": null,
            "max_width": null,
            "min_height": null,
            "min_width": null,
            "object_fit": null,
            "object_position": null,
            "order": null,
            "overflow": null,
            "overflow_x": null,
            "overflow_y": null,
            "padding": null,
            "right": null,
            "top": null,
            "visibility": null,
            "width": null
          }
        },
        "eaae253de7f44ef79dc0e774dcab4a26": {
          "model_module": "@jupyter-widgets/controls",
          "model_module_version": "1.5.0",
          "model_name": "FloatSliderModel",
          "state": {
            "_dom_classes": [],
            "_model_module": "@jupyter-widgets/controls",
            "_model_module_version": "1.5.0",
            "_model_name": "FloatSliderModel",
            "_view_count": null,
            "_view_module": "@jupyter-widgets/controls",
            "_view_module_version": "1.5.0",
            "_view_name": "FloatSliderView",
            "continuous_update": true,
            "description": "R",
            "description_tooltip": null,
            "disabled": false,
            "layout": "IPY_MODEL_360557eee1aa40aba73bc76a4028c82a",
            "max": 100,
            "min": 0.001,
            "orientation": "horizontal",
            "readout": true,
            "readout_format": ".2f",
            "step": 0.1,
            "style": "IPY_MODEL_d9637d0af3d946abb414044011cd85b4",
            "value": 1
          }
        },
        "ee1ad42991034045816d44491d639315": {
          "model_module": "@jupyter-widgets/controls",
          "model_module_version": "1.5.0",
          "model_name": "SliderStyleModel",
          "state": {
            "_model_module": "@jupyter-widgets/controls",
            "_model_module_version": "1.5.0",
            "_model_name": "SliderStyleModel",
            "_view_count": null,
            "_view_module": "@jupyter-widgets/base",
            "_view_module_version": "1.2.0",
            "_view_name": "StyleView",
            "description_width": "",
            "handle_color": null
          }
        },
        "f28fda99f0ab4462a0157bbb84300a98": {
          "model_module": "@jupyter-widgets/controls",
          "model_module_version": "1.5.0",
          "model_name": "FloatSliderModel",
          "state": {
            "_dom_classes": [],
            "_model_module": "@jupyter-widgets/controls",
            "_model_module_version": "1.5.0",
            "_model_name": "FloatSliderModel",
            "_view_count": null,
            "_view_module": "@jupyter-widgets/controls",
            "_view_module_version": "1.5.0",
            "_view_name": "FloatSliderView",
            "continuous_update": true,
            "description": "Process Noise Q:",
            "description_tooltip": null,
            "disabled": false,
            "layout": "IPY_MODEL_6bfbed0e3af349408ca13be118815dc0",
            "max": 100,
            "min": 0.0001,
            "orientation": "horizontal",
            "readout": true,
            "readout_format": ".2f",
            "step": 0.01,
            "style": "IPY_MODEL_bcba4309681f459ba0cb8f927ca11e8b",
            "value": 0.1
          }
        },
        "f2af05e4502d4c10bdf246efc9848940": {
          "model_module": "@jupyter-widgets/controls",
          "model_module_version": "1.5.0",
          "model_name": "VBoxModel",
          "state": {
            "_dom_classes": [
              "widget-interact"
            ],
            "_model_module": "@jupyter-widgets/controls",
            "_model_module_version": "1.5.0",
            "_model_name": "VBoxModel",
            "_view_count": null,
            "_view_module": "@jupyter-widgets/controls",
            "_view_module_version": "1.5.0",
            "_view_name": "VBoxView",
            "box_style": "",
            "children": [
              "IPY_MODEL_544b6feda3da460599e36e3814156444",
              "IPY_MODEL_10905daf793d460491e98d8b0ec09de3",
              "IPY_MODEL_d0e4dd557cf844f3a4338137589888a3",
              "IPY_MODEL_6a6185ac09114d169f88f9d1dbec6b7c"
            ],
            "layout": "IPY_MODEL_90895739c154410e9ada80cde03115f3"
          }
        }
      }
    }
  },
  "nbformat": 4,
  "nbformat_minor": 0
}
