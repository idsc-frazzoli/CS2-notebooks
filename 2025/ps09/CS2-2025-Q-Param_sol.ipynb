{
 "cells": [
  {
   "cell_type": "markdown",
   "metadata": {},
   "source": [
    "# CSII 2025 Exercise 9: Internal Model Control & $H_{\\infty}$ Control\n",
    "© 2025 ETH Zurich, Aya Abrini, Livia Fischer, Niclas Scheuer, Dejan Milojevic; Institute for Dynamic Systems and Control; Prof. Emilio Frazzoli"
   ]
  },
  {
   "cell_type": "markdown",
   "metadata": {},
   "source": [
    "# Setup"
   ]
  },
  {
   "cell_type": "code",
   "execution_count": 36,
   "metadata": {},
   "outputs": [
    {
     "name": "stdout",
     "output_type": "stream",
     "text": [
      "Requirement already satisfied: cs2solutions in c:\\users\\joel\\appdata\\local\\packages\\pythonsoftwarefoundation.python.3.11_qbz5n2kfra8p0\\localcache\\local-packages\\python311\\site-packages (0.10.0)\n",
      "Requirement already satisfied: control in c:\\users\\joel\\appdata\\local\\packages\\pythonsoftwarefoundation.python.3.11_qbz5n2kfra8p0\\localcache\\local-packages\\python311\\site-packages (from cs2solutions) (0.10.0)\n",
      "Requirement already satisfied: matplotlib in c:\\users\\joel\\appdata\\local\\packages\\pythonsoftwarefoundation.python.3.11_qbz5n2kfra8p0\\localcache\\local-packages\\python311\\site-packages (from cs2solutions) (3.8.4)\n",
      "Requirement already satisfied: numpy in c:\\users\\joel\\appdata\\local\\packages\\pythonsoftwarefoundation.python.3.11_qbz5n2kfra8p0\\localcache\\local-packages\\python311\\site-packages (from cs2solutions) (1.26.4)\n",
      "Requirement already satisfied: scipy in c:\\users\\joel\\appdata\\local\\packages\\pythonsoftwarefoundation.python.3.11_qbz5n2kfra8p0\\localcache\\local-packages\\python311\\site-packages (from cs2solutions) (1.13.0)\n",
      "Requirement already satisfied: sympy in c:\\users\\joel\\appdata\\local\\packages\\pythonsoftwarefoundation.python.3.11_qbz5n2kfra8p0\\localcache\\local-packages\\python311\\site-packages (from cs2solutions) (1.12)\n",
      "Requirement already satisfied: pandas in c:\\users\\joel\\appdata\\local\\packages\\pythonsoftwarefoundation.python.3.11_qbz5n2kfra8p0\\localcache\\local-packages\\python311\\site-packages (from cs2solutions) (2.2.2)\n",
      "Requirement already satisfied: contourpy>=1.0.1 in c:\\users\\joel\\appdata\\local\\packages\\pythonsoftwarefoundation.python.3.11_qbz5n2kfra8p0\\localcache\\local-packages\\python311\\site-packages (from matplotlib->cs2solutions) (1.2.1)\n",
      "Requirement already satisfied: cycler>=0.10 in c:\\users\\joel\\appdata\\local\\packages\\pythonsoftwarefoundation.python.3.11_qbz5n2kfra8p0\\localcache\\local-packages\\python311\\site-packages (from matplotlib->cs2solutions) (0.12.1)\n",
      "Requirement already satisfied: fonttools>=4.22.0 in c:\\users\\joel\\appdata\\local\\packages\\pythonsoftwarefoundation.python.3.11_qbz5n2kfra8p0\\localcache\\local-packages\\python311\\site-packages (from matplotlib->cs2solutions) (4.51.0)\n",
      "Requirement already satisfied: kiwisolver>=1.3.1 in c:\\users\\joel\\appdata\\local\\packages\\pythonsoftwarefoundation.python.3.11_qbz5n2kfra8p0\\localcache\\local-packages\\python311\\site-packages (from matplotlib->cs2solutions) (1.4.5)\n",
      "Requirement already satisfied: packaging>=20.0 in c:\\users\\joel\\appdata\\local\\packages\\pythonsoftwarefoundation.python.3.11_qbz5n2kfra8p0\\localcache\\local-packages\\python311\\site-packages (from matplotlib->cs2solutions) (24.0)\n",
      "Requirement already satisfied: pillow>=8 in c:\\users\\joel\\appdata\\local\\packages\\pythonsoftwarefoundation.python.3.11_qbz5n2kfra8p0\\localcache\\local-packages\\python311\\site-packages (from matplotlib->cs2solutions) (10.3.0)\n",
      "Requirement already satisfied: pyparsing>=2.3.1 in c:\\users\\joel\\appdata\\local\\packages\\pythonsoftwarefoundation.python.3.11_qbz5n2kfra8p0\\localcache\\local-packages\\python311\\site-packages (from matplotlib->cs2solutions) (3.1.2)\n",
      "Requirement already satisfied: python-dateutil>=2.7 in c:\\users\\joel\\appdata\\local\\packages\\pythonsoftwarefoundation.python.3.11_qbz5n2kfra8p0\\localcache\\local-packages\\python311\\site-packages (from matplotlib->cs2solutions) (2.9.0.post0)\n",
      "Requirement already satisfied: pytz>=2020.1 in c:\\users\\joel\\appdata\\local\\packages\\pythonsoftwarefoundation.python.3.11_qbz5n2kfra8p0\\localcache\\local-packages\\python311\\site-packages (from pandas->cs2solutions) (2024.1)\n",
      "Requirement already satisfied: tzdata>=2022.7 in c:\\users\\joel\\appdata\\local\\packages\\pythonsoftwarefoundation.python.3.11_qbz5n2kfra8p0\\localcache\\local-packages\\python311\\site-packages (from pandas->cs2solutions) (2024.1)\n",
      "Requirement already satisfied: mpmath>=0.19 in c:\\users\\joel\\appdata\\local\\packages\\pythonsoftwarefoundation.python.3.11_qbz5n2kfra8p0\\localcache\\local-packages\\python311\\site-packages (from sympy->cs2solutions) (1.3.0)\n",
      "Requirement already satisfied: six>=1.5 in c:\\users\\joel\\appdata\\local\\packages\\pythonsoftwarefoundation.python.3.11_qbz5n2kfra8p0\\localcache\\local-packages\\python311\\site-packages (from python-dateutil>=2.7->matplotlib->cs2solutions) (1.16.0)\n",
      "Note: you may need to restart the kernel to use updated packages.\n",
      "Requirement already satisfied: control==0.10.0 in c:\\users\\joel\\appdata\\local\\packages\\pythonsoftwarefoundation.python.3.11_qbz5n2kfra8p0\\localcache\\local-packages\\python311\\site-packages (0.10.0)\n",
      "Requirement already satisfied: numpy>=1.23 in c:\\users\\joel\\appdata\\local\\packages\\pythonsoftwarefoundation.python.3.11_qbz5n2kfra8p0\\localcache\\local-packages\\python311\\site-packages (from control==0.10.0) (1.26.4)\n",
      "Requirement already satisfied: scipy>=1.8 in c:\\users\\joel\\appdata\\local\\packages\\pythonsoftwarefoundation.python.3.11_qbz5n2kfra8p0\\localcache\\local-packages\\python311\\site-packages (from control==0.10.0) (1.13.0)\n",
      "Requirement already satisfied: matplotlib>=3.6 in c:\\users\\joel\\appdata\\local\\packages\\pythonsoftwarefoundation.python.3.11_qbz5n2kfra8p0\\localcache\\local-packages\\python311\\site-packages (from control==0.10.0) (3.8.4)\n",
      "Requirement already satisfied: contourpy>=1.0.1 in c:\\users\\joel\\appdata\\local\\packages\\pythonsoftwarefoundation.python.3.11_qbz5n2kfra8p0\\localcache\\local-packages\\python311\\site-packages (from matplotlib>=3.6->control==0.10.0) (1.2.1)\n",
      "Requirement already satisfied: cycler>=0.10 in c:\\users\\joel\\appdata\\local\\packages\\pythonsoftwarefoundation.python.3.11_qbz5n2kfra8p0\\localcache\\local-packages\\python311\\site-packages (from matplotlib>=3.6->control==0.10.0) (0.12.1)\n",
      "Requirement already satisfied: fonttools>=4.22.0 in c:\\users\\joel\\appdata\\local\\packages\\pythonsoftwarefoundation.python.3.11_qbz5n2kfra8p0\\localcache\\local-packages\\python311\\site-packages (from matplotlib>=3.6->control==0.10.0) (4.51.0)\n",
      "Requirement already satisfied: kiwisolver>=1.3.1 in c:\\users\\joel\\appdata\\local\\packages\\pythonsoftwarefoundation.python.3.11_qbz5n2kfra8p0\\localcache\\local-packages\\python311\\site-packages (from matplotlib>=3.6->control==0.10.0) (1.4.5)\n",
      "Requirement already satisfied: packaging>=20.0 in c:\\users\\joel\\appdata\\local\\packages\\pythonsoftwarefoundation.python.3.11_qbz5n2kfra8p0\\localcache\\local-packages\\python311\\site-packages (from matplotlib>=3.6->control==0.10.0) (24.0)\n",
      "Requirement already satisfied: pillow>=8 in c:\\users\\joel\\appdata\\local\\packages\\pythonsoftwarefoundation.python.3.11_qbz5n2kfra8p0\\localcache\\local-packages\\python311\\site-packages (from matplotlib>=3.6->control==0.10.0) (10.3.0)\n",
      "Requirement already satisfied: pyparsing>=2.3.1 in c:\\users\\joel\\appdata\\local\\packages\\pythonsoftwarefoundation.python.3.11_qbz5n2kfra8p0\\localcache\\local-packages\\python311\\site-packages (from matplotlib>=3.6->control==0.10.0) (3.1.2)\n",
      "Requirement already satisfied: python-dateutil>=2.7 in c:\\users\\joel\\appdata\\local\\packages\\pythonsoftwarefoundation.python.3.11_qbz5n2kfra8p0\\localcache\\local-packages\\python311\\site-packages (from matplotlib>=3.6->control==0.10.0) (2.9.0.post0)\n",
      "Requirement already satisfied: six>=1.5 in c:\\users\\joel\\appdata\\local\\packages\\pythonsoftwarefoundation.python.3.11_qbz5n2kfra8p0\\localcache\\local-packages\\python311\\site-packages (from python-dateutil>=2.7->matplotlib>=3.6->control==0.10.0) (1.16.0)\n",
      "Note: you may need to restart the kernel to use updated packages.\n"
     ]
    }
   ],
   "source": [
    "# Install the required python library with pip\n",
    "%pip install --upgrade cs2solutions\n",
    "%pip install control==0.10.0"
   ]
  },
  {
   "cell_type": "code",
   "execution_count": 37,
   "metadata": {},
   "outputs": [],
   "source": [
    "# Import libraries\n",
    "import numpy as np\n",
    "import control as ct\n",
    "import matplotlib.pyplot as plt\n",
    "from scipy import signal as signal\n",
    "import scipy.linalg as la\n",
    "from cs2solutions import Qparam"
   ]
  },
  {
   "cell_type": "markdown",
   "metadata": {},
   "source": [
    "# Exercise 1: Modern Control Synthesis\n",
    "\n",
    "In this task, you will learn how you can use the `control` library to set up your plants for synthesizing a controller. To express performance and stability constraints, you will create frequency weights and compute the augmented generalized plant that can be further used with various methods to synthesize a controller."
   ]
  },
  {
   "cell_type": "markdown",
   "metadata": {},
   "source": [
    "## Plant Definition\n",
    "\n",
    "The plant used in this task models the linearized behavior of a simple inverted pendulum and is given as\n",
    "$$P(s) = \\frac{1}{s^2+0.1s-9.81}.$$\n",
    "\n",
    "Note that this plant is unstable, and we will need to use a controller.\n",
    "\n",
    "Initially, we define our controller $C(s)$ as a placeholder. In this state it does not manipulate the signal. It is written as: \n",
    "$$C(s) = 1.$$"
   ]
  },
  {
   "cell_type": "code",
   "execution_count": 38,
   "metadata": {},
   "outputs": [
    {
     "name": "stdout",
     "output_type": "stream",
     "text": [
      "Plant transfer function:\n"
     ]
    },
    {
     "data": {
      "text/latex": [
       "$$\\frac{1}{s^2 + 0.1 s - 9.81}$$"
      ],
      "text/plain": [
       "TransferFunction(array([1]), array([ 1.  ,  0.1 , -9.81]))"
      ]
     },
     "metadata": {},
     "output_type": "display_data"
    },
    {
     "name": "stdout",
     "output_type": "stream",
     "text": [
      "\n",
      "Controller transfer function:\n"
     ]
    },
    {
     "data": {
      "text/latex": [
       "$$\\frac{1}{1}$$"
      ],
      "text/plain": [
       "TransferFunction(array([1]), array([1]))"
      ]
     },
     "metadata": {},
     "output_type": "display_data"
    }
   ],
   "source": [
    "# Defining the plant transfer function\n",
    "P_s = ct.TransferFunction([1], [1, 0.1, -9.81], input='u', output='y', name='P(s)')\n",
    "\n",
    "# Defining the placeholder controller transfer function\n",
    "C_s = ct.TransferFunction([1], [1], input='e', output='u', name='C(s)')\n",
    "\n",
    "print(\"Plant transfer function:\")\n",
    "display(P_s)\n",
    "print(\"\\nController transfer function:\")\n",
    "display(C_s)"
   ]
  },
  {
   "cell_type": "markdown",
   "metadata": {},
   "source": [
    "We can easily check stability with `ct.poles` and see that the plant is unstable, having a pole with a positive real part."
   ]
  },
  {
   "cell_type": "code",
   "execution_count": 39,
   "metadata": {},
   "outputs": [
    {
     "data": {
      "text/plain": [
       "array([-3.18249102+0.j,  3.08249102+0.j])"
      ]
     },
     "execution_count": 39,
     "metadata": {},
     "output_type": "execute_result"
    }
   ],
   "source": [
    "ct.poles(P_s)"
   ]
  },
  {
   "cell_type": "markdown",
   "metadata": {},
   "source": [
    "Before we synthesize a controller to stabilize the plant, we specify the performance criteria using frequency weights. The next step will address the design of these weights."
   ]
  },
  {
   "cell_type": "markdown",
   "metadata": {},
   "source": [
    "## Exercise 1.1: Frequency Weights\n",
    "\n",
    "<img src=\"data:image/png;base64,iVBORw0KGgoAAAANSUhEUgAABecAAAH2CAIAAAB1PKC/AAAAAXNSR0IArs4c6QAAAARnQU1BAACxjwv8YQUAAAAJcEhZcwAADsMAAA7DAcdvqGQAAGa9SURBVBgZ7cEJgE714v/xz/k+z4xZzW4payXKzliihQij/f4qSgZRN4VUFK1u3VKiBa2K4mpRaVHRcktFqhlRkSUiZJ+Zh2HMds75jxndf4tllOE8M+/Xy3JdVwAAAAAAAPAYIwAAAAAAAHiPEQAAAAAAALzHCAAAAAAAAN5jBAAAAAAAAO8xAgAAAAAAgPcYAQAAAAAAwHuMAAAAAAAA4D1GAAAAAAAA8B6/AAAAAAA4qJNPPnnNmjVCMOjbt++kSZOEcsEvAAAAAAAOqqCgoLCwUAgGhYWFQnnhFwAAAAAApbB69eratWsLXjV16tSrrrpKKEf8AgAAAACgFHzFBK/y+XxC+WIEAAAAAAAA7zECAAAAAACA9/gFAAAAAABQTgU2KbtQh8WEKLGaKunY8wsAAAAAAKA8crfpypP0bo4OS2iyFn2pU3065owAAAAAAADKo/zvtCRPh6t6S9X1yQv8AgAAAAAAKI8y1ivyBNXT71iWfCEKDZGlfbLWal1ArvaqnKxn7lG4PMEvAAAAAACA8ui4vlraVwe39mV16SdXe8W11oxZ6lxFHmEEAAAAAABQIa15SV366cdcFYlto9feUecq8g4jAAAAAACAiuenF9X1Kv2YqyIxbTXzXZ2dJE8xAgAAAAAAqGBWT1fXq/RjrorEtdOb76hjgg7C3qonRuj1NTqajAAAAAAAACqSVdPUrb9W5alIQnu9OUsdEnRAefr6P+raUtePU9pWHU1+AQAAAAAAVBirpqnb1VqdpyJxZ+iNt3RGnP5g+UdKX68t67TiB83/WMu2y5Xk11HmFwAAAAAAQMWw8gV1v0ar81Uk/ky99aZOj9MfFWrGCN29UMecXwAAAAAAABXAiufV/Rr9VCBZSjhLb72h9rHaD0uRCap1opKOV7PTdOZperWP3tmho88vAAAAAACA8m75FHX/p9YUSJYSO+jtN3RajPbPp5vf1836Va7et3RMGAEAAAAAAJRryycr5Z9aUyBZSuqoWW/otBh5nxEAAAAAAED5tew5pVyrtQWSpWqd9M6bahujoGAEAAAAAABQTv0wSSkDtbZAslS1s96eqdbRChZGAAAAAAAA5dEPk5RyvX4ukCxV66J3ZqpVtIKIEQAAAAAAQLmz9Cl1u17rCiRL1brpvdeUHKXgYgQAAAAAAFC+LHlSKUO0vkCyVD1Fs19V8ygFHb8AAAAAAADKke+fUPeh2lAgWap2jmZO1cmWcnJUxC5QQZ7yHf2BZRRbRZXkLX4BAAAAAACUF0ufUspQ/VKgvVxt/kCnJeqQ/Cdr7vdqHypPMQIAAAAAACgfduuhUfqlQIcrqokah8prjAAAAAAAAMqF/O/0VYb+glNaKkqe4xcAAAAAAEC5EHqalhWo3DACAAAAAACA9xgBAAAAAADAe4wAAAAAAADgPX4BAAAAABAMChc9f8e0b/Nc7RXevM89qc38KjV7zVsPTpy7zVERK7RJr3v7tQxV6dmrZ45+4vMMR7L8dc+/ZVDHJCOgjPkFAAAAAEAwsDd9Pu2xyRsd7VUppeHw1GZxKq3sj8bceNdTa2wVq3ROvZv6tKxqVFqB9+4fevfk9Y5kYrpOvCHeCOVa4Cet3CZXxQqU5arElhX6SvtYkWrUSBEqQ34BAAAAABAUEpNijTY62ssJZG6zFedTqdirnntw+lpbv3Kztm93VVWlZC+bNOblDY6K+E/qO7JPbZ9Qvs37ty6cIke/V6jn++h57RPSTF+nqZlfZccIAAAAAIBg4E9MjLe0j5u1LdNWKWV/NHb8Z9mu/scJZGbaKq3Ae2MnfJHjSjKx59x00xkRAo4KIwAAAAAAgoEvKSneb6mEsyMrw1Gp2CsnjZ6+1pYVXrtudaO9nEBGpqPSsZdPGvPyBkeSFVKv38jetYxQ7p03WbYr15XrynXlunJdua5cV64r15XrKn+RmvlVpowAAAAAAAgKIQkJlS2VcHdszypUaQTmjBk/b5crk9g99dwEn/ZyszO356pUArPHTvgix5VkYrsOu7F9hICjxQgAAAAAgKBgEhPjjEq4BTu2Zzo6JPuHp0a/tM6W/Cddcd25cX4Vc51AZoatQ7OXT3rwpQ2OJCukfv+RV9Y0Ao4aIwAAAAAAgoIvMTFe/5OVmenoULJmjZn4ZY4rK6LtgIHtokP9KuFmZWy3dUiB2WMnLshxJZnY7sNvahsm4CgyAgAAAAAgKPgSEuN9lko4O7Zl2Do4e9kzD7260ZZMlYuG9K8fGhERYamYG9iW6eoQ7OXPjnl5vS3JCjn1mhFXVDcCjiYjAAAAAACCQ3hiQrSlEk4gK8PWQQVmj3v8yxxXVkjD/kMvjJeJjgq3VMzZkZVZqIMLzBk74YvdriSTcN7wG1pXEnB0GQEAAAAAEBx8CQnxRiXc3VmZuxwdmL1y8thXNjiSiek29LqWoZLCIyN8lvZy8wMZmY4Owl7x7IMvr7clWSGNrh5xWXUj4CgzAgAAAAAgOJjEpDhLv8ravt3VAWV/9PDEebtcyX9S32E9jzcq4ouuHGmpRFZGpqMDC8x5aMIXu11JJuGC4UOSwwQcdUYAAAAAAAQHX5XEeGNpn0Bmpq0DsFdPGfPiWluyojsMHtI+QiUqx0RZKuZkbc+wdSD2iufGvLzelmSFNrl2RI9qRsDRZwQAAAAAqBjWrVunIBeekBBlqYQdyMhwtH+7P31k/GfZruSr0+uWvnV9KuGLqRxtVMzJysywdQCB98dOmL/blWSSLho+uEWIgD9Zt26dypgRAAAAAKBi6NWrV48ePdasWaOgZSUmxhuVcLMzM/K0P/baqQ/+Z3WhZEWfMfjGs6P0Kys2NkYl3D2Zmbu1X/aK5x58aZ0tyarUbOCIS6oYAX/Wq1evHj16/PTTTyozRgAAAACAisF13RkzZpx88sm9evVatGiRgpA/MTHWUgnXDmRmFOrPcuY/9ujHOyX5avUYftXJPv2PLy4+xmepmBXYvs3WfgTeHzth/m5Xkql68fBBTUMF7I/rujNmzKhfv/4VV1yxaNEilQEjAAAAAEBFUlhY+OKLL7Zo0aJTp06zZ89WUDGJSfGWfpWVmaE/cdZNf+D5HwtdWZHtBt3cNUa/FRYXF2WpmBPIzLL1J/aKyWNeWmdLsio1HzjikkQj4CAKCwtfeumlFi1adOrUafbs2TqijAAAAAAAFdLHH3/cvXv3xo0bP/LII1u2bFEwsKITEiKMSjiB7Rm2/iD3ywmPfLTDlXw1etwyoIFPv2MS4mONitmBjAxHfxR4f+z4ebtdSb7ql4y4vrFfQOl8/PHH3bt3b9So0cMPP7xlyxYdCUYAAAAAgApsyZIlN910U40aNc4999xXXnklNzdXXmYSExN8KuHszArY+h1n40tjJq8ocGVFnTZ4eEqs/sAXnxCrfXZmZhbo9+yVk8e8vM6WZIW1vO7WixKMDsreOu+JW0e9tsYWUGLp0qU333xzjRo1unfv/vLLL+fm5upvMAIAAAAAVHiFhYXvvfdez549q1Wr1rt37xdffDEjI0MeZBITYrWPm7szsMvRb+SlTXzkvSxH8tXsMeKaBj79kZWQEGtUzHV2ZGY4+q3AnDHj5+1yJfmqXzZiYGO/Dixv09f/ubVry06DHn41fast4LcKCwtnz559+eWXV6tW7corr5w+fXpGRoYOn18AjqKhQ4e++uqrAgAAAI6F7du361B27Njxn2LGmNatW3fv3r1Dhw6O48gjTGJSvP4nkJkpVdE+zuZXx0xaWuDKimw3eFi3GP2ZqZwQV8lSvivJ3ZGV5aiO0T728mcffHmdrSLhyYNuOT9ev5e97KPZC9dnbln344ofFs//+PNl2wtcSX55yyuvvPLBBx8IZW/79u06lB07dkwvZoxp3bp1SkpKx44dW7RoERkZqVLwC8BRlJmZuXHjRgEAAACe5zjOkiVLqlWrVrly5YKCAnmEiU5MiLQUcFXEzQ5kFUqhKpa/6Ilx72Y4kq9mz1uvbuDT/vji42MtZbuSnJ1ZAVvyq0RgztgJX+x2Jflq9Bh5bUO/fs9e++qIK+9eWCCP21NM8BjHcZYsWVK1atWYmJjQ0NA2bdqoFPwCcNQ99NBDV155pQAAAICj64ILLkhLS9OhnHLKKd27d09JSTnjjDNCQ0MlPfroo/IKX2JCnKWAqyLujsyAqxLO1pljnvkuz5UV2W7wsG4x2j9fXEKsT+sdSe7OQMDVPvbKKQ+9st6WZEW0HXTLeXH6E39kQvVaJ0QlHX9ys3ann9muYEbqyHd3yHMuu+yyxx57TCh7F1xwQVpamg6lQYMG3YudccYZoaGhOhx+ATjqqhUTAAAAcHSFhobqwI4//vhevXr17t27UaNG8i5fQmK8T2scFXF2ZWfbKla45Klxb251JF/Nnrde3cCnAzCJCbEq4e7esbNAClORXR8/OnHeLleSr+blI/55ik9/4jvl5vd/vlm/yp35vrEkV14TERFRrVo1oeyFhobqwI477rhevXqlpqY2atRIf5VfAAAAAIAKLCIi4h//+EdqamqnTp2MMfI6k5QUa2mfvPw8V3tlzRr39KJ8V1ZU+yHDu8XogExCQpzPUoEruXbOzp2Ooo3stS88NP0nW5IV2W7wsJRYAX9RRETExRdfnJqa2rlzZ2OM/h6/AAAAAAAVUrVq1QYPHjxw4MC4uDgFDROTGB8m5auIq7y8fCnSXvHcw69usiVfzR63DKjv00GExsVFW8p1VWRX9k7peOUumDBhbraK+GpdMfLqBj4Bh69atWqDBg0aOHBgfHy8jhC/AAAAAAAVzCmnnHLzzTdfeeWVlSpVUrDxJSbG+rTTVhE3Py/X0a5Pxz/55R5XVlT7IcO7xeigrISEOKNtjors3r3bkbN1xsMv/FjgSlbUGTcM6xIj4PCccsopN99885VXXlmpUiUdUX4BAAAAACqMBg0ajB49+sILL7QsS8HJl5AUb7TO1l75uXnOxtmPvbi2UPLV7HHLgPo+HZwvPj7WUjE3P2ePU7jkmfHvZTqSfHV6jeh/sk9AqTVo0GD06NEXXnihZVkqA34BAAAAACqGUaNGdejQwe/3K5iZpIQ4o33y8nYtee7JD3Y4sqLaDxneLUaH4ktIiFUJNy83L/v98c8uznMlK/qsocM7VRZQWqNGjerQoYPf71eZ8QsAAAAAUDF07txZwc/EJsWHWMpzVcTZM/+pF7/JdeWr3fPWAfV9OrSohLhIKaAiduHGl594bYMtyX9C79uuOtEvoNQ6d+6sMmYEAAAAAEAQ8ccnxBgVc3M/n/b6WkdWVPvBw7rGqDR8CfExfhVz182Y8t+drmTFdBw6rEOUAG8xAgAAAAAgiPgSqyT4VKxg+RdfZjjy1ep564D6PpWKLy4x1tJezvZPP/wmz5Xlr3flyH51fQI8xi8AAAAAAIKISUqIs1SisMCWFXn6kGFdY1RKJiE+VsXc/Lx8SSam09BhZ0YK8BwjAAAAAACCiElIivNb+pWv1uW39K/vU2mZ+IQ4v6VfWSH1+t7Wp45PgPcYAQAAAAAQTPzxibGWSliRpw8Z1jVGh8EfHx9jaR8Tc85NN54eIcCL/AIAAAAAIJhUSpm0wZ6kvyrs3Oc22c8J8D4jAAAAAAAAeI8RAAAAAAAAvMcIAAAAAAAA3uMXAAAAAAA4JCew+ruV2/NcFSv4KctxtVfulhXpX8mnYlZkjUaNjo8QcCT4BQAAAAAADil/3n3dLpyyxdHvFf70fJ/2z2ufkGZ3fb3oX80EHAlGAAAAAAAA8B6/AAAAAADAIYWdN3mzPVnA0WMEAAAAAAAA7zECAAAAAACA9xgBAAAAAADAe4wAAAAAAADgPUYAAAAAAADwHiMAAAAAAAB4jxEAAAAAAAC8xwgAAAAAAADeYwQAAAAAAADvMQIAAAAAAID3GAEAAAAAAMB7jAAAAAAAAOA9RgAAAAAAAPAeIwAAAAAAAHiPEQAAAAAAALzHCAAAAAAAAN5jBAAAAAAAAO8xAgAAAAAAgPcYAQAAAAAAwHuMAAAAAAAA4D1GAAAAAAAA8B4jAAAAAAAAeI8RAAAAAAAAvMcIAAAAAAAA3mMEAAAAAAAA7zECAAAAAACA9xgBAAAAAADAe4wAAAAAAADgPUYAAAAAAADwHiMAAAAAAAB4j18AAAAAAJRCs2bNateuLXjVt99+K5QvfgEAAAAAUAqBYgJwtPgFAAAAAMBBzZ49Oz8/XwgG8fHxQnnhFwAAAAAAB9WgQQMBOOqMAAAAAAAA4D1GAAAAAAAA8B4jAAAAAAAAeI8RAAAAAAAAvMcIAAAAAAAA3mMEAAAAAAAA7zECAAAAAACA9xgBAAAAAADAe4wAAAAAAADgPUYAAAAAAADwHiMAAAAAAAB4jxEAAAAAAAC8xwgAAAAAAADeYwQAAAAAAADvMQIAAAAAAID3GAEAAAAAAMB7jAAAAAAAAOA9RgAAAAAAAPAeIwAAAAAAAHiPEQAAAAAAALzHCAAAAAAAAN5jBAAAAAAAAO8xAgAAAAAAgPcYAQAAAAAAwHuMAAAAAAAA4D1GAAAAAAAA8B4jAAAAAAAAeI8RAAAAAAAAvMcIAAAAAAAA3mMEAAAAAAAA7zECAAAAAACA9/gFAAAAAMBBTZ06defOnUIwOOWUUzp16iSUC34BAAAAAHBQd99999q1a4Vg0Ldv306dOgnlgl8AAAAAAJTChRdeWLt2bcGrpk6dGggEhHLELwAAAAAASuGxxx6rXbu24FUtW7bs06ePUI4YAQAAAAAAwHuMAAAAAAAA4D1GAAAAAAAA8B6/AAAAAAAAyqnAJmUX6rCYECVWUyUde34BAAAAAACUR+42XXmS3s3RYQlN1qIvdapPx5wRAAAAAABAeZT/nZbk6XBVb6m6PnmBXwAAAAAAAOVRxnpFnqB6+h3Lki9EoSGytE/WWq0LyNVelZP1zD0Klyf4BQAAAAAAUB4d11dL++rg1r6sLv3kaq+41poxS52ryCOMAAAAAAAAKqQ1L6lLP/2YqyKxbfTaO+pcRd7hFwAAAAAAQMXz04vq1l8/5qpITFvNfEcdE/Q7uUr7QJ8u1IYMWVGqVlvtuqj9iTI6SvwCAAAAAACoYFZPV7f+WpWnInHtNPNtdUjQby2aohvu1Lxf5Or/s4zqdtadDyi1uYzKnBEAAAAAAEBFsmqauvXXqjwVSWivN2epQ4J+67O71am/Pv9FrqXoKjqhruLCZEmuo58+UP+zdO0MFarMGQEAAAAAAFQYq6ap29ValacicWfojVk6M16/teV1pd6vLOn4jpq+UNu3aPVPyszQ/BfUrY4sycnWs/117wKVNSMAAAAAAICKYeUL6jZAq/NUJP5Mvf2WzojT7+TqoTu0rlCxHfTuO7qiuUJVLEKnpeqd+RrQQJbk7tLDt+gHW2XKCAAAAAAAoAJY8bxSrtbqfMlSQge9/ZZOj9MfBN7Vf1bKDdew8WoaoT/wHaeHJ6iuX0V2fakpX6lMGQEAAAAAAJR3y6co5Rr9VCBZSuygWW+qfaz+LKqRkhMVfbb6n6r9ijpT/1dPexXq80/kqAz5BQAAAAAAUK4tn6yUa7W2QLKU1FFvz1TbGO2Xv74mT9bYgKoY7V+oTq0na5lcacM6FUiVVFb8AgAAAAAAKL+WPafuA7W2QLJUrZPemqnW0TqIKudqjA7G71MJv6UyZQQAAAAAAFBO/TBJKQO1tkCyVLWz3p6p1tH6Wwq18ie5kiyd2FAhKkNGAAAAAAAA5dEPk5RyvX4ukCxV66J3ZqpVtP6mwu816wftFa3/u0BGZcgIAAAAAACg3Fn6lLpdr3UFkqVq3fTea0qO0t9la/Kd+q5AstRyiPrWVpkyAgAAAAAAKF+WPKmUIVpfIFmqnqLZr6p5lP6+r0fr1vfkWDrufE2/UxEqW34BAAAAAACUI98/oe5DtaFAslTtHM2cqpMt5eSoiF2ggjzlO/oDyyi2iirpYBaN1z/+pYBUvYvemKr6oSprfgEAAAAAAJQXS59SylD9UqC9XG3+QKcl6pD8J2vu92ofqgNJG6cLR2iTrVNTNeMJNYzQUWAEAAAAAABQPuzWQ6P0S4EOV1QTNQ7V/jn68Dal3KLNfv3fw5o3RQ0jdHT4BQAAAAAAUC7kf6evMvQXnNJSUdqfXE39pwZOU16ibn9R/+oso6PHLwAAAAAAgHIh9DQtK9ARE9CYnrrtA4WeoCfe0DWNdZT5BQAAAAAAgN9ztuquizX6C1VO1tSZOr+mjj6/AAAAAAAA8Bv2L7rxfD2+WNW76/XpahOrY8IvAAAAAACCQeGi5++Y9m2eq73Cm/e5J7WZX6Vmr3nrwYlztzkqYoU26XVvv5ahKj179czRT3ye4UiWv+75twzqmGSEcip/lf55vl5YoVOv0luP68RKOlb8AgAAAAAgGNibPp/22OSNjvaqlNJweGqzOJVW9kdjbrzrqTW2ilU6p95NfVpWNSqtwHv3D7178npHMjFdJ94Qb4RyyvlF/Ttr+s+yYnXcDo3srRJ2oWxbrn6ncgc9d6NCVVb8AgAAAAAgKCQmxRptdLSXE8jcZivOp1KxVz334PS1tn7lZm3f7qqqSsleNmnMyxscFfGf1Hdkn9o+obxyN+vbjXIlN6APX9PBJcTIVhkyAgAAAAAgGPgTE+Mt7eNmbcu0VUrZH40d/1m2q/9xApmZtkor8N7YCV/kuJJM7Dk33XRGhICjwi8AAAAAAIKBLykp3m+pwFURZ0dWhqNSsVdOGj19rS0rvHad2PVrNjmSE8jIdFQ69vJJY17e4EiyQur1G9m7lhHKMV9LfZcvjzACAAAAACAohCQkVLZUwt2xPatQpRGYM2b8vF2uTGL31HMTfNrLzc7cnqtSCcweO+GLHFeSie067Mb2EQKOFiMAAAAAAIKCSUyMMyrhFuzYnunokOwfnhr90jpb8p90xXXnxvlVzHUCmRm2Ds1ePunBlzY4kqyQ+v1HXlnTCDhqjAAAAAAACAq+xMR4/U9WZqajQ8maNWbilzmurIi2Awa2iw71q4SblbHd1iEFZo+duCDHlWRiuw+/qW2YgKPICAAAAACAoOBLSIz3WSrh7NiWYevg7GXPPPTqRlsyVS4a0r9+aEREhKVibmBbpqtDsJc/O+bl9bYkK+TUa0ZcUd0IOJqMAAAAAAAIDuGJCdGWSjiBrAxbBxWYPe7xL3NcWSEN+w+9MF4mOircUjFnR1ZmoQ4uMGfshC92u5JMwnnDb2hdScDRZQQAAAAAQHDwJSTEG5Vwd2dl7nJ0YPbKyWNf2eBIJqbb0OtahkoKj4zwWdrLzQ9kZDo6CHvFsw++vN6WZIU0unrEZdWNgKPMCAAAAACA4GASk+Is/Spr+3ZXB5T90cMT5+1yJf9JfYf1PN6oiC+6cqSlElkZmY4OLDDnoQlf7HYlmYQLhg9JDhNw1BkBAAAAABAcfFUS442lfQKZmbYOwF49ZcyLa23Jiu4weEj7CJWoHBNlqZiTtT3D1oHYK54b8/J6W5IV2uTaET2qGQFHnxEAAAAAAEEiPCEhylIJO5CR4Wj/dn/6yPjPsl3JV6fXLX3r+lTCF1M52qiYk5WZYesAAu+PnTB/tyvJJF00fHCLEAHHghEAAAAAoGIYN27c2rVrFcysxMR4oxJudmZGnvbHXjv1wf+sLpSs6DMG33h2lH5lxcbGqIS7JzNzt/bLXvHcgy+tsyVZlZoNHHFJFSPgz8aOHbtmzRqVJSMAAAAAQMXwxhtvNGjQ4Kabbvrll18UnPyJibGWSrh2IDOjUH+WM/+xRz/eKclXq8fwq0726X98cfExPkvFrMD2bbb2I/D+2Anzd7uSTNWLhw9qGipgf958880GDRrceOONGzZsUNkwAgAAAABUGHl5eY888kjdunVTU1O/++47BRuTmBRv6VdZmRn6E2fd9Aee/7HQlRXZbtDNXWP0W2FxcVGWijmBzCxbf2KvmDzmpXW2JKtS84EjLkk0Ag4kPz//0UcfPeGEE1JTU7/77jsdaUYAAAAAgAqmoKBg2rRpTZs27dKlywcffOC6roKEFZ2QEGFUwglsz7D1B7lfTnjkox2u5KvR45YBDXz6HZMQH2tUzA5kZDj6o8D7Y8fP2+1K8lW/ZMT1jf0CDqWgoGDatGlNmzbt0qXLBx984LqujhAjAAAAAEBF9eGHH3bt2rVu3bp33HHHypUr5X0mMTHBpxLOzqyArd9xNr40ZvKKAldW1GmDh6fE6g988Qmx2mdnZmaBfs9eOXnMy+tsSVZYy+tuvSjBCCi9Dz/8sGvXrnXr1r3jjjtWrlypv80IAAAAAFCx/fzzz/fdd1/9+vXbtm37+OOPb926VZ5lEhNitY+buzOwy9Fv5KVNfOS9LEfy1ewx4poGPv2RlZAQa1TMdXZkZjj6rcCcMePn7XIl+apfNmJgY7/2J3dj2tvPjb37lqGDBt1466gHn5rx+eodtoBf/fzzz/fdd1/9+vXbtGnz+OOPb926VX+VXwAAAGUmJyfnnXfeEQDAG7Zv366D+qrY4MGDW7ZsmZKS0r1799atWxtj5B0mMSle/xPIzJSqaB9n86tjJi0tcGVFths8rFuM/sxUToirZCnfleTuyMpyVMdoH3v5sw++vM5WkfDkQbecH68/CXw75bbBd02ZtyHX1f9nmcg6na+5+4E7ezePMzrW1qxZM2PGDKHsbd++XQf1dbHBgwe3aNGie7HWrVsbY1RqfgEAAJSZrVu39ujRQwCAoOK6bnqxe++9NzExsXPnznv27JFHmOjEhEhLAVdF3OxAVqEUqmL5i54Y926GI/lq9rz16gY+7Y8vPj7WUrYrydmZFbAlv0oE5oyd8MVuV5KvRo+R1zb06w+yPrv73Iv+vSDLkayQ6KTqSZF21qZNgVzHdXav+eCRqxb8d/6zbz5xWV2/jqlPiwme4bruwmL33ntvYmJi586dr7766rPPPlul4BcAAEDZ69mzpwAAx9pHH320fft2lU7jxo27F2vbtm39+vXlFb7EhDhLAVdF3B2ZAVclnK0zxzzzXZ4rK7Ld4GHdYrR/vriEWJ/WO5LcnYGAq33slVMeemW9LcmKaDvolvPi9HvOlteH9r7vyyw35PiON44Zd/MlzauESspZv+C1J+65+5H31+Y52d89e1WPajU/vue0KB1DdevWbdOmjVD2Pvroo+3bt6t0Gjdu3L1795SUlNNOOy00NFSl4xcAAEAZO+GEE1566SUBAI61008/ffv27TowY8zZZ5992WWXpaSk1KhRQ17kS0iM92mNoyLOruxsW8UKlzw17s2tjuSr2fPWqxv4dAAmMSFWJdzdO3YWSGEqsuvjRyfO2+VK8tW8fMQ/T/Hp93K/eOiOl9bZVmzH+959Z3jTCO0TUfO01NHvdG57bacezy3Pc3enP3zLk5d/OvwUo2PmrLPOmjJlilD2Tj/99O3bt+vAjDFnn332pZde2r179xo1aujw+QUAAAAAqPAaNWrUu3fvXr16HX/88fI0k5QUa2mfvPw8V3tlzRr39KJ8V1ZU+yHDu8XogExCQpzPUoEruXbOzp2Ooo3stS88NP0nW5IV2W7wsJRY/UHWu0/9Z2WBFd5m2Pgbm0boD3zHXfjIhP6fpDyxutDd/dVzUxbcMKZ9qFCRNWzYMDU1tVevXscff7z+Br8AAAAAABVVRERE3759BwwY0Lx5cwUHE5MYHyblq4irvLx8KdJe8dzDr26yJV/NHrcMqO/TQYTGxUVbynVVZFf2Tul45S6YMGFutor4al0x8uoGPv1RdKPTkxNf/qz1gP6n+rU/UWf2/ke9Zx5aVqiCn+bOXW23P8UnVDwRERF9+vQZMGBAixYtdCT4BQAAAACoeKpUqTJo0KDrrrsuISFBQcWXmBjr005bRdz8vFxHuz4d/+SXe1xZUe2HDO8Wo4OyEhLijLY5KrJ7925HztYZD7/wY4ErWVFn3DCsS4z+zF//msmTf3pox/lVjPYvtEHDeiHWskJXzsb1Gwp1ik+oSKpUqTJo0KDrrrsuISFBR45fAAAAAICKpF69esOHD+/du3dYWJiCkC8hKd5ona298nPznI2zH3txbaHkq9njlgH1fTo4X3x8rKVibn7OHqdwyTPj38t0JPnq9BrR/2Sf9stUOXfMQzoIv99nqZjPsoSKo169esOGDUtNTQ0LC9OR5hcAAAAAoGKoUqXK448/fs011/j9fgUtk5QQZ7RPXt6uJc89+cEOR1ZU+yHDu8XoUHwJCbEq4ebl5mW/P/7ZxXmuZEWfNXR4p8r6iwpXrVxd4EqyQk48tX6IUAFUqVLl8ccfv+aaa/x+v8qGXwAAAACAiuHVV1/1+XwKciY2KT7EUp6rIs6e+U+9+E2uK1/tnrcOqO/ToUUlxEVKARWxCze+/MRrG2xJ/hN633bViX79RYXfz3x7WaEkK/rMSy883ggVwKuvvurz+VSWjAAAAAAAFYPP51M54I9PiDEq5uZ+Pu31tY6sqPaDh3WNUWn4EuJj/Crmrpsx5b87XcmK6Th0WIco/UX2msl3PvltgSsrosWQf/WpZYSKwOfzqYwZAQAAAAAQRHyJVRJ8Klaw/IsvMxz5avW8dUB9n0rFF5cYa2kvZ/unH36T58ry17tyZL+6Pv01u74a3WfE7O2ufMed/+j0O9tGCDhC/AIAAAAAIIiYpIQ4SyUKC2xZkacPGdY1RqVkEuJjVczNz8uXZGI6DR12ZqT+kl2Lxve8ZNS8LMdfvevoN6ZeXT9UwBFjBAAAAABAEDEJSXF+S7/y1br8lv71fSotE58Q57f0KyukXt/b+tTx6S/ITht3Sfeb3tvgRDbsM+nDmcNaxwg4kowAAAAAAAgm/vjEWEslrMjThwzrGqPD4I+Pj7G0j4k556YbT4/QYXM2f3hbSsotH2wJPeEfj3z0+eS+DSMEHGF+AQAAAAAQTCqlTNpgT9JfFXbuc5vs5/R35C6f+s+Lr522Ij/hjNtfeuWeztUsAWXALwAAAAAAUGo7Foy57JLbP9zkP+HSJ96YfE3jSAFlxAgAAAAAAJSKs/XjO7qfO/KDzVHJN8z45MVrGkcKKDt+AQAAAACAQ7N/mXXj+Vc+vnhP9e4Pvj59WJtYAWXLLwAAAAAAcAgFq1685vwBL6zwNez/whsTLz+pkoAy5xcAAAAAADgY55eXrurcd/rPBVbcqdUDb9zW+w3t5dqFhbbtuPotq3KHEc/d2DZUwN/mFwAAAAAAOBhn89JvNxa4kpv1w4ev/aCDMYmV+zoCjgQjAAAAAAAAeI9fAAAAAADgYPwt//1d/r8FHGVGAAAAAAAA8B4jAAAAAAAAeI8RAAAAAAAAvMcIAAAAAAAA3mMEAAAAAAAA7zECAAAAAACA9xgBAAAAAADAe4wAAAAAAADgPUYAAAAAAADwHiMAAAAAAAB4jxEAAAAAAAC8xwgAAAAAAADeYwQAAAAAAADvMQIAAAAAAID3GAEAAAAAAMB7jAAAAAAAAOA9RgAAAAAAAPAeIwAAAAAAAHiPEQAAAAAAALzHCAAAAAAAAN5jBAAAAAAAAO8xAgAAAAAAgPcYAQAAAAAAwHuMAAAAAAAA4D1GAAAAAAAA8B4jAAAAAAAAeI8RAAAAAAAAvMcIAAAAAAAA3mMEAAAAAAAA7/ELAAAAAIBS+OSTT2rXri141SeffCKUL34BAAAAAFAK/fr1E4CjyC8AAAAAAA7q9NNPP/HEE4Vg0LBhQ6G88AsAAAAAgIOaNm2aABx1RgAAAAAAAPAeIwAAAAAAAHiPEQAAAAAAALzHCAAAAAAAAN5jBAAAAAAAAO8xAgAAAAAAgPcYAQAAAAAAwHuMAAAAAAAA4D1GAAAAAAAA8B4jAAAAAAAAeI8RAAAAAAAAvMcIAAAAAAAA3mMEAAAAAAAA7zECAAAAAACA9/gFAH/Pvffem5mZKQBHzt133x0bGyt4VVpa2osvvigAR06bNm169uwpAMDv+QUAf8+zzz67bt06AThybrrpptjYWMGrli5d+uijjwrAkdOvX7+ePXsKAPB7fgHAkTB8+PAaNWoIwN9zww03CMHjscceE4C/54UXXvjmm28EANgfvwDgSBgyZEiNGjUE4O95+OGHf/75ZyEYXHXVVUOGDBGAvycmJqZv374CAOyPEQAAAAAAALzHCAAAAAAAAN5jBAAAAAAAAO8xAgAAAAAAgPcYAQAAAAAAwHuMAAAAAAAA4D1GAAAAAAAA8B4jAAAAAAAAeI8RAAAAAAAAvMcIAAAAAAAA3mMEAAAAAAAA7zECAAAAAACA9xgBAAAAAADAe4wAAAAAAADgPX4BAAAAAHBQHTp0WL9+vRAMLrnkkgcffFAoF/wCAAAAAOCgfv7557Vr1wrBYOvWrUJ54RcAAAAAAKUwd+7c2rVrC141derUu+++WyhH/AIAAAAAoBTq1KlTu3Ztwavq1KkjlC9+AQAAAEA5krVRu2wVMT7FHacIlUKeNm1XoaMiIZVVLUYA4AVGAAAAAFBu5OuBzqpVS7VqqUYdPb5apfH+UNWsqVq1VPtkTVgmAPAIvwAAAACg3AhV25Yyy+RIKlRamnSiDm73Fxo+WbYrWap3jW5tKwDlSWCTsgt1WEyIEqupko49vwAAAACgHGndVqHTletKrhanKb+nQnVg+Ro/zF2Sb0kKqa2xd6myAJQf7jZdeZLezdFhCU3Woi91qk/HnBEAAAAAlCNV2+gkv0r8vFCbHR3E6mc15kvLleTTJaN1boIAlCf532lJng5X9Zaq65MX+AUAAAAA5Yj/VLWM15ItKlKwROl7VCtS++Vs1Mh7FXBVJKG7Rl8qIwDlSsZ6RZ6gevody5IvRKEhsrRP1lqtC8jVXpWT9cw9Cpcn+AUAAAAA5UmY2jbV1A/kSu4Ofb1E/2ij/XrvLs3coiImVneMUW2fAJQzx/XV0r46uLUvq0s/udorrrVmzFLnKvIIIwAAAAAoT4zatJFfxWwtTJej/dj1mW6dKtuVLLUZpusaCEAFtOYldemnH3NVJLaNXntHnavIO4wAAAAAoHw5pY0SjfZy9V2a8vQn+Xp4mJYVqEilpnr4RoUKQIXz04vqepV+zFWRmLaa+a7OTpKn+AUAAAAA5UtoKzUN06YcFcn6Xj8Wqolfv7XiST28UK5kheif49Q2QgAqmtXT1a2/VuWpSFw7zXxbHRL0ZztW6v25WvGztmYrprqana7O7RVrdHT45QWO5r2oxQEVCauvq86R0f/3S7rmzNWPG1T1H7rxTAFlIkefz9C0d7Rsjdb+IhOjWvXV6UJddaVqVRIAlA8ZG5Vjq4jlV1J1VdIB5GpThgodFTGROj5eABB0TLzaNNCcb1SkcKUWZ6tJnP7HXa+R92uHI1mqnaq7OghARbNqmlKu1qo8FUlor5lv68x4/cHGuRp1j2Z8ph22/j9LsQ00+H6NvEjhKnN+eUGWxlyrWbtVpOXd6nuOjORk6bWJmjBJCzbIdiW/br1cwJGXrzljdOuj+j5Drn61RetWat47evhhPTRd/2wmAAh29k+6oIG+KFCRkFZavECn+rRfW17QSQOV46pI/Zu1fKwAIPj41baFzDdyJDdXi39Qanvt4+jNO923tlqSfNU1+l4lGAGoUFZNU7ertTpPReLO0Btv6Yw4/Y6jufep173aWCBZSjxZrRsrTlqzROkrFVimf1+i+ffpjVtVWWXLyAPyFunbXO1l1LSV/NKiKTrjVPW8S/PWy3ZVxMSqTSMBR9au73V1O513l77LkKs/cZX9gwafq6nrBADBbk+6fihUiSpNdaJPB/JNunJd7WWpSbIAIEi1PE3hlvaytWyZ/idnvm5/0XIkGaX8S5dVF4AKZeUL6jZAq/NUJP5Mvf2WzojTH3w9WhffrY2Fim2uJz/TuhV69zX95zXNX670SToxVK6tT+7UnR+rrPnlAWvTtclWEStUyafquVQNna5djkqYUFWvpTpd1DZcOIZyc3N37dq1p5ht22FhYeHFKleubFmWglDWl7r0In28Ra4kS8e1U/9LlJysk2Ld9YusGU9q2pcqcFWwUXfeowufVYwAIIh9n6Zdrvay1KS1QnQAttIXy1Exv5KTBQBBKqG1TvErvUBytXqp8qVQSbaeulPLC1Sk8ll6qK+MAFQgK55X92v0U4FkKeEsvfWG2sfqjxytWKRsqebFeneqGkfqtxr318PzdfEUOQWa+rjuPlvxKkN+ecDCdBVqL99xWnCVXvxUtitZqtVBA/vrkvN0Uoxw9O3Zs2fRokVpaWnp6elpaWkrV650XVd/Ehsb27Jly1atWiUnJ7dq1apWrVoKBtlf6MLz9XmmioRU1XVjdHdvxVkqZp3aSF0vU/srdM0bsl1teEOzH1LPOAFAsHKUvlC2ivnVMllGB5CtRStUwne8kmsKAIKUqaeWVZW+QUU2rlaOFCptm6mx8+RKVqSGP6wGfgGoOJZPUfd/ak2BZCmxg95+Q6fFaD+Meo3XRzuUOlmNI/VnZ7RTyBTlSbuWa1W+Woeq7Ph1zOUr7Tu52qvwJ037SUVCa+rWJzTiPEUouOW9f23j++q+/cmtDXwKFl9//fXkyZMXLFiwdOlS27b1q9DQ0NjY2PDw8LCwML/fn5ubu2fPnpycnEAg8N9iKlalSpWWLVuef/75qampkZGR8iTnFw28QvMyVcRXVQ/O1o3N9UeV1HeCZn2qNzPk7NBn36hnJwFAsMpV+hK52svEKLm+DiT/W327RyUimqhZJQFAsKqk01rqmQ1ypfz1WluoZrYeu0+bbclSk8G6qZkAVBzLJyvlWq0tkCwlddTbM9U2RgdijtPk2fL5tV87dspRsUoKMypTfh1rziZ987N+K66dXnlN51RXOWBnZWzbHh2wJZ88Li8v75VXXpk4cWJaWpqKhYSENG3aNDk5uVWrVsnJyY0aNfL7/fqTzZs3p/8qLS1t69ats4uNHDmyT58+gwYNqlevnjzF0X8G66Wf5UomTqPe1I3NtV/mOF3eWW+/IsfRmjUCgOBlL9PigEr4G6tFmA5k40JtsFWifktVFgAEsbat5X9LBZK9QT8XKulFPfm9XCm0nh4eqQgBqCiWPafuA7W2QLJUrZPemqnW0To4n1/752j2HBVqryotdJJfZcqvY21PupYU6n+ikjVzljrEC0fNhg0bnnzyyUmTJm3btk1SUlLSgAEDLrrooqZNm1aqVEmHUq1atfOKqdj69evnz5//zDPPfPLJJ+PHj58wYUKXLl0GDRrUvXt3Y4w8IPMd3fm2HElGne/VbW11EM1byPeKHFd7suVIRgAQlDIWalWhStRtoapGB7JwoQpd7WXUNFl+AUAQq9NWxxutdeRmKzNbjz+qLEfy68qH1KGyAFQQP0xS9+v1c4FkqWpnvf26WkXrL9s4U2M+litZIbqyvyJUtoyOtSVp2umohJWg0dPUIV44Onbv3j1o0KA6dercf//927ZtS05OfuGFF9avX3///fe3bt26UqVKOnw1a9bs2bPnxx9/vGTJkmuvvTYiIuL9998///zzTz311Pnz5+uYs/X0A1pvq0il5hp9tYwOJilRRnv5QwQAwWthmnJd7WWpSbJCdQCFWvitHO1lhSq5hQAgqFVqoeZRKuK6+nm6nlsqVzruH+6/z5MRgArhh0lKuV4/F0iWqnXROzPVKlp/UaG+etrt1l9rbcnSqddrxGkqa34dW44WLpStYpbaD9e1DYSj4/PPP+/Xr9/q1atDQkJ69uw5ePDgNm3a6Mhp2LDhk08++cADD0yZMmXixIkrVqw488wzb7zxxn//+99hYWE6RvK+0PNpcrVXtKOH+srSwTgbVGipSEy8jAAgONlKXyxHxfxKTtaBONu1cLVK+E9ScqIAILhFq01DvbFAcvXOVG1zZCVo1INWdSMAFcHSp5QyROsLJEvVuum9GWoepcNja/Zjem+5tm/T8jR9v9GyXcmoYT+9/aDiVOb8Orbylb5ErvbyJenGa+UXylxubu5tt9322GOPOY7TokWLqVOnNmzYUGUjJiZm6NCh119//X3Fxo0b99577z3//POtW7fWsbDgVa0qVInti/TyIpWKX7VqCACC1U4tXKESvuPVqqYOpOAbLSlQicpNdYpfABDcfGqbLLNATqEWfSvXqOPt6ldHACqCJU+q+w1aXyBZqp6i92aoWaQOm61PntXEZfofK0Tnj9ULQxSro8HomCpcocUZKpGQoq4xQln76quvmjVr9sgjj/h8vn/9619fffVVw4YNVcZCQkJGjRr11VdfNWrUaNmyZe3atbv99tvz8/N1lBXqk8/l6LBZftWvLwAIUnmL9e1ulYhooqaVdCCrFmqbrb0sNU5WuAAg6DU7TZUluXIcRbXSw9fLLwDl3/dPKOUGrS+QLFU7RzOn6mRLOTnKyVH2DmVu1ebN2rxZmzdr82Zt3qzNm7Vlq/L0J0ZV66lRIzVqpJNqKNwnt0Dv3KFLBmr+Vh0Ffh1TWelaUai9LDU/TeFC2Zo+fXqfPn1s227cuPELL7zQvHlzHUUtWrRYuHDh3Xff/dBDD91///2fffbZ7Nmzo6KidNTs0nerVKLFCM24RkalYvlUpaoAIEhtSNMvjkrUb6nKOqBvvlGhivnUIllGABD0otqoUYjmFciqpEEPq1moAJR7S59SylD9UqC9XG3+QKcl6pD8J2vu92ofqt/x6+a3dLP2yV6jKaN013/036c070M9MUtXnaIy5dcxtThNua728qtVaxkFKXvt1IGp49OzbVe/5+5Yu2tTWJ82H0Xo9yzLn3DBQ7NGdQjTUTN9+vQ+ffrYtj1s2LD77rsvNDRUR11oaOjo0aMvvPDCnj17zps3r1u3bnPmzImKitJRYW/UL3kqUaWuTqwrAKgI0tJVqGJGTVvKrwPIU9p3crWXFakWjQUA5UDmIq1xJEsnXaMR7QSg/Nuth0bplwIdrqgmahyqg4uuqyFTVCdUlzynvNW6/jLVnaeOMSo7fh1DttIWydFeJkbJ9RW0fFXb97zWbpNju/q9wm+eufntpJ4DL65p9DuWFRLf7NRQHTXTp0/v06ePbdv333//yJEjdUy1bdt27ty5HTp0mD9/frdu3ebMmRMVFaWjYI9ytU9erhzJCADKu3ylfStXe1mhSm6pA7E3avF6lfCdouQoAUDQy9Z9d2ijLX9tjb1bMQJQ/uV/p68y9Bec0lJRKgWj8+5Rl9f0bkC5S3Xn0/rsFhmVFb+OoWylL1cJf2Mlhyl4hZ949hUn6s9yXn5/5Nw6KX0HtA3VMTR9+vQ+ffrYtn3//fePHDlSHlCnTp25c+d26NBh/vz53bp1mzNnTlRUlMpanKK1z5aNKpRCBQDlnLNZi9aohP8kJSfqQHLStKRQJY5rpjo+AUCwWzBaT6+Q69M/7td5CQJQEYSepmUFKlOmqlJa6r3/ynWV9pZ+ulkn+VRGjI6d/G/1bY5KnNBSSUYoC9OnT+/Tp49t2/fff//IkSPlGXXq1Jk7d27t2rXnz5/frVu3Xbt2qYz5klQjUiVWL9AvtgCg3NuzUN/bKlG5qU7x60A+elc7XO1lqUkrVRIABLfcdN3wmHJdxXfTAz1kBABHiNFx1WVpL3uDfi5U2TE6djaka32h9rLUNFmhwpGXnp7et29f27bvv//+kSNHymPq1Kkzd+7c2rVrz58/v3///iprkTq9hSztlb9AUxbr0PIV2C0ACF7LFmqHoxKNWipc+5e3SA++KkfF/GqZLAAIbrl68Hql58jE6q6xqusTABxBO3bK1V6msir7VHaMjp2F6bJVzK+WycIRl5eX16dPn8LCwptvvnnkyJHypDp16nz88ceVK1eeUUxlyuiCSxRtqYhboPE3KH23DmLtR+p9uib9IgAIXiuWqlDFjOqeKKP9cDbp5j76eo9KmHi1PFkAENQ+/5fGpMk1OusuXd9AAFB69grdOV67dWC7Nf8budorvpnq+1V2/DpW8pW2WI728tVQcg3hiLvzzjt/+OGHhg0b3nffffKwE0444eGHHx4wYMB111131llnVa1aVWWmdm9dOU5PrpYr7fhC552nJ5/WxSfrt/K36pN33JemWK/O155wdakuAAhWjjJ3yFUxV1s2y5GMfmfTpxp8jWaulKt9QpooOVQAEDRsffmhqrZX3WiVWPy4rhirHFdJXfXEYPmF8qNw0fN3TPs2z9Ve4c373JPazK9Ss9e89eDEudscFbFCm/S6t1/LUJWevXrm6Cc+z3Aky1/3/FsGdUwyQnmU840m3KxPN+jZUTo5Qn+2YrL72i+Wivh1SR9VVhny6xhxtmvhWpUIa6KmlYQja8GCBePGjfP7/VOnTq1UqZK8rX///jNnznzvvfeuvfbaN954Q2UnSv9+Wp+ep6W5kqstc/V/TdX4DJ3WUJVdbd6ojWu08FsFCiwV81XR8aECgGBlFFZJluRKcvXB7RqwVee2UrVoNy/L+nmZPnlPb36qbFdVjlPWJhW4KnJiCyUYAUDQyNGYS/SmqwZNdGJ15a3T/G+U46rSyXpmshr4hfLE3vT5tMcmb3S0V6WUhsNTm8WptLI/GnPjXU+tsVWs0jn1burTsqpRaQXeu3/o3ZPXO5KJ6TrxhngjlFOFVXRihD5/SC3f0g0j1e//dGK0/mfJC7p8pBVwJUu1eur2s1Wm/DpGctO0JF8lTmmhyiqnrCI+S0fbnj17+vbt6zjO7bff3qJFCwWDSZMmNWzY8M033/zPf/5z5ZVXqszEddKsabr4Kn2brSJurr77UN99qD+wjE7opNvvV4dKAso1J3dHYI8qRURFVvIJ5U+btgp5X/muitjbNeVOTVERS78KPU7X36Nem3TWndrLqFmyQgUAQcP5Wevz5RZo2Zdapn3CTtATb+ui6kJ5k5gUa7TR0V5OIHObrTifSsVe9dyD09fa+pWbtX27q6oqJXvZpDEvb3BUxH9S35F9avuE8iquk+a8rct76uOVuq+fHhisxi1Ut4bifFqzUPOXKd+VLFXvrFefVHWjMuXXMbJiobIc7WXUNFl+lU+Vki+7+dqkk0N1lN12220rV65s1qzZnXfeqSBx3HHHjR8/PjU1dfDgwWefffZxxx2nMlP3En16ih66XY+/p0CBfsdS5HE66zz1u1YXNZNfQPlTsGXhrBdfnjV/6dqf16/bsP6XbTvzbFey/BHx1WrUrH3iKS3ann7G2d26tTsh2ghBr8kQjfhI982X7eq3TJganKGeqer3D9WI0PSLVai9LL9aJgsISoVLX7znubRsVwfnq1Q5NiGhaq2Gbc9q17hauBD0CndIMfJlyHZVxApR00v08MPqWE0of/yJifGW9nGztmXakk+lkf3R2PGfZbv6HyeQmWlLPpVK4L2xE77IcSWZ2HNuuumMCKFcSzpLHyzR8//Sv57T+l1a/JkW6//zxejcG/TY7aoTqrLm1zHS/B7l36Nyz3fiJbcP1lG2efPmxx9/3O/3v/DCCyEhIQoevXv3fu21195+++2HH3547NixKksxDfXvN3XHJv33Ay1Zq+3ZiohX1epq0ErtG6mSgHLI3rrw9ecn/+el1z/4dkueqz9yC3MyNqzM2LBy8fzZL02421f5xDP+MXT0hEFto4SgFqd/zdWl7+v9NG3aoZBoxSfpxCY6vbWqhOl/er2hXgKCm/3ze48/8MgXBSoty4Qf3+aSAUNuHnRZ0wQjBK3Q9krbpuxNWvOL9liqdoJqxwnllS8pKd5vqcBVEWdHVoajUrFXTho9fa0tK7x2ndj1azY5khPIyHRUOvbySWNe3uBIskLq9RvZu5YRyj2ToKvGq889mvu23p+vtZu1I19x1dWwnS66QI2r6OjwC+XO008/XVBQcNlllzVp0kTBZtSoUW+//fbkyZPvvffe8PBwlbGw6jq3j84VUN7lrXn/0TtGjJnxbWahq9Kxd/70xfeZUWFCOeBTo+5q1F1A+ZaT9vUPBToMrrNnw4Jpo7585dnnRz773B1dj/cLQSy6uppUF8q/kISEypb2uCri7tieVajSCMwZM37eLlcmqXvquSsemLjJkdzszO25UpgOLTB77IQvclxJJrbrsBvbRwgVhi9WnVLVKVXHil8oXwoKCp5++mlJgwYNUhBq3rx5u3btvvjii+nTpw8YMEAA/rbs718YftVNzy7MtF3t44s56ayLLu7YvH69k046qW61SHdP1pa1KxZ9Nf/z/77/4cINOY4ryQprf2XvU/wCgOBQ8F3ad7u0T2jTgc/e0z3O6Pec/N07srb+vPzbhZ9/8FHahl2OK8nN3/D+vy7uuuXlDx+/oLoRAG8ziYlxRlscFXELdmzPdBRldHD2D0+NfmmdLflPuuK6cyvf/ID2cp1AZoatWJ8OwV4+6cGXNjiSrJD6/UdeWdMIOGr8Qvny+uuvb9q0qWnTpmeccYaC0+DBg7/44ouJEycOGDBAAP6Wgp9eHXrp1U99s8NRifA6nfvfMGRgn3NPjTP6rYbNTjv7or43K3/Tl688Pub+CW+tNOdc2bO2TwAQHJxN6d/8bKuE7/jTL73sgo6VdGB2Zvq0f9048on5mwtdSXuWPtPv6uYL37qmjk8AvMyXmBiv/8nKzHRUy+igsmaNmfhljisrou2Age2iX/WrhJuVsd3WiT4dXGD22IkLclxJJrb78Jvahgk4ioxQvkycOFHSoEGDFLT+7//+r3r16t9+++3nn38uAH/d7sXjLz6z15Pf7HC0l4lpnPrEp9+8P2Ho+afGGR1AaPW2vf89c9GiWQ89MPT/qhkBQJDYszB9Sb6rYlZ4k1bNKumgfPHJfR/78MPHzq3uUzEnc869/569UwC8zZeQGO+zVMLZsS3D1sHZy5556NWNtmSqXDSkf/3QiIgIS8XcwLZMV4dgL392zMvrbUlWyKnXjLiiuhFwNBmhHFm8ePH8+fPj4uJ69eqloBUSEnLNNddImjhxogD8RTnfTuhx7s3v/VLgqoiJbnr1tAULXhjYKs6oFMJO6H7TPzvGCACCReGy9MU7XJXwN2iZXFmlENbo2if+fW6CUTH7l1kvf5gtAN4WnpgQbamEE8jKsHVQgdnjHv8yx5UV0rD/0AvjZaKjwi0Vc3ZkZRbq4AJzxk74YrcrySScN/yG1pUEHF1GKEeef/55SVdddVV4eLiC2T//+c+QkJCZM2fu2LFDAA6bs3Hm4EuGvbex0FURE9N62MwPnrrilEgBQDnlbE9PW1WoEr4qzZJP8qlUTM1LU7slWirmZn75+Tf5AuBpvoSEeKMS7u6szF2ODsxeOXnsKxscycR0G3pdy1BJ4ZERPkt7ufmBjExHB2GvePbBl9fbkqyQRlePuKy6EXCUGaEcWbBggaQLL7xQQa569eqtWrUqLCxcuHChABym/CWP9u7//Kp8V0Ws0PpXPf/m6M5VjACg/MpfmP59vqtiVmjjVi1DVFoRDU+t41cJO2Pr1kIB8DSTmBRn6VdZ27e7OqDsjx6eOG+XK/lP6jus5/FGRXzRlSMtlcjKyHR0YIE5D034YrcrySRcMHxIcpiAo84I5UVBQcG3335rjGnRooWCX3JysqS0tDQBOCy5ix665u5PAo72MpXb3vmfxy6qbgQA5Vnhj+mLMhyV8NdLbhVvVFpWWHiYpRJWpbBwIwCe5quSGG8s7RPIzLR1APbqKWNeXGtLVnSHwUPaR6hE5ZgoS8WcrO0Ztg7EXvHcmJfX25Ks0CbXjuhRzQg4+ozgJa7r7tq1S3/J999/n5eX16BBg8jISAW/5ORkSenp6cLRkp2dLQS9wiWPDX7gy12u9rJizrz72RHJEQKwX7t373YcRygHdixcuKJQJUxss+T6fpVawZpV62yV8NWpd1KIgHItOztbQS48ISHKUgk7kJHhaP92f/rI+M+yXclXp9ctfev6VMIXUznaqJiTlZlh6wAC74+dMH+3K8kkXTR8cIsQAX+SnZ2tMmYEL8nLy6tXr96kSZNs29ZhSktLk9SqVSuVC61atZKUnp4uHC0XXHDBLbfcsmPHDiFoOeum3jF2wS5Xe1kRrW9+dNCpfgE4gPnz5ycnJ3/88cdCkMtb9PW3ua6KWSGNkpPDVGp5337w6XpbxUJOOPOsE30CyrWLL754+PDhgUBAQctKTIw3KuFmZ2bkaX/stVMf/M/qQsmKPmPwjWdH6VdWbGyMSrh7MjN3a7/sFc89+NI6W5JVqdnAEZdUMQL+7OKLLx42bFggEFCZMYLHbN68+ZprrjnllFOeeuqpPXv2qNTS09MlJScnq1yoX79+dHT02rVrt2/fLhwVubm5Dz30UN26dW+77bbNmzcLwSf3i8cefCfDUTFfrSvuGtI0VAAOZtGiRZ06derQocM777zjuq4QlOy16d9sslXCV7dlyypGpeRsefuxacts7WWFNL68V+sQAeVbbm7u2LFj69atO3LkyE2bNikI+RMTYy2VcO1AZkah/ixn/mOPfrxTkq9Wj+FXnezT//ji4mN8lopZge3bbO1H4P2xE+bvdiWZqhcPH9Q0VMD+5Obmjhs3rm7duiNGjNi0aZPKgBE86ccffxw4cGDt2rVHjRq1bds2lUJaWpqk5ORklQuWZbVo0UJSenq6cBRlZWWNHj26Tp06V1111Q8//CAED3vLa49MXWW72ssKazPw5m4xAlAan3766fnnn9+wYcNnn302Ly9PCDK7Fn69vFAlTFTTVk1CVDpOxgej7nh1o6O9fMddeuu1jf0CKoRAIPDAAw/UqVOnX79+S5cuVVAxiUnxln6VlZmhP3HWTX/g+R8LXVmR7Qbd3DVGvxUWFxdlqZgTyMyy9Sf2isljXlpnS7IqNR844pJEI+AgAoHAgw8+WKdOnX79+i1dulRHlBE8bNu2bf/6179q1659zTXXzJ8/XwfmOM7SpUuNMc2aNVN50bJlS0nfffedcNTl5eVNmTKlUaNG3bt3f/311/Pz8wWvc36Z8fycDEfFTMw5/VNPNgJwGJYtW3b11VfXrl37rrvuWrVqlRAs8r9L+363qxK+RsnJESqVnG/HX9HnmZUFror4jrto9P2XVDUCKpL8/Pznn3++cePGKSkpr7/+en5+voKBFZ2QEGFUwglsz7D1B7lfTnjkox2u5KvR45YBDXz6HZMQH2tUzA5kZDj6o8D7Y8fP2+1K8lW/ZMT1jf0CSiE/P//5559v1KhRSkrKa6+9lpeXpyPBCJ63Z8+eSZMmnX766fXq1fvXv/71008/6U/27NlTWFgYGRkZFham8iIhIUFSdna2cIy4rjt79uxLLrmkevXqAwcOXLBggeBZ9prXXp+/x1UxK7rjJedXNwJw+LZs2XLvvffWq1evXbt2Tz75ZFZWluBtzsa0b9bZKuGr2Tz5eKNDKljz5s3ndB724VZHRazIJoMmP9WrthFQEbmuO2fOnEsuuaRatWrXXnvtF198IY8ziYkJPpVwdmYFbP2Os/GlMZNXFLiyok4bPDwlVn/gi0+I1T47MzML9Hv2ysljXl5nS7LCWl5360UJRvvh7Pjxk1cmPfLv228cMmT4HaOfeO3z1TscAXvNmTPn0ksvrV69+rXXXvvFF1/o7zFC8Fi1atWoUaNOPPHE008/fezYsT/88IN+tWfPHknh4eEqR8LDwyXt2bNHONYyMzOfeuqpdu3anXzyybfffvu8efNs2xa8xNn64ftf57kqZkW0794tQQD+lgULFlx33XXVqlX7xz/+MXny5M2bNwuetCc9fUmhq2JWRNNWTSvpYAq3pv/n9n80a/F/j3yx3XYlWVFNrpn69riuiUZABZeVlfX000+3b9++Xr16t9122+eff27btjzIJCbEah83d2dgl6PfyEub+Mh7WY7kq9ljxDUNfPojKyEh1qiY6+zIzHD0W4E5Y8bP2+VK8lW/bMTAxn79QeHGuY9d06lB7VM69bzmpjvvf3TChLH33Xb9pWc2qNPoorveXJUroFhWVtbTTz/dvn37evXqjRw58vPPP7dtW4fPr1IYNWrUnDlzhLLnOI5KYX6x4cOH16lTJyUlpXv37rVr15YUHh6uciQ8PFzStGnT5s2bp/Ji9erVkkaNGjVx4kR5zNKlS3UoP/744/3F4uLiunTpkpKS0rFjR8EDds/7ND3PVQn/qe3aJxghiF1wwQWVKlVSuZCXlyfpl19+adu2rTwmEAjoUPLz898oZllWs2bNunfv3q1bt/z8fMErCpakL97pqISvSuTOz995x+j37D2B7Vu3bt6wYuG8uZ99/WNGvqsSJuqUHvdNmTioTbwRjq1Zs2a1bdtWKHtLly7VoaxatWp0sdjY2C5duqSkpHTs2FHeYRKT4vU/gcxMqYr2cTa/OmbS0gJXVmS7wcO6xejPTOWEuEqW8l1J7o6sLEd1jPaxlz/74MvrbBUJTx50y/nx+h1n29z7Lr/y3o9/KXBlhSQ0aNOmYa04Za5Zkp6+cntg2Vv/vmTB/PvefvPWNtE6pt555522bdsKZW/p0qU6lFWrVj1QLDY29pxzzunevXvHjh1r166t0vGrFFatWvXVV18J3rN27drJkyevWrWqcePGknw+n8oRv98vaWsxlS+riymYZWVlzZgxY9WqVd9//31ubq5wjBWu+HZptqMSJqFJs7o+IZgtXrxY5UteXt5XX32lYOa67qJFi9auXfvjjz+GhIQIHuFsS09fa2ufwtX/GXThf1QaVkStDv3veeS+Pk2jBQ/YXkzwmEAg8Oqrr65atWrJkiV79uyRR5joxIRISwFXRdzsQFahFKpi+YueGPduhiP5ava89eoGPu2PLz4+1lK2K8nZmRWwJb9KBOaMnfDFbleSr0aPkdc29Ou3dqeN/sdFo+btcE1si6tGP3Z339NrhqlE9vfP/fPi615enb/1kzv73NHq68fOrqxjaHsxwWMCgcBrr722evXqJUuWnHvuuR07dlQp+FUK99xzz5AhQ4Syl5eXd+aZZ6oUateunZKS0r1797PPPjsyMnLLli0PP/xwbm6uypE9e/ZI6tGjx0033SSUvf79+y9ZskSHEhsb26VLl+7du3fr1q1q1aqSXn31VeEYy/1xxc+F2sdf64S6IUJQe/vtt6tWrSqUsS+//PKGG25QKTRr1qx7sbZt2/p8vueff3769OmCF+QvTF+S66r0LF/U8c06/V//oTdd1aFWJcErzjvvvDvvvFPlxT333PPuu+/edddd5557rjzm6quv/u6773QosbGx55xzTvfu3VNSUqpWrSrp9ddfl1f4EhPiLAVcFXF3ZAZclXC2zhzzzHd5rqzIdoOHdYvR/vniEmJ9Wu9IcncGAq72sVdOeeiV9bYkK6LtoFvOi9PvuJnLF63e5YbUvGjie9OuaRSp34hu3P+Jh+d/9o8pv9gFP057fNbdZ/eK17Fz7rnn3nXXXULZu/rqq7/77jsdSkxMTJcuXVKKVatWTYfDr1I4oZhQ9nJzc3VQVatWvfzyy1NTU5s3b67fCAsLk7Rnzx6VI3v27JFUt27d1q1bC2UvKipKBxYeHn7RRRelpqZ27tzZ7/cLnuJkbtm2x9U+VlxiNZ8Q1Jo1a1azZk2hjAUCAR3Uqaee2rt37169etWsWVPwpMLl6YszXZUwlU/t3L1pgqU/sUylqMSq1aodV7dRuy4dk4+LFLwmKSmpdevWKi+SkpIknXjiia1bt5bHREdH68DCw8MvvPDC3r17d+nSxe/3y6N8CYnxPq1xVMTZlZ1tq1jhkqfGvbnVkXw1e956dQOfDsAkJsSqhLt7x84CKUxFdn386MR5u1xJvpqXj/jnKT79nlWz1/iHP9rxVe8p1zSK1J/EntGuiW/KL7ac7OXfr8pX61AdM0lJSa1btxbKXnR0tA4sLCzswgsvTE1N7dKli9/v11/iF4JBWFjYhRdemJqa2qVLF7/frz8JDw+XlJOTo3IkJydHUnh4uHDsWJZ11lln9e7d+9JLL42Ojha8ydm5c5d+ZSk8vJIA/HVJSUmXX355ampqy5YtBW8LpKWvLFQJK7T19c9Pv666EYDDZFnWmWeemZqaeskll1SuXFleZ5KSYi3tk5ef52qvrFnjnl6U78qKaj9keLcYHZBJSIjzWSpwJdfO2bnTUbSRvfaFh6b/ZEuyItsNHpYSqz8zx/WcPPtSn1/74+zYucvRXlZYpTAjVFyWZZ155pm9e/e+9NJLK1eurL/HL3hb9erVBw8efO2118bFxenAQkNDq1evvmnTpjVr1tStW1flwrJlyyTVrl1bOBbCw8P79Olz00031atXTwgmrnbv2uUo0gjA4WratOnNN9/cs2fPkJAQIQjkLUxfnOuqhO+Eli0TjAAcjvDw8NTU1Jtuuunkk09W0DAxifFhUr6KuMrLy5ci7RXPPfzqJlvy1exxy4D6Ph1EaFxctKVcV0V2Ze+UjlfuggkT5mariK/WFSOvbuDT/vn8Pu2Xs+G99xfbKuKr0rzNSX6hIgoLC+vTp89NN9108skn6wjxC1516qmnDhs2rFevXqGhoSqF5OTkWbNmpaWl1a1bV+VCWlqapFatWglHV1JS0vXFEhMThaBgYmKijX7lZm3f7qqqAByGc845Z/jw4eecc44QROyf0hZtc1TCRDdp2TBUAEopMTHx+mJJSUkKNr7ExFifdtoq4ubn5Tra9en4J7/c48qKaj9keLcYHZSVkBBntM1Rkd27dztyts54+IUfC1zJijrjhmFdYnSYnI0z73jov7tcyQppcEX/ThFCBZOYmHh9saSkJB1RRvCepk2bvvPOO0uWLOnXr19oaKhKp1WrVpLS09NVLmRmZq5ZsyYqKqpBgwbC0VKlSpWJEyeuW7fu7rvvTkxMFIKFSapdM8pon4JV33+XIwCldOGFF3777bcffPDBOeecIwSXnenfLC/QPr5GyckRAnBoSUlJ48ePX7du3ahRo5KSkhSEfAlJ8Ub75OfmORtnPPbi2kLJV7PHLQPq+3Rwvvj4WEvF3PycPU7hkmfGv5fpSPLV6TWi/8k+HY7CrV89fVVK/+lrbVdW2KnXPTrytEpCxZGUlDR+/Ph169aNGjUqKSlJR5pf8BKfzzd58uQ+ffoYY3SYkpOTJaWnp6tcSE9Pl9S8eXNjjHBUDBo06IILLoiOjhaCT2izZg39//ks31URd9eirxflX35mqAAcVM2aNefOnXvWWWcJwSnv2/TFOdrHX6tF8vFGAA7huuuuO++88ypXrqxgZpIS4oz2ycvbteS5Jz/Y4ciKaj9keLcYHYovISFWJdy83Lzs98c/uzjPlazos4YO71RZh2avn/PYhHeXb92+bd3ytK+/37jbdiUT3fCqp98a0zlOqDCuu+668847r3LlyiozfsFLQkJC+vXrp78kOTlZ0sKFC13XtSxLQS4tLU1Sq1athKOlV69eQrAyNc7ucKr/s8UF2qtwzZsvfX7fmZ0iBOBgTikmBCt7Q/rCDbb2iWjSsmmoABzKFVdcoeBnYpPiQyzluSri7Jn/1Ivf5Lry1e5564D6Ph1aVEJcpBRQEbtw48tPvLbBluQ/ofdtV53oVynYv3z87CMTlxXqV1bI8eePe+uFwS1jhYrkiiuuUBkzQnmRlJRUu3btnTt3rly5UsEvPT1dUnJysgCUgr/RPy5o7LdUwv555pNvbHYEAOXZnvS0H2ztE1K/ZctoAago/PEJMUbF3NzPp72+1pEV1X7wsK4xKg1fQnyMX8XcdTOm/HenK1kxHYcO6xClUjER1eo12qvhKSfWiA/3WW7Bxnduu+ySax+fv9URcAQZoRxJTk6WNG/ePAU527a//PJLScnJyQJQGv5G/QZ0rqx93G1v3XHHe5mOAKDcyv8+/dtsRyV8VZq2PNEnABWFL7FKgk/FCpZ/8WWGI1+tnrcOqO9TqfjiEmMt7eVs//TDb/JcWf56V47sV9en0vE3uemtRd8XWfLDqvXbtv740aOpjaJyfvrv04PPbnfF5OV5Ao4UI5QjF1xwgaRnnnlGQe7tt9/evHlzgwYN6tWrJwCl4qvT5/ZrGoZaKuYWrn3h2queWbpHpZb9w5uvfLbVEQAEBXdL+sK1tkpYoU1atwgRgArDJCXEWSpRWGC7VuTpQ4Z1jVEpmYT4WBVz8/PyXcnEdBo67MxI/SUmqu7ZN0z+8D/96oVYbv7qGddfNvKTHQKODCOUIz169EhKSvq6mILZhAkTJA0aNEgASi/i9NvHX3dqmKUShb+8PeTcHg/O3VSoQ9i95qMJAzs2TE6dsSHCCACCwp6Fad8XuCrhP7llcrwRgArDJCTF+S39ylfr8lv61/eptEx8Qpzf0q+skHp9b+tTx6e/wVf13Htv7RIjyc39/qk7n1pmCzgSjFCOVKpUacCAAZImTpyooPXDDz988sknlStX7tOnjwAcjpizR/9ndOckn6VibsHPs0Z2ada+77+nffrTLke/V7jj50UfTrv/n91OqVm/y5Cn5q4vOK5unVABQFAoXJa+eIejEia2aXJ9vwBUIP74xFhLJazI04cM6xqjw+CPj4+xtI+JOeemG0+P0N9kqqaktKxkqUju17NmrRFwJPiF8mXgwIFjxoyZMWPGuHHjkpKSFIQmTpwoKTU1NSoqSgAOT1izoa/OKrz8/26b80uBqyJuwdavX7gzdeqo8Pjja9aoflxSXCUrL2dH1pb1q37avKvQ1a8sE9Wg4Ql+AUAwcDIWpv9YqBKWv1FyizABqEgqpUzaYE/SXxV27nOb7Od0ZJn446pHWMpz5Trr16yVThLwtxmhfKlZs+YFF1yQl5c3adIkBaGdO3dOmzbNsqxBgwYJwF8R02bYW/Nn3XdZw1hj6VeuvSdj3cpvv5r70Zz3P/zk868Xr9y0q9BVCSu85plXP/zht6/0q2YEAMGg4JuvlxS4KuGr26JlVSMAOMZyd+zMd7WXqRwXI+BIMEK5M3jwYElPPvlkXl6egs2zzz67a9euzp07169fXwD+opDaXUe+8s23Hzw65OI2taJ8lvbPCq3SpPs/75s2b8WKT58ZenatSgKA4GCvTFu81VYJK6pJcuNQAUCZslc8d+f4Rbt1YLu+mP9NrqsiJr5ZcgMBR4JfKHc6duzYvHnzRYsW3XnnnWPGjFHw+Pnnn0eNGiXpxhtvFIC/KbRWpyGPdRrySPaar+Z++cPPv2zavGV7dr7lqxQeHRNftUadeg2TWzevE+MTAAQdX+O70vPvEgAcPTnfzJl4822f/vLUs3dffHKE/qRw5ZRHXttoS7L8df8vtUu0gCPBL5RHzz77bJs2bcaNG3fRRRe1a9dOwcB13X79+mVnZ/fs2TMlJUUAjgwTXfe08+ueJgAAAPx1hVXqnhgx8/Mxl7R88/whI4de9X9nnhhttE/2kheGXj7yvwFHskJq9Lz/jk5RAo4II5RHLVq0uO222xzH6du3b05OjoLB448//sknn1SrVu3xxx8XAAAAAHhIXKcHZr99d6dqvt0r37q/39n1j6vd/KyUf/S6qn/qP85ueEKLfpOX7HZlhVTvdN9rT15W3Qg4MoxQTt1xxx3Nmzf/8ccfR44cKc9btWrVrbfeKumZZ56Jj48XAAAAAHiKSTrrrg+WzH9ucMdakZaza8Piz+a88eKUydPe+OSH7QWu5Yupf8Gdr3/x7vDWUQKOGL9QToWEhLzwwgvJyckTJky4+OKLO3ToIK9yHKdv3745OTl9+vQ5//zzBQAAAABeZBJa9Rv/ceo9Kz99e+acL5av3bQ5kBcef1zthu3OufCCrk2q+AUcWX6h/GrcuPHdd999++239+rVa+7cufXq1ZMnDR06dP78+TVq1HjssccEAAAAAJ7miz357NQRZ6cKKHNGKNduvfXWc845Z+PGjR06dPjxxx/lPTfccMOECRPCwsKmTZsWExMjAAAAAABQzAjlms/ne+uttzp16rRx48YOHTr8+OOP8pIbbrhh/PjxYWFhb775ZocOHQQAAAAAAH5lhPIuPDx81qxZnTp12rhxY4cOHX788Ud5ww033DB+/PiwsLA333yza9euAgAAAAAAv2GECiA8PHzWrFmdOnXauHFjhw4dli9frmPKcZwhQ4aMHz8+LCzszTff7Nq1qwAAAAAAwO8ZoWIIDw+fNWtWp06dNm7cmJyc/Pjjj7uuq2Nh1apVZ5555oQJE8LCwt58882uXbsKAAAAAAD8iREqjPDw8FmzZqWmpu7evXvQoEGdO3f++eefdRS5rjthwoSmTZvOnz+/Ro0as2fP7tq1qwAAAAAAwP4YoSIJDw9/4YUX3nrrrapVq3788ceNGzd+9tlndVSsXbu2U6dOQ4YMycnJ6du375IlSzp06CAAAAAAAHAARqh4LrjggqVLl/bo0SM7O/vqq69OSUn5+uuvVWZ27Ngxbty4Jk2afPLJJ9WqVXv77benTJkSExMjAAAAAABwYEaokBISEl5++eUZM2YkJibOmTOnTZs2rVu3njp1al5eno6cpUuXDhw48Pjjjx82bFh2dvbll1++dOnS888/XwAAAAAA4FCMUIFdeumlS5cuHTlyZFJSUlpaWp8+fWrWrHnbbbetX79ef4Nt2zNnzuzYsWOjRo2eeuqpnJycLl26zJ49+8UXX4yPjxcAAAAAACgFv1CxValS5f7777/77rtffvnliRMnpqenjx49esyYMS1atGjVqlVycnKrVq1OOeUUn8+ng8rIyEhLS0tPT09LS/vqq6+2bNkiqXLlyn379r3++utPPvlkAQAAAACAw+EXIFWqVKlPsa+++mrixIkzZsxIK6ZikZGRzZs3b9myZWJiYnh4eFhYmN/vz83N3bNnT05OzvLly9PS0tauXavfOPXUU6+//vrU1NSoqCgBAAAAAIDD5xfwG22KPfnkk998801aWlp6enpaWtrq1avnFdOBRUdHt2jRIjk5uVWrVsnJySeeeKIAAAAAAMDf4BfwJ1FRUWcWU7GsrKz09PTvvvtu586dubm5OTk5y5Yta9q0aVhYWHh4eO3atZOTk+vXr2+MEQAAAAAAOEL8Ag4lLi7unGIqtmzZstGjR48bN04AAAAAAKDMGAGH6cMPP/zvf/8rAAAAAABQloyAw/Tee+9t3Lhx8eLFAgAAAAAAZcYIOBw5OTmffvqppPfee08AAAAAAKDMGAGH45NPPsnNzZU0e/ZsAQAAAACAMmMEHI53331XxRYsWJCZmSkAAAAAAFA2jIBSKygoeO2111TMtu0ZM2YIAAAAAACUDSOg1GbPnr1t2zb9aurUqQIAAAAAAGXDCCi1adOm6TcWLFiwatUqAQAAAACAMmAElE4gEJg1a5Z+b9q0aQIAAAAAAGXACCidGTNm5OXl6femTZvmuq4AAAAAAMCRZgSUzpNPPqk/WbNmzfvvvy8AAAAAAHCkGQGl8NFHHy1evFj7M3bsWAEAAAAAgCPNCCiFsWPH6gD++9//Ll68WAAAAAAA4IgyAg7l+++/f//993VgY8eOFQAAAAAAOKL8Ag5l3LhxOqhXXnnlgQceqFGjhgAAAACUXxdccEHt2rUFr5o1a5ZQvvgFHNRPP/300ksv6aAKCwtHjx79+OOPCwAAAED59V0xATha/AIO6tZbb83Pz9ehPPPMM0OGDKlfv74AAAAAlDuTJ0/OyckRgkHNmjWF8sIv4MB2797dsGHDU089Vb/x/PPPr1u3rm/fvrVq1dJvrF27tn79+gIAAABQ7nTs2FEAjjq/gAOLjIwcNWqUfu+TTz5Zt27dgAED2rdvLwAAAAAAUDaMAAAAAAAA4D1GAAAAAAAA8B4jAAAAAAAAeI9fKFecLZ8+88RHvzg6BHPiecP7tokSAAAAAADwKL9QrrgZnz83+t/pBTqE0E7VB6a2iTICAAAAAADeZAQAAAAAAADv8QvlilW92y2Pxm5xdAi+mmdWNgIAAAAAAJ7lF8oVE5d86XXJAgAAAAAAwc4IAAAAAAAA3mMEAAAAAAAA7zECAAAAAACA9xgBAAAAAADAe4wAAAAAAADgPX4BwJFQs2ZNAUBFMrmYAAAAyoxfAPD3+Hw+Y4wAHDmWZQkeZooJwJFjjBEA4E/8AoC/56effhIAVCSpxQQAAFDGjAAAAAAAAOA9RgAAAAAAAPAeIwAAAAAAAHiPEQAAAAAAALzHCAAAAAAAAN5jBAAAAAAAAO8xAgAAAAAAgPcYAQAAAAAAwHuMAAAAAAAA4D1GAAAAAAAA8B4jAAAAAAAAeI8RAAAAAAAAvMcIAAAAAAAA3mMEAAAAAAAA7zECAAAAAACA9xgBAAAAAADAe4wAAAAAAADgPUYAAAAAAADwHiMAAAAAAAB4jxEAAAAAAAC8xwgAAAAAAADeYwQAAAAAAADvMQIAAAAAAID3GAEAAAAAAMB7jAAAAAAAAOA9RgAAAAAAAPAeIwAAAAAAAHiPEQAAAAAAALzHCAAAAAAAAN5jBAAAAAAAAO8xAgAAAAAAgPcYAQAAAAAAwHuMAAAAAAAA4D1GAAAAAAAA8B4jAAAAAAAAeI8RAAAAAAAAvMcIAAAAAAAA3mMEAAAAAAAA7zECAAAAAACA9xgBAAAAAADAe4wAAAAAAADgPUYAAAAAAADwHiMAAAAAAAB4jxEAAAAAAAC8xwgAAAAAAADeYwQAAAAAAADvMQIAAAAAAID3GAEAAAAAAMB7jAAAAAAAAOA9RgAAAAAAAPAeIwAAAAAAAHiPEQAAAAAAALzHCAAAAAAAAN5jBAAAAAAAAO8xAgAAAAAAgPcYAQAAAAAAwHuMAAAAAAAA4D1GAAAAAAAA8B4jAAAAAAAAeI8RAAAAAAAAvMcIAAAAAAAA3mMEAAAAAAAA7zECAAAAAACA9xgBAAAAAADAe4wAAAAAAADgPUYAAAAAAADwHiMAAAAAAAB4j1/AX7JgwQJjjAAAAAD83oIFCwQAR4JfwF8yfPhwAQAAAACAMuMXcJiaNGniOI4AAAAAHFjVqlUFAH+P5bquAAAAAAAA4DFGAAAAAAAA8B4jAAAAAAAAeI8RAAAAAAAAvMcIAAAAAAAA3mMEAAAAAAAA7zECAAAAAACA9xgBAAAAAADAe4wAAAAAAADgPUYAAAAAAADwHiMAAAAAAAB4jxEAAAAAAAC8xwgAAAAAAADe8/8A1rIwts6PJCcAAAAASUVORK5CYII=\" alt=\"Block Diagram\" width=\"600\"/>\n",
    "\n",
    "\n",
    "We want to create the two weights $W_1(s)$ and $W_3(s)$ to ensure reference tracking and noise attenuation. For now, we will ignore the weight $W_2(s)$ to keep the design more manageable.\n",
    "\n",
    "Remember how we defined $W_1(s)$ and $W_3(s)$ in the lecture:\n",
    "- $||W_1(s)S(s)|| << 1$ or $\\sigma_{min}[L(s)] >> |W_1(s)|$\n",
    "- $||W_3(s)T(s)|| <<$ 1 or $\\sigma_{max}[L(s)] << \\frac{1}{|W_3(s)|}$\n",
    "\n",
    "Therefore, we want $W_1(s)$ to have very large magnitudes at low frequencies, and $W_3(s)$ to have large magnitudes at high frequencies.\n",
    "\n",
    "We start by implementing functions that create our frequency weights using the definitions from Lecture 9:\n",
    "$$ W_1(s) = \\frac{M}{Ms/\\omega_1 + 1} \\quad \\text{and} \\quad W_3(s) = \\frac{Ms}{s + M\\omega_3}."
   ]
  },
  {
   "cell_type": "markdown",
   "metadata": {},
   "source": [
    "The following code snippet defines functions that create the frequency weights. The weight parameters $M$, $w_1$ and $w_2$ are necessary inputs. The function outputs the transfer function of the frequency weight. The behaviour of the created transfer functions is further specified in the comment block."
   ]
  },
  {
   "cell_type": "code",
   "execution_count": 40,
   "metadata": {},
   "outputs": [],
   "source": [
    "# Function definition for frequency weight w1\n",
    "def makeweight_1(M : float, w1 : float) -> ct.TransferFunction:\n",
    "    \"\"\"\n",
    "    Creates a frequency weight transfer function that has:\n",
    "    - magnitude M >> 1 at low frequencies,\n",
    "    - rolls off to zero at high frequencies,\n",
    "    - and has magnitude 1 at the frequency s=j*w1.\n",
    "    \"\"\"\n",
    "    return ct.TransferFunction([M], [M/w1, 1], name='W_1')\n",
    "\n",
    "# Function definition for frequency weight w2\n",
    "def makeweight_3(M: float, w3 : float) -> ct.TransferFunction:\n",
    "    \"\"\"\n",
    "    Creates a frequency weight transfer function that has:\n",
    "    - zero DC gain,\n",
    "    - approaches M >> 1 at high frequencies,\n",
    "    - and has magnitude 1 at the frequency s=j*w3.\n",
    "    \"\"\"\n",
    "    return ct.TransferFunction([M, 0], [1, M*w3], name='W_3')"
   ]
  },
  {
   "cell_type": "markdown",
   "metadata": {},
   "source": [
    "## Exercise 1.2: Specifying weight regions\n",
    "\n",
    "Now define the two weights such that:\n",
    "\n",
    "- $W_1(s)$ has a magnitude of 100 at low frequencies, rolls off to zero at high frequencies, and has a magnitude of 1 at a frequency of $\\omega_1 = 0.1 \\text{rad/s}$,\n",
    "- $W_3(s)$ approaches a magnitude of 100 at high frequencies, has a magnitude of 1 at a frequency of  $\\omega_3 = 10\\text{rad/s}$, and has a zero DC gain."
   ]
  },
  {
   "cell_type": "code",
   "execution_count": 41,
   "metadata": {},
   "outputs": [],
   "source": [
    "# Calls the functions as defined in Exercise 1.1\n",
    "W_1 = Qparam.sol_makeweight_1(100, 0.1)\n",
    "W_3 = Qparam.sol_makeweight_3(100, 10)"
   ]
  },
  {
   "cell_type": "markdown",
   "metadata": {},
   "source": [
    "To further assess the behaviour of the frequency weights, we can look at the singular value plots of these frequency weights and compare them to the open-loop transfer function $L(s)$. \n",
    "\n",
    "Since we want \n",
    "$\\sigma_{min}[L(s)] >> |W_1(s)|$\n",
    "and\n",
    "$\\sigma_{max}[L(s)] << \\frac{1}{|W_3(s)|},$\n",
    "we will invert $W_3(s)$ and find $L(s)$.\n"
   ]
  },
  {
   "cell_type": "code",
   "execution_count": 42,
   "metadata": {},
   "outputs": [
    {
     "data": {
      "image/png": "[encoded data removed]",
      "text/plain": [
       "<Figure size 640x480 with 1 Axes>"
      ]
     },
     "metadata": {},
     "output_type": "display_data"
    }
   ],
   "source": [
    "# Find the open loop transfer function\n",
    "L_s = P_s * C_s\n",
    "L_s.name = 'L(s)'\n",
    "\n",
    "# Find the transfer function of the inverted W3\n",
    "W_3_inverted = 1 / W_3\n",
    "W_3_inverted.name = '1/W_3'\n",
    "\n",
    "# Plotting the singular values of P, W1 and W3\n",
    "_ = ct.singular_values_plot([L_s, W_1, W_3_inverted])"
   ]
  },
  {
   "cell_type": "markdown",
   "metadata": {},
   "source": [
    "## Exercise 1.3: Assembly of the generalized plant\n",
    "\n",
    "We want the open-loop transfer function $L(s)$ to lie between the upper and lower bounds given by $W_1(s)$ and $W_3(s)$ respectively. Note that we are dealing with a SISO system and therefore get only one singular value, implying $\\sigma_{min}[L(s)] = \\sigma_{max}[L(s)]$.\n",
    "\n",
    "This loop shaping problem boils down to finding a controller $C(s)$ that places $L(s)$ between our bounds $W_1(s)$ and $W_3(s)$. We want to find the generalized plant\n",
    "$$ G(s) = \\begin{bmatrix} G_{zw}(s) & G_{zu}(s) \\\\ G_{yw}(s) & G_{yu}(s) \\end{bmatrix},$$\n",
    "\n",
    "which we can then use in an optimization problem to synthesize our controller $C(s)$.\n",
    "\n",
    "One could derive each transfer function by hand and would find that\n",
    "$$ G(s) = \\begin{bmatrix} W_1(s) & -W_1(s)P(s) \\\\ 0 & W_3(s)P(s) \\end{bmatrix},$$\n",
    "\n",
    "or we can use the function `ct.augw(g, w1, w2, w3)` from the `control` library."
   ]
  },
  {
   "cell_type": "code",
   "execution_count": 43,
   "metadata": {},
   "outputs": [
    {
     "data": {
      "text/latex": [
       "$$\n",
       "\\left(\\begin{array}{rllrllrllrll|rllrll}\n",
       "-0.&\\hspace{-1em}001&\\hspace{-1em}\\phantom{\\cdot}&0\\phantom{.}&\\hspace{-1em}&\\hspace{-1em}\\phantom{\\cdot}&0\\phantom{.}&\\hspace{-1em}&\\hspace{-1em}\\phantom{\\cdot}&-1\\phantom{.}&\\hspace{-1em}&\\hspace{-1em}\\phantom{\\cdot}&1\\phantom{.}&\\hspace{-1em}&\\hspace{-1em}\\phantom{\\cdot}&0\\phantom{.}&\\hspace{-1em}&\\hspace{-1em}\\phantom{\\cdot}\\\\\n",
       "0\\phantom{.}&\\hspace{-1em}&\\hspace{-1em}\\phantom{\\cdot}&-1\\phantom{.}&\\hspace{-1em}&\\hspace{-1em}\\cdot10^{3}&0\\phantom{.}&\\hspace{-1em}&\\hspace{-1em}\\phantom{\\cdot}&1\\phantom{.}&\\hspace{-1em}&\\hspace{-1em}\\phantom{\\cdot}&0\\phantom{.}&\\hspace{-1em}&\\hspace{-1em}\\phantom{\\cdot}&0\\phantom{.}&\\hspace{-1em}&\\hspace{-1em}\\phantom{\\cdot}\\\\\n",
       "0\\phantom{.}&\\hspace{-1em}&\\hspace{-1em}\\phantom{\\cdot}&0\\phantom{.}&\\hspace{-1em}&\\hspace{-1em}\\phantom{\\cdot}&-0.&\\hspace{-1em}1&\\hspace{-1em}\\phantom{\\cdot}&9.&\\hspace{-1em}81&\\hspace{-1em}\\phantom{\\cdot}&0\\phantom{.}&\\hspace{-1em}&\\hspace{-1em}\\phantom{\\cdot}&1\\phantom{.}&\\hspace{-1em}&\\hspace{-1em}\\phantom{\\cdot}\\\\\n",
       "0\\phantom{.}&\\hspace{-1em}&\\hspace{-1em}\\phantom{\\cdot}&0\\phantom{.}&\\hspace{-1em}&\\hspace{-1em}\\phantom{\\cdot}&1\\phantom{.}&\\hspace{-1em}&\\hspace{-1em}\\phantom{\\cdot}&0\\phantom{.}&\\hspace{-1em}&\\hspace{-1em}\\phantom{\\cdot}&0\\phantom{.}&\\hspace{-1em}&\\hspace{-1em}\\phantom{\\cdot}&0\\phantom{.}&\\hspace{-1em}&\\hspace{-1em}\\phantom{\\cdot}\\\\\n",
       "\\hline\n",
       "0.&\\hspace{-1em}1&\\hspace{-1em}\\phantom{\\cdot}&0\\phantom{.}&\\hspace{-1em}&\\hspace{-1em}\\phantom{\\cdot}&0\\phantom{.}&\\hspace{-1em}&\\hspace{-1em}\\phantom{\\cdot}&0\\phantom{.}&\\hspace{-1em}&\\hspace{-1em}\\phantom{\\cdot}&0\\phantom{.}&\\hspace{-1em}&\\hspace{-1em}\\phantom{\\cdot}&0\\phantom{.}&\\hspace{-1em}&\\hspace{-1em}\\phantom{\\cdot}\\\\\n",
       "0\\phantom{.}&\\hspace{-1em}&\\hspace{-1em}\\phantom{\\cdot}&-1\\phantom{.}&\\hspace{-1em}&\\hspace{-1em}\\cdot10^{5}&0\\phantom{.}&\\hspace{-1em}&\\hspace{-1em}\\phantom{\\cdot}&100\\phantom{.}&\\hspace{-1em}&\\hspace{-1em}\\phantom{\\cdot}&0\\phantom{.}&\\hspace{-1em}&\\hspace{-1em}\\phantom{\\cdot}&0\\phantom{.}&\\hspace{-1em}&\\hspace{-1em}\\phantom{\\cdot}\\\\\n",
       "0\\phantom{.}&\\hspace{-1em}&\\hspace{-1em}\\phantom{\\cdot}&0\\phantom{.}&\\hspace{-1em}&\\hspace{-1em}\\phantom{\\cdot}&0\\phantom{.}&\\hspace{-1em}&\\hspace{-1em}\\phantom{\\cdot}&-1\\phantom{.}&\\hspace{-1em}&\\hspace{-1em}\\phantom{\\cdot}&1\\phantom{.}&\\hspace{-1em}&\\hspace{-1em}\\phantom{\\cdot}&0\\phantom{.}&\\hspace{-1em}&\\hspace{-1em}\\phantom{\\cdot}\\\\\n",
       "\\end{array}\\right)\n",
       "$$"
      ],
      "text/plain": [
       "StateSpace(array([[-1.00e-03,  0.00e+00,  0.00e+00, -1.00e+00],\n",
       "       [ 0.00e+00, -1.00e+03,  0.00e+00,  1.00e+00],\n",
       "       [ 0.00e+00,  0.00e+00, -1.00e-01,  9.81e+00],\n",
       "       [ 0.00e+00,  0.00e+00,  1.00e+00,  0.00e+00]]), array([[1., 0.],\n",
       "       [0., 0.],\n",
       "       [0., 1.],\n",
       "       [0., 0.]]), array([[ 1.e-01,  0.e+00,  0.e+00,  0.e+00],\n",
       "       [ 0.e+00, -1.e+05,  0.e+00,  1.e+02],\n",
       "       [ 0.e+00,  0.e+00,  0.e+00, -1.e+00]]), array([[0., 0.],\n",
       "       [0., 0.],\n",
       "       [1., 0.]]))"
      ]
     },
     "metadata": {},
     "output_type": "display_data"
    }
   ],
   "source": [
    "# Finding the generalized plant\n",
    "G_s = ct.augw(P_s, w1=W_1, w2=None, w3=W_3)\n",
    "\n",
    "display(G_s)"
   ]
  },
  {
   "cell_type": "markdown",
   "metadata": {},
   "source": [
    "Now we can use, for example, $H_\\infty$ synthesizes to find a controller."
   ]
  },
  {
   "cell_type": "markdown",
   "metadata": {},
   "source": [
    "---\n",
    "# Exercise 2: Optimal controllers"
   ]
  },
  {
   "cell_type": "markdown",
   "metadata": {},
   "source": [
    "In this exercise we will use $H_2$ and $H_\\infty$ control techniques to find optimal controllers."
   ]
  },
  {
   "cell_type": "markdown",
   "metadata": {},
   "source": [
    "## Exercise 2.1: $H_\\infty$ from the transfer function representation\n",
    "First, we will look at the $H_\\infty$ technique. In general, we will need functions that evaluate the $H_\\infty$ norm of a system, but the functions differ for the system representation used. In a first step, we find a function that evaluates the norm if the system is given as a transfer function. The definition in the s-domain is used in the code snippet."
   ]
  },
  {
   "cell_type": "code",
   "execution_count": 44,
   "metadata": {},
   "outputs": [],
   "source": [
    "def systemInfnorm(system: ct.TransferFunction) -> float:\n",
    "    \"\"\"\n",
    "    Returns an approximation of the infinity norm of the system\n",
    "\n",
    "    Parameters:\n",
    "    - ``system`` (ct.TransferFunction): The system to compute the infinity norm of\n",
    "\n",
    "    Returns:\n",
    "    - float: The infinity norm of the system\n",
    "    \"\"\"\n",
    "    # Create a range of frequencies to analyze over\n",
    "    omega = np.linspace(-4, 4, 1000)\n",
    "    H = system(omega * 1j)\n",
    "\n",
    "    # Consider the MIMO case\n",
    "    if system.ninputs > 1 or system.noutputs > 1:\n",
    "        # Calculate singular values\n",
    "        singular_values = [np.linalg.svd(H[..., i])[1] for i in range(len(omega))]\n",
    "    # Consider the SISO case\n",
    "    else:\n",
    "        singular_values = [np.absolute(H[..., i]) for i in range(len(omega))]\n",
    "\n",
    "    # Return the highest singular value\n",
    "    return np.vstack(singular_values).max()"
   ]
  },
  {
   "cell_type": "markdown",
   "metadata": {},
   "source": [
    "## Exercise 2.2: Finding the Hamiltonian matrix\n",
    "\n",
    "Secondly we find the $H_\\infty$ norm based on a state-space representation of the system. We can use the Hamiltonian matrix method, as shown in the lecture. The Hamiltonian is defined as such:\n",
    "\n",
    "<img src=\"data:image/png;base64,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\" alt=\"H_inf_calculation\" width=\"600\"/>"
   ]
  },
  {
   "cell_type": "code",
   "execution_count": 45,
   "metadata": {},
   "outputs": [],
   "source": [
    "def H_inf_norm_state_space(A: np.ndarray, B: np.ndarray, C: np.ndarray, D: np.ndarray) -> float:\n",
    "    \"\"\"\n",
    "    Returns the infinity norm of the system defined by the state space matrices\n",
    "\n",
    "    Parameters:\n",
    "    - ``A`` (np.ndarray): The state matrix of the system\n",
    "    - ``B`` (np.ndarray): The input matrix of the system\n",
    "    - ``C`` (np.ndarray): The output matrix of the system\n",
    "    - ``D`` (np.ndarray): The feedthrough matrix of the system\n",
    "\n",
    "    Returns:\n",
    "    - float: The infinity norm of the system\n",
    "    \"\"\"\n",
    "\n",
    "    gamma, step, precision = 1, 1, 1\n",
    "    \n",
    "    while precision > 1e-7:\n",
    "        # Calculate the Hamiltonian matrix\n",
    "        H = np.block([[A, 1/gamma*B@B.T], [-1/gamma*C.T@C, -A.T]])\n",
    "\n",
    "        # Check if the eigenvalues are on the imaginary axis, then update gamma\n",
    "        if any(np.isclose(np.linalg.eigvals(H).real, 0)):\n",
    "            prev_gamma = gamma\n",
    "            gamma = gamma + step\n",
    "        else:\n",
    "            prev_gamma = gamma\n",
    "            gamma = gamma - step\n",
    "        \n",
    "        precision = abs(gamma - prev_gamma)\n",
    "        step /= 2\n",
    "        if gamma == 0:\n",
    "            gamma = 1e-7\n",
    "    \n",
    "    return gamma"
   ]
  },
  {
   "cell_type": "markdown",
   "metadata": {},
   "source": [
    "The system representation does not change the systems $H_\\infty$ norm. With the code below, you can verify that the _state-space_ and _transfer function_ implementations of the $H_{\\infty}$ norm are equivalent."
   ]
  },
  {
   "cell_type": "code",
   "execution_count": 46,
   "metadata": {},
   "outputs": [
    {
     "name": "stdout",
     "output_type": "stream",
     "text": [
      "Transfer function infinity norm: 1.785\n",
      "State space infinity norm: 1.785\n",
      "The infinity norms match!\n"
     ]
    }
   ],
   "source": [
    "# Define the state space matrices. Feel free to change these to test the function. It also works for MIMO systems.\n",
    "A = np.array([[0, 1], [-2, -1]])\n",
    "B = np.array([[0], [1]])\n",
    "C = np.array([[2, 1]])\n",
    "D = np.array([[0]])\n",
    "\n",
    "# Calculate the infinity norms using the method introduced last week\n",
    "tf = ct.ss2tf(A, B, C, D)\n",
    "tf_norm = systemInfnorm(tf)\n",
    "\n",
    "# Calculate the infinity norm using the state space method\n",
    "ss_norm = H_inf_norm_state_space(A, B, C, D)\n",
    "\n",
    "# Print the results\n",
    "print(f\"Transfer function infinity norm: {round(tf_norm,3)}\")\n",
    "print(f\"State space infinity norm: {round(ss_norm,3)}\")\n",
    "if np.isclose(tf_norm, ss_norm, rtol=1e-2):\n",
    "    print(\"The infinity norms match!\")\n",
    "else:\n",
    "    print(\"The infinity norms do not match!\")"
   ]
  },
  {
   "cell_type": "markdown",
   "metadata": {},
   "source": [
    "## Exercise 2.3:\n",
    "You are working as a controls engineer at Autobau AG. It is your job to design a laneholding assistant. Because the lanes are denoted by striped lines (akin to this -----), the input data is noisy. As your first assignment you are tasked with coming up with an **optimal observer gain $L$** for your system. To have more control over the behaviour of the final closed loop, you choose a frequency weight approach and augment the system to look as follows:\n",
    "\n",
    "$\\dot{x}(t)=Ax(t)+B_ww(t)+B_uu(t) $\n",
    "\n",
    "$z(t)=C_zx(t)+D_{zw}w(t)+D_{zu}(t) $\n",
    "\n",
    "$y(t)=C_yx(t)+D_{yw}w(t)+D_{yu}u(t) $\n",
    "\n",
    "Furthermore you assume all initial conditions to be zero and also that $B_u = I$. You find the actual matrices below, but feel free to change them and test your own matrices."
   ]
  },
  {
   "cell_type": "code",
   "execution_count": 60,
   "metadata": {},
   "outputs": [],
   "source": [
    "A=np.array([[-10, 12, -1], [-1, 1.25, -2], [1, 0, -5]])\n",
    "\n",
    "B_w=np.array([[0, 1, -4], [-1, 0, 2], [0, -1, 1]])\n",
    "B_u=np.eye(3)\n",
    "\n",
    "C_z=np.array([[1, 0, -1], [1, 0, 8], [0, 6, 1]])\n",
    "C_y=np.eye(3)\n",
    "\n",
    "D_zw=np.zeros((3,3))\n",
    "D_zu=np.array([[-1, 0, -1], [2, 1, -3], [1, 10, 3]])\n",
    "D_yw=np.array([[1, 0, 3], [6, 1, -0.5], [-1, 0, 1]])\n",
    "D_yu=np.zeros((3,3))"
   ]
  },
  {
   "cell_type": "markdown",
   "metadata": {},
   "source": [
    "You recall from your Control Systems II lecture that the optimal observer gain L is defined as:\n",
    "\n",
    "$L = -(YC_y + B_w D_{yw}')R_{ww}^{-1}$\n",
    "\n",
    "... where $Y_L$ is determined using a modified continous _algebraic riccati equation_:\n",
    "\n",
    "$(A - B_wD_{yw}'R_{ww}^{-1}C_y)'Y + Y(A - B_wD_{yw}'R_{ww}^{-1}C_y) - YC_yR_{ww}^{-1}C_y'Y + B_w(I - D_{yw}'R_{ww}^{-1}D_{yw})B_w'=0$\n",
    "\n",
    "_(Formulas and derivations found \"Lecture 10: Modern Control Synthesis: $H_2, H_{\\infty}, \\mu$-synthesis)\", slides 10-13_\n",
    "\n",
    "We use the scipy.linalg function [``la.solve_continous_are``](https://docs.scipy.org/doc/scipy/reference/generated/scipy.linalg.solve_continuous_are.html) to have a short and easy solution."
   ]
  },
  {
   "cell_type": "markdown",
   "metadata": {},
   "source": [
    "The following code snippet solves the ARE. You will use it as soon as you try to find the optimal controller."
   ]
  },
  {
   "cell_type": "code",
   "execution_count": 61,
   "metadata": {},
   "outputs": [],
   "source": [
    "def solve_riccati_equation(A: np.ndarray, B_w: np.ndarray, C_y: np.ndarray, R_ww: np.ndarray, D_yw: np.ndarray) -> np.ndarray:\n",
    "    \"\"\"\n",
    "    Returns the solution to the continuous algebraic Riccati equation\n",
    "\n",
    "    Parameters:\n",
    "    - ``A`` (np.ndarray): The state matrix of the system\n",
    "    - ``B_w`` (np.ndarray): The disturbance input matrix of the system\n",
    "    - ``C_y`` (np.ndarray): The output matrix of the system\n",
    "    - ``R_ww`` (np.ndarray): The disturbance covariance matrix\n",
    "    - ``D_yw`` (np.ndarray): The feedthrough matrix from the disturbance to the output\n",
    "    - ``Q`` (np.ndarray): The state cost matrix\n",
    "\n",
    "    Returns:\n",
    "    - np.ndarray: The solution to the continuous algebraic Riccati equation\n",
    "    \"\"\"\n",
    "    a = (A - B_w@D_yw.T@np.linalg.inv(R_ww)@C_y).T\n",
    "    b = C_y\n",
    "    q = B_w@(np.eye(A.shape[0])-D_yw.T@np.linalg.inv(R_ww)@D_yw)@B_w.T\n",
    "    r = np.linalg.inv(R_ww) \n",
    "    \n",
    "    # to combat floating point errors\n",
    "    a = np.round(a, 10)\n",
    "    b = np.round(b, 10)\n",
    "    q = np.round(q, 10)\n",
    "    r = np.round(r, 10)\n",
    "    \n",
    "    Y = la.solve_continuous_are(a, b, q, r)\n",
    "    return Y\n",
    "    "
   ]
  },
  {
   "cell_type": "markdown",
   "metadata": {},
   "source": [
    "Using the function defined above, you can now find the optimal observer gain L."
   ]
  },
  {
   "cell_type": "code",
   "execution_count": null,
   "metadata": {},
   "outputs": [],
   "source": [
    "def optimal_LQE(A: np.ndarray, B_w: np.ndarray, C_y: np.ndarray, D_yw: np.ndarray) -> np.ndarray:\n",
    "    \"\"\"\n",
    "    Returns the optimal state feedback gain for the given system and cost matrices\n",
    "\n",
    "    Parameters:\n",
    "    - ``A`` (np.ndarray): The state matrix of the system\n",
    "    - ``B`` (np.ndarray): The input matrix of the system\n",
    "    - ``Q`` (np.ndarray): The state cost matrix\n",
    "    - ``R`` (np.ndarray): The input cost matrix\n",
    "\n",
    "    Returns:\n",
    "    - np.ndarray: The optimal state feedback gain\n",
    "    \"\"\"\n",
    "\n",
    "    # Defining weight\n",
    "    R_ww = D_yw @ D_yw.T\n",
    "\n",
    "    # Calling the ARE solver to find positive definite solution\n",
    "    Y = solve_riccati_equation(A, B_w, C_y, R_ww, D_yw)\n",
    "\n",
    "    # Using ARE solution to find the optimal observer gain\n",
    "    L = -(Y@C_y+B_w@D_yw.T)@np.linalg.inv(R_ww)\n",
    "    \n",
    "    return L"
   ]
  },
  {
   "cell_type": "markdown",
   "metadata": {},
   "source": [
    "Finally, print the optimal observer gain using your function or the solution function:"
   ]
  },
  {
   "cell_type": "code",
   "execution_count": 62,
   "metadata": {},
   "outputs": [
    {
     "name": "stdout",
     "output_type": "stream",
     "text": [
      "The optimal state feedback gain is:\n",
      "[[ 2.3750000e+00 -1.0000000e+00 -3.6250000e+00]\n",
      " [-2.5000000e-01 -8.8817842e-16 -1.2500000e+00]\n",
      " [-1.6250000e+00  1.0000000e+00  4.3750000e+00]]\n"
     ]
    }
   ],
   "source": [
    "L_optimal = optimal_LQE(A, B_w, C_y, D_yw)\n",
    "# L_optimal = H_inf.sol_optimal_LQE(A, B_w, C_y, D_yw)\n",
    "print(\"The optimal state feedback gain is:\")\n",
    "print(L_optimal)"
   ]
  },
  {
   "cell_type": "markdown",
   "metadata": {},
   "source": [
    "## Exercise 2.4: \n",
    "Now that we have an optimal observer (LQE) we can approach the optimal feedback controller problem.\n",
    "\n",
    "The optimal controller gain can be solved using the LQR formulation presented in the slides:\n",
    "\n",
    "$F = -(D_{zu}'D_{zu})^{-1}B_u'X_F$\n",
    "\n",
    "... where $X_F$ is found using an _algebraic riccati equation_:\n",
    "\n",
    "$A'X_F + X_FA+ X_FB_u(D_{zu}'D_{zu})^{-1}B_u'X_F + C_z'C_z=0$\n",
    "\n",
    "_(Formulas and derivations found \"Lecture 10: Modern Control Synthesis: $H_2, H_{\\infty}, \\mu$-synthesis)\", slides 5-6_"
   ]
  },
  {
   "cell_type": "markdown",
   "metadata": {},
   "source": [
    "We can reuse the ARE solver from Exercise 2.3 to find the optimal feedback controller $F$."
   ]
  },
  {
   "cell_type": "code",
   "execution_count": null,
   "metadata": {},
   "outputs": [],
   "source": [
    "def optimal_LQR(A: np.ndarray, B_u: np.ndarray, C_z: np.ndarray, D_zu: np.ndarray) -> np.ndarray:\n",
    "    \"\"\"\n",
    "    Returns the optimal state feedback gain for the given system and cost matrices\n",
    "\n",
    "    Parameters:\n",
    "    - ``A`` (np.ndarray): The state matrix of the system\n",
    "    - ``B`` (np.ndarray): The input matrix of the system\n",
    "    - ``Q`` (np.ndarray): The state cost matrix\n",
    "    - ``R`` (np.ndarray): The input cost matrix\n",
    "\n",
    "    Returns:\n",
    "    - np.ndarray: The optimal state feedback gain\n",
    "    \"\"\"\n",
    "    a = A\n",
    "    b = B_u\n",
    "    q = C_z.T@C_z\n",
    "    r = D_zu.T@D_zu\n",
    "    \n",
    "    # to combat floating point errors\n",
    "    a = np.round(a, 10)\n",
    "    b = np.round(b, 10)\n",
    "    q = np.round(q, 10)\n",
    "    r = np.round(r, 10)\n",
    "    \n",
    "    # Calling the ARE solver to find positive definite solution \n",
    "    X_F = la.solve_continuous_are(a, b, q, r)\n",
    "\n",
    "    # Using ARE solution to find the optimal controller gain\n",
    "    F = -np.linalg.inv(r)@B_u.T@X_F\n",
    "    \n",
    "    return F"
   ]
  },
  {
   "cell_type": "markdown",
   "metadata": {},
   "source": [
    "## Exercise 2.5: \n",
    "Great, you managed to impress your project manager by coming up with an optimal observer for the LQE problem and controller for the LQR problem. \n",
    "\n",
    "Using the controller and observer gains $F$ and $L$ calculated earlier, he wants us to find an $H_2$-optimal controller as denoted by $K$.\n",
    "\n",
    "<img src=\"data:image/png;base64,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\" alt=\"Optimal H_2 Control\" width=\"400\"/>"
   ]
  },
  {
   "cell_type": "markdown",
   "metadata": {},
   "source": [
    "The linear algebra function [``np.block``](https://numpy.org/doc/stable/reference/generated/numpy.block.html) is used in this exercise which again enables a shorter solution."
   ]
  },
  {
   "cell_type": "code",
   "execution_count": 66,
   "metadata": {},
   "outputs": [
    {
     "name": "stdout",
     "output_type": "stream",
     "text": [
      "The optimal state feedback gain is:\n",
      "[[-8.19930410e+00  1.51746176e+01 -6.53153663e+00 -2.37500000e+00\n",
      "   1.00000000e+00  3.62500000e+00  1.00000000e+00  0.00000000e+00\n",
      "   0.00000000e+00]\n",
      " [-1.05757618e+00 -2.24417378e-01 -2.62070826e+00  2.50000000e-01\n",
      "   8.88178420e-16  1.25000000e+00  0.00000000e+00  1.00000000e+00\n",
      "   0.00000000e+00]\n",
      " [-1.01429344e+00  3.66123144e+00 -2.04259751e+00  1.62500000e+00\n",
      "  -1.00000000e+00 -4.37500000e+00  0.00000000e+00  0.00000000e+00\n",
      "   1.00000000e+00]\n",
      " [-5.74304102e-01  4.17461758e+00 -1.90653663e+00  0.00000000e+00\n",
      "   0.00000000e+00  0.00000000e+00  1.00000000e+00  1.00000000e+00\n",
      "   1.00000000e+00]\n",
      " [ 1.92423824e-01 -1.47441738e+00  6.29291736e-01  0.00000000e+00\n",
      "   0.00000000e+00  0.00000000e+00  1.00000000e+00  1.00000000e+00\n",
      "   1.00000000e+00]\n",
      " [-3.89293440e-01  2.66123144e+00 -1.41759751e+00  0.00000000e+00\n",
      "   0.00000000e+00  0.00000000e+00  1.00000000e+00  1.00000000e+00\n",
      "   1.00000000e+00]\n",
      " [-1.00000000e+00 -0.00000000e+00 -0.00000000e+00  1.00000000e+00\n",
      "   1.00000000e+00  1.00000000e+00  0.00000000e+00  0.00000000e+00\n",
      "   0.00000000e+00]\n",
      " [-0.00000000e+00 -1.00000000e+00 -0.00000000e+00  1.00000000e+00\n",
      "   1.00000000e+00  1.00000000e+00  0.00000000e+00  0.00000000e+00\n",
      "   0.00000000e+00]\n",
      " [-0.00000000e+00 -0.00000000e+00 -1.00000000e+00  1.00000000e+00\n",
      "   1.00000000e+00  1.00000000e+00  0.00000000e+00  0.00000000e+00\n",
      "   0.00000000e+00]]\n"
     ]
    }
   ],
   "source": [
    "def optimal_controller(A: np.ndarray, B_w: np.ndarray, B_u: np.ndarray, C_z: np.ndarray, C_y: np.ndarray, D_zw: np.ndarray, D_zu: np.ndarray, D_yw: np.ndarray, D_yu: np.ndarray) -> np.ndarray:\n",
    "    \"\"\"\n",
    "    Returns the optimal state feedback gain for the given system and cost matrices\n",
    "\n",
    "    Parameters:\n",
    "    - ``A`` (np.ndarray): The state matrix of the system\n",
    "    - ``B`` (np.ndarray): The input matrix of the system\n",
    "    - ``Q`` (np.ndarray): The state cost matrix\n",
    "    - ``R`` (np.ndarray): The input cost matrix\n",
    "\n",
    "    Returns:\n",
    "    - np.ndarray: The optimal state feedback gain\n",
    "    \"\"\"\n",
    "    # Find the optimal observer gain\n",
    "    L = optimal_LQE(A, B_w, C_y, D_yw)\n",
    "    \n",
    "    # Find the optimal controller gain\n",
    "    F = optimal_LQR(A, B_u, C_z, D_zu)\n",
    "    \n",
    "    A_K = A+B_u@F+L@C_y\n",
    "    B_K = np.block([[-L, B_u]])\n",
    "    C_K = np.block([[F], [-C_y]])\n",
    "    D_K = np.block([\n",
    "        [np.zeros((F.shape[1], L.shape[0])), np.ones((F.shape[1], B_u.shape[1]))], \n",
    "        [np.ones((C_y.shape[0], L.shape[0])), np.zeros((C_y.shape[0], B_u.shape[1]))]])\n",
    "    \n",
    "    K = np.block([[A_K, B_K], [C_K, D_K]])\n",
    "    \n",
    "    return K, A_K, B_K, C_K, D_K\n",
    "\n",
    "\n",
    "K = optimal_controller(A, B_w, B_u, C_z, C_y, D_zw, D_zu, D_yw, D_yu)\n",
    "print(\"The optimal state feedback gain is:\")\n",
    "print(K[0])"
   ]
  },
  {
   "cell_type": "markdown",
   "metadata": {},
   "source": [
    "------\n",
    "\n",
    "## Exercise 3:\n",
    "\n",
    "Now we will use the same system as before to find a suboptimal $H_{\\infty}$ controller. For simplicity you can also assume **$\\gamma = 0.5$**.\n",
    "\n",
    "Solving for $X_{\\infty}$ and $Y_{\\infty}$ using two _continuous algebraic riccati equations_:\n",
    "\n",
    "$X_{\\infty}A + A^TX_{\\infty} + X_{\\infty}(\\frac{1}{\\gamma^2}B_wB_w^T - B_uB_u^T)X_{\\infty}+C_z^TC_Z=0$\n",
    "\n",
    "$AY_{\\infty} + Y_{\\infty}A^T + Y_{\\infty}(\\frac{1}{\\gamma^2}C_zC_z^T - C_yC_y^T)Y_{\\infty} + B_w^TB_w = 0$\n",
    "\n",
    "The controller matrix is defined as follows:\n",
    "\n",
    "$F_{\\infty} = -B_u^TX_{\\infty}$\n",
    "\n",
    "$L_{\\infty} = -Y_{\\infty}C_y^T$\n",
    "\n",
    "$Z_{\\infty} = (I - \\frac{1}{\\gamma^2}X_{\\infty}Y_{\\infty})^{-1}$\n",
    "\n",
    "$K = \\begin{bmatrix}\n",
    "A + \\frac{1}{\\gamma^2}B_wB_w^TX_{\\infty} + B_wF_{\\infty} + Z_{\\infty}C_y & -Z_{\\infty}L_{\\infty} \\\\\n",
    "F_{\\infty} & 0 \n",
    "\\end{bmatrix}  $\n",
    "\n",
    "More information on [Wikipedia](https://de.wikipedia.org/wiki/H-unendlich-Regelung)."
   ]
  },
  {
   "cell_type": "code",
   "execution_count": 53,
   "metadata": {},
   "outputs": [],
   "source": [
    "gamma = 0.5"
   ]
  },
  {
   "cell_type": "code",
   "execution_count": 54,
   "metadata": {},
   "outputs": [],
   "source": [
    "def find_X_inf(A: np.ndarray, B_w: np.ndarray, B_u: np.ndarray, C_z: np.ndarray, gamma: float) -> np.ndarray:\n",
    "    \"\"\"\n",
    "    Returns the infinity norm of the system defined by the state space matrices\n",
    "\n",
    "    Parameters:\n",
    "    - ``A`` (np.ndarray): The state matrix of the system\n",
    "    - ``B`` (np.ndarray): The input matrix of the system\n",
    "    - ``C`` (np.ndarray): The output matrix of the system\n",
    "    - ``D`` (np.ndarray): The feedthrough matrix of the system\n",
    "\n",
    "    Returns:\n",
    "    - float: The infinity norm of the system\n",
    "    \"\"\"\n",
    "    a = A\n",
    "    b = np.eye(A.shape[1])\n",
    "    q = C_z.T@C_z\n",
    "    r = np.linalg.inv(1/gamma**2*B_w@B_w.T-B_u@B_u.T)\n",
    "    \n",
    "    # to combat floating point errors\n",
    "    a = np.round(a, 10)\n",
    "    b = np.round(b, 10)\n",
    "    q = np.round(q, 10)\n",
    "    r = np.round(r, 10)\n",
    "    \n",
    "    X = la.solve_continuous_are(a, b, q, r)\n",
    "    return X\n",
    "    "
   ]
  },
  {
   "cell_type": "code",
   "execution_count": 55,
   "metadata": {},
   "outputs": [],
   "source": [
    "def find_Y_inf(A: np.ndarray, B_w: np.ndarray, C_z: np.ndarray, C_y: np.ndarray, gamma: float) -> np.ndarray:\n",
    "    \"\"\"\n",
    "    Returns the infinity norm of the system defined by the state space matrices\n",
    "\n",
    "    Parameters:\n",
    "    - ``A`` (np.ndarray): The state matrix of the system\n",
    "    - ``B`` (np.ndarray): The input matrix of the system\n",
    "    - ``C`` (np.ndarray): The output matrix of the system\n",
    "    - ``D`` (np.ndarray): The feedthrough matrix of the system\n",
    "\n",
    "    Returns:\n",
    "    - float: The infinity norm of the system\n",
    "    \"\"\"\n",
    "    a = A\n",
    "    b = np.eye(A.shape[1])\n",
    "    q = B_w.T@B_w\n",
    "    r = np.linalg.inv(1/gamma**2*C_z@C_z.T-C_y@C_y.T)\n",
    "    \n",
    "    # to combat floating point errors\n",
    "    a = np.round(a, 10)\n",
    "    b = np.round(b, 10)\n",
    "    q = np.round(q, 10)\n",
    "    r = np.round(r, 10)\n",
    "    \n",
    "    Y = la.solve_continuous_are(a, b, q, r)\n",
    "    return Y"
   ]
  },
  {
   "cell_type": "code",
   "execution_count": 56,
   "metadata": {},
   "outputs": [],
   "source": [
    "def assemble_suboptimal_K(A: np.ndarray, B_w: np.ndarray, B_u: np.ndarray, C_z: np.ndarray, C_y: np.ndarray, D_zw: np.ndarray, D_zu: np.ndarray, D_yw: np.ndarray, D_yu: np.ndarray, gamma: float) -> np.ndarray:\n",
    "    \"\"\"\n",
    "    Returns the optimal state feedback gain for the given system and cost matrices\n",
    "\n",
    "    Parameters:\n",
    "    - ``A`` (np.ndarray): The state matrix of the system\n",
    "    - ``B`` (np.ndarray): The input matrix of the system\n",
    "    - ``Q`` (np.ndarray): The state cost matrix\n",
    "    - ``R`` (np.ndarray): The input cost matrix\n",
    "\n",
    "    Returns:\n",
    "    - np.ndarray: The optimal state feedback gain\n",
    "    \"\"\"    \n",
    "    # Find the suboptimal X_inf and Y_inf\n",
    "    X_inf = find_X_inf(A, B_w, B_u, C_z, gamma)\n",
    "    Y_inf = find_Y_inf(A, B_w, C_z, C_y, gamma)\n",
    "    \n",
    "    # Find the suboptimal gains\n",
    "    F_inf = -B_u.T@X_inf\n",
    "    L_inf = -Y_inf@C_y.T\n",
    "    \n",
    "    # Define helper matrices\n",
    "    Z_inf = np.linalg.inv(np.eye(A.shape[0])-1/gamma**2*X_inf@Y_inf)\n",
    "    \n",
    "    # Assemble the suboptimal controller\n",
    "    A_K_suboptimal = A + 1/gamma**2 *B_w@B_w.T@X_inf + B_u@F_inf + Z_inf@C_y\n",
    "    B_K_suboptimal = -Z_inf@L_inf\n",
    "    C_K_suboptimal = F_inf\n",
    "    D_K_suboptimal = np.zeros((F_inf.shape[0], L_inf.shape[1]))\n",
    "    \n",
    "    K = np.block([[A_K_suboptimal, B_K_suboptimal], [C_K_suboptimal, D_K_suboptimal]])\n",
    "    \n",
    "    return K, A_K_suboptimal, B_K_suboptimal, C_K_suboptimal, D_K_suboptimal"
   ]
  },
  {
   "cell_type": "markdown",
   "metadata": {},
   "source": [
    "Finally use the implementation to find the $H_{\\infty}$ controller."
   ]
  },
  {
   "cell_type": "code",
   "execution_count": 57,
   "metadata": {},
   "outputs": [
    {
     "name": "stdout",
     "output_type": "stream",
     "text": [
      "Suboptimal H_inf controller: \n",
      " [[-1.06333561e+01 -3.28826022e+01 -3.17672979e+01  4.73952609e-02\n",
      "   2.67416240e-02 -8.96339471e-02]\n",
      " [-9.85692535e-01  3.02266590e+01  6.57362361e+00  1.14356466e-03\n",
      "   8.99991472e-02 -2.41311416e-02]\n",
      " [ 2.08821905e+00  1.12821827e+01  7.99217641e+00  9.78784736e-03\n",
      "   5.27720557e-02 -1.00205631e-01]\n",
      " [-1.35992627e-01 -9.39016572e-03 -5.23222468e-01  0.00000000e+00\n",
      "   0.00000000e+00  0.00000000e+00]\n",
      " [-9.39016572e-03 -1.54957465e+00  1.99735921e-01  0.00000000e+00\n",
      "   0.00000000e+00  0.00000000e+00]\n",
      " [-5.23222468e-01  1.99735921e-01 -3.60255935e+00  0.00000000e+00\n",
      "   0.00000000e+00  0.00000000e+00]]\n",
      "H_inf norm of the system:  0.884942452771759\n"
     ]
    }
   ],
   "source": [
    "gamma = 0.5 # Initial\n",
    "K_suboptimal, A_K_suboptimal, B_K_suboptimal, C_K_suboptimal, D_K_suboptimal = assemble_suboptimal_K(A, B_w, B_u, C_z, C_y, D_zw, D_zu, D_yw, D_yu, gamma)\n",
    "# K_suboptimal, A_K_suboptimal, B_K_suboptimal, C_K_suboptimal, D_K_suboptimal = H_inf.assemble_suboptimal_K(A, B_w, B_u, C_z, C_y, D_zw, D_zu, D_yw, D_yu, gamma)\n",
    "print(\"Suboptimal H_inf controller: \\n\", K_suboptimal)\n",
    "\n",
    "# H_inf norm of the system\n",
    "H_inf_norm = H_inf_norm_state_space(A_K_suboptimal, B_K_suboptimal, C_K_suboptimal, D_K_suboptimal)\n",
    "print(\"H_inf norm of the system: \", H_inf_norm)\n"
   ]
  },
  {
   "cell_type": "markdown",
   "metadata": {},
   "source": [
    "We can compare our suboptimal $H_{\\infty}$ controller to our $H_{2}$ controller and we will see that the $H_{\\infty}$ norm of our suboptimal controller is still lower."
   ]
  },
  {
   "cell_type": "code",
   "execution_count": 58,
   "metadata": {},
   "outputs": [
    {
     "name": "stdout",
     "output_type": "stream",
     "text": [
      "Optimal H_2 controller: \n",
      " [[-8.19930410e+00  1.51746176e+01 -6.53153663e+00 -2.37500000e+00\n",
      "   1.00000000e+00  3.62500000e+00  1.00000000e+00  0.00000000e+00\n",
      "   0.00000000e+00]\n",
      " [-1.05757618e+00 -2.24417378e-01 -2.62070826e+00  2.50000000e-01\n",
      "   8.88178420e-16  1.25000000e+00  0.00000000e+00  1.00000000e+00\n",
      "   0.00000000e+00]\n",
      " [-1.01429344e+00  3.66123144e+00 -2.04259751e+00  1.62500000e+00\n",
      "  -1.00000000e+00 -4.37500000e+00  0.00000000e+00  0.00000000e+00\n",
      "   1.00000000e+00]\n",
      " [-5.74304102e-01  4.17461758e+00 -1.90653663e+00  0.00000000e+00\n",
      "   0.00000000e+00  0.00000000e+00  1.00000000e+00  1.00000000e+00\n",
      "   1.00000000e+00]\n",
      " [ 1.92423824e-01 -1.47441738e+00  6.29291736e-01  0.00000000e+00\n",
      "   0.00000000e+00  0.00000000e+00  1.00000000e+00  1.00000000e+00\n",
      "   1.00000000e+00]\n",
      " [-3.89293440e-01  2.66123144e+00 -1.41759751e+00  0.00000000e+00\n",
      "   0.00000000e+00  0.00000000e+00  1.00000000e+00  1.00000000e+00\n",
      "   1.00000000e+00]\n",
      " [-1.00000000e+00 -0.00000000e+00 -0.00000000e+00  1.00000000e+00\n",
      "   1.00000000e+00  1.00000000e+00  0.00000000e+00  0.00000000e+00\n",
      "   0.00000000e+00]\n",
      " [-0.00000000e+00 -1.00000000e+00 -0.00000000e+00  1.00000000e+00\n",
      "   1.00000000e+00  1.00000000e+00  0.00000000e+00  0.00000000e+00\n",
      "   0.00000000e+00]\n",
      " [-0.00000000e+00 -0.00000000e+00 -1.00000000e+00  1.00000000e+00\n",
      "   1.00000000e+00  1.00000000e+00  0.00000000e+00  0.00000000e+00\n",
      "   0.00000000e+00]]\n",
      "The H_inf norm of the optimal controller is: 2.9999999403953552\n"
     ]
    }
   ],
   "source": [
    "K, A_K, B_K, C_K, D_K = optimal_controller(A, B_w, B_u, C_z, C_y, D_zw, D_zu, D_yw, D_yu)\n",
    "# K, A_K, B_K, C_K, D_K = H_inf.sol_optimal_controller(A, B_w, B_u, C_z, C_y, D_zw, D_zu, D_yw, D_yu)\n",
    "print(\"Optimal H_2 controller: \\n\", K)\n",
    "\n",
    "\n",
    "h_inf_norm = H_inf_norm_state_space(A_K, B_K, C_K, D_K)\n",
    "print(f\"The H_inf norm of the optimal controller is: {h_inf_norm}\")"
   ]
  }
 ],
 "metadata": {
  "kernelspec": {
   "display_name": "base",
   "language": "python",
   "name": "python3"
  },
  "language_info": {
   "codemirror_mode": {
    "name": "ipython",
    "version": 3
   },
   "file_extension": ".py",
   "mimetype": "text/x-python",
   "name": "python",
   "nbconvert_exporter": "python",
   "pygments_lexer": "ipython3",
   "version": "3.12.7"
  }
 },
 "nbformat": 4,
 "nbformat_minor": 2
}
