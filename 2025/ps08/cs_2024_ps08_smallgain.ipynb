{
 "cells": [
  {
   "cell_type": "markdown",
   "metadata": {},
   "source": [
    "# Notebook lecture 8: Stability and Performance Robustness\n",
    "&copy; 2025 ETH Zurich, Joël Gmür, Joël Lauper, Niclas Scheuer, Dejan Milojevic; Institute for Dynamic Systems and Control; Prof. Emilio Frazzoli\n",
    "\n",
    "Authors:\n",
    "- Joël Gmür; jgmuer@ethz.ch\n",
    "- Joël Lauper; jlauper@ethz.ch\n",
    "\n",
    "## Description\n",
    "This week's Jupyter notebook will include the small-gain theorem, the stability of feedback control schemes, and performance robustness. \n",
    "\n",
    "To start, run the following cell to install the necessary modules and import the libraries."
   ]
  },
  {
   "cell_type": "code",
   "execution_count": null,
   "metadata": {},
   "outputs": [],
   "source": [
    "!pip install numpy scipy matplotlib ipywidgets control"
   ]
  },
  {
   "cell_type": "code",
   "execution_count": null,
   "metadata": {},
   "outputs": [],
   "source": [
    "import numpy as np\n",
    "import matplotlib.pyplot as plt\n",
    "import matplotlib.patches as patches\n",
    "import ipywidgets as widgets\n",
    "import control as ctrl\n",
    "from IPython.display import display, clear_output\n",
    "\n",
    "np.set_printoptions(suppress=True, precision=3)"
   ]
  },
  {
   "cell_type": "markdown",
   "metadata": {},
   "source": [
    "# Exercise 1: Small-gain theorem\n",
    "\n",
    "Consider the following system with three transfer functions: $\\alpha, P_1, P_2$. The functions $P_1, P_2$ can be accessed using ``inf_pkg.SISO(num)`` as demonstrated below."
   ]
  },
  {
   "cell_type": "code",
   "execution_count": null,
   "metadata": {},
   "outputs": [],
   "source": [
    "def small_gain_theorem(G, H):\n",
    "    \"\"\"\n",
    "    Check the Small Gain Theorem condition.\n",
    "    This function checks if the loop gain |G(s) * H(s)| < 1 for all frequencies.\n",
    "    \n",
    "    Parameters:\n",
    "    - G: Transfer function of the system G(s)\n",
    "    - H: Transfer function of the feedback H(s)\n",
    "    \n",
    "    Returns:\n",
    "    - True if the Small Gain Theorem holds, i.e., system is stable\n",
    "    - False if the Small Gain Theorem does not hold, i.e., system is unstable\n",
    "    \"\"\"\n",
    "    \n",
    "    # Create a frequency vector (logarithmic scale for better visualization)\n",
    "    omega = np.logspace(-2, 2, 1000)  # Frequency range from 0.01 to 100 rad/s\n",
    "    \n",
    "    # Evaluate the open-loop transfer function G(s) * H(s) at all frequencies\n",
    "    loop_gain = G * H\n",
    "    _, mag, _ = ctrl.bode(loop_gain, omega, dB=True, plot=False)\n",
    "    \n",
    "    # Check if the loop gain is always less than 1 (in dB, that would be -20dB)\n",
    "    if np.all(mag < 0):  # In dB, the loop gain should be less than 0 dB (magnitude < 1)\n",
    "        return True\n",
    "    else:\n",
    "        return False\n",
    "\n",
    "def plot_gain(G, H):\n",
    "    \"\"\"\n",
    "    Plot the loop gain |G(s) * H(s)| in dB.\n",
    "    \"\"\"\n",
    "    omega = np.logspace(-2, 2, 1000)\n",
    "    loop_gain = G * H\n",
    "    _, mag, _ = ctrl.bode(loop_gain, omega, dB=True, plot=True)\n",
    "\n",
    "    plt.title(\"Bode Plot of the Loop Gain |G(s) * H(s)|\")\n",
    "    plt.show()\n",
    "\n",
    "# Example: Creating transfer functions G(s) and H(s)\n",
    "\n",
    "# G(s) = 1 / (s + 1) (a first-order low-pass filter)\n",
    "G = ctrl.TransferFunction([1], [1, 1])\n",
    "\n",
    "# H(s) = 0.1 (a small feedback gain)\n",
    "H = ctrl.TransferFunction([0.1], [1])\n",
    "\n",
    "# Check if the system satisfies the Small Gain Theorem\n",
    "is_stable = small_gain_theorem(G, H)\n",
    "\n",
    "# Print result\n",
    "if is_stable:\n",
    "    print(\"The system is stable according to the Small Gain Theorem.\")\n",
    "else:\n",
    "    print(\"The system is unstable according to the Small Gain Theorem.\")\n",
    "\n",
    "# Plot the loop gain\n",
    "plot_gain(G, H)"
   ]
  },
  {
   "cell_type": "markdown",
   "metadata": {},
   "source": [
    "# Exercise 2: Stability\n",
    "In this exercise you will create a function called ``internal_stability_check(topbranch, bottombranch)`` that will check the internal stability of an interconnection.\n",
    "\n",
    "Just as in exercise 1, you will use ``inf_pkg.SISO(num)`` to extract various transfer functions from the diagram.\n",
    "\n",
    "__HINT:__ All the systems are SISO, so the inverse becomes rather simple.\n",
    "\n",
    "<img src=./images/block_diagram_1.png alt=\"Image\" width=\"600\" height=\"200\"> "
   ]
  },
  {
   "cell_type": "code",
   "execution_count": null,
   "metadata": {},
   "outputs": [],
   "source": [
    "# The top tf is defined as P0*P1\n",
    "# The bottom tf is defined as P2\n",
    "\n",
    "def internal_stability_check(toptf: ct.TransferFunction, bottomtf: ct.TransferFunction) -> bool:\n",
    "    \"\"\"\n",
    "    Checks if the internal stability condition is satisfied for the given systems.\n",
    "\n",
    "    Parameters:\n",
    "    - ``toptf`` (ct.TransferFunction): The top transfer function\n",
    "    - ``bottomtf`` (ct.TransferFunction): The bottom transfer function\n",
    "    \n",
    "    Returns:\n",
    "    - bool: Whether the internal stability condition is satisfied\n",
    "    \"\"\"\n",
    "    #TODO\n",
    "    return False"
   ]
  },
  {
   "cell_type": "code",
   "execution_count": null,
   "metadata": {},
   "outputs": [],
   "source": [
    "P0 = inf_pkg.SISO(0)\n",
    "P1 = inf_pkg.SISO(1)\n",
    "P2 = inf_pkg.SISO(2)\n",
    "\n",
    "print(internal_stability_check(P0*P1, P2))"
   ]
  },
  {
   "cell_type": "markdown",
   "metadata": {},
   "source": [
    "### Testing your function\n",
    "You can test your function on the systems below:\n",
    "$\\\\\n",
    "P_0 = \\frac{1}{s^2+2s+4} \\\\\n",
    "P_1 = \\frac{1}{s+1}  \\\\\n",
    "P_2 = \\frac{1}{s-1}  \\\\\n",
    "P_3 = \\frac{s-1}{s^2+4s+9} \\\\\n",
    "P_4 = 5\\frac{s+1}{s+1}  \\\\\n",
    "P_5 = 11\\frac{s+1}{s-1}  \\\\\n",
    "P_6 = 2\\frac{s^2-1}{s^2+4s+9} \\\\\n",
    "$"
   ]
  },
  {
   "cell_type": "code",
   "execution_count": null,
   "metadata": {},
   "outputs": [],
   "source": [
    "P3 = inf_pkg.SISO(3)\n",
    "P4 = inf_pkg.SISO(4)\n",
    "# P5 = ...\n",
    "\n",
    "print(internal_stability_check(P3, P4))"
   ]
  },
  {
   "cell_type": "markdown",
   "metadata": {},
   "source": [
    "### Solution\n",
    "Access the solution ``sol_internal_stability_check`` by right-clicking and selecting \"Go to Definition (F12)\" or on [GitHub](https://github.com/idsc-frazzoli/cs2solutions/blob/f3185e17dd402ac5c504f83b502685a25a115ed3/src/cs2solutions/inf_pkg.py#L91)."
   ]
  },
  {
   "cell_type": "code",
   "execution_count": null,
   "metadata": {},
   "outputs": [],
   "source": [
    "inf_pkg.sol_internal_stability_check(P0*P1, P2)"
   ]
  },
  {
   "cell_type": "markdown",
   "metadata": {},
   "source": [
    "### Bonus Exercise\n",
    "\n",
    "Try to find out experimentally whether ``small_gain_theorem`` or ``internal_stability_check`` is a more __rigorous__ test for feedback stability. You can use all aforementioned Python functions and transfer functions."
   ]
  },
  {
   "cell_type": "code",
   "execution_count": null,
   "metadata": {},
   "outputs": [],
   "source": [
    "# TODO"
   ]
  },
  {
   "cell_type": "markdown",
   "metadata": {},
   "source": [
    "# Exercise 3: Stability Robustness\n",
    "Below we check the robustness of a feedback loop with multiplicative uncertainty.\n",
    "\n",
    "<img src=./images/block_diagram_2.png alt=\"Image\" width=\"600\" height=\"200\">\n",
    "\n",
    "In order to use the small-gain theorem, the system is transformed into the following form:\n",
    ".\n",
    "$\\\\\n",
    "G(s) = -(I+P_2P_1)^{-1}P_2P_1W\n",
    "\\\\$\n",
    "\n",
    "<img src=./images/block_diagram_3.png alt=\"Image\" width=\"600\" height=\"200\">\n",
    "\n",
    "\n",
    "Apply the small gain theorem to check if the system is robust to the given perturbation and frequency weight. You can use all the functions defined earlier."
   ]
  },
  {
   "cell_type": "code",
   "execution_count": null,
   "metadata": {},
   "outputs": [],
   "source": [
    "Ptriangle = ct.TransferFunction([1], [1, 1])\n",
    "W = ct.TransferFunction([1], [1, 1])\n",
    "P1 = inf_pkg.SISO(1)\n",
    "P2 = 0 #TODO\n",
    "\n",
    "G = 0 #TODO\n",
    "\n",
    "# TODO: Print the result"
   ]
  },
  {
   "cell_type": "markdown",
   "metadata": {},
   "source": [
    "### Solution\n",
    "Using the ``small_gain_theoerem`` function defined earlier."
   ]
  },
  {
   "cell_type": "code",
   "execution_count": null,
   "metadata": {},
   "outputs": [],
   "source": [
    "Ptriangle = ct.TransferFunction([1], [1, 1])\n",
    "W = ct.TransferFunction([1], [1, 1])\n",
    "P1 = inf_pkg.SISO(1)\n",
    "P2 = inf_pkg.SISO(2)\n",
    "\n",
    "G = -(1+P2*P1)**(-1)*P2*P1*W\n",
    "\n",
    "inf_pkg.sol_small_gain_theorem([G, Ptriangle])"
   ]
  }
 ],
 "metadata": {
  "kernelspec": {
   "display_name": "base",
   "language": "python",
   "name": "python3"
  },
  "language_info": {
   "codemirror_mode": {
    "name": "ipython",
    "version": 3
   },
   "file_extension": ".py",
   "mimetype": "text/x-python",
   "name": "python",
   "nbconvert_exporter": "python",
   "pygments_lexer": "ipython3",
   "version": "3.12.7"
  }
 },
 "nbformat": 4,
 "nbformat_minor": 2
}
