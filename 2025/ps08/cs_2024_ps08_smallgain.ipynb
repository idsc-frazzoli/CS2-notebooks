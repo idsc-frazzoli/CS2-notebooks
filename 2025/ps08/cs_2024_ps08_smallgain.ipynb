{
 "cells": [
  {
   "cell_type": "markdown",
   "metadata": {},
   "source": [
    "# Notebook lecture 8: Stability and Performance Robustness\n",
    "&copy; 2025 ETH Zurich, Joël Gmür, Joël Lauper, Niclas Scheuer, Dejan Milojevic; Institute for Dynamic Systems and Control; Prof. Emilio Frazzoli\n",
    "\n",
    "Authors:\n",
    "- Joël Gmür; jgmuer@ethz.ch\n",
    "- Joël Lauper; jlauper@ethz.ch\n",
    "\n",
    "## Description\n",
    "This week's Jupyter notebook will include the small-gain theorem, the stability of feedback control schemes, and performance robustness. \n",
    "\n",
    "To start, run the following cell to install the necessary modules and import the libraries."
   ]
  },
  {
   "cell_type": "code",
   "execution_count": null,
   "metadata": {},
   "outputs": [],
   "source": [
    "!pip install numpy scipy matplotlib ipywidgets control"
   ]
  },
  {
   "cell_type": "code",
   "execution_count": null,
   "metadata": {},
   "outputs": [],
   "source": [
    "import numpy as np\n",
    "import matplotlib.pyplot as plt\n",
    "import matplotlib.patches as patches\n",
    "import ipywidgets as widgets\n",
    "import control as ctrl\n",
    "from IPython.display import display, clear_output\n",
    "\n",
    "np.set_printoptions(suppress=True, precision=3)"
   ]
  },
  {
   "cell_type": "markdown",
   "metadata": {},
   "source": [
    "# Exercise 1: Small Gain Theorem\n",
    "## Check the Small Gain Theorem condition\n",
    "This function checks if the loop gain $|\\alpha P_1(s) * P_2(s)| < 1$ for all frequencies. We use here a SISO system which is easier regarding stability and pole calculation.\n",
    "\n",
    "Parameters:\n",
    "- Amplification $\\alpha = 1$\n",
    "- Transfer function of the system $P_1(s)$\n",
    "- Transfer function of the feedback $P_2(s)$\n",
    "    \n",
    "Returns:\n",
    "- True if the Small Gain Theorem holds, i.e., system is stable\n",
    "- False if the Small Gain Theorem does not hold, i.e., system is unstable\n",
    "\n",
    "<img src=./images/block_diagram_0.png alt=\"Image\" width=\"600\" height=\"200\"> "
   ]
  },
  {
   "cell_type": "code",
   "execution_count": null,
   "metadata": {},
   "outputs": [],
   "source": [
    "def small_gain_theorem(P1, P2):\n",
    "    # Check if P1 and P2 are stable\n",
    "    tolerance=1e-6\n",
    "    \n",
    "    # Create a frequency vector (logarithmic scale for better visualization)\n",
    "    omega = np.logspace(-2, 2, 1000)  # Frequency range from 0.01 to 100 rad/s\n",
    "    \n",
    "    magnitude_product = np.abs(P1(omega)) * np.abs(P2(omega))\n",
    "    \n",
    "    # Check if the product is less than 1 at all frequencies\n",
    "    if np.all(magnitude_product < 1 + tolerance):\n",
    "        return True\n",
    "    else:\n",
    "        return False\n",
    "    "
   ]
  },
  {
   "cell_type": "markdown",
   "metadata": {},
   "source": [
    "## Plot the loop gain\n",
    "This function plots the loop gain $|P_1(s) * P_2(s)|$ in dB. \n",
    "\n",
    "Below an example is shown which checks the small gain theorem and then plots the loop gain. Remember: We can only use the small gain theorem if $P_1$ and $P_2$ are stable."
   ]
  },
  {
   "cell_type": "code",
   "execution_count": null,
   "metadata": {},
   "outputs": [],
   "source": [
    "def check_stability(P):\n",
    "    # Get the poles of the transfer function\n",
    "    poles = ctrl.poles(P)  # Correct method is `ctrl.poles(P)`\n",
    "    \n",
    "    # Check if any pole has a positive real part (right half-plane)\n",
    "    for pole in poles:\n",
    "        if pole.real > 0:\n",
    "            return False  # System is unstable\n",
    "    return True  # System is stable\n",
    "\n",
    "def plot_gain(P1, P2):\n",
    "    omega = np.logspace(-2, 2, 1000)\n",
    "    loop_gain = P1 * P2\n",
    "    _, mag_dB, _ = ctrl.bode(loop_gain, omega, dB=True, plot=True)\n",
    "\n",
    "    plt.suptitle(\"Bode Plot of the Loop Gain |P1(s) * P2(s)|\")\n",
    "    plt.show()\n",
    "\n",
    "# P1(s) = (20s + 1) / (s + 20) (example of a plant, high gain at high frequencies)\n",
    "P1 = ctrl.TransferFunction([10, 1], [1, 10])\n",
    "\n",
    "# P2(s) = 0.1 (proportional controller)\n",
    "P2 = ctrl.TransferFunction([10], [1])\n",
    "\n",
    "\n",
    "# Test Small Gain Theorem\n",
    "stability = small_gain_theorem(P1, P2)\n",
    "\n",
    "if check_stability(P1) and check_stability(P2):\n",
    "    if stability:\n",
    "        print(\"The interconnected system satisfies the Small Gain Theorem and is stable.\")\n",
    "    else:\n",
    "        print(\"The interconnected system does not satisfy the Small Gain Theorem and may be unstable.\")\n",
    "else:\n",
    "    print(\"P1 and/or P2 is/are unstable.\")\n",
    "\n",
    "# Plot the loop gain\n",
    "plot_gain(P1, P2)"
   ]
  },
  {
   "cell_type": "markdown",
   "metadata": {},
   "source": [
    "As we can see, our combination of $P_1$ and $P_2$ violates the small gain theorem and we do not know if the interconnection is stable. If we change our function $P_2$ from a proportional controller to a low pass filter, we suppress the high frequencies gain. Then, the small gain theorem holds and gives us a sufficient condition for a stable interconnection of $P_1$ and $P_2$."
   ]
  },
  {
   "cell_type": "code",
   "execution_count": null,
   "metadata": {},
   "outputs": [],
   "source": [
    "#same function as above but P2 is changed\n",
    "\n",
    "\n",
    "# P1(s) = (20s + 1) / (s + 20) (example of a plant, high gain at high frequencies)\n",
    "P1 = ctrl.TransferFunction([10, 1], [1, 10])\n",
    "\n",
    "# P2(s) = 1 / (s + 1) (NEW! low pass filter)\n",
    "P2 = ctrl.TransferFunction([1], [1, 1])\n",
    "\n",
    "\n",
    "# Test Small Gain Theorem\n",
    "stability = small_gain_theorem(P1, P2)\n",
    "\n",
    "if check_stability(P1) and check_stability(P2):\n",
    "    if stability:\n",
    "        print(\"The interconnected system satisfies the Small Gain Theorem and is stable.\")\n",
    "    else:\n",
    "        print(\"The interconnected system does not satisfy the Small Gain Theorem and may be unstable.\")\n",
    "else:\n",
    "    print(\"P1 and/or P2 is/are unstable.\")\n",
    "\n",
    "# Plot the loop gain\n",
    "plot_gain(P1, P2)"
   ]
  },
  {
   "cell_type": "markdown",
   "metadata": {},
   "source": [
    "# Exercise 2: Stability\n",
    "In this exercise you will create a function called ``internal_stability_check(topbranch, bottombranch)`` that will check the internal stability of an interconnection.\n",
    "\n",
    "Just as in exercise 1, you will use ``inf_pkg.SISO(num)`` to extract various transfer functions from the diagram.\n",
    "\n",
    "__HINT:__ All the systems are SISO, so the inverse becomes rather simple.\n",
    "\n",
    "<img src=./images/block_diagram_1.png alt=\"Image\" width=\"600\" height=\"200\"> "
   ]
  },
  {
   "cell_type": "code",
   "execution_count": null,
   "metadata": {},
   "outputs": [],
   "source": [
    "# The top tf is defined as P0*P1\n",
    "# The bottom tf is defined as P2\n",
    "\n",
    "def internal_stability_check(toptf: ct.TransferFunction, bottomtf: ct.TransferFunction) -> bool:\n",
    "    \"\"\"\n",
    "    Checks if the internal stability condition is satisfied for the given systems.\n",
    "\n",
    "    Parameters:\n",
    "    - ``toptf`` (ct.TransferFunction): The top transfer function\n",
    "    - ``bottomtf`` (ct.TransferFunction): The bottom transfer function\n",
    "    \n",
    "    Returns:\n",
    "    - bool: Whether the internal stability condition is satisfied\n",
    "    \"\"\"\n",
    "    #TODO\n",
    "    return False"
   ]
  },
  {
   "cell_type": "code",
   "execution_count": null,
   "metadata": {},
   "outputs": [],
   "source": [
    "P0 = inf_pkg.SISO(0)\n",
    "P1 = inf_pkg.SISO(1)\n",
    "P2 = inf_pkg.SISO(2)\n",
    "\n",
    "print(internal_stability_check(P0*P1, P2))"
   ]
  },
  {
   "cell_type": "markdown",
   "metadata": {},
   "source": [
    "### Testing your function\n",
    "You can test your function on the systems below:\n",
    "$\\\\\n",
    "P_0 = \\frac{1}{s^2+2s+4} \\\\\n",
    "P_1 = \\frac{1}{s+1}  \\\\\n",
    "P_2 = \\frac{1}{s-1}  \\\\\n",
    "P_3 = \\frac{s-1}{s^2+4s+9} \\\\\n",
    "P_4 = 5\\frac{s+1}{s+1}  \\\\\n",
    "P_5 = 11\\frac{s+1}{s-1}  \\\\\n",
    "P_6 = 2\\frac{s^2-1}{s^2+4s+9} \\\\\n",
    "$"
   ]
  },
  {
   "cell_type": "code",
   "execution_count": null,
   "metadata": {},
   "outputs": [],
   "source": [
    "P3 = inf_pkg.SISO(3)\n",
    "P4 = inf_pkg.SISO(4)\n",
    "# P5 = ...\n",
    "\n",
    "print(internal_stability_check(P3, P4))"
   ]
  },
  {
   "cell_type": "markdown",
   "metadata": {},
   "source": [
    "### Solution\n",
    "Access the solution ``sol_internal_stability_check`` by right-clicking and selecting \"Go to Definition (F12)\" or on [GitHub](https://github.com/idsc-frazzoli/cs2solutions/blob/f3185e17dd402ac5c504f83b502685a25a115ed3/src/cs2solutions/inf_pkg.py#L91)."
   ]
  },
  {
   "cell_type": "code",
   "execution_count": null,
   "metadata": {},
   "outputs": [],
   "source": [
    "inf_pkg.sol_internal_stability_check(P0*P1, P2)"
   ]
  },
  {
   "cell_type": "markdown",
   "metadata": {},
   "source": [
    "### Bonus Exercise\n",
    "\n",
    "Try to find out experimentally whether ``small_gain_theorem`` or ``internal_stability_check`` is a more __rigorous__ test for feedback stability. You can use all aforementioned Python functions and transfer functions."
   ]
  },
  {
   "cell_type": "code",
   "execution_count": null,
   "metadata": {},
   "outputs": [],
   "source": [
    "# TODO"
   ]
  },
  {
   "cell_type": "markdown",
   "metadata": {},
   "source": [
    "# Exercise 3: Stability Robustness\n",
    "Below we check the robustness of a feedback loop with multiplicative uncertainty.\n",
    "\n",
    "<img src=./images/block_diagram_2.png alt=\"Image\" width=\"600\" height=\"200\">\n",
    "\n",
    "In order to use the small-gain theorem, the system is transformed into the following form:\n",
    ".\n",
    "$\\\\\n",
    "G(s) = -(I+P_2P_1)^{-1}P_2P_1W\n",
    "\\\\$\n",
    "\n",
    "<img src=./images/block_diagram_3.png alt=\"Image\" width=\"600\" height=\"200\">\n",
    "\n",
    "\n",
    "Apply the small gain theorem to check if the system is robust to the given perturbation and frequency weight. You can use all the functions defined earlier."
   ]
  },
  {
   "cell_type": "code",
   "execution_count": null,
   "metadata": {},
   "outputs": [],
   "source": [
    "Ptriangle = ct.TransferFunction([1], [1, 1])\n",
    "W = ct.TransferFunction([1], [1, 1])\n",
    "P1 = inf_pkg.SISO(1)\n",
    "P2 = 0 #TODO\n",
    "\n",
    "G = 0 #TODO\n",
    "\n",
    "# TODO: Print the result"
   ]
  },
  {
   "cell_type": "markdown",
   "metadata": {},
   "source": [
    "### Solution\n",
    "Using the ``small_gain_theoerem`` function defined earlier."
   ]
  },
  {
   "cell_type": "code",
   "execution_count": null,
   "metadata": {},
   "outputs": [],
   "source": [
    "Ptriangle = ct.TransferFunction([1], [1, 1])\n",
    "W = ct.TransferFunction([1], [1, 1])\n",
    "P1 = inf_pkg.SISO(1)\n",
    "P2 = inf_pkg.SISO(2)\n",
    "\n",
    "G = -(1+P2*P1)**(-1)*P2*P1*W\n",
    "\n",
    "inf_pkg.sol_small_gain_theorem([G, Ptriangle])"
   ]
  }
 ],
 "metadata": {
  "kernelspec": {
   "display_name": "base",
   "language": "python",
   "name": "python3"
  },
  "language_info": {
   "codemirror_mode": {
    "name": "ipython",
    "version": 3
   },
   "file_extension": ".py",
   "mimetype": "text/x-python",
   "name": "python",
   "nbconvert_exporter": "python",
   "pygments_lexer": "ipython3",
   "version": "3.12.7"
  }
 },
 "nbformat": 4,
 "nbformat_minor": 2
}
